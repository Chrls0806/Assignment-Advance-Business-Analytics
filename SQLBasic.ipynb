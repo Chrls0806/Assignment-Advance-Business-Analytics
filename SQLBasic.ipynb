{
  "cells": [
    {
      "cell_type": "markdown",
      "metadata": {
        "id": "view-in-github",
        "colab_type": "text"
      },
      "source": [
        "<a href=\"https://colab.research.google.com/github/Chrls0806/Assignment-Advance-Business-Analytics/blob/main/SQLBasic.ipynb\" target=\"_parent\"><img src=\"https://colab.research.google.com/assets/colab-badge.svg\" alt=\"Open In Colab\"/></a>"
      ]
    },
    {
      "cell_type": "markdown",
      "metadata": {
        "id": "W8yL6A0WMZiT"
      },
      "source": [
        "### **Basic SQL**"
      ]
    },
    {
      "cell_type": "markdown",
      "source": [
        "<font color=\"red\">File access required:</font> In Colab this notebook requires first uploading files **Cities.csv**, **Countries.csv**, **Players.csv**, and **Teams.csv** using the *Files* feature in the left toolbar. If running the notebook on a local computer, simply ensure these files are in the same workspace as the notebook."
      ],
      "metadata": {
        "id": "WfiM3utWx247"
      }
    },
    {
      "cell_type": "code",
      "source": [
        "!pip install prettytable==0.7.2\n",
        "!pip install ipython-sql"
      ],
      "metadata": {
        "id": "m2cr_MxzUyWT",
        "colab": {
          "base_uri": "https://localhost:8080/"
        },
        "outputId": "707c328d-59c5-46fe-bc0c-3d9af03bccb6"
      },
      "execution_count": null,
      "outputs": [
        {
          "output_type": "stream",
          "name": "stdout",
          "text": [
            "Requirement already satisfied: prettytable==0.7.2 in /usr/local/lib/python3.12/dist-packages (0.7.2)\n",
            "Requirement already satisfied: ipython-sql in /usr/local/lib/python3.12/dist-packages (0.5.0)\n",
            "Requirement already satisfied: prettytable in /usr/local/lib/python3.12/dist-packages (from ipython-sql) (0.7.2)\n",
            "Requirement already satisfied: ipython in /usr/local/lib/python3.12/dist-packages (from ipython-sql) (7.34.0)\n",
            "Requirement already satisfied: sqlalchemy>=2.0 in /usr/local/lib/python3.12/dist-packages (from ipython-sql) (2.0.43)\n",
            "Requirement already satisfied: sqlparse in /usr/local/lib/python3.12/dist-packages (from ipython-sql) (0.5.3)\n",
            "Requirement already satisfied: six in /usr/local/lib/python3.12/dist-packages (from ipython-sql) (1.17.0)\n",
            "Requirement already satisfied: ipython-genutils in /usr/local/lib/python3.12/dist-packages (from ipython-sql) (0.2.0)\n",
            "Requirement already satisfied: greenlet>=1 in /usr/local/lib/python3.12/dist-packages (from sqlalchemy>=2.0->ipython-sql) (3.2.4)\n",
            "Requirement already satisfied: typing-extensions>=4.6.0 in /usr/local/lib/python3.12/dist-packages (from sqlalchemy>=2.0->ipython-sql) (4.15.0)\n",
            "Requirement already satisfied: setuptools>=18.5 in /usr/local/lib/python3.12/dist-packages (from ipython->ipython-sql) (75.2.0)\n",
            "Requirement already satisfied: jedi>=0.16 in /usr/local/lib/python3.12/dist-packages (from ipython->ipython-sql) (0.19.2)\n",
            "Requirement already satisfied: decorator in /usr/local/lib/python3.12/dist-packages (from ipython->ipython-sql) (4.4.2)\n",
            "Requirement already satisfied: pickleshare in /usr/local/lib/python3.12/dist-packages (from ipython->ipython-sql) (0.7.5)\n",
            "Requirement already satisfied: traitlets>=4.2 in /usr/local/lib/python3.12/dist-packages (from ipython->ipython-sql) (5.7.1)\n",
            "Requirement already satisfied: prompt-toolkit!=3.0.0,!=3.0.1,<3.1.0,>=2.0.0 in /usr/local/lib/python3.12/dist-packages (from ipython->ipython-sql) (3.0.52)\n",
            "Requirement already satisfied: pygments in /usr/local/lib/python3.12/dist-packages (from ipython->ipython-sql) (2.19.2)\n",
            "Requirement already satisfied: backcall in /usr/local/lib/python3.12/dist-packages (from ipython->ipython-sql) (0.2.0)\n",
            "Requirement already satisfied: matplotlib-inline in /usr/local/lib/python3.12/dist-packages (from ipython->ipython-sql) (0.1.7)\n",
            "Requirement already satisfied: pexpect>4.3 in /usr/local/lib/python3.12/dist-packages (from ipython->ipython-sql) (4.9.0)\n",
            "Requirement already satisfied: parso<0.9.0,>=0.8.4 in /usr/local/lib/python3.12/dist-packages (from jedi>=0.16->ipython->ipython-sql) (0.8.5)\n",
            "Requirement already satisfied: ptyprocess>=0.5 in /usr/local/lib/python3.12/dist-packages (from pexpect>4.3->ipython->ipython-sql) (0.7.0)\n",
            "Requirement already satisfied: wcwidth in /usr/local/lib/python3.12/dist-packages (from prompt-toolkit!=3.0.0,!=3.0.1,<3.1.0,>=2.0.0->ipython->ipython-sql) (0.2.13)\n"
          ]
        }
      ]
    },
    {
      "cell_type": "code",
      "execution_count": null,
      "metadata": {
        "id": "AY0V00I4MZiY",
        "colab": {
          "base_uri": "https://localhost:8080/"
        },
        "outputId": "dae180a9-866c-4fcf-bdda-7579f882b8be"
      },
      "outputs": [
        {
          "output_type": "stream",
          "name": "stdout",
          "text": [
            "The sql extension is already loaded. To reload it, use:\n",
            "  %reload_ext sql\n"
          ]
        }
      ],
      "source": [
        "# Set-up\n",
        "%load_ext sql\n",
        "%sql sqlite://\n",
        "import pandas as pd"
      ]
    },
    {
      "cell_type": "code",
      "execution_count": null,
      "metadata": {
        "id": "j3675wYXMZia",
        "colab": {
          "base_uri": "https://localhost:8080/",
          "height": 140
        },
        "outputId": "56230c99-63b6-4ff8-99b9-cf55b8ba6ffb"
      },
      "outputs": [
        {
          "output_type": "stream",
          "name": "stdout",
          "text": [
            " * sqlite://\n",
            "Done.\n",
            " * sqlite://\n",
            " * sqlite://\n",
            "Done.\n",
            " * sqlite://\n"
          ]
        },
        {
          "output_type": "execute_result",
          "data": {
            "text/plain": [
              "'Persisted countries'"
            ],
            "application/vnd.google.colaboratory.intrinsic+json": {
              "type": "string"
            }
          },
          "metadata": {},
          "execution_count": 14
        }
      ],
      "source": [
        "# Create database tables from CSV files\n",
        "with open('Cities.csv') as f: Cities = pd.read_csv(f, index_col=0)\n",
        "%sql drop table if exists Cities;\n",
        "%sql --persist Cities\n",
        "\n",
        "with open('Countries.csv') as f: Countries = pd.read_csv(f, index_col=0)\n",
        "%sql drop table if exists Countries;\n",
        "%sql --persist Countries\n"
      ]
    },
    {
      "cell_type": "markdown",
      "metadata": {
        "id": "xcwDLxOPMZia"
      },
      "source": [
        "#### Look at sample of Cities and Countries tables"
      ]
    },
    {
      "cell_type": "code",
      "execution_count": null,
      "metadata": {
        "id": "gp94gFNoMZib",
        "colab": {
          "base_uri": "https://localhost:8080/",
          "height": 234
        },
        "outputId": "0430cbd9-1574-4b79-e1e9-a22184518917"
      },
      "outputs": [
        {
          "output_type": "stream",
          "name": "stdout",
          "text": [
            " * sqlite://\n",
            "Done.\n"
          ]
        },
        {
          "output_type": "execute_result",
          "data": {
            "text/plain": [
              "[('Aalborg', 'Denmark', 57.03, 9.92, 7.52, None, None, None, None, None, None, None, None, None, None, None, None, None, None, None, None, None, None),\n",
              " ('Aberdeen', 'United Kingdom', 57.17, -2.08, 8.1, None, None, None, None, None, None, None, None, None, None, None, None, None, None, None, None, None, None),\n",
              " ('Abisko', 'Sweden', 63.35, 18.83, 0.2, None, None, None, None, None, None, None, None, None, None, None, None, None, None, None, None, None, None),\n",
              " ('Adana', 'Turkey', 36.99, 35.32, 18.67, None, None, None, None, None, None, None, None, None, None, None, None, None, None, None, None, None, None),\n",
              " ('Albacete', 'Spain', 39.0, -1.87, 12.62, None, None, None, None, None, None, None, None, None, None, None, None, None, None, None, None, None, None)]"
            ],
            "text/html": [
              "<table>\n",
              "    <tr>\n",
              "        <th>city</th>\n",
              "        <th>country</th>\n",
              "        <th>latitude</th>\n",
              "        <th>longitude</th>\n",
              "        <th>temperature</th>\n",
              "        <th>Unnamed: 5</th>\n",
              "        <th>Unnamed: 6</th>\n",
              "        <th>Unnamed: 7</th>\n",
              "        <th>Unnamed: 8</th>\n",
              "        <th>Unnamed: 9</th>\n",
              "        <th>Unnamed: 10</th>\n",
              "        <th>Unnamed: 11</th>\n",
              "        <th>Unnamed: 12</th>\n",
              "        <th>Unnamed: 13</th>\n",
              "        <th>Unnamed: 14</th>\n",
              "        <th>Unnamed: 15</th>\n",
              "        <th>Unnamed: 16</th>\n",
              "        <th>Unnamed: 17</th>\n",
              "        <th>Unnamed: 18</th>\n",
              "        <th>Unnamed: 19</th>\n",
              "        <th>Unnamed: 20</th>\n",
              "        <th>Unnamed: 21</th>\n",
              "        <th>Unnamed: 22</th>\n",
              "    </tr>\n",
              "    <tr>\n",
              "        <td>Aalborg</td>\n",
              "        <td>Denmark</td>\n",
              "        <td>57.03</td>\n",
              "        <td>9.92</td>\n",
              "        <td>7.52</td>\n",
              "        <td>None</td>\n",
              "        <td>None</td>\n",
              "        <td>None</td>\n",
              "        <td>None</td>\n",
              "        <td>None</td>\n",
              "        <td>None</td>\n",
              "        <td>None</td>\n",
              "        <td>None</td>\n",
              "        <td>None</td>\n",
              "        <td>None</td>\n",
              "        <td>None</td>\n",
              "        <td>None</td>\n",
              "        <td>None</td>\n",
              "        <td>None</td>\n",
              "        <td>None</td>\n",
              "        <td>None</td>\n",
              "        <td>None</td>\n",
              "        <td>None</td>\n",
              "    </tr>\n",
              "    <tr>\n",
              "        <td>Aberdeen</td>\n",
              "        <td>United Kingdom</td>\n",
              "        <td>57.17</td>\n",
              "        <td>-2.08</td>\n",
              "        <td>8.1</td>\n",
              "        <td>None</td>\n",
              "        <td>None</td>\n",
              "        <td>None</td>\n",
              "        <td>None</td>\n",
              "        <td>None</td>\n",
              "        <td>None</td>\n",
              "        <td>None</td>\n",
              "        <td>None</td>\n",
              "        <td>None</td>\n",
              "        <td>None</td>\n",
              "        <td>None</td>\n",
              "        <td>None</td>\n",
              "        <td>None</td>\n",
              "        <td>None</td>\n",
              "        <td>None</td>\n",
              "        <td>None</td>\n",
              "        <td>None</td>\n",
              "        <td>None</td>\n",
              "    </tr>\n",
              "    <tr>\n",
              "        <td>Abisko</td>\n",
              "        <td>Sweden</td>\n",
              "        <td>63.35</td>\n",
              "        <td>18.83</td>\n",
              "        <td>0.2</td>\n",
              "        <td>None</td>\n",
              "        <td>None</td>\n",
              "        <td>None</td>\n",
              "        <td>None</td>\n",
              "        <td>None</td>\n",
              "        <td>None</td>\n",
              "        <td>None</td>\n",
              "        <td>None</td>\n",
              "        <td>None</td>\n",
              "        <td>None</td>\n",
              "        <td>None</td>\n",
              "        <td>None</td>\n",
              "        <td>None</td>\n",
              "        <td>None</td>\n",
              "        <td>None</td>\n",
              "        <td>None</td>\n",
              "        <td>None</td>\n",
              "        <td>None</td>\n",
              "    </tr>\n",
              "    <tr>\n",
              "        <td>Adana</td>\n",
              "        <td>Turkey</td>\n",
              "        <td>36.99</td>\n",
              "        <td>35.32</td>\n",
              "        <td>18.67</td>\n",
              "        <td>None</td>\n",
              "        <td>None</td>\n",
              "        <td>None</td>\n",
              "        <td>None</td>\n",
              "        <td>None</td>\n",
              "        <td>None</td>\n",
              "        <td>None</td>\n",
              "        <td>None</td>\n",
              "        <td>None</td>\n",
              "        <td>None</td>\n",
              "        <td>None</td>\n",
              "        <td>None</td>\n",
              "        <td>None</td>\n",
              "        <td>None</td>\n",
              "        <td>None</td>\n",
              "        <td>None</td>\n",
              "        <td>None</td>\n",
              "        <td>None</td>\n",
              "    </tr>\n",
              "    <tr>\n",
              "        <td>Albacete</td>\n",
              "        <td>Spain</td>\n",
              "        <td>39.0</td>\n",
              "        <td>-1.87</td>\n",
              "        <td>12.62</td>\n",
              "        <td>None</td>\n",
              "        <td>None</td>\n",
              "        <td>None</td>\n",
              "        <td>None</td>\n",
              "        <td>None</td>\n",
              "        <td>None</td>\n",
              "        <td>None</td>\n",
              "        <td>None</td>\n",
              "        <td>None</td>\n",
              "        <td>None</td>\n",
              "        <td>None</td>\n",
              "        <td>None</td>\n",
              "        <td>None</td>\n",
              "        <td>None</td>\n",
              "        <td>None</td>\n",
              "        <td>None</td>\n",
              "        <td>None</td>\n",
              "        <td>None</td>\n",
              "    </tr>\n",
              "</table>"
            ]
          },
          "metadata": {},
          "execution_count": 15
        }
      ],
      "source": [
        "%%sql\n",
        "select * from Cities limit 5"
      ]
    },
    {
      "cell_type": "code",
      "execution_count": null,
      "metadata": {
        "id": "05ek4NS5MZib",
        "colab": {
          "base_uri": "https://localhost:8080/",
          "height": 217
        },
        "outputId": "a2794baa-5f96-45e3-cdab-eb2a3a474c2e"
      },
      "outputs": [
        {
          "output_type": "stream",
          "name": "stdout",
          "text": [
            " * sqlite://\n",
            "Done.\n"
          ]
        },
        {
          "output_type": "execute_result",
          "data": {
            "text/plain": [
              "[('Albania', 2.9, 'no', 'yes', None, None, None, None, None, None, None, None, None, None, None, None, None, None, None, None, None, None, None, None, None),\n",
              " ('Andorra', 0.07, 'no', 'no', None, None, None, None, None, None, None, None, None, None, None, None, None, None, None, None, None, None, None, None, None),\n",
              " ('Austria', 8.57, 'yes', 'no', None, None, None, None, None, None, None, None, None, None, None, None, None, None, None, None, None, None, None, None, None),\n",
              " ('Belarus', 9.48, 'no', 'no', None, None, None, None, None, None, None, None, None, None, None, None, None, None, None, None, None, None, None, None, None),\n",
              " ('Belgium', 11.37, 'yes', 'yes', None, None, None, None, None, None, None, None, None, None, None, None, None, None, None, None, None, None, None, None, None)]"
            ],
            "text/html": [
              "<table>\n",
              "    <tr>\n",
              "        <th>country</th>\n",
              "        <th>population</th>\n",
              "        <th>EU</th>\n",
              "        <th>coastline</th>\n",
              "        <th>Unnamed: 4</th>\n",
              "        <th>Unnamed: 5</th>\n",
              "        <th>Unnamed: 6</th>\n",
              "        <th>Unnamed: 7</th>\n",
              "        <th>Unnamed: 8</th>\n",
              "        <th>Unnamed: 9</th>\n",
              "        <th>Unnamed: 10</th>\n",
              "        <th>Unnamed: 11</th>\n",
              "        <th>Unnamed: 12</th>\n",
              "        <th>Unnamed: 13</th>\n",
              "        <th>Unnamed: 14</th>\n",
              "        <th>Unnamed: 15</th>\n",
              "        <th>Unnamed: 16</th>\n",
              "        <th>Unnamed: 17</th>\n",
              "        <th>Unnamed: 18</th>\n",
              "        <th>Unnamed: 19</th>\n",
              "        <th>Unnamed: 20</th>\n",
              "        <th>Unnamed: 21</th>\n",
              "        <th>Unnamed: 22</th>\n",
              "        <th>Unnamed: 23</th>\n",
              "        <th>Unnamed: 24</th>\n",
              "    </tr>\n",
              "    <tr>\n",
              "        <td>Albania</td>\n",
              "        <td>2.9</td>\n",
              "        <td>no</td>\n",
              "        <td>yes</td>\n",
              "        <td>None</td>\n",
              "        <td>None</td>\n",
              "        <td>None</td>\n",
              "        <td>None</td>\n",
              "        <td>None</td>\n",
              "        <td>None</td>\n",
              "        <td>None</td>\n",
              "        <td>None</td>\n",
              "        <td>None</td>\n",
              "        <td>None</td>\n",
              "        <td>None</td>\n",
              "        <td>None</td>\n",
              "        <td>None</td>\n",
              "        <td>None</td>\n",
              "        <td>None</td>\n",
              "        <td>None</td>\n",
              "        <td>None</td>\n",
              "        <td>None</td>\n",
              "        <td>None</td>\n",
              "        <td>None</td>\n",
              "        <td>None</td>\n",
              "    </tr>\n",
              "    <tr>\n",
              "        <td>Andorra</td>\n",
              "        <td>0.07</td>\n",
              "        <td>no</td>\n",
              "        <td>no</td>\n",
              "        <td>None</td>\n",
              "        <td>None</td>\n",
              "        <td>None</td>\n",
              "        <td>None</td>\n",
              "        <td>None</td>\n",
              "        <td>None</td>\n",
              "        <td>None</td>\n",
              "        <td>None</td>\n",
              "        <td>None</td>\n",
              "        <td>None</td>\n",
              "        <td>None</td>\n",
              "        <td>None</td>\n",
              "        <td>None</td>\n",
              "        <td>None</td>\n",
              "        <td>None</td>\n",
              "        <td>None</td>\n",
              "        <td>None</td>\n",
              "        <td>None</td>\n",
              "        <td>None</td>\n",
              "        <td>None</td>\n",
              "        <td>None</td>\n",
              "    </tr>\n",
              "    <tr>\n",
              "        <td>Austria</td>\n",
              "        <td>8.57</td>\n",
              "        <td>yes</td>\n",
              "        <td>no</td>\n",
              "        <td>None</td>\n",
              "        <td>None</td>\n",
              "        <td>None</td>\n",
              "        <td>None</td>\n",
              "        <td>None</td>\n",
              "        <td>None</td>\n",
              "        <td>None</td>\n",
              "        <td>None</td>\n",
              "        <td>None</td>\n",
              "        <td>None</td>\n",
              "        <td>None</td>\n",
              "        <td>None</td>\n",
              "        <td>None</td>\n",
              "        <td>None</td>\n",
              "        <td>None</td>\n",
              "        <td>None</td>\n",
              "        <td>None</td>\n",
              "        <td>None</td>\n",
              "        <td>None</td>\n",
              "        <td>None</td>\n",
              "        <td>None</td>\n",
              "    </tr>\n",
              "    <tr>\n",
              "        <td>Belarus</td>\n",
              "        <td>9.48</td>\n",
              "        <td>no</td>\n",
              "        <td>no</td>\n",
              "        <td>None</td>\n",
              "        <td>None</td>\n",
              "        <td>None</td>\n",
              "        <td>None</td>\n",
              "        <td>None</td>\n",
              "        <td>None</td>\n",
              "        <td>None</td>\n",
              "        <td>None</td>\n",
              "        <td>None</td>\n",
              "        <td>None</td>\n",
              "        <td>None</td>\n",
              "        <td>None</td>\n",
              "        <td>None</td>\n",
              "        <td>None</td>\n",
              "        <td>None</td>\n",
              "        <td>None</td>\n",
              "        <td>None</td>\n",
              "        <td>None</td>\n",
              "        <td>None</td>\n",
              "        <td>None</td>\n",
              "        <td>None</td>\n",
              "    </tr>\n",
              "    <tr>\n",
              "        <td>Belgium</td>\n",
              "        <td>11.37</td>\n",
              "        <td>yes</td>\n",
              "        <td>yes</td>\n",
              "        <td>None</td>\n",
              "        <td>None</td>\n",
              "        <td>None</td>\n",
              "        <td>None</td>\n",
              "        <td>None</td>\n",
              "        <td>None</td>\n",
              "        <td>None</td>\n",
              "        <td>None</td>\n",
              "        <td>None</td>\n",
              "        <td>None</td>\n",
              "        <td>None</td>\n",
              "        <td>None</td>\n",
              "        <td>None</td>\n",
              "        <td>None</td>\n",
              "        <td>None</td>\n",
              "        <td>None</td>\n",
              "        <td>None</td>\n",
              "        <td>None</td>\n",
              "        <td>None</td>\n",
              "        <td>None</td>\n",
              "        <td>None</td>\n",
              "    </tr>\n",
              "</table>"
            ]
          },
          "metadata": {},
          "execution_count": 16
        }
      ],
      "source": [
        "%%sql\n",
        "select * from Countries limit 5"
      ]
    },
    {
      "cell_type": "markdown",
      "metadata": {
        "id": "2BVOwkJ9MZib"
      },
      "source": [
        "### Basic Select statement\n",
        "Select columns  \n",
        "From tables  \n",
        "Where condition  "
      ]
    },
    {
      "cell_type": "markdown",
      "metadata": {
        "id": "PhbiLy9yMZic"
      },
      "source": [
        "*Find all countries not in the EU*"
      ]
    },
    {
      "cell_type": "code",
      "execution_count": null,
      "metadata": {
        "id": "H1UrR_dPMZid",
        "colab": {
          "base_uri": "https://localhost:8080/",
          "height": 389
        },
        "outputId": "52d2085e-f80d-4b5f-d69d-a882a037c030"
      },
      "outputs": [
        {
          "output_type": "stream",
          "name": "stdout",
          "text": [
            " * sqlite://\n",
            "Done.\n"
          ]
        },
        {
          "output_type": "execute_result",
          "data": {
            "text/plain": [
              "[('Albania',),\n",
              " ('Andorra',),\n",
              " ('Belarus',),\n",
              " ('Bosnia and Herzegovina',),\n",
              " ('Iceland',),\n",
              " ('Kosovo',),\n",
              " ('Liechtenstein',),\n",
              " ('Macedonia',),\n",
              " ('Moldova',),\n",
              " ('Montenegro',),\n",
              " ('Norway',),\n",
              " ('Serbia',),\n",
              " ('Switzerland',),\n",
              " ('Turkey',),\n",
              " ('Ukraine',)]"
            ],
            "text/html": [
              "<table>\n",
              "    <tr>\n",
              "        <th>country</th>\n",
              "    </tr>\n",
              "    <tr>\n",
              "        <td>Albania</td>\n",
              "    </tr>\n",
              "    <tr>\n",
              "        <td>Andorra</td>\n",
              "    </tr>\n",
              "    <tr>\n",
              "        <td>Belarus</td>\n",
              "    </tr>\n",
              "    <tr>\n",
              "        <td>Bosnia and Herzegovina</td>\n",
              "    </tr>\n",
              "    <tr>\n",
              "        <td>Iceland</td>\n",
              "    </tr>\n",
              "    <tr>\n",
              "        <td>Kosovo</td>\n",
              "    </tr>\n",
              "    <tr>\n",
              "        <td>Liechtenstein</td>\n",
              "    </tr>\n",
              "    <tr>\n",
              "        <td>Macedonia</td>\n",
              "    </tr>\n",
              "    <tr>\n",
              "        <td>Moldova</td>\n",
              "    </tr>\n",
              "    <tr>\n",
              "        <td>Montenegro</td>\n",
              "    </tr>\n",
              "    <tr>\n",
              "        <td>Norway</td>\n",
              "    </tr>\n",
              "    <tr>\n",
              "        <td>Serbia</td>\n",
              "    </tr>\n",
              "    <tr>\n",
              "        <td>Switzerland</td>\n",
              "    </tr>\n",
              "    <tr>\n",
              "        <td>Turkey</td>\n",
              "    </tr>\n",
              "    <tr>\n",
              "        <td>Ukraine</td>\n",
              "    </tr>\n",
              "</table>"
            ]
          },
          "metadata": {},
          "execution_count": 17
        }
      ],
      "source": [
        "%%sql\n",
        "select country\n",
        "from Countries\n",
        "where EU = 'no'"
      ]
    },
    {
      "cell_type": "markdown",
      "metadata": {
        "id": "1UH8ocwLMZid"
      },
      "source": [
        "*Find all cities with temperature between -5 and 5; return city, country, and temperature*"
      ]
    },
    {
      "cell_type": "code",
      "execution_count": null,
      "metadata": {
        "id": "7BpzAGMNMZie",
        "colab": {
          "base_uri": "https://localhost:8080/",
          "height": 431
        },
        "outputId": "d16d1aff-cbb2-4cec-98f3-f40b586785cb"
      },
      "outputs": [
        {
          "output_type": "stream",
          "name": "stdout",
          "text": [
            " * sqlite://\n",
            "Done.\n"
          ]
        },
        {
          "output_type": "execute_result",
          "data": {
            "text/plain": [
              "[('Abisko', 'Sweden', 0.2),\n",
              " ('Augsburg', 'Germany', 4.54),\n",
              " ('Bergen', 'Norway', 1.75),\n",
              " ('Bodo', 'Norway', 4.5),\n",
              " ('Helsinki', 'Finland', 4.19),\n",
              " ('Innsbruck', 'Austria', 4.54),\n",
              " ('Kiruna', 'Sweden', -2.2),\n",
              " ('Orsha', 'Belarus', 4.93),\n",
              " ('Oslo', 'Norway', 2.32),\n",
              " ('Oulu', 'Finland', 1.45),\n",
              " ('Salzburg', 'Austria', 4.62),\n",
              " ('Tallinn', 'Estonia', 4.82),\n",
              " ('Tampere', 'Finland', 3.59),\n",
              " ('Tartu', 'Estonia', 4.36),\n",
              " ('Trondheim', 'Norway', 4.53),\n",
              " ('Turku', 'Finland', 4.72),\n",
              " ('Uppsala', 'Sweden', 4.17)]"
            ],
            "text/html": [
              "<table>\n",
              "    <tr>\n",
              "        <th>city</th>\n",
              "        <th>country</th>\n",
              "        <th>temperature</th>\n",
              "    </tr>\n",
              "    <tr>\n",
              "        <td>Abisko</td>\n",
              "        <td>Sweden</td>\n",
              "        <td>0.2</td>\n",
              "    </tr>\n",
              "    <tr>\n",
              "        <td>Augsburg</td>\n",
              "        <td>Germany</td>\n",
              "        <td>4.54</td>\n",
              "    </tr>\n",
              "    <tr>\n",
              "        <td>Bergen</td>\n",
              "        <td>Norway</td>\n",
              "        <td>1.75</td>\n",
              "    </tr>\n",
              "    <tr>\n",
              "        <td>Bodo</td>\n",
              "        <td>Norway</td>\n",
              "        <td>4.5</td>\n",
              "    </tr>\n",
              "    <tr>\n",
              "        <td>Helsinki</td>\n",
              "        <td>Finland</td>\n",
              "        <td>4.19</td>\n",
              "    </tr>\n",
              "    <tr>\n",
              "        <td>Innsbruck</td>\n",
              "        <td>Austria</td>\n",
              "        <td>4.54</td>\n",
              "    </tr>\n",
              "    <tr>\n",
              "        <td>Kiruna</td>\n",
              "        <td>Sweden</td>\n",
              "        <td>-2.2</td>\n",
              "    </tr>\n",
              "    <tr>\n",
              "        <td>Orsha</td>\n",
              "        <td>Belarus</td>\n",
              "        <td>4.93</td>\n",
              "    </tr>\n",
              "    <tr>\n",
              "        <td>Oslo</td>\n",
              "        <td>Norway</td>\n",
              "        <td>2.32</td>\n",
              "    </tr>\n",
              "    <tr>\n",
              "        <td>Oulu</td>\n",
              "        <td>Finland</td>\n",
              "        <td>1.45</td>\n",
              "    </tr>\n",
              "    <tr>\n",
              "        <td>Salzburg</td>\n",
              "        <td>Austria</td>\n",
              "        <td>4.62</td>\n",
              "    </tr>\n",
              "    <tr>\n",
              "        <td>Tallinn</td>\n",
              "        <td>Estonia</td>\n",
              "        <td>4.82</td>\n",
              "    </tr>\n",
              "    <tr>\n",
              "        <td>Tampere</td>\n",
              "        <td>Finland</td>\n",
              "        <td>3.59</td>\n",
              "    </tr>\n",
              "    <tr>\n",
              "        <td>Tartu</td>\n",
              "        <td>Estonia</td>\n",
              "        <td>4.36</td>\n",
              "    </tr>\n",
              "    <tr>\n",
              "        <td>Trondheim</td>\n",
              "        <td>Norway</td>\n",
              "        <td>4.53</td>\n",
              "    </tr>\n",
              "    <tr>\n",
              "        <td>Turku</td>\n",
              "        <td>Finland</td>\n",
              "        <td>4.72</td>\n",
              "    </tr>\n",
              "    <tr>\n",
              "        <td>Uppsala</td>\n",
              "        <td>Sweden</td>\n",
              "        <td>4.17</td>\n",
              "    </tr>\n",
              "</table>"
            ]
          },
          "metadata": {},
          "execution_count": 18
        }
      ],
      "source": [
        "%%sql\n",
        "select city, country, temperature\n",
        "from Cities\n",
        "where temperature > -5 and temperature < 5"
      ]
    },
    {
      "cell_type": "markdown",
      "metadata": {
        "id": "owIqOk1WMZie"
      },
      "source": [
        "### Ordering"
      ]
    },
    {
      "cell_type": "markdown",
      "metadata": {
        "id": "Fshc0QQXMZie"
      },
      "source": [
        "*Modify previous query to sort by temperature*"
      ]
    },
    {
      "cell_type": "code",
      "source": [
        "%%sql\n",
        "select city, country, temperature\n",
        "from Cities\n",
        "where temperature > -5 and temperature < 5\n",
        "order by temperature"
      ],
      "metadata": {
        "id": "EmsNmAC6xJkd",
        "colab": {
          "base_uri": "https://localhost:8080/",
          "height": 431
        },
        "outputId": "7a8a752e-1f90-4b3d-bff7-96501dbab295"
      },
      "execution_count": null,
      "outputs": [
        {
          "output_type": "stream",
          "name": "stdout",
          "text": [
            " * sqlite://\n",
            "Done.\n"
          ]
        },
        {
          "output_type": "execute_result",
          "data": {
            "text/plain": [
              "[('Kiruna', 'Sweden', -2.2),\n",
              " ('Abisko', 'Sweden', 0.2),\n",
              " ('Oulu', 'Finland', 1.45),\n",
              " ('Bergen', 'Norway', 1.75),\n",
              " ('Oslo', 'Norway', 2.32),\n",
              " ('Tampere', 'Finland', 3.59),\n",
              " ('Uppsala', 'Sweden', 4.17),\n",
              " ('Helsinki', 'Finland', 4.19),\n",
              " ('Tartu', 'Estonia', 4.36),\n",
              " ('Bodo', 'Norway', 4.5),\n",
              " ('Trondheim', 'Norway', 4.53),\n",
              " ('Augsburg', 'Germany', 4.54),\n",
              " ('Innsbruck', 'Austria', 4.54),\n",
              " ('Salzburg', 'Austria', 4.62),\n",
              " ('Turku', 'Finland', 4.72),\n",
              " ('Tallinn', 'Estonia', 4.82),\n",
              " ('Orsha', 'Belarus', 4.93)]"
            ],
            "text/html": [
              "<table>\n",
              "    <tr>\n",
              "        <th>city</th>\n",
              "        <th>country</th>\n",
              "        <th>temperature</th>\n",
              "    </tr>\n",
              "    <tr>\n",
              "        <td>Kiruna</td>\n",
              "        <td>Sweden</td>\n",
              "        <td>-2.2</td>\n",
              "    </tr>\n",
              "    <tr>\n",
              "        <td>Abisko</td>\n",
              "        <td>Sweden</td>\n",
              "        <td>0.2</td>\n",
              "    </tr>\n",
              "    <tr>\n",
              "        <td>Oulu</td>\n",
              "        <td>Finland</td>\n",
              "        <td>1.45</td>\n",
              "    </tr>\n",
              "    <tr>\n",
              "        <td>Bergen</td>\n",
              "        <td>Norway</td>\n",
              "        <td>1.75</td>\n",
              "    </tr>\n",
              "    <tr>\n",
              "        <td>Oslo</td>\n",
              "        <td>Norway</td>\n",
              "        <td>2.32</td>\n",
              "    </tr>\n",
              "    <tr>\n",
              "        <td>Tampere</td>\n",
              "        <td>Finland</td>\n",
              "        <td>3.59</td>\n",
              "    </tr>\n",
              "    <tr>\n",
              "        <td>Uppsala</td>\n",
              "        <td>Sweden</td>\n",
              "        <td>4.17</td>\n",
              "    </tr>\n",
              "    <tr>\n",
              "        <td>Helsinki</td>\n",
              "        <td>Finland</td>\n",
              "        <td>4.19</td>\n",
              "    </tr>\n",
              "    <tr>\n",
              "        <td>Tartu</td>\n",
              "        <td>Estonia</td>\n",
              "        <td>4.36</td>\n",
              "    </tr>\n",
              "    <tr>\n",
              "        <td>Bodo</td>\n",
              "        <td>Norway</td>\n",
              "        <td>4.5</td>\n",
              "    </tr>\n",
              "    <tr>\n",
              "        <td>Trondheim</td>\n",
              "        <td>Norway</td>\n",
              "        <td>4.53</td>\n",
              "    </tr>\n",
              "    <tr>\n",
              "        <td>Augsburg</td>\n",
              "        <td>Germany</td>\n",
              "        <td>4.54</td>\n",
              "    </tr>\n",
              "    <tr>\n",
              "        <td>Innsbruck</td>\n",
              "        <td>Austria</td>\n",
              "        <td>4.54</td>\n",
              "    </tr>\n",
              "    <tr>\n",
              "        <td>Salzburg</td>\n",
              "        <td>Austria</td>\n",
              "        <td>4.62</td>\n",
              "    </tr>\n",
              "    <tr>\n",
              "        <td>Turku</td>\n",
              "        <td>Finland</td>\n",
              "        <td>4.72</td>\n",
              "    </tr>\n",
              "    <tr>\n",
              "        <td>Tallinn</td>\n",
              "        <td>Estonia</td>\n",
              "        <td>4.82</td>\n",
              "    </tr>\n",
              "    <tr>\n",
              "        <td>Orsha</td>\n",
              "        <td>Belarus</td>\n",
              "        <td>4.93</td>\n",
              "    </tr>\n",
              "</table>"
            ]
          },
          "metadata": {},
          "execution_count": 19
        }
      ]
    },
    {
      "cell_type": "markdown",
      "metadata": {
        "id": "PLQtDaG3MZif"
      },
      "source": [
        "*Modify previous query to sort by country, then temperature descending*"
      ]
    },
    {
      "cell_type": "code",
      "source": [
        "%%sql\n",
        "select city, country, temperature\n",
        "from Cities\n",
        "where temperature > -5 and temperature < 5\n",
        "order by country ASC, temperature DESC"
      ],
      "metadata": {
        "id": "kceD_YLqxSoz",
        "colab": {
          "base_uri": "https://localhost:8080/",
          "height": 431
        },
        "outputId": "f135f612-9d22-451d-ef8a-a055d9474233"
      },
      "execution_count": null,
      "outputs": [
        {
          "output_type": "stream",
          "name": "stdout",
          "text": [
            " * sqlite://\n",
            "Done.\n"
          ]
        },
        {
          "output_type": "execute_result",
          "data": {
            "text/plain": [
              "[('Salzburg', 'Austria', 4.62),\n",
              " ('Innsbruck', 'Austria', 4.54),\n",
              " ('Orsha', 'Belarus', 4.93),\n",
              " ('Tallinn', 'Estonia', 4.82),\n",
              " ('Tartu', 'Estonia', 4.36),\n",
              " ('Turku', 'Finland', 4.72),\n",
              " ('Helsinki', 'Finland', 4.19),\n",
              " ('Tampere', 'Finland', 3.59),\n",
              " ('Oulu', 'Finland', 1.45),\n",
              " ('Augsburg', 'Germany', 4.54),\n",
              " ('Trondheim', 'Norway', 4.53),\n",
              " ('Bodo', 'Norway', 4.5),\n",
              " ('Oslo', 'Norway', 2.32),\n",
              " ('Bergen', 'Norway', 1.75),\n",
              " ('Uppsala', 'Sweden', 4.17),\n",
              " ('Abisko', 'Sweden', 0.2),\n",
              " ('Kiruna', 'Sweden', -2.2)]"
            ],
            "text/html": [
              "<table>\n",
              "    <tr>\n",
              "        <th>city</th>\n",
              "        <th>country</th>\n",
              "        <th>temperature</th>\n",
              "    </tr>\n",
              "    <tr>\n",
              "        <td>Salzburg</td>\n",
              "        <td>Austria</td>\n",
              "        <td>4.62</td>\n",
              "    </tr>\n",
              "    <tr>\n",
              "        <td>Innsbruck</td>\n",
              "        <td>Austria</td>\n",
              "        <td>4.54</td>\n",
              "    </tr>\n",
              "    <tr>\n",
              "        <td>Orsha</td>\n",
              "        <td>Belarus</td>\n",
              "        <td>4.93</td>\n",
              "    </tr>\n",
              "    <tr>\n",
              "        <td>Tallinn</td>\n",
              "        <td>Estonia</td>\n",
              "        <td>4.82</td>\n",
              "    </tr>\n",
              "    <tr>\n",
              "        <td>Tartu</td>\n",
              "        <td>Estonia</td>\n",
              "        <td>4.36</td>\n",
              "    </tr>\n",
              "    <tr>\n",
              "        <td>Turku</td>\n",
              "        <td>Finland</td>\n",
              "        <td>4.72</td>\n",
              "    </tr>\n",
              "    <tr>\n",
              "        <td>Helsinki</td>\n",
              "        <td>Finland</td>\n",
              "        <td>4.19</td>\n",
              "    </tr>\n",
              "    <tr>\n",
              "        <td>Tampere</td>\n",
              "        <td>Finland</td>\n",
              "        <td>3.59</td>\n",
              "    </tr>\n",
              "    <tr>\n",
              "        <td>Oulu</td>\n",
              "        <td>Finland</td>\n",
              "        <td>1.45</td>\n",
              "    </tr>\n",
              "    <tr>\n",
              "        <td>Augsburg</td>\n",
              "        <td>Germany</td>\n",
              "        <td>4.54</td>\n",
              "    </tr>\n",
              "    <tr>\n",
              "        <td>Trondheim</td>\n",
              "        <td>Norway</td>\n",
              "        <td>4.53</td>\n",
              "    </tr>\n",
              "    <tr>\n",
              "        <td>Bodo</td>\n",
              "        <td>Norway</td>\n",
              "        <td>4.5</td>\n",
              "    </tr>\n",
              "    <tr>\n",
              "        <td>Oslo</td>\n",
              "        <td>Norway</td>\n",
              "        <td>2.32</td>\n",
              "    </tr>\n",
              "    <tr>\n",
              "        <td>Bergen</td>\n",
              "        <td>Norway</td>\n",
              "        <td>1.75</td>\n",
              "    </tr>\n",
              "    <tr>\n",
              "        <td>Uppsala</td>\n",
              "        <td>Sweden</td>\n",
              "        <td>4.17</td>\n",
              "    </tr>\n",
              "    <tr>\n",
              "        <td>Abisko</td>\n",
              "        <td>Sweden</td>\n",
              "        <td>0.2</td>\n",
              "    </tr>\n",
              "    <tr>\n",
              "        <td>Kiruna</td>\n",
              "        <td>Sweden</td>\n",
              "        <td>-2.2</td>\n",
              "    </tr>\n",
              "</table>"
            ]
          },
          "metadata": {},
          "execution_count": 20
        }
      ]
    },
    {
      "cell_type": "markdown",
      "metadata": {
        "id": "g7J3F0UAMZif"
      },
      "source": [
        "### <font color = 'green'>**Your Turn**</font>"
      ]
    },
    {
      "cell_type": "markdown",
      "metadata": {
        "id": "HdgtGYcCMZif"
      },
      "source": [
        "*Find all countries with no coastline and with population > 9. Return the country and population, in descending order of population.*"
      ]
    },
    {
      "cell_type": "code",
      "execution_count": null,
      "metadata": {
        "id": "6pYlPwPSMZif",
        "colab": {
          "base_uri": "https://localhost:8080/",
          "height": 137
        },
        "outputId": "ae494be4-5de4-4abf-d732-521413258a86"
      },
      "outputs": [
        {
          "output_type": "stream",
          "name": "stdout",
          "text": [
            " * sqlite://\n",
            "Done.\n"
          ]
        },
        {
          "output_type": "execute_result",
          "data": {
            "text/plain": [
              "[('Czech Republic', 10.55), ('Hungary', 9.82), ('Belarus', 9.48)]"
            ],
            "text/html": [
              "<table>\n",
              "    <tr>\n",
              "        <th>country</th>\n",
              "        <th>population</th>\n",
              "    </tr>\n",
              "    <tr>\n",
              "        <td>Czech Republic</td>\n",
              "        <td>10.55</td>\n",
              "    </tr>\n",
              "    <tr>\n",
              "        <td>Hungary</td>\n",
              "        <td>9.82</td>\n",
              "    </tr>\n",
              "    <tr>\n",
              "        <td>Belarus</td>\n",
              "        <td>9.48</td>\n",
              "    </tr>\n",
              "</table>"
            ]
          },
          "metadata": {},
          "execution_count": 21
        }
      ],
      "source": [
        "%%sql\n",
        "select country, population\n",
        "from Countries\n",
        "where coastline = 'no'\n",
        "and population > 9\n",
        "order by population DESC"
      ]
    },
    {
      "cell_type": "markdown",
      "metadata": {
        "id": "_7HoBhWmMZig"
      },
      "source": [
        "### Multiple tables in From clause - Joins"
      ]
    },
    {
      "cell_type": "markdown",
      "metadata": {
        "id": "NhoRrhYbMZig"
      },
      "source": [
        "*Find all cities with longitude < 10 not in the EU, return city and longitude*"
      ]
    },
    {
      "cell_type": "code",
      "source": [
        "Cities.head(2)"
      ],
      "metadata": {
        "id": "TlU-68dMy5qA",
        "colab": {
          "base_uri": "https://localhost:8080/",
          "height": 227
        },
        "outputId": "d041c5d4-c95d-45b3-ad36-ebc5b82a9f3a"
      },
      "execution_count": null,
      "outputs": [
        {
          "output_type": "execute_result",
          "data": {
            "text/plain": [
              "                 country  latitude  longitude  temperature  Unnamed: 5  \\\n",
              "city                                                                     \n",
              "Aalborg          Denmark     57.03       9.92         7.52         NaN   \n",
              "Aberdeen  United Kingdom     57.17      -2.08         8.10         NaN   \n",
              "\n",
              "          Unnamed: 6  Unnamed: 7  Unnamed: 8  Unnamed: 9  Unnamed: 10  ...  \\\n",
              "city                                                                   ...   \n",
              "Aalborg          NaN         NaN         NaN         NaN          NaN  ...   \n",
              "Aberdeen         NaN         NaN         NaN         NaN          NaN  ...   \n",
              "\n",
              "          Unnamed: 13  Unnamed: 14  Unnamed: 15  Unnamed: 16  Unnamed: 17  \\\n",
              "city                                                                        \n",
              "Aalborg           NaN          NaN          NaN          NaN          NaN   \n",
              "Aberdeen          NaN          NaN          NaN          NaN          NaN   \n",
              "\n",
              "          Unnamed: 18  Unnamed: 19  Unnamed: 20  Unnamed: 21  Unnamed: 22  \n",
              "city                                                                       \n",
              "Aalborg           NaN          NaN          NaN          NaN          NaN  \n",
              "Aberdeen          NaN          NaN          NaN          NaN          NaN  \n",
              "\n",
              "[2 rows x 22 columns]"
            ],
            "text/html": [
              "\n",
              "  <div id=\"df-b04dbe4b-7ecf-4ff1-867d-1eecf291c81b\" class=\"colab-df-container\">\n",
              "    <div>\n",
              "<style scoped>\n",
              "    .dataframe tbody tr th:only-of-type {\n",
              "        vertical-align: middle;\n",
              "    }\n",
              "\n",
              "    .dataframe tbody tr th {\n",
              "        vertical-align: top;\n",
              "    }\n",
              "\n",
              "    .dataframe thead th {\n",
              "        text-align: right;\n",
              "    }\n",
              "</style>\n",
              "<table border=\"1\" class=\"dataframe\">\n",
              "  <thead>\n",
              "    <tr style=\"text-align: right;\">\n",
              "      <th></th>\n",
              "      <th>country</th>\n",
              "      <th>latitude</th>\n",
              "      <th>longitude</th>\n",
              "      <th>temperature</th>\n",
              "      <th>Unnamed: 5</th>\n",
              "      <th>Unnamed: 6</th>\n",
              "      <th>Unnamed: 7</th>\n",
              "      <th>Unnamed: 8</th>\n",
              "      <th>Unnamed: 9</th>\n",
              "      <th>Unnamed: 10</th>\n",
              "      <th>...</th>\n",
              "      <th>Unnamed: 13</th>\n",
              "      <th>Unnamed: 14</th>\n",
              "      <th>Unnamed: 15</th>\n",
              "      <th>Unnamed: 16</th>\n",
              "      <th>Unnamed: 17</th>\n",
              "      <th>Unnamed: 18</th>\n",
              "      <th>Unnamed: 19</th>\n",
              "      <th>Unnamed: 20</th>\n",
              "      <th>Unnamed: 21</th>\n",
              "      <th>Unnamed: 22</th>\n",
              "    </tr>\n",
              "    <tr>\n",
              "      <th>city</th>\n",
              "      <th></th>\n",
              "      <th></th>\n",
              "      <th></th>\n",
              "      <th></th>\n",
              "      <th></th>\n",
              "      <th></th>\n",
              "      <th></th>\n",
              "      <th></th>\n",
              "      <th></th>\n",
              "      <th></th>\n",
              "      <th></th>\n",
              "      <th></th>\n",
              "      <th></th>\n",
              "      <th></th>\n",
              "      <th></th>\n",
              "      <th></th>\n",
              "      <th></th>\n",
              "      <th></th>\n",
              "      <th></th>\n",
              "      <th></th>\n",
              "      <th></th>\n",
              "    </tr>\n",
              "  </thead>\n",
              "  <tbody>\n",
              "    <tr>\n",
              "      <th>Aalborg</th>\n",
              "      <td>Denmark</td>\n",
              "      <td>57.03</td>\n",
              "      <td>9.92</td>\n",
              "      <td>7.52</td>\n",
              "      <td>NaN</td>\n",
              "      <td>NaN</td>\n",
              "      <td>NaN</td>\n",
              "      <td>NaN</td>\n",
              "      <td>NaN</td>\n",
              "      <td>NaN</td>\n",
              "      <td>...</td>\n",
              "      <td>NaN</td>\n",
              "      <td>NaN</td>\n",
              "      <td>NaN</td>\n",
              "      <td>NaN</td>\n",
              "      <td>NaN</td>\n",
              "      <td>NaN</td>\n",
              "      <td>NaN</td>\n",
              "      <td>NaN</td>\n",
              "      <td>NaN</td>\n",
              "      <td>NaN</td>\n",
              "    </tr>\n",
              "    <tr>\n",
              "      <th>Aberdeen</th>\n",
              "      <td>United Kingdom</td>\n",
              "      <td>57.17</td>\n",
              "      <td>-2.08</td>\n",
              "      <td>8.10</td>\n",
              "      <td>NaN</td>\n",
              "      <td>NaN</td>\n",
              "      <td>NaN</td>\n",
              "      <td>NaN</td>\n",
              "      <td>NaN</td>\n",
              "      <td>NaN</td>\n",
              "      <td>...</td>\n",
              "      <td>NaN</td>\n",
              "      <td>NaN</td>\n",
              "      <td>NaN</td>\n",
              "      <td>NaN</td>\n",
              "      <td>NaN</td>\n",
              "      <td>NaN</td>\n",
              "      <td>NaN</td>\n",
              "      <td>NaN</td>\n",
              "      <td>NaN</td>\n",
              "      <td>NaN</td>\n",
              "    </tr>\n",
              "  </tbody>\n",
              "</table>\n",
              "<p>2 rows × 22 columns</p>\n",
              "</div>\n",
              "    <div class=\"colab-df-buttons\">\n",
              "\n",
              "  <div class=\"colab-df-container\">\n",
              "    <button class=\"colab-df-convert\" onclick=\"convertToInteractive('df-b04dbe4b-7ecf-4ff1-867d-1eecf291c81b')\"\n",
              "            title=\"Convert this dataframe to an interactive table.\"\n",
              "            style=\"display:none;\">\n",
              "\n",
              "  <svg xmlns=\"http://www.w3.org/2000/svg\" height=\"24px\" viewBox=\"0 -960 960 960\">\n",
              "    <path d=\"M120-120v-720h720v720H120Zm60-500h600v-160H180v160Zm220 220h160v-160H400v160Zm0 220h160v-160H400v160ZM180-400h160v-160H180v160Zm440 0h160v-160H620v160ZM180-180h160v-160H180v160Zm440 0h160v-160H620v160Z\"/>\n",
              "  </svg>\n",
              "    </button>\n",
              "\n",
              "  <style>\n",
              "    .colab-df-container {\n",
              "      display:flex;\n",
              "      gap: 12px;\n",
              "    }\n",
              "\n",
              "    .colab-df-convert {\n",
              "      background-color: #E8F0FE;\n",
              "      border: none;\n",
              "      border-radius: 50%;\n",
              "      cursor: pointer;\n",
              "      display: none;\n",
              "      fill: #1967D2;\n",
              "      height: 32px;\n",
              "      padding: 0 0 0 0;\n",
              "      width: 32px;\n",
              "    }\n",
              "\n",
              "    .colab-df-convert:hover {\n",
              "      background-color: #E2EBFA;\n",
              "      box-shadow: 0px 1px 2px rgba(60, 64, 67, 0.3), 0px 1px 3px 1px rgba(60, 64, 67, 0.15);\n",
              "      fill: #174EA6;\n",
              "    }\n",
              "\n",
              "    .colab-df-buttons div {\n",
              "      margin-bottom: 4px;\n",
              "    }\n",
              "\n",
              "    [theme=dark] .colab-df-convert {\n",
              "      background-color: #3B4455;\n",
              "      fill: #D2E3FC;\n",
              "    }\n",
              "\n",
              "    [theme=dark] .colab-df-convert:hover {\n",
              "      background-color: #434B5C;\n",
              "      box-shadow: 0px 1px 3px 1px rgba(0, 0, 0, 0.15);\n",
              "      filter: drop-shadow(0px 1px 2px rgba(0, 0, 0, 0.3));\n",
              "      fill: #FFFFFF;\n",
              "    }\n",
              "  </style>\n",
              "\n",
              "    <script>\n",
              "      const buttonEl =\n",
              "        document.querySelector('#df-b04dbe4b-7ecf-4ff1-867d-1eecf291c81b button.colab-df-convert');\n",
              "      buttonEl.style.display =\n",
              "        google.colab.kernel.accessAllowed ? 'block' : 'none';\n",
              "\n",
              "      async function convertToInteractive(key) {\n",
              "        const element = document.querySelector('#df-b04dbe4b-7ecf-4ff1-867d-1eecf291c81b');\n",
              "        const dataTable =\n",
              "          await google.colab.kernel.invokeFunction('convertToInteractive',\n",
              "                                                    [key], {});\n",
              "        if (!dataTable) return;\n",
              "\n",
              "        const docLinkHtml = 'Like what you see? Visit the ' +\n",
              "          '<a target=\"_blank\" href=https://colab.research.google.com/notebooks/data_table.ipynb>data table notebook</a>'\n",
              "          + ' to learn more about interactive tables.';\n",
              "        element.innerHTML = '';\n",
              "        dataTable['output_type'] = 'display_data';\n",
              "        await google.colab.output.renderOutput(dataTable, element);\n",
              "        const docLink = document.createElement('div');\n",
              "        docLink.innerHTML = docLinkHtml;\n",
              "        element.appendChild(docLink);\n",
              "      }\n",
              "    </script>\n",
              "  </div>\n",
              "\n",
              "\n",
              "    <div id=\"df-1ab9909d-b9ea-45bf-b16d-78fe231ba348\">\n",
              "      <button class=\"colab-df-quickchart\" onclick=\"quickchart('df-1ab9909d-b9ea-45bf-b16d-78fe231ba348')\"\n",
              "                title=\"Suggest charts\"\n",
              "                style=\"display:none;\">\n",
              "\n",
              "<svg xmlns=\"http://www.w3.org/2000/svg\" height=\"24px\"viewBox=\"0 0 24 24\"\n",
              "     width=\"24px\">\n",
              "    <g>\n",
              "        <path d=\"M19 3H5c-1.1 0-2 .9-2 2v14c0 1.1.9 2 2 2h14c1.1 0 2-.9 2-2V5c0-1.1-.9-2-2-2zM9 17H7v-7h2v7zm4 0h-2V7h2v10zm4 0h-2v-4h2v4z\"/>\n",
              "    </g>\n",
              "</svg>\n",
              "      </button>\n",
              "\n",
              "<style>\n",
              "  .colab-df-quickchart {\n",
              "      --bg-color: #E8F0FE;\n",
              "      --fill-color: #1967D2;\n",
              "      --hover-bg-color: #E2EBFA;\n",
              "      --hover-fill-color: #174EA6;\n",
              "      --disabled-fill-color: #AAA;\n",
              "      --disabled-bg-color: #DDD;\n",
              "  }\n",
              "\n",
              "  [theme=dark] .colab-df-quickchart {\n",
              "      --bg-color: #3B4455;\n",
              "      --fill-color: #D2E3FC;\n",
              "      --hover-bg-color: #434B5C;\n",
              "      --hover-fill-color: #FFFFFF;\n",
              "      --disabled-bg-color: #3B4455;\n",
              "      --disabled-fill-color: #666;\n",
              "  }\n",
              "\n",
              "  .colab-df-quickchart {\n",
              "    background-color: var(--bg-color);\n",
              "    border: none;\n",
              "    border-radius: 50%;\n",
              "    cursor: pointer;\n",
              "    display: none;\n",
              "    fill: var(--fill-color);\n",
              "    height: 32px;\n",
              "    padding: 0;\n",
              "    width: 32px;\n",
              "  }\n",
              "\n",
              "  .colab-df-quickchart:hover {\n",
              "    background-color: var(--hover-bg-color);\n",
              "    box-shadow: 0 1px 2px rgba(60, 64, 67, 0.3), 0 1px 3px 1px rgba(60, 64, 67, 0.15);\n",
              "    fill: var(--button-hover-fill-color);\n",
              "  }\n",
              "\n",
              "  .colab-df-quickchart-complete:disabled,\n",
              "  .colab-df-quickchart-complete:disabled:hover {\n",
              "    background-color: var(--disabled-bg-color);\n",
              "    fill: var(--disabled-fill-color);\n",
              "    box-shadow: none;\n",
              "  }\n",
              "\n",
              "  .colab-df-spinner {\n",
              "    border: 2px solid var(--fill-color);\n",
              "    border-color: transparent;\n",
              "    border-bottom-color: var(--fill-color);\n",
              "    animation:\n",
              "      spin 1s steps(1) infinite;\n",
              "  }\n",
              "\n",
              "  @keyframes spin {\n",
              "    0% {\n",
              "      border-color: transparent;\n",
              "      border-bottom-color: var(--fill-color);\n",
              "      border-left-color: var(--fill-color);\n",
              "    }\n",
              "    20% {\n",
              "      border-color: transparent;\n",
              "      border-left-color: var(--fill-color);\n",
              "      border-top-color: var(--fill-color);\n",
              "    }\n",
              "    30% {\n",
              "      border-color: transparent;\n",
              "      border-left-color: var(--fill-color);\n",
              "      border-top-color: var(--fill-color);\n",
              "      border-right-color: var(--fill-color);\n",
              "    }\n",
              "    40% {\n",
              "      border-color: transparent;\n",
              "      border-right-color: var(--fill-color);\n",
              "      border-top-color: var(--fill-color);\n",
              "    }\n",
              "    60% {\n",
              "      border-color: transparent;\n",
              "      border-right-color: var(--fill-color);\n",
              "    }\n",
              "    80% {\n",
              "      border-color: transparent;\n",
              "      border-right-color: var(--fill-color);\n",
              "      border-bottom-color: var(--fill-color);\n",
              "    }\n",
              "    90% {\n",
              "      border-color: transparent;\n",
              "      border-bottom-color: var(--fill-color);\n",
              "    }\n",
              "  }\n",
              "</style>\n",
              "\n",
              "      <script>\n",
              "        async function quickchart(key) {\n",
              "          const quickchartButtonEl =\n",
              "            document.querySelector('#' + key + ' button');\n",
              "          quickchartButtonEl.disabled = true;  // To prevent multiple clicks.\n",
              "          quickchartButtonEl.classList.add('colab-df-spinner');\n",
              "          try {\n",
              "            const charts = await google.colab.kernel.invokeFunction(\n",
              "                'suggestCharts', [key], {});\n",
              "          } catch (error) {\n",
              "            console.error('Error during call to suggestCharts:', error);\n",
              "          }\n",
              "          quickchartButtonEl.classList.remove('colab-df-spinner');\n",
              "          quickchartButtonEl.classList.add('colab-df-quickchart-complete');\n",
              "        }\n",
              "        (() => {\n",
              "          let quickchartButtonEl =\n",
              "            document.querySelector('#df-1ab9909d-b9ea-45bf-b16d-78fe231ba348 button');\n",
              "          quickchartButtonEl.style.display =\n",
              "            google.colab.kernel.accessAllowed ? 'block' : 'none';\n",
              "        })();\n",
              "      </script>\n",
              "    </div>\n",
              "\n",
              "    </div>\n",
              "  </div>\n"
            ],
            "application/vnd.google.colaboratory.intrinsic+json": {
              "type": "dataframe",
              "variable_name": "Cities"
            }
          },
          "metadata": {},
          "execution_count": 22
        }
      ]
    },
    {
      "cell_type": "code",
      "source": [
        "Countries.head(2)"
      ],
      "metadata": {
        "id": "1fNFcRWny8-y",
        "colab": {
          "base_uri": "https://localhost:8080/",
          "height": 210
        },
        "outputId": "d8c216c7-f4a4-4efa-9202-5f8f9dc81c14"
      },
      "execution_count": null,
      "outputs": [
        {
          "output_type": "execute_result",
          "data": {
            "text/plain": [
              "         population  EU coastline  Unnamed: 4  Unnamed: 5  Unnamed: 6  \\\n",
              "country                                                                 \n",
              "Albania        2.90  no       yes         NaN         NaN         NaN   \n",
              "Andorra        0.07  no        no         NaN         NaN         NaN   \n",
              "\n",
              "         Unnamed: 7  Unnamed: 8  Unnamed: 9  Unnamed: 10  ...  Unnamed: 15  \\\n",
              "country                                                   ...                \n",
              "Albania         NaN         NaN         NaN          NaN  ...          NaN   \n",
              "Andorra         NaN         NaN         NaN          NaN  ...          NaN   \n",
              "\n",
              "         Unnamed: 16  Unnamed: 17  Unnamed: 18  Unnamed: 19  Unnamed: 20  \\\n",
              "country                                                                    \n",
              "Albania          NaN          NaN          NaN          NaN          NaN   \n",
              "Andorra          NaN          NaN          NaN          NaN          NaN   \n",
              "\n",
              "         Unnamed: 21  Unnamed: 22  Unnamed: 23  Unnamed: 24  \n",
              "country                                                      \n",
              "Albania          NaN          NaN          NaN          NaN  \n",
              "Andorra          NaN          NaN          NaN          NaN  \n",
              "\n",
              "[2 rows x 24 columns]"
            ],
            "text/html": [
              "\n",
              "  <div id=\"df-b509c1e2-8404-4d4d-8d0d-503b5b4ccafd\" class=\"colab-df-container\">\n",
              "    <div>\n",
              "<style scoped>\n",
              "    .dataframe tbody tr th:only-of-type {\n",
              "        vertical-align: middle;\n",
              "    }\n",
              "\n",
              "    .dataframe tbody tr th {\n",
              "        vertical-align: top;\n",
              "    }\n",
              "\n",
              "    .dataframe thead th {\n",
              "        text-align: right;\n",
              "    }\n",
              "</style>\n",
              "<table border=\"1\" class=\"dataframe\">\n",
              "  <thead>\n",
              "    <tr style=\"text-align: right;\">\n",
              "      <th></th>\n",
              "      <th>population</th>\n",
              "      <th>EU</th>\n",
              "      <th>coastline</th>\n",
              "      <th>Unnamed: 4</th>\n",
              "      <th>Unnamed: 5</th>\n",
              "      <th>Unnamed: 6</th>\n",
              "      <th>Unnamed: 7</th>\n",
              "      <th>Unnamed: 8</th>\n",
              "      <th>Unnamed: 9</th>\n",
              "      <th>Unnamed: 10</th>\n",
              "      <th>...</th>\n",
              "      <th>Unnamed: 15</th>\n",
              "      <th>Unnamed: 16</th>\n",
              "      <th>Unnamed: 17</th>\n",
              "      <th>Unnamed: 18</th>\n",
              "      <th>Unnamed: 19</th>\n",
              "      <th>Unnamed: 20</th>\n",
              "      <th>Unnamed: 21</th>\n",
              "      <th>Unnamed: 22</th>\n",
              "      <th>Unnamed: 23</th>\n",
              "      <th>Unnamed: 24</th>\n",
              "    </tr>\n",
              "    <tr>\n",
              "      <th>country</th>\n",
              "      <th></th>\n",
              "      <th></th>\n",
              "      <th></th>\n",
              "      <th></th>\n",
              "      <th></th>\n",
              "      <th></th>\n",
              "      <th></th>\n",
              "      <th></th>\n",
              "      <th></th>\n",
              "      <th></th>\n",
              "      <th></th>\n",
              "      <th></th>\n",
              "      <th></th>\n",
              "      <th></th>\n",
              "      <th></th>\n",
              "      <th></th>\n",
              "      <th></th>\n",
              "      <th></th>\n",
              "      <th></th>\n",
              "      <th></th>\n",
              "      <th></th>\n",
              "    </tr>\n",
              "  </thead>\n",
              "  <tbody>\n",
              "    <tr>\n",
              "      <th>Albania</th>\n",
              "      <td>2.90</td>\n",
              "      <td>no</td>\n",
              "      <td>yes</td>\n",
              "      <td>NaN</td>\n",
              "      <td>NaN</td>\n",
              "      <td>NaN</td>\n",
              "      <td>NaN</td>\n",
              "      <td>NaN</td>\n",
              "      <td>NaN</td>\n",
              "      <td>NaN</td>\n",
              "      <td>...</td>\n",
              "      <td>NaN</td>\n",
              "      <td>NaN</td>\n",
              "      <td>NaN</td>\n",
              "      <td>NaN</td>\n",
              "      <td>NaN</td>\n",
              "      <td>NaN</td>\n",
              "      <td>NaN</td>\n",
              "      <td>NaN</td>\n",
              "      <td>NaN</td>\n",
              "      <td>NaN</td>\n",
              "    </tr>\n",
              "    <tr>\n",
              "      <th>Andorra</th>\n",
              "      <td>0.07</td>\n",
              "      <td>no</td>\n",
              "      <td>no</td>\n",
              "      <td>NaN</td>\n",
              "      <td>NaN</td>\n",
              "      <td>NaN</td>\n",
              "      <td>NaN</td>\n",
              "      <td>NaN</td>\n",
              "      <td>NaN</td>\n",
              "      <td>NaN</td>\n",
              "      <td>...</td>\n",
              "      <td>NaN</td>\n",
              "      <td>NaN</td>\n",
              "      <td>NaN</td>\n",
              "      <td>NaN</td>\n",
              "      <td>NaN</td>\n",
              "      <td>NaN</td>\n",
              "      <td>NaN</td>\n",
              "      <td>NaN</td>\n",
              "      <td>NaN</td>\n",
              "      <td>NaN</td>\n",
              "    </tr>\n",
              "  </tbody>\n",
              "</table>\n",
              "<p>2 rows × 24 columns</p>\n",
              "</div>\n",
              "    <div class=\"colab-df-buttons\">\n",
              "\n",
              "  <div class=\"colab-df-container\">\n",
              "    <button class=\"colab-df-convert\" onclick=\"convertToInteractive('df-b509c1e2-8404-4d4d-8d0d-503b5b4ccafd')\"\n",
              "            title=\"Convert this dataframe to an interactive table.\"\n",
              "            style=\"display:none;\">\n",
              "\n",
              "  <svg xmlns=\"http://www.w3.org/2000/svg\" height=\"24px\" viewBox=\"0 -960 960 960\">\n",
              "    <path d=\"M120-120v-720h720v720H120Zm60-500h600v-160H180v160Zm220 220h160v-160H400v160Zm0 220h160v-160H400v160ZM180-400h160v-160H180v160Zm440 0h160v-160H620v160ZM180-180h160v-160H180v160Zm440 0h160v-160H620v160Z\"/>\n",
              "  </svg>\n",
              "    </button>\n",
              "\n",
              "  <style>\n",
              "    .colab-df-container {\n",
              "      display:flex;\n",
              "      gap: 12px;\n",
              "    }\n",
              "\n",
              "    .colab-df-convert {\n",
              "      background-color: #E8F0FE;\n",
              "      border: none;\n",
              "      border-radius: 50%;\n",
              "      cursor: pointer;\n",
              "      display: none;\n",
              "      fill: #1967D2;\n",
              "      height: 32px;\n",
              "      padding: 0 0 0 0;\n",
              "      width: 32px;\n",
              "    }\n",
              "\n",
              "    .colab-df-convert:hover {\n",
              "      background-color: #E2EBFA;\n",
              "      box-shadow: 0px 1px 2px rgba(60, 64, 67, 0.3), 0px 1px 3px 1px rgba(60, 64, 67, 0.15);\n",
              "      fill: #174EA6;\n",
              "    }\n",
              "\n",
              "    .colab-df-buttons div {\n",
              "      margin-bottom: 4px;\n",
              "    }\n",
              "\n",
              "    [theme=dark] .colab-df-convert {\n",
              "      background-color: #3B4455;\n",
              "      fill: #D2E3FC;\n",
              "    }\n",
              "\n",
              "    [theme=dark] .colab-df-convert:hover {\n",
              "      background-color: #434B5C;\n",
              "      box-shadow: 0px 1px 3px 1px rgba(0, 0, 0, 0.15);\n",
              "      filter: drop-shadow(0px 1px 2px rgba(0, 0, 0, 0.3));\n",
              "      fill: #FFFFFF;\n",
              "    }\n",
              "  </style>\n",
              "\n",
              "    <script>\n",
              "      const buttonEl =\n",
              "        document.querySelector('#df-b509c1e2-8404-4d4d-8d0d-503b5b4ccafd button.colab-df-convert');\n",
              "      buttonEl.style.display =\n",
              "        google.colab.kernel.accessAllowed ? 'block' : 'none';\n",
              "\n",
              "      async function convertToInteractive(key) {\n",
              "        const element = document.querySelector('#df-b509c1e2-8404-4d4d-8d0d-503b5b4ccafd');\n",
              "        const dataTable =\n",
              "          await google.colab.kernel.invokeFunction('convertToInteractive',\n",
              "                                                    [key], {});\n",
              "        if (!dataTable) return;\n",
              "\n",
              "        const docLinkHtml = 'Like what you see? Visit the ' +\n",
              "          '<a target=\"_blank\" href=https://colab.research.google.com/notebooks/data_table.ipynb>data table notebook</a>'\n",
              "          + ' to learn more about interactive tables.';\n",
              "        element.innerHTML = '';\n",
              "        dataTable['output_type'] = 'display_data';\n",
              "        await google.colab.output.renderOutput(dataTable, element);\n",
              "        const docLink = document.createElement('div');\n",
              "        docLink.innerHTML = docLinkHtml;\n",
              "        element.appendChild(docLink);\n",
              "      }\n",
              "    </script>\n",
              "  </div>\n",
              "\n",
              "\n",
              "    <div id=\"df-dfa31fad-06b5-4e4f-9d94-e029002a9c74\">\n",
              "      <button class=\"colab-df-quickchart\" onclick=\"quickchart('df-dfa31fad-06b5-4e4f-9d94-e029002a9c74')\"\n",
              "                title=\"Suggest charts\"\n",
              "                style=\"display:none;\">\n",
              "\n",
              "<svg xmlns=\"http://www.w3.org/2000/svg\" height=\"24px\"viewBox=\"0 0 24 24\"\n",
              "     width=\"24px\">\n",
              "    <g>\n",
              "        <path d=\"M19 3H5c-1.1 0-2 .9-2 2v14c0 1.1.9 2 2 2h14c1.1 0 2-.9 2-2V5c0-1.1-.9-2-2-2zM9 17H7v-7h2v7zm4 0h-2V7h2v10zm4 0h-2v-4h2v4z\"/>\n",
              "    </g>\n",
              "</svg>\n",
              "      </button>\n",
              "\n",
              "<style>\n",
              "  .colab-df-quickchart {\n",
              "      --bg-color: #E8F0FE;\n",
              "      --fill-color: #1967D2;\n",
              "      --hover-bg-color: #E2EBFA;\n",
              "      --hover-fill-color: #174EA6;\n",
              "      --disabled-fill-color: #AAA;\n",
              "      --disabled-bg-color: #DDD;\n",
              "  }\n",
              "\n",
              "  [theme=dark] .colab-df-quickchart {\n",
              "      --bg-color: #3B4455;\n",
              "      --fill-color: #D2E3FC;\n",
              "      --hover-bg-color: #434B5C;\n",
              "      --hover-fill-color: #FFFFFF;\n",
              "      --disabled-bg-color: #3B4455;\n",
              "      --disabled-fill-color: #666;\n",
              "  }\n",
              "\n",
              "  .colab-df-quickchart {\n",
              "    background-color: var(--bg-color);\n",
              "    border: none;\n",
              "    border-radius: 50%;\n",
              "    cursor: pointer;\n",
              "    display: none;\n",
              "    fill: var(--fill-color);\n",
              "    height: 32px;\n",
              "    padding: 0;\n",
              "    width: 32px;\n",
              "  }\n",
              "\n",
              "  .colab-df-quickchart:hover {\n",
              "    background-color: var(--hover-bg-color);\n",
              "    box-shadow: 0 1px 2px rgba(60, 64, 67, 0.3), 0 1px 3px 1px rgba(60, 64, 67, 0.15);\n",
              "    fill: var(--button-hover-fill-color);\n",
              "  }\n",
              "\n",
              "  .colab-df-quickchart-complete:disabled,\n",
              "  .colab-df-quickchart-complete:disabled:hover {\n",
              "    background-color: var(--disabled-bg-color);\n",
              "    fill: var(--disabled-fill-color);\n",
              "    box-shadow: none;\n",
              "  }\n",
              "\n",
              "  .colab-df-spinner {\n",
              "    border: 2px solid var(--fill-color);\n",
              "    border-color: transparent;\n",
              "    border-bottom-color: var(--fill-color);\n",
              "    animation:\n",
              "      spin 1s steps(1) infinite;\n",
              "  }\n",
              "\n",
              "  @keyframes spin {\n",
              "    0% {\n",
              "      border-color: transparent;\n",
              "      border-bottom-color: var(--fill-color);\n",
              "      border-left-color: var(--fill-color);\n",
              "    }\n",
              "    20% {\n",
              "      border-color: transparent;\n",
              "      border-left-color: var(--fill-color);\n",
              "      border-top-color: var(--fill-color);\n",
              "    }\n",
              "    30% {\n",
              "      border-color: transparent;\n",
              "      border-left-color: var(--fill-color);\n",
              "      border-top-color: var(--fill-color);\n",
              "      border-right-color: var(--fill-color);\n",
              "    }\n",
              "    40% {\n",
              "      border-color: transparent;\n",
              "      border-right-color: var(--fill-color);\n",
              "      border-top-color: var(--fill-color);\n",
              "    }\n",
              "    60% {\n",
              "      border-color: transparent;\n",
              "      border-right-color: var(--fill-color);\n",
              "    }\n",
              "    80% {\n",
              "      border-color: transparent;\n",
              "      border-right-color: var(--fill-color);\n",
              "      border-bottom-color: var(--fill-color);\n",
              "    }\n",
              "    90% {\n",
              "      border-color: transparent;\n",
              "      border-bottom-color: var(--fill-color);\n",
              "    }\n",
              "  }\n",
              "</style>\n",
              "\n",
              "      <script>\n",
              "        async function quickchart(key) {\n",
              "          const quickchartButtonEl =\n",
              "            document.querySelector('#' + key + ' button');\n",
              "          quickchartButtonEl.disabled = true;  // To prevent multiple clicks.\n",
              "          quickchartButtonEl.classList.add('colab-df-spinner');\n",
              "          try {\n",
              "            const charts = await google.colab.kernel.invokeFunction(\n",
              "                'suggestCharts', [key], {});\n",
              "          } catch (error) {\n",
              "            console.error('Error during call to suggestCharts:', error);\n",
              "          }\n",
              "          quickchartButtonEl.classList.remove('colab-df-spinner');\n",
              "          quickchartButtonEl.classList.add('colab-df-quickchart-complete');\n",
              "        }\n",
              "        (() => {\n",
              "          let quickchartButtonEl =\n",
              "            document.querySelector('#df-dfa31fad-06b5-4e4f-9d94-e029002a9c74 button');\n",
              "          quickchartButtonEl.style.display =\n",
              "            google.colab.kernel.accessAllowed ? 'block' : 'none';\n",
              "        })();\n",
              "      </script>\n",
              "    </div>\n",
              "\n",
              "    </div>\n",
              "  </div>\n"
            ],
            "application/vnd.google.colaboratory.intrinsic+json": {
              "type": "dataframe",
              "variable_name": "Countries"
            }
          },
          "metadata": {},
          "execution_count": 23
        }
      ]
    },
    {
      "cell_type": "code",
      "execution_count": null,
      "metadata": {
        "scrolled": true,
        "id": "Boku5LMEMZig",
        "colab": {
          "base_uri": "https://localhost:8080/",
          "height": 200
        },
        "outputId": "aaa660f7-e124-4620-9c57-994cbc4dcb08"
      },
      "outputs": [
        {
          "output_type": "stream",
          "name": "stdout",
          "text": [
            " * sqlite://\n",
            "Done.\n"
          ]
        },
        {
          "output_type": "execute_result",
          "data": {
            "text/plain": [
              "[('Andorra', 1.52),\n",
              " ('Basel', 7.59),\n",
              " ('Bergen', 5.32),\n",
              " ('Geneva', 6.14),\n",
              " ('Stavanger', 5.68),\n",
              " ('Zurich', 8.56)]"
            ],
            "text/html": [
              "<table>\n",
              "    <tr>\n",
              "        <th>city</th>\n",
              "        <th>longitude</th>\n",
              "    </tr>\n",
              "    <tr>\n",
              "        <td>Andorra</td>\n",
              "        <td>1.52</td>\n",
              "    </tr>\n",
              "    <tr>\n",
              "        <td>Basel</td>\n",
              "        <td>7.59</td>\n",
              "    </tr>\n",
              "    <tr>\n",
              "        <td>Bergen</td>\n",
              "        <td>5.32</td>\n",
              "    </tr>\n",
              "    <tr>\n",
              "        <td>Geneva</td>\n",
              "        <td>6.14</td>\n",
              "    </tr>\n",
              "    <tr>\n",
              "        <td>Stavanger</td>\n",
              "        <td>5.68</td>\n",
              "    </tr>\n",
              "    <tr>\n",
              "        <td>Zurich</td>\n",
              "        <td>8.56</td>\n",
              "    </tr>\n",
              "</table>"
            ]
          },
          "metadata": {},
          "execution_count": 24
        }
      ],
      "source": [
        "%%sql\n",
        "select city, longitude\n",
        "from Cities, Countries\n",
        "where Cities.country = Countries.country\n",
        "and longitude < 10 and EU = 'no'"
      ]
    },
    {
      "cell_type": "markdown",
      "metadata": {
        "id": "97E-wWU2MZig"
      },
      "source": [
        "*Modify previous query to also return country (error then fix)*"
      ]
    },
    {
      "cell_type": "code",
      "source": [
        "%%sql\n",
        "select city, longitude, Countries.country\n",
        "from Cities, Countries\n",
        "where Cities.country = Countries.country\n",
        "and longitude < 10 and EU = 'no'"
      ],
      "metadata": {
        "id": "xGaz73pZzsi8",
        "colab": {
          "base_uri": "https://localhost:8080/",
          "height": 200
        },
        "outputId": "f2826579-9fd4-4a30-c5ce-e4a47829a094"
      },
      "execution_count": null,
      "outputs": [
        {
          "output_type": "stream",
          "name": "stdout",
          "text": [
            " * sqlite://\n",
            "Done.\n"
          ]
        },
        {
          "output_type": "execute_result",
          "data": {
            "text/plain": [
              "[('Andorra', 1.52, 'Andorra'),\n",
              " ('Basel', 7.59, 'Switzerland'),\n",
              " ('Bergen', 5.32, 'Norway'),\n",
              " ('Geneva', 6.14, 'Switzerland'),\n",
              " ('Stavanger', 5.68, 'Norway'),\n",
              " ('Zurich', 8.56, 'Switzerland')]"
            ],
            "text/html": [
              "<table>\n",
              "    <tr>\n",
              "        <th>city</th>\n",
              "        <th>longitude</th>\n",
              "        <th>country</th>\n",
              "    </tr>\n",
              "    <tr>\n",
              "        <td>Andorra</td>\n",
              "        <td>1.52</td>\n",
              "        <td>Andorra</td>\n",
              "    </tr>\n",
              "    <tr>\n",
              "        <td>Basel</td>\n",
              "        <td>7.59</td>\n",
              "        <td>Switzerland</td>\n",
              "    </tr>\n",
              "    <tr>\n",
              "        <td>Bergen</td>\n",
              "        <td>5.32</td>\n",
              "        <td>Norway</td>\n",
              "    </tr>\n",
              "    <tr>\n",
              "        <td>Geneva</td>\n",
              "        <td>6.14</td>\n",
              "        <td>Switzerland</td>\n",
              "    </tr>\n",
              "    <tr>\n",
              "        <td>Stavanger</td>\n",
              "        <td>5.68</td>\n",
              "        <td>Norway</td>\n",
              "    </tr>\n",
              "    <tr>\n",
              "        <td>Zurich</td>\n",
              "        <td>8.56</td>\n",
              "        <td>Switzerland</td>\n",
              "    </tr>\n",
              "</table>"
            ]
          },
          "metadata": {},
          "execution_count": 25
        }
      ]
    },
    {
      "cell_type": "markdown",
      "metadata": {
        "id": "rCBpdk0NMZig"
      },
      "source": [
        "*Find all cities with latitude < 50 in a country with population < 5; return city, country, and population, sorted by country*"
      ]
    },
    {
      "cell_type": "code",
      "execution_count": null,
      "metadata": {
        "id": "CoLl0prtMZih",
        "colab": {
          "base_uri": "https://localhost:8080/",
          "height": 284
        },
        "outputId": "033d51d4-b135-43a7-e634-4e2a4490d847"
      },
      "outputs": [
        {
          "output_type": "stream",
          "name": "stdout",
          "text": [
            " * sqlite://\n",
            "Done.\n"
          ]
        },
        {
          "output_type": "execute_result",
          "data": {
            "text/plain": [
              "[('Elbasan', 'Albania', 2.9),\n",
              " ('Andorra', 'Andorra', 0.07),\n",
              " ('Sarajevo', 'Bosnia and Herzegovina', 3.8),\n",
              " ('Rijeka', 'Croatia', 4.23),\n",
              " ('Split', 'Croatia', 4.23),\n",
              " ('Skopje', 'Macedonia', 2.08),\n",
              " ('Balti', 'Moldova', 4.06),\n",
              " ('Chisinau', 'Moldova', 4.06),\n",
              " ('Podgorica', 'Montenegro', 0.63),\n",
              " ('Ljubljana', 'Slovenia', 2.07)]"
            ],
            "text/html": [
              "<table>\n",
              "    <tr>\n",
              "        <th>city</th>\n",
              "        <th>country</th>\n",
              "        <th>population</th>\n",
              "    </tr>\n",
              "    <tr>\n",
              "        <td>Elbasan</td>\n",
              "        <td>Albania</td>\n",
              "        <td>2.9</td>\n",
              "    </tr>\n",
              "    <tr>\n",
              "        <td>Andorra</td>\n",
              "        <td>Andorra</td>\n",
              "        <td>0.07</td>\n",
              "    </tr>\n",
              "    <tr>\n",
              "        <td>Sarajevo</td>\n",
              "        <td>Bosnia and Herzegovina</td>\n",
              "        <td>3.8</td>\n",
              "    </tr>\n",
              "    <tr>\n",
              "        <td>Rijeka</td>\n",
              "        <td>Croatia</td>\n",
              "        <td>4.23</td>\n",
              "    </tr>\n",
              "    <tr>\n",
              "        <td>Split</td>\n",
              "        <td>Croatia</td>\n",
              "        <td>4.23</td>\n",
              "    </tr>\n",
              "    <tr>\n",
              "        <td>Skopje</td>\n",
              "        <td>Macedonia</td>\n",
              "        <td>2.08</td>\n",
              "    </tr>\n",
              "    <tr>\n",
              "        <td>Balti</td>\n",
              "        <td>Moldova</td>\n",
              "        <td>4.06</td>\n",
              "    </tr>\n",
              "    <tr>\n",
              "        <td>Chisinau</td>\n",
              "        <td>Moldova</td>\n",
              "        <td>4.06</td>\n",
              "    </tr>\n",
              "    <tr>\n",
              "        <td>Podgorica</td>\n",
              "        <td>Montenegro</td>\n",
              "        <td>0.63</td>\n",
              "    </tr>\n",
              "    <tr>\n",
              "        <td>Ljubljana</td>\n",
              "        <td>Slovenia</td>\n",
              "        <td>2.07</td>\n",
              "    </tr>\n",
              "</table>"
            ]
          },
          "metadata": {},
          "execution_count": 26
        }
      ],
      "source": [
        "%%sql\n",
        "select city, Cities.country, population\n",
        "from Cities, Countries\n",
        "where Cities.country = Countries.country\n",
        "and latitude < 50 and population < 5\n",
        "order by Cities.country"
      ]
    },
    {
      "cell_type": "markdown",
      "metadata": {
        "id": "Y8f1oEGAMZih"
      },
      "source": [
        "#### Inner Join -- just FYI"
      ]
    },
    {
      "cell_type": "markdown",
      "metadata": {
        "id": "vkkuShxYMZih"
      },
      "source": [
        "*Same query as above*"
      ]
    },
    {
      "cell_type": "code",
      "execution_count": null,
      "metadata": {
        "id": "pw2bkLwSMZih",
        "colab": {
          "base_uri": "https://localhost:8080/",
          "height": 284
        },
        "outputId": "e8302a09-80ce-4ed1-d0c7-5a70269a988f"
      },
      "outputs": [
        {
          "output_type": "stream",
          "name": "stdout",
          "text": [
            " * sqlite://\n",
            "Done.\n"
          ]
        },
        {
          "output_type": "execute_result",
          "data": {
            "text/plain": [
              "[('Elbasan', 'Albania', 2.9),\n",
              " ('Andorra', 'Andorra', 0.07),\n",
              " ('Sarajevo', 'Bosnia and Herzegovina', 3.8),\n",
              " ('Rijeka', 'Croatia', 4.23),\n",
              " ('Split', 'Croatia', 4.23),\n",
              " ('Skopje', 'Macedonia', 2.08),\n",
              " ('Balti', 'Moldova', 4.06),\n",
              " ('Chisinau', 'Moldova', 4.06),\n",
              " ('Podgorica', 'Montenegro', 0.63),\n",
              " ('Ljubljana', 'Slovenia', 2.07)]"
            ],
            "text/html": [
              "<table>\n",
              "    <tr>\n",
              "        <th>city</th>\n",
              "        <th>country</th>\n",
              "        <th>population</th>\n",
              "    </tr>\n",
              "    <tr>\n",
              "        <td>Elbasan</td>\n",
              "        <td>Albania</td>\n",
              "        <td>2.9</td>\n",
              "    </tr>\n",
              "    <tr>\n",
              "        <td>Andorra</td>\n",
              "        <td>Andorra</td>\n",
              "        <td>0.07</td>\n",
              "    </tr>\n",
              "    <tr>\n",
              "        <td>Sarajevo</td>\n",
              "        <td>Bosnia and Herzegovina</td>\n",
              "        <td>3.8</td>\n",
              "    </tr>\n",
              "    <tr>\n",
              "        <td>Rijeka</td>\n",
              "        <td>Croatia</td>\n",
              "        <td>4.23</td>\n",
              "    </tr>\n",
              "    <tr>\n",
              "        <td>Split</td>\n",
              "        <td>Croatia</td>\n",
              "        <td>4.23</td>\n",
              "    </tr>\n",
              "    <tr>\n",
              "        <td>Skopje</td>\n",
              "        <td>Macedonia</td>\n",
              "        <td>2.08</td>\n",
              "    </tr>\n",
              "    <tr>\n",
              "        <td>Balti</td>\n",
              "        <td>Moldova</td>\n",
              "        <td>4.06</td>\n",
              "    </tr>\n",
              "    <tr>\n",
              "        <td>Chisinau</td>\n",
              "        <td>Moldova</td>\n",
              "        <td>4.06</td>\n",
              "    </tr>\n",
              "    <tr>\n",
              "        <td>Podgorica</td>\n",
              "        <td>Montenegro</td>\n",
              "        <td>0.63</td>\n",
              "    </tr>\n",
              "    <tr>\n",
              "        <td>Ljubljana</td>\n",
              "        <td>Slovenia</td>\n",
              "        <td>2.07</td>\n",
              "    </tr>\n",
              "</table>"
            ]
          },
          "metadata": {},
          "execution_count": 27
        }
      ],
      "source": [
        "%%sql\n",
        "select city, Cities.country, population\n",
        "from Cities inner join Countries\n",
        "     on Cities.country = Countries.country\n",
        "where latitude < 50 and population < 5\n",
        "order by Cities.country"
      ]
    },
    {
      "cell_type": "markdown",
      "metadata": {
        "id": "4Qv_uInYMZih"
      },
      "source": [
        "### Select *"
      ]
    },
    {
      "cell_type": "markdown",
      "metadata": {
        "id": "iAE-s2KpMZih"
      },
      "source": [
        "*Modify previous queries to return all columns*"
      ]
    },
    {
      "cell_type": "markdown",
      "metadata": {
        "id": "tXnwN2aLMZii"
      },
      "source": [
        "### <font color = 'green'>**Your Turn**</font>"
      ]
    },
    {
      "cell_type": "markdown",
      "metadata": {
        "id": "-JcSozNYMZii"
      },
      "source": [
        "*Find all cities with latitude > 45 in a country with no coastline and with population > 9. Return the city, country, latitude, and whether it's in the EU.*"
      ]
    },
    {
      "cell_type": "code",
      "execution_count": null,
      "metadata": {
        "id": "Hl5UvvoKMZii",
        "colab": {
          "base_uri": "https://localhost:8080/",
          "height": 347
        },
        "outputId": "5e0f48e3-2dd5-433b-c249-1ae5370da9db"
      },
      "outputs": [
        {
          "output_type": "stream",
          "name": "stdout",
          "text": [
            " * sqlite://\n",
            "Done.\n"
          ]
        },
        {
          "output_type": "execute_result",
          "data": {
            "text/plain": [
              "[('Brest', 'Belarus', 52.1, 'no'),\n",
              " ('Brno', 'Czech Republic', 49.2, 'yes'),\n",
              " ('Budapest', 'Hungary', 47.5, 'yes'),\n",
              " ('Debrecen', 'Hungary', 47.53, 'yes'),\n",
              " ('Gyor', 'Hungary', 47.7, 'yes'),\n",
              " ('Hrodna', 'Belarus', 53.68, 'no'),\n",
              " ('Mazyr', 'Belarus', 52.05, 'no'),\n",
              " ('Minsk', 'Belarus', 53.9, 'no'),\n",
              " ('Orsha', 'Belarus', 54.52, 'no'),\n",
              " ('Ostrava', 'Czech Republic', 49.83, 'yes'),\n",
              " ('Pinsk', 'Belarus', 52.13, 'no'),\n",
              " ('Prague', 'Czech Republic', 50.08, 'yes'),\n",
              " ('Szeged', 'Hungary', 46.25, 'yes')]"
            ],
            "text/html": [
              "<table>\n",
              "    <tr>\n",
              "        <th>city</th>\n",
              "        <th>country</th>\n",
              "        <th>latitude</th>\n",
              "        <th>EU</th>\n",
              "    </tr>\n",
              "    <tr>\n",
              "        <td>Brest</td>\n",
              "        <td>Belarus</td>\n",
              "        <td>52.1</td>\n",
              "        <td>no</td>\n",
              "    </tr>\n",
              "    <tr>\n",
              "        <td>Brno</td>\n",
              "        <td>Czech Republic</td>\n",
              "        <td>49.2</td>\n",
              "        <td>yes</td>\n",
              "    </tr>\n",
              "    <tr>\n",
              "        <td>Budapest</td>\n",
              "        <td>Hungary</td>\n",
              "        <td>47.5</td>\n",
              "        <td>yes</td>\n",
              "    </tr>\n",
              "    <tr>\n",
              "        <td>Debrecen</td>\n",
              "        <td>Hungary</td>\n",
              "        <td>47.53</td>\n",
              "        <td>yes</td>\n",
              "    </tr>\n",
              "    <tr>\n",
              "        <td>Gyor</td>\n",
              "        <td>Hungary</td>\n",
              "        <td>47.7</td>\n",
              "        <td>yes</td>\n",
              "    </tr>\n",
              "    <tr>\n",
              "        <td>Hrodna</td>\n",
              "        <td>Belarus</td>\n",
              "        <td>53.68</td>\n",
              "        <td>no</td>\n",
              "    </tr>\n",
              "    <tr>\n",
              "        <td>Mazyr</td>\n",
              "        <td>Belarus</td>\n",
              "        <td>52.05</td>\n",
              "        <td>no</td>\n",
              "    </tr>\n",
              "    <tr>\n",
              "        <td>Minsk</td>\n",
              "        <td>Belarus</td>\n",
              "        <td>53.9</td>\n",
              "        <td>no</td>\n",
              "    </tr>\n",
              "    <tr>\n",
              "        <td>Orsha</td>\n",
              "        <td>Belarus</td>\n",
              "        <td>54.52</td>\n",
              "        <td>no</td>\n",
              "    </tr>\n",
              "    <tr>\n",
              "        <td>Ostrava</td>\n",
              "        <td>Czech Republic</td>\n",
              "        <td>49.83</td>\n",
              "        <td>yes</td>\n",
              "    </tr>\n",
              "    <tr>\n",
              "        <td>Pinsk</td>\n",
              "        <td>Belarus</td>\n",
              "        <td>52.13</td>\n",
              "        <td>no</td>\n",
              "    </tr>\n",
              "    <tr>\n",
              "        <td>Prague</td>\n",
              "        <td>Czech Republic</td>\n",
              "        <td>50.08</td>\n",
              "        <td>yes</td>\n",
              "    </tr>\n",
              "    <tr>\n",
              "        <td>Szeged</td>\n",
              "        <td>Hungary</td>\n",
              "        <td>46.25</td>\n",
              "        <td>yes</td>\n",
              "    </tr>\n",
              "</table>"
            ]
          },
          "metadata": {},
          "execution_count": 28
        }
      ],
      "source": [
        "%%sql\n",
        "select city, Cities.country, latitude, EU\n",
        "from Cities inner join Countries\n",
        "    on Cities.country = Countries.country\n",
        "where latitude > 45\n",
        "and coastline = 'no'\n",
        "and population > 9\n"
      ]
    },
    {
      "cell_type": "markdown",
      "metadata": {
        "id": "KfWL9u-oMZii"
      },
      "source": [
        "### Aggregation and Grouping"
      ]
    },
    {
      "cell_type": "markdown",
      "metadata": {
        "id": "TERsm72IMZii"
      },
      "source": [
        "*Find the average temperature for all cities*"
      ]
    },
    {
      "cell_type": "code",
      "execution_count": null,
      "metadata": {
        "id": "6j23YizyMZii",
        "colab": {
          "base_uri": "https://localhost:8080/",
          "height": 95
        },
        "outputId": "d545da10-1e0b-42aa-8782-b63fea14af47"
      },
      "outputs": [
        {
          "output_type": "stream",
          "name": "stdout",
          "text": [
            " * sqlite://\n",
            "Done.\n"
          ]
        },
        {
          "output_type": "execute_result",
          "data": {
            "text/plain": [
              "[(9.497840375586858,)]"
            ],
            "text/html": [
              "<table>\n",
              "    <tr>\n",
              "        <th>avg(temperature)</th>\n",
              "    </tr>\n",
              "    <tr>\n",
              "        <td>9.497840375586858</td>\n",
              "    </tr>\n",
              "</table>"
            ]
          },
          "metadata": {},
          "execution_count": 29
        }
      ],
      "source": [
        "%%sql\n",
        "select avg(temperature)\n",
        "from Cities"
      ]
    },
    {
      "cell_type": "markdown",
      "metadata": {
        "id": "s23V60LLMZij"
      },
      "source": [
        "*Modify previous query to find average temperature of cities with latitude > 55*"
      ]
    },
    {
      "cell_type": "code",
      "source": [
        "%%sql\n",
        "select avg(temperature)\n",
        "from Cities\n",
        "where latitude > 55"
      ],
      "metadata": {
        "id": "ldQxbtGC0rXC",
        "colab": {
          "base_uri": "https://localhost:8080/",
          "height": 95
        },
        "outputId": "cf8b6806-d423-41c3-8c8f-d39301d6fa38"
      },
      "execution_count": null,
      "outputs": [
        {
          "output_type": "stream",
          "name": "stdout",
          "text": [
            " * sqlite://\n",
            "Done.\n"
          ]
        },
        {
          "output_type": "execute_result",
          "data": {
            "text/plain": [
              "[(4.985185185185185,)]"
            ],
            "text/html": [
              "<table>\n",
              "    <tr>\n",
              "        <th>avg(temperature)</th>\n",
              "    </tr>\n",
              "    <tr>\n",
              "        <td>4.985185185185185</td>\n",
              "    </tr>\n",
              "</table>"
            ]
          },
          "metadata": {},
          "execution_count": 30
        }
      ]
    },
    {
      "cell_type": "markdown",
      "metadata": {
        "id": "jaGBga-YMZij"
      },
      "source": [
        "*Modify previous query to also find minimum and maxiumum temperature of cities with latitude > 55*"
      ]
    },
    {
      "cell_type": "code",
      "source": [
        "%%sql\n",
        "select min(temperature) as Min, max(temperature) as Max\n",
        "from Cities\n",
        "where latitude > 55"
      ],
      "metadata": {
        "id": "L39ZaJdL0sDo",
        "colab": {
          "base_uri": "https://localhost:8080/",
          "height": 95
        },
        "outputId": "2380688e-4d56-41b8-b3d6-61070fa96503"
      },
      "execution_count": null,
      "outputs": [
        {
          "output_type": "stream",
          "name": "stdout",
          "text": [
            " * sqlite://\n",
            "Done.\n"
          ]
        },
        {
          "output_type": "execute_result",
          "data": {
            "text/plain": [
              "[(-2.2, 8.6)]"
            ],
            "text/html": [
              "<table>\n",
              "    <tr>\n",
              "        <th>Min</th>\n",
              "        <th>Max</th>\n",
              "    </tr>\n",
              "    <tr>\n",
              "        <td>-2.2</td>\n",
              "        <td>8.6</td>\n",
              "    </tr>\n",
              "</table>"
            ]
          },
          "metadata": {},
          "execution_count": 31
        }
      ]
    },
    {
      "cell_type": "markdown",
      "metadata": {
        "id": "VYRS9j5tMZij"
      },
      "source": [
        "*Modify previous query to return number of cities with latitude > 55*"
      ]
    },
    {
      "cell_type": "markdown",
      "metadata": {
        "id": "BzSI8DqrMZij"
      },
      "source": [
        "*Rename result column as northerns*\n",
        "\n"
      ]
    },
    {
      "cell_type": "markdown",
      "metadata": {
        "id": "UdWyRME_MZij"
      },
      "source": [
        "*Find the minimum and maximum temperature of cities in the EU (then not in the EU)*"
      ]
    },
    {
      "cell_type": "code",
      "execution_count": null,
      "metadata": {
        "id": "hS2P18MNMZij",
        "colab": {
          "base_uri": "https://localhost:8080/",
          "height": 95
        },
        "outputId": "efd65379-ce25-4d62-87d8-94c0ab23305d"
      },
      "outputs": [
        {
          "output_type": "stream",
          "name": "stdout",
          "text": [
            " * sqlite://\n",
            "Done.\n"
          ]
        },
        {
          "output_type": "execute_result",
          "data": {
            "text/plain": [
              "[(-2.2, 17.9)]"
            ],
            "text/html": [
              "<table>\n",
              "    <tr>\n",
              "        <th>min(temperature)</th>\n",
              "        <th>max(temperature)</th>\n",
              "    </tr>\n",
              "    <tr>\n",
              "        <td>-2.2</td>\n",
              "        <td>17.9</td>\n",
              "    </tr>\n",
              "</table>"
            ]
          },
          "metadata": {},
          "execution_count": 32
        }
      ],
      "source": [
        "%%sql\n",
        "select min(temperature), max(temperature)\n",
        "from Cities, Countries\n",
        "where Cities.country = Countries.Country\n",
        "and EU = 'yes'"
      ]
    },
    {
      "cell_type": "markdown",
      "metadata": {
        "id": "av1H4PW_MZij"
      },
      "source": [
        "### <font color = 'green'>**Your Turn**</font>"
      ]
    },
    {
      "cell_type": "markdown",
      "metadata": {
        "id": "lXamkzxAMZik"
      },
      "source": [
        "*Find the number of cities with latitude > 45 in countries with no coastline and with population > 9; also return the minimum and maximum latitude among those cities*"
      ]
    },
    {
      "cell_type": "code",
      "execution_count": null,
      "metadata": {
        "id": "zJLCTA_LMZik",
        "colab": {
          "base_uri": "https://localhost:8080/",
          "height": 95
        },
        "outputId": "9965980c-450d-409c-b6fc-a433a46394d6"
      },
      "outputs": [
        {
          "output_type": "stream",
          "name": "stdout",
          "text": [
            " * sqlite://\n",
            "Done.\n"
          ]
        },
        {
          "output_type": "execute_result",
          "data": {
            "text/plain": [
              "[(46.25, 54.52)]"
            ],
            "text/html": [
              "<table>\n",
              "    <tr>\n",
              "        <th>min(latitude)</th>\n",
              "        <th>max(latitude)</th>\n",
              "    </tr>\n",
              "    <tr>\n",
              "        <td>46.25</td>\n",
              "        <td>54.52</td>\n",
              "    </tr>\n",
              "</table>"
            ]
          },
          "metadata": {},
          "execution_count": 33
        }
      ],
      "source": [
        "%%sql\n",
        "select min(latitude), max(latitude)\n",
        "from Cities, Countries\n",
        "where Cities.country = Countries.country\n",
        "and latitude > 45\n",
        "and coastline = 'no'\n",
        "and population > 9"
      ]
    },
    {
      "cell_type": "markdown",
      "metadata": {
        "id": "Vmr0remfMZik"
      },
      "source": [
        "*Find the average temperature for each country*"
      ]
    },
    {
      "cell_type": "code",
      "execution_count": null,
      "metadata": {
        "id": "ZFbppfabMZik",
        "colab": {
          "base_uri": "https://localhost:8080/",
          "height": 851
        },
        "outputId": "bc174261-dd4a-49c3-b15c-5e10d12c7fb9"
      },
      "outputs": [
        {
          "output_type": "stream",
          "name": "stdout",
          "text": [
            " * sqlite://\n",
            "Done.\n"
          ]
        },
        {
          "output_type": "execute_result",
          "data": {
            "text/plain": [
              "[('Albania', 15.18),\n",
              " ('Andorra', 9.6),\n",
              " ('Austria', 6.144),\n",
              " ('Belarus', 5.946666666666666),\n",
              " ('Belgium', 9.65),\n",
              " ('Bosnia and Herzegovina', 9.6),\n",
              " ('Bulgaria', 10.44),\n",
              " ('Croatia', 10.865),\n",
              " ('Czech Republic', 7.8566666666666665),\n",
              " ('Denmark', 7.625),\n",
              " ('Estonia', 4.59),\n",
              " ('Finland', 3.4875),\n",
              " ('France', 10.151111111111112),\n",
              " ('Germany', 7.869285714285714),\n",
              " ('Greece', 16.9025),\n",
              " ('Hungary', 9.6025),\n",
              " ('Ireland', 9.299999999999999),\n",
              " ('Italy', 13.474666666666668),\n",
              " ('Latvia', 5.27),\n",
              " ('Lithuania', 6.1433333333333335),\n",
              " ('Macedonia', 9.36),\n",
              " ('Moldova', 8.415),\n",
              " ('Montenegro', 9.99),\n",
              " ('Netherlands', 8.756666666666668),\n",
              " ('Norway', 3.7260000000000004),\n",
              " ('Poland', 7.250000000000002),\n",
              " ('Portugal', 14.469999999999999),\n",
              " ('Romania', 9.224444444444444),\n",
              " ('Serbia', 9.85),\n",
              " ('Slovakia', 8.48),\n",
              " ('Slovenia', 9.27),\n",
              " ('Spain', 14.238333333333332),\n",
              " ('Sweden', 3.5866666666666673),\n",
              " ('Switzerland', 7.253333333333333),\n",
              " ('Turkey', 11.726666666666665),\n",
              " ('Ukraine', 7.420000000000002),\n",
              " ('United Kingdom', 8.649999999999999)]"
            ],
            "text/html": [
              "<table>\n",
              "    <tr>\n",
              "        <th>country</th>\n",
              "        <th>avg(temperature)</th>\n",
              "    </tr>\n",
              "    <tr>\n",
              "        <td>Albania</td>\n",
              "        <td>15.18</td>\n",
              "    </tr>\n",
              "    <tr>\n",
              "        <td>Andorra</td>\n",
              "        <td>9.6</td>\n",
              "    </tr>\n",
              "    <tr>\n",
              "        <td>Austria</td>\n",
              "        <td>6.144</td>\n",
              "    </tr>\n",
              "    <tr>\n",
              "        <td>Belarus</td>\n",
              "        <td>5.946666666666666</td>\n",
              "    </tr>\n",
              "    <tr>\n",
              "        <td>Belgium</td>\n",
              "        <td>9.65</td>\n",
              "    </tr>\n",
              "    <tr>\n",
              "        <td>Bosnia and Herzegovina</td>\n",
              "        <td>9.6</td>\n",
              "    </tr>\n",
              "    <tr>\n",
              "        <td>Bulgaria</td>\n",
              "        <td>10.44</td>\n",
              "    </tr>\n",
              "    <tr>\n",
              "        <td>Croatia</td>\n",
              "        <td>10.865</td>\n",
              "    </tr>\n",
              "    <tr>\n",
              "        <td>Czech Republic</td>\n",
              "        <td>7.8566666666666665</td>\n",
              "    </tr>\n",
              "    <tr>\n",
              "        <td>Denmark</td>\n",
              "        <td>7.625</td>\n",
              "    </tr>\n",
              "    <tr>\n",
              "        <td>Estonia</td>\n",
              "        <td>4.59</td>\n",
              "    </tr>\n",
              "    <tr>\n",
              "        <td>Finland</td>\n",
              "        <td>3.4875</td>\n",
              "    </tr>\n",
              "    <tr>\n",
              "        <td>France</td>\n",
              "        <td>10.151111111111112</td>\n",
              "    </tr>\n",
              "    <tr>\n",
              "        <td>Germany</td>\n",
              "        <td>7.869285714285714</td>\n",
              "    </tr>\n",
              "    <tr>\n",
              "        <td>Greece</td>\n",
              "        <td>16.9025</td>\n",
              "    </tr>\n",
              "    <tr>\n",
              "        <td>Hungary</td>\n",
              "        <td>9.6025</td>\n",
              "    </tr>\n",
              "    <tr>\n",
              "        <td>Ireland</td>\n",
              "        <td>9.299999999999999</td>\n",
              "    </tr>\n",
              "    <tr>\n",
              "        <td>Italy</td>\n",
              "        <td>13.474666666666668</td>\n",
              "    </tr>\n",
              "    <tr>\n",
              "        <td>Latvia</td>\n",
              "        <td>5.27</td>\n",
              "    </tr>\n",
              "    <tr>\n",
              "        <td>Lithuania</td>\n",
              "        <td>6.1433333333333335</td>\n",
              "    </tr>\n",
              "    <tr>\n",
              "        <td>Macedonia</td>\n",
              "        <td>9.36</td>\n",
              "    </tr>\n",
              "    <tr>\n",
              "        <td>Moldova</td>\n",
              "        <td>8.415</td>\n",
              "    </tr>\n",
              "    <tr>\n",
              "        <td>Montenegro</td>\n",
              "        <td>9.99</td>\n",
              "    </tr>\n",
              "    <tr>\n",
              "        <td>Netherlands</td>\n",
              "        <td>8.756666666666668</td>\n",
              "    </tr>\n",
              "    <tr>\n",
              "        <td>Norway</td>\n",
              "        <td>3.7260000000000004</td>\n",
              "    </tr>\n",
              "    <tr>\n",
              "        <td>Poland</td>\n",
              "        <td>7.250000000000002</td>\n",
              "    </tr>\n",
              "    <tr>\n",
              "        <td>Portugal</td>\n",
              "        <td>14.469999999999999</td>\n",
              "    </tr>\n",
              "    <tr>\n",
              "        <td>Romania</td>\n",
              "        <td>9.224444444444444</td>\n",
              "    </tr>\n",
              "    <tr>\n",
              "        <td>Serbia</td>\n",
              "        <td>9.85</td>\n",
              "    </tr>\n",
              "    <tr>\n",
              "        <td>Slovakia</td>\n",
              "        <td>8.48</td>\n",
              "    </tr>\n",
              "    <tr>\n",
              "        <td>Slovenia</td>\n",
              "        <td>9.27</td>\n",
              "    </tr>\n",
              "    <tr>\n",
              "        <td>Spain</td>\n",
              "        <td>14.238333333333332</td>\n",
              "    </tr>\n",
              "    <tr>\n",
              "        <td>Sweden</td>\n",
              "        <td>3.5866666666666673</td>\n",
              "    </tr>\n",
              "    <tr>\n",
              "        <td>Switzerland</td>\n",
              "        <td>7.253333333333333</td>\n",
              "    </tr>\n",
              "    <tr>\n",
              "        <td>Turkey</td>\n",
              "        <td>11.726666666666665</td>\n",
              "    </tr>\n",
              "    <tr>\n",
              "        <td>Ukraine</td>\n",
              "        <td>7.420000000000002</td>\n",
              "    </tr>\n",
              "    <tr>\n",
              "        <td>United Kingdom</td>\n",
              "        <td>8.649999999999999</td>\n",
              "    </tr>\n",
              "</table>"
            ]
          },
          "metadata": {},
          "execution_count": 34
        }
      ],
      "source": [
        "%%sql\n",
        "select country, avg(temperature)\n",
        "from Cities\n",
        "group by country"
      ]
    },
    {
      "cell_type": "markdown",
      "metadata": {
        "id": "BPAHaTxmMZik"
      },
      "source": [
        "*Modify previous query to sort by descending average temperature*"
      ]
    },
    {
      "cell_type": "markdown",
      "metadata": {
        "id": "zQcSvCTAMZik"
      },
      "source": [
        "*Modify previous query to show countries only*"
      ]
    },
    {
      "cell_type": "markdown",
      "metadata": {
        "id": "XQ7GsGcEMZik"
      },
      "source": [
        "*Find the average temperature for cities in countries with and without coastline*"
      ]
    },
    {
      "cell_type": "code",
      "execution_count": null,
      "metadata": {
        "id": "6sD9ewlVMZik",
        "colab": {
          "base_uri": "https://localhost:8080/",
          "height": 116
        },
        "outputId": "c388650b-6a9c-429f-a540-ea552320937a"
      },
      "outputs": [
        {
          "output_type": "stream",
          "name": "stdout",
          "text": [
            " * sqlite://\n",
            "Done.\n"
          ]
        },
        {
          "output_type": "execute_result",
          "data": {
            "text/plain": [
              "[('no', 7.748000000000001), ('yes', 9.784699453551914)]"
            ],
            "text/html": [
              "<table>\n",
              "    <tr>\n",
              "        <th>coastline</th>\n",
              "        <th>avg(temperature)</th>\n",
              "    </tr>\n",
              "    <tr>\n",
              "        <td>no</td>\n",
              "        <td>7.748000000000001</td>\n",
              "    </tr>\n",
              "    <tr>\n",
              "        <td>yes</td>\n",
              "        <td>9.784699453551914</td>\n",
              "    </tr>\n",
              "</table>"
            ]
          },
          "metadata": {},
          "execution_count": 35
        }
      ],
      "source": [
        "%%sql\n",
        "select coastline, avg(temperature)\n",
        "from Cities, Countries\n",
        "where Cities.country = Countries.country\n",
        "group by coastline"
      ]
    },
    {
      "cell_type": "markdown",
      "metadata": {
        "id": "g9lD4swOMZil"
      },
      "source": [
        "*Modify previous query to find the average temperature for cities in the EU and not in the EU, then all combinations of coastline and EU*"
      ]
    },
    {
      "cell_type": "markdown",
      "metadata": {
        "id": "5vq-B792MZil"
      },
      "source": [
        "*Modify previous query to only include cities with latitude < 50, then latitude < 40*"
      ]
    },
    {
      "cell_type": "markdown",
      "metadata": {
        "id": "KNQ8lY-PMZil"
      },
      "source": [
        "### <font color = 'green'>**Your Turn**</font>"
      ]
    },
    {
      "cell_type": "markdown",
      "metadata": {
        "id": "V0LLep07MZil"
      },
      "source": [
        "*For each country in the EU, find the latitude of the northernmost city in the country, i.e., the maximum latitude. Return the country and its maximum latitude, in descending order of maximum latitude.*"
      ]
    },
    {
      "cell_type": "code",
      "execution_count": null,
      "metadata": {
        "id": "NrfFesrRMZil",
        "colab": {
          "base_uri": "https://localhost:8080/",
          "height": 599
        },
        "outputId": "b853156a-ea57-48f1-cc4c-cf3098900e02"
      },
      "outputs": [
        {
          "output_type": "stream",
          "name": "stdout",
          "text": [
            " * sqlite://\n",
            "Done.\n"
          ]
        },
        {
          "output_type": "execute_result",
          "data": {
            "text/plain": [
              "[('Sweden', 67.85),\n",
              " ('Finland', 65.0),\n",
              " ('Estonia', 59.43),\n",
              " ('United Kingdom', 57.47),\n",
              " ('Denmark', 57.03),\n",
              " ('Latvia', 56.95),\n",
              " ('Lithuania', 55.72),\n",
              " ('Poland', 54.2),\n",
              " ('Germany', 54.07),\n",
              " ('Ireland', 53.33),\n",
              " ('Netherlands', 53.22),\n",
              " ('Belgium', 51.22),\n",
              " ('France', 50.65),\n",
              " ('Czech Republic', 50.08),\n",
              " ('Slovakia', 48.73),\n",
              " ('Austria', 48.32),\n",
              " ('Romania', 47.75),\n",
              " ('Hungary', 47.7),\n",
              " ('Slovenia', 46.06),\n",
              " ('Italy', 45.7),\n",
              " ('Croatia', 45.33),\n",
              " ('Bulgaria', 43.85),\n",
              " ('Spain', 43.38),\n",
              " ('Portugal', 41.55),\n",
              " ('Greece', 39.56)]"
            ],
            "text/html": [
              "<table>\n",
              "    <tr>\n",
              "        <th>country</th>\n",
              "        <th>max_latitude</th>\n",
              "    </tr>\n",
              "    <tr>\n",
              "        <td>Sweden</td>\n",
              "        <td>67.85</td>\n",
              "    </tr>\n",
              "    <tr>\n",
              "        <td>Finland</td>\n",
              "        <td>65.0</td>\n",
              "    </tr>\n",
              "    <tr>\n",
              "        <td>Estonia</td>\n",
              "        <td>59.43</td>\n",
              "    </tr>\n",
              "    <tr>\n",
              "        <td>United Kingdom</td>\n",
              "        <td>57.47</td>\n",
              "    </tr>\n",
              "    <tr>\n",
              "        <td>Denmark</td>\n",
              "        <td>57.03</td>\n",
              "    </tr>\n",
              "    <tr>\n",
              "        <td>Latvia</td>\n",
              "        <td>56.95</td>\n",
              "    </tr>\n",
              "    <tr>\n",
              "        <td>Lithuania</td>\n",
              "        <td>55.72</td>\n",
              "    </tr>\n",
              "    <tr>\n",
              "        <td>Poland</td>\n",
              "        <td>54.2</td>\n",
              "    </tr>\n",
              "    <tr>\n",
              "        <td>Germany</td>\n",
              "        <td>54.07</td>\n",
              "    </tr>\n",
              "    <tr>\n",
              "        <td>Ireland</td>\n",
              "        <td>53.33</td>\n",
              "    </tr>\n",
              "    <tr>\n",
              "        <td>Netherlands</td>\n",
              "        <td>53.22</td>\n",
              "    </tr>\n",
              "    <tr>\n",
              "        <td>Belgium</td>\n",
              "        <td>51.22</td>\n",
              "    </tr>\n",
              "    <tr>\n",
              "        <td>France</td>\n",
              "        <td>50.65</td>\n",
              "    </tr>\n",
              "    <tr>\n",
              "        <td>Czech Republic</td>\n",
              "        <td>50.08</td>\n",
              "    </tr>\n",
              "    <tr>\n",
              "        <td>Slovakia</td>\n",
              "        <td>48.73</td>\n",
              "    </tr>\n",
              "    <tr>\n",
              "        <td>Austria</td>\n",
              "        <td>48.32</td>\n",
              "    </tr>\n",
              "    <tr>\n",
              "        <td>Romania</td>\n",
              "        <td>47.75</td>\n",
              "    </tr>\n",
              "    <tr>\n",
              "        <td>Hungary</td>\n",
              "        <td>47.7</td>\n",
              "    </tr>\n",
              "    <tr>\n",
              "        <td>Slovenia</td>\n",
              "        <td>46.06</td>\n",
              "    </tr>\n",
              "    <tr>\n",
              "        <td>Italy</td>\n",
              "        <td>45.7</td>\n",
              "    </tr>\n",
              "    <tr>\n",
              "        <td>Croatia</td>\n",
              "        <td>45.33</td>\n",
              "    </tr>\n",
              "    <tr>\n",
              "        <td>Bulgaria</td>\n",
              "        <td>43.85</td>\n",
              "    </tr>\n",
              "    <tr>\n",
              "        <td>Spain</td>\n",
              "        <td>43.38</td>\n",
              "    </tr>\n",
              "    <tr>\n",
              "        <td>Portugal</td>\n",
              "        <td>41.55</td>\n",
              "    </tr>\n",
              "    <tr>\n",
              "        <td>Greece</td>\n",
              "        <td>39.56</td>\n",
              "    </tr>\n",
              "</table>"
            ]
          },
          "metadata": {},
          "execution_count": 36
        }
      ],
      "source": [
        "%%sql\n",
        "select Cities.country, max(latitude) as max_latitude\n",
        "from Cities\n",
        "inner join Countries\n",
        "    on Cities.country = Countries.country\n",
        "where EU = 'yes'\n",
        "group by Cities.country\n",
        "order by max_latitude desc"
      ]
    },
    {
      "cell_type": "markdown",
      "source": [
        "#### A Bug in SQLite - just FYI"
      ],
      "metadata": {
        "id": "dTd21Zp-cQZF"
      }
    },
    {
      "cell_type": "code",
      "source": [
        "%%sql\n",
        "select country, avg(temperature)\n",
        "from Cities\n",
        "group by country"
      ],
      "metadata": {
        "id": "GNte5qsScd3J",
        "colab": {
          "base_uri": "https://localhost:8080/",
          "height": 851
        },
        "outputId": "8d8b8c58-ad4d-4e0f-a926-9cd6f3eb4c9e"
      },
      "execution_count": null,
      "outputs": [
        {
          "output_type": "stream",
          "name": "stdout",
          "text": [
            " * sqlite://\n",
            "Done.\n"
          ]
        },
        {
          "output_type": "execute_result",
          "data": {
            "text/plain": [
              "[('Albania', 15.18),\n",
              " ('Andorra', 9.6),\n",
              " ('Austria', 6.144),\n",
              " ('Belarus', 5.946666666666666),\n",
              " ('Belgium', 9.65),\n",
              " ('Bosnia and Herzegovina', 9.6),\n",
              " ('Bulgaria', 10.44),\n",
              " ('Croatia', 10.865),\n",
              " ('Czech Republic', 7.8566666666666665),\n",
              " ('Denmark', 7.625),\n",
              " ('Estonia', 4.59),\n",
              " ('Finland', 3.4875),\n",
              " ('France', 10.151111111111112),\n",
              " ('Germany', 7.869285714285714),\n",
              " ('Greece', 16.9025),\n",
              " ('Hungary', 9.6025),\n",
              " ('Ireland', 9.299999999999999),\n",
              " ('Italy', 13.474666666666668),\n",
              " ('Latvia', 5.27),\n",
              " ('Lithuania', 6.1433333333333335),\n",
              " ('Macedonia', 9.36),\n",
              " ('Moldova', 8.415),\n",
              " ('Montenegro', 9.99),\n",
              " ('Netherlands', 8.756666666666668),\n",
              " ('Norway', 3.7260000000000004),\n",
              " ('Poland', 7.250000000000002),\n",
              " ('Portugal', 14.469999999999999),\n",
              " ('Romania', 9.224444444444444),\n",
              " ('Serbia', 9.85),\n",
              " ('Slovakia', 8.48),\n",
              " ('Slovenia', 9.27),\n",
              " ('Spain', 14.238333333333332),\n",
              " ('Sweden', 3.5866666666666673),\n",
              " ('Switzerland', 7.253333333333333),\n",
              " ('Turkey', 11.726666666666665),\n",
              " ('Ukraine', 7.420000000000002),\n",
              " ('United Kingdom', 8.649999999999999)]"
            ],
            "text/html": [
              "<table>\n",
              "    <tr>\n",
              "        <th>country</th>\n",
              "        <th>avg(temperature)</th>\n",
              "    </tr>\n",
              "    <tr>\n",
              "        <td>Albania</td>\n",
              "        <td>15.18</td>\n",
              "    </tr>\n",
              "    <tr>\n",
              "        <td>Andorra</td>\n",
              "        <td>9.6</td>\n",
              "    </tr>\n",
              "    <tr>\n",
              "        <td>Austria</td>\n",
              "        <td>6.144</td>\n",
              "    </tr>\n",
              "    <tr>\n",
              "        <td>Belarus</td>\n",
              "        <td>5.946666666666666</td>\n",
              "    </tr>\n",
              "    <tr>\n",
              "        <td>Belgium</td>\n",
              "        <td>9.65</td>\n",
              "    </tr>\n",
              "    <tr>\n",
              "        <td>Bosnia and Herzegovina</td>\n",
              "        <td>9.6</td>\n",
              "    </tr>\n",
              "    <tr>\n",
              "        <td>Bulgaria</td>\n",
              "        <td>10.44</td>\n",
              "    </tr>\n",
              "    <tr>\n",
              "        <td>Croatia</td>\n",
              "        <td>10.865</td>\n",
              "    </tr>\n",
              "    <tr>\n",
              "        <td>Czech Republic</td>\n",
              "        <td>7.8566666666666665</td>\n",
              "    </tr>\n",
              "    <tr>\n",
              "        <td>Denmark</td>\n",
              "        <td>7.625</td>\n",
              "    </tr>\n",
              "    <tr>\n",
              "        <td>Estonia</td>\n",
              "        <td>4.59</td>\n",
              "    </tr>\n",
              "    <tr>\n",
              "        <td>Finland</td>\n",
              "        <td>3.4875</td>\n",
              "    </tr>\n",
              "    <tr>\n",
              "        <td>France</td>\n",
              "        <td>10.151111111111112</td>\n",
              "    </tr>\n",
              "    <tr>\n",
              "        <td>Germany</td>\n",
              "        <td>7.869285714285714</td>\n",
              "    </tr>\n",
              "    <tr>\n",
              "        <td>Greece</td>\n",
              "        <td>16.9025</td>\n",
              "    </tr>\n",
              "    <tr>\n",
              "        <td>Hungary</td>\n",
              "        <td>9.6025</td>\n",
              "    </tr>\n",
              "    <tr>\n",
              "        <td>Ireland</td>\n",
              "        <td>9.299999999999999</td>\n",
              "    </tr>\n",
              "    <tr>\n",
              "        <td>Italy</td>\n",
              "        <td>13.474666666666668</td>\n",
              "    </tr>\n",
              "    <tr>\n",
              "        <td>Latvia</td>\n",
              "        <td>5.27</td>\n",
              "    </tr>\n",
              "    <tr>\n",
              "        <td>Lithuania</td>\n",
              "        <td>6.1433333333333335</td>\n",
              "    </tr>\n",
              "    <tr>\n",
              "        <td>Macedonia</td>\n",
              "        <td>9.36</td>\n",
              "    </tr>\n",
              "    <tr>\n",
              "        <td>Moldova</td>\n",
              "        <td>8.415</td>\n",
              "    </tr>\n",
              "    <tr>\n",
              "        <td>Montenegro</td>\n",
              "        <td>9.99</td>\n",
              "    </tr>\n",
              "    <tr>\n",
              "        <td>Netherlands</td>\n",
              "        <td>8.756666666666668</td>\n",
              "    </tr>\n",
              "    <tr>\n",
              "        <td>Norway</td>\n",
              "        <td>3.7260000000000004</td>\n",
              "    </tr>\n",
              "    <tr>\n",
              "        <td>Poland</td>\n",
              "        <td>7.250000000000002</td>\n",
              "    </tr>\n",
              "    <tr>\n",
              "        <td>Portugal</td>\n",
              "        <td>14.469999999999999</td>\n",
              "    </tr>\n",
              "    <tr>\n",
              "        <td>Romania</td>\n",
              "        <td>9.224444444444444</td>\n",
              "    </tr>\n",
              "    <tr>\n",
              "        <td>Serbia</td>\n",
              "        <td>9.85</td>\n",
              "    </tr>\n",
              "    <tr>\n",
              "        <td>Slovakia</td>\n",
              "        <td>8.48</td>\n",
              "    </tr>\n",
              "    <tr>\n",
              "        <td>Slovenia</td>\n",
              "        <td>9.27</td>\n",
              "    </tr>\n",
              "    <tr>\n",
              "        <td>Spain</td>\n",
              "        <td>14.238333333333332</td>\n",
              "    </tr>\n",
              "    <tr>\n",
              "        <td>Sweden</td>\n",
              "        <td>3.5866666666666673</td>\n",
              "    </tr>\n",
              "    <tr>\n",
              "        <td>Switzerland</td>\n",
              "        <td>7.253333333333333</td>\n",
              "    </tr>\n",
              "    <tr>\n",
              "        <td>Turkey</td>\n",
              "        <td>11.726666666666665</td>\n",
              "    </tr>\n",
              "    <tr>\n",
              "        <td>Ukraine</td>\n",
              "        <td>7.420000000000002</td>\n",
              "    </tr>\n",
              "    <tr>\n",
              "        <td>United Kingdom</td>\n",
              "        <td>8.649999999999999</td>\n",
              "    </tr>\n",
              "</table>"
            ]
          },
          "metadata": {},
          "execution_count": 43
        }
      ]
    },
    {
      "cell_type": "markdown",
      "source": [
        "*Modify previous query - add city to Select clause*"
      ],
      "metadata": {
        "id": "g007vRwWdOKF"
      }
    },
    {
      "cell_type": "markdown",
      "source": [
        "*Now focus on Austria and Sweden*"
      ],
      "metadata": {
        "id": "YuZ-mJZ4dkU_"
      }
    },
    {
      "cell_type": "code",
      "source": [
        "%%sql\n",
        "select *\n",
        "from Cities\n",
        "where country = 'Austria' or country = 'Sweden'\n",
        "order by country"
      ],
      "metadata": {
        "id": "ToOwU34SdtME",
        "colab": {
          "base_uri": "https://localhost:8080/",
          "height": 343
        },
        "outputId": "1d8818c4-3920-4590-ed8e-d09e342d505f"
      },
      "execution_count": null,
      "outputs": [
        {
          "output_type": "stream",
          "name": "stdout",
          "text": [
            " * sqlite://\n",
            "Done.\n"
          ]
        },
        {
          "output_type": "execute_result",
          "data": {
            "text/plain": [
              "[('Graz', 'Austria', 47.08, 15.41, 6.91, None, None, None, None, None, None, None, None, None, None, None, None, None, None, None, None, None, None),\n",
              " ('Innsbruck', 'Austria', 47.28, 11.41, 4.54, None, None, None, None, None, None, None, None, None, None, None, None, None, None, None, None, None, None),\n",
              " ('Linz', 'Austria', 48.32, 14.29, 6.79, None, None, None, None, None, None, None, None, None, None, None, None, None, None, None, None, None, None),\n",
              " ('Salzburg', 'Austria', 47.81, 13.04, 4.62, None, None, None, None, None, None, None, None, None, None, None, None, None, None, None, None, None, None),\n",
              " ('Vienna', 'Austria', 48.2, 16.37, 7.86, None, None, None, None, None, None, None, None, None, None, None, None, None, None, None, None, None, None),\n",
              " ('Abisko', 'Sweden', 63.35, 18.83, 0.2, None, None, None, None, None, None, None, None, None, None, None, None, None, None, None, None, None, None),\n",
              " ('Göteborg', 'Sweden', 57.75, 12.0, 5.76, None, None, None, None, None, None, None, None, None, None, None, None, None, None, None, None, None, None),\n",
              " ('Kiruna', 'Sweden', 67.85, 20.22, -2.2, None, None, None, None, None, None, None, None, None, None, None, None, None, None, None, None, None, None),\n",
              " ('Malmö', 'Sweden', 55.58, 13.03, 7.33, None, None, None, None, None, None, None, None, None, None, None, None, None, None, None, None, None, None),\n",
              " ('Stockholm', 'Sweden', 59.35, 18.1, 6.26, None, None, None, None, None, None, None, None, None, None, None, None, None, None, None, None, None, None),\n",
              " ('Uppsala', 'Sweden', 59.86, 17.64, 4.17, None, None, None, None, None, None, None, None, None, None, None, None, None, None, None, None, None, None)]"
            ],
            "text/html": [
              "<table>\n",
              "    <tr>\n",
              "        <th>city</th>\n",
              "        <th>country</th>\n",
              "        <th>latitude</th>\n",
              "        <th>longitude</th>\n",
              "        <th>temperature</th>\n",
              "        <th>Unnamed: 5</th>\n",
              "        <th>Unnamed: 6</th>\n",
              "        <th>Unnamed: 7</th>\n",
              "        <th>Unnamed: 8</th>\n",
              "        <th>Unnamed: 9</th>\n",
              "        <th>Unnamed: 10</th>\n",
              "        <th>Unnamed: 11</th>\n",
              "        <th>Unnamed: 12</th>\n",
              "        <th>Unnamed: 13</th>\n",
              "        <th>Unnamed: 14</th>\n",
              "        <th>Unnamed: 15</th>\n",
              "        <th>Unnamed: 16</th>\n",
              "        <th>Unnamed: 17</th>\n",
              "        <th>Unnamed: 18</th>\n",
              "        <th>Unnamed: 19</th>\n",
              "        <th>Unnamed: 20</th>\n",
              "        <th>Unnamed: 21</th>\n",
              "        <th>Unnamed: 22</th>\n",
              "    </tr>\n",
              "    <tr>\n",
              "        <td>Graz</td>\n",
              "        <td>Austria</td>\n",
              "        <td>47.08</td>\n",
              "        <td>15.41</td>\n",
              "        <td>6.91</td>\n",
              "        <td>None</td>\n",
              "        <td>None</td>\n",
              "        <td>None</td>\n",
              "        <td>None</td>\n",
              "        <td>None</td>\n",
              "        <td>None</td>\n",
              "        <td>None</td>\n",
              "        <td>None</td>\n",
              "        <td>None</td>\n",
              "        <td>None</td>\n",
              "        <td>None</td>\n",
              "        <td>None</td>\n",
              "        <td>None</td>\n",
              "        <td>None</td>\n",
              "        <td>None</td>\n",
              "        <td>None</td>\n",
              "        <td>None</td>\n",
              "        <td>None</td>\n",
              "    </tr>\n",
              "    <tr>\n",
              "        <td>Innsbruck</td>\n",
              "        <td>Austria</td>\n",
              "        <td>47.28</td>\n",
              "        <td>11.41</td>\n",
              "        <td>4.54</td>\n",
              "        <td>None</td>\n",
              "        <td>None</td>\n",
              "        <td>None</td>\n",
              "        <td>None</td>\n",
              "        <td>None</td>\n",
              "        <td>None</td>\n",
              "        <td>None</td>\n",
              "        <td>None</td>\n",
              "        <td>None</td>\n",
              "        <td>None</td>\n",
              "        <td>None</td>\n",
              "        <td>None</td>\n",
              "        <td>None</td>\n",
              "        <td>None</td>\n",
              "        <td>None</td>\n",
              "        <td>None</td>\n",
              "        <td>None</td>\n",
              "        <td>None</td>\n",
              "    </tr>\n",
              "    <tr>\n",
              "        <td>Linz</td>\n",
              "        <td>Austria</td>\n",
              "        <td>48.32</td>\n",
              "        <td>14.29</td>\n",
              "        <td>6.79</td>\n",
              "        <td>None</td>\n",
              "        <td>None</td>\n",
              "        <td>None</td>\n",
              "        <td>None</td>\n",
              "        <td>None</td>\n",
              "        <td>None</td>\n",
              "        <td>None</td>\n",
              "        <td>None</td>\n",
              "        <td>None</td>\n",
              "        <td>None</td>\n",
              "        <td>None</td>\n",
              "        <td>None</td>\n",
              "        <td>None</td>\n",
              "        <td>None</td>\n",
              "        <td>None</td>\n",
              "        <td>None</td>\n",
              "        <td>None</td>\n",
              "        <td>None</td>\n",
              "    </tr>\n",
              "    <tr>\n",
              "        <td>Salzburg</td>\n",
              "        <td>Austria</td>\n",
              "        <td>47.81</td>\n",
              "        <td>13.04</td>\n",
              "        <td>4.62</td>\n",
              "        <td>None</td>\n",
              "        <td>None</td>\n",
              "        <td>None</td>\n",
              "        <td>None</td>\n",
              "        <td>None</td>\n",
              "        <td>None</td>\n",
              "        <td>None</td>\n",
              "        <td>None</td>\n",
              "        <td>None</td>\n",
              "        <td>None</td>\n",
              "        <td>None</td>\n",
              "        <td>None</td>\n",
              "        <td>None</td>\n",
              "        <td>None</td>\n",
              "        <td>None</td>\n",
              "        <td>None</td>\n",
              "        <td>None</td>\n",
              "        <td>None</td>\n",
              "    </tr>\n",
              "    <tr>\n",
              "        <td>Vienna</td>\n",
              "        <td>Austria</td>\n",
              "        <td>48.2</td>\n",
              "        <td>16.37</td>\n",
              "        <td>7.86</td>\n",
              "        <td>None</td>\n",
              "        <td>None</td>\n",
              "        <td>None</td>\n",
              "        <td>None</td>\n",
              "        <td>None</td>\n",
              "        <td>None</td>\n",
              "        <td>None</td>\n",
              "        <td>None</td>\n",
              "        <td>None</td>\n",
              "        <td>None</td>\n",
              "        <td>None</td>\n",
              "        <td>None</td>\n",
              "        <td>None</td>\n",
              "        <td>None</td>\n",
              "        <td>None</td>\n",
              "        <td>None</td>\n",
              "        <td>None</td>\n",
              "        <td>None</td>\n",
              "    </tr>\n",
              "    <tr>\n",
              "        <td>Abisko</td>\n",
              "        <td>Sweden</td>\n",
              "        <td>63.35</td>\n",
              "        <td>18.83</td>\n",
              "        <td>0.2</td>\n",
              "        <td>None</td>\n",
              "        <td>None</td>\n",
              "        <td>None</td>\n",
              "        <td>None</td>\n",
              "        <td>None</td>\n",
              "        <td>None</td>\n",
              "        <td>None</td>\n",
              "        <td>None</td>\n",
              "        <td>None</td>\n",
              "        <td>None</td>\n",
              "        <td>None</td>\n",
              "        <td>None</td>\n",
              "        <td>None</td>\n",
              "        <td>None</td>\n",
              "        <td>None</td>\n",
              "        <td>None</td>\n",
              "        <td>None</td>\n",
              "        <td>None</td>\n",
              "    </tr>\n",
              "    <tr>\n",
              "        <td>Göteborg</td>\n",
              "        <td>Sweden</td>\n",
              "        <td>57.75</td>\n",
              "        <td>12.0</td>\n",
              "        <td>5.76</td>\n",
              "        <td>None</td>\n",
              "        <td>None</td>\n",
              "        <td>None</td>\n",
              "        <td>None</td>\n",
              "        <td>None</td>\n",
              "        <td>None</td>\n",
              "        <td>None</td>\n",
              "        <td>None</td>\n",
              "        <td>None</td>\n",
              "        <td>None</td>\n",
              "        <td>None</td>\n",
              "        <td>None</td>\n",
              "        <td>None</td>\n",
              "        <td>None</td>\n",
              "        <td>None</td>\n",
              "        <td>None</td>\n",
              "        <td>None</td>\n",
              "        <td>None</td>\n",
              "    </tr>\n",
              "    <tr>\n",
              "        <td>Kiruna</td>\n",
              "        <td>Sweden</td>\n",
              "        <td>67.85</td>\n",
              "        <td>20.22</td>\n",
              "        <td>-2.2</td>\n",
              "        <td>None</td>\n",
              "        <td>None</td>\n",
              "        <td>None</td>\n",
              "        <td>None</td>\n",
              "        <td>None</td>\n",
              "        <td>None</td>\n",
              "        <td>None</td>\n",
              "        <td>None</td>\n",
              "        <td>None</td>\n",
              "        <td>None</td>\n",
              "        <td>None</td>\n",
              "        <td>None</td>\n",
              "        <td>None</td>\n",
              "        <td>None</td>\n",
              "        <td>None</td>\n",
              "        <td>None</td>\n",
              "        <td>None</td>\n",
              "        <td>None</td>\n",
              "    </tr>\n",
              "    <tr>\n",
              "        <td>Malmö</td>\n",
              "        <td>Sweden</td>\n",
              "        <td>55.58</td>\n",
              "        <td>13.03</td>\n",
              "        <td>7.33</td>\n",
              "        <td>None</td>\n",
              "        <td>None</td>\n",
              "        <td>None</td>\n",
              "        <td>None</td>\n",
              "        <td>None</td>\n",
              "        <td>None</td>\n",
              "        <td>None</td>\n",
              "        <td>None</td>\n",
              "        <td>None</td>\n",
              "        <td>None</td>\n",
              "        <td>None</td>\n",
              "        <td>None</td>\n",
              "        <td>None</td>\n",
              "        <td>None</td>\n",
              "        <td>None</td>\n",
              "        <td>None</td>\n",
              "        <td>None</td>\n",
              "        <td>None</td>\n",
              "    </tr>\n",
              "    <tr>\n",
              "        <td>Stockholm</td>\n",
              "        <td>Sweden</td>\n",
              "        <td>59.35</td>\n",
              "        <td>18.1</td>\n",
              "        <td>6.26</td>\n",
              "        <td>None</td>\n",
              "        <td>None</td>\n",
              "        <td>None</td>\n",
              "        <td>None</td>\n",
              "        <td>None</td>\n",
              "        <td>None</td>\n",
              "        <td>None</td>\n",
              "        <td>None</td>\n",
              "        <td>None</td>\n",
              "        <td>None</td>\n",
              "        <td>None</td>\n",
              "        <td>None</td>\n",
              "        <td>None</td>\n",
              "        <td>None</td>\n",
              "        <td>None</td>\n",
              "        <td>None</td>\n",
              "        <td>None</td>\n",
              "        <td>None</td>\n",
              "    </tr>\n",
              "    <tr>\n",
              "        <td>Uppsala</td>\n",
              "        <td>Sweden</td>\n",
              "        <td>59.86</td>\n",
              "        <td>17.64</td>\n",
              "        <td>4.17</td>\n",
              "        <td>None</td>\n",
              "        <td>None</td>\n",
              "        <td>None</td>\n",
              "        <td>None</td>\n",
              "        <td>None</td>\n",
              "        <td>None</td>\n",
              "        <td>None</td>\n",
              "        <td>None</td>\n",
              "        <td>None</td>\n",
              "        <td>None</td>\n",
              "        <td>None</td>\n",
              "        <td>None</td>\n",
              "        <td>None</td>\n",
              "        <td>None</td>\n",
              "        <td>None</td>\n",
              "        <td>None</td>\n",
              "        <td>None</td>\n",
              "        <td>None</td>\n",
              "    </tr>\n",
              "</table>"
            ]
          },
          "metadata": {},
          "execution_count": 44
        }
      ]
    },
    {
      "cell_type": "code",
      "source": [
        "%%sql\n",
        "select country, city, avg(temperature)\n",
        "from Cities\n",
        "where country = 'Austria' or country = 'Sweden'\n",
        "group by country"
      ],
      "metadata": {
        "id": "C5zWyxs9d-Wi",
        "colab": {
          "base_uri": "https://localhost:8080/",
          "height": 116
        },
        "outputId": "0b6ffd4a-d09c-49e4-86cb-1e6f2525bd14"
      },
      "execution_count": null,
      "outputs": [
        {
          "output_type": "stream",
          "name": "stdout",
          "text": [
            " * sqlite://\n",
            "Done.\n"
          ]
        },
        {
          "output_type": "execute_result",
          "data": {
            "text/plain": [
              "[('Austria', 'Graz', 6.144), ('Sweden', 'Abisko', 3.5866666666666673)]"
            ],
            "text/html": [
              "<table>\n",
              "    <tr>\n",
              "        <th>country</th>\n",
              "        <th>city</th>\n",
              "        <th>avg(temperature)</th>\n",
              "    </tr>\n",
              "    <tr>\n",
              "        <td>Austria</td>\n",
              "        <td>Graz</td>\n",
              "        <td>6.144</td>\n",
              "    </tr>\n",
              "    <tr>\n",
              "        <td>Sweden</td>\n",
              "        <td>Abisko</td>\n",
              "        <td>3.5866666666666673</td>\n",
              "    </tr>\n",
              "</table>"
            ]
          },
          "metadata": {},
          "execution_count": 45
        }
      ]
    },
    {
      "cell_type": "markdown",
      "source": [
        "*Modify previous query to min(temperature), max(temperature), then together in both orders*"
      ],
      "metadata": {
        "id": "YJjCYCtsfYIj"
      }
    },
    {
      "cell_type": "markdown",
      "metadata": {
        "id": "3ezVm6SfMZil"
      },
      "source": [
        "### The Limit clause"
      ]
    },
    {
      "cell_type": "markdown",
      "metadata": {
        "id": "pBeU272WMZil"
      },
      "source": [
        "*Return any three countries with population > 20*"
      ]
    },
    {
      "cell_type": "code",
      "execution_count": null,
      "metadata": {
        "id": "EiTb4RBzMZil",
        "colab": {
          "base_uri": "https://localhost:8080/",
          "height": 137
        },
        "outputId": "ce9a16ef-4a74-4ce2-e557-8121a5edc495"
      },
      "outputs": [
        {
          "output_type": "stream",
          "name": "stdout",
          "text": [
            " * sqlite://\n",
            "Done.\n"
          ]
        },
        {
          "output_type": "execute_result",
          "data": {
            "text/plain": [
              "[('France',), ('Germany',), ('Italy',)]"
            ],
            "text/html": [
              "<table>\n",
              "    <tr>\n",
              "        <th>country</th>\n",
              "    </tr>\n",
              "    <tr>\n",
              "        <td>France</td>\n",
              "    </tr>\n",
              "    <tr>\n",
              "        <td>Germany</td>\n",
              "    </tr>\n",
              "    <tr>\n",
              "        <td>Italy</td>\n",
              "    </tr>\n",
              "</table>"
            ]
          },
          "metadata": {},
          "execution_count": 46
        }
      ],
      "source": [
        "%%sql\n",
        "select country\n",
        "from Countries\n",
        "where population > 20\n",
        "limit 3"
      ]
    },
    {
      "cell_type": "markdown",
      "metadata": {
        "id": "WWPpu0LbMZim"
      },
      "source": [
        "*Find the ten coldest cities*"
      ]
    },
    {
      "cell_type": "code",
      "execution_count": null,
      "metadata": {
        "id": "zZWHH1zXMZim",
        "colab": {
          "base_uri": "https://localhost:8080/",
          "height": 284
        },
        "outputId": "63b2ce73-b40b-41a5-9fef-1ab04ae26132"
      },
      "outputs": [
        {
          "output_type": "stream",
          "name": "stdout",
          "text": [
            " * sqlite://\n",
            "Done.\n"
          ]
        },
        {
          "output_type": "execute_result",
          "data": {
            "text/plain": [
              "[('Kiruna', -2.2),\n",
              " ('Abisko', 0.2),\n",
              " ('Oulu', 1.45),\n",
              " ('Bergen', 1.75),\n",
              " ('Oslo', 2.32),\n",
              " ('Tampere', 3.59),\n",
              " ('Uppsala', 4.17),\n",
              " ('Helsinki', 4.19),\n",
              " ('Tartu', 4.36),\n",
              " ('Bodo', 4.5)]"
            ],
            "text/html": [
              "<table>\n",
              "    <tr>\n",
              "        <th>city</th>\n",
              "        <th>temperature</th>\n",
              "    </tr>\n",
              "    <tr>\n",
              "        <td>Kiruna</td>\n",
              "        <td>-2.2</td>\n",
              "    </tr>\n",
              "    <tr>\n",
              "        <td>Abisko</td>\n",
              "        <td>0.2</td>\n",
              "    </tr>\n",
              "    <tr>\n",
              "        <td>Oulu</td>\n",
              "        <td>1.45</td>\n",
              "    </tr>\n",
              "    <tr>\n",
              "        <td>Bergen</td>\n",
              "        <td>1.75</td>\n",
              "    </tr>\n",
              "    <tr>\n",
              "        <td>Oslo</td>\n",
              "        <td>2.32</td>\n",
              "    </tr>\n",
              "    <tr>\n",
              "        <td>Tampere</td>\n",
              "        <td>3.59</td>\n",
              "    </tr>\n",
              "    <tr>\n",
              "        <td>Uppsala</td>\n",
              "        <td>4.17</td>\n",
              "    </tr>\n",
              "    <tr>\n",
              "        <td>Helsinki</td>\n",
              "        <td>4.19</td>\n",
              "    </tr>\n",
              "    <tr>\n",
              "        <td>Tartu</td>\n",
              "        <td>4.36</td>\n",
              "    </tr>\n",
              "    <tr>\n",
              "        <td>Bodo</td>\n",
              "        <td>4.5</td>\n",
              "    </tr>\n",
              "</table>"
            ]
          },
          "metadata": {},
          "execution_count": 47
        }
      ],
      "source": [
        "%%sql\n",
        "select city, temperature\n",
        "from Cities\n",
        "order by temperature\n",
        "limit 10"
      ]
    },
    {
      "cell_type": "markdown",
      "metadata": {
        "id": "xgClkx-wMZim"
      },
      "source": [
        "### <font color = 'green'>**Your Turn**</font>"
      ]
    },
    {
      "cell_type": "markdown",
      "metadata": {
        "id": "qzl1doV5MZim"
      },
      "source": [
        "*Find the five easternmost (greatest longitude) cities in countries with no coastline. Return the city and country names.*"
      ]
    },
    {
      "cell_type": "code",
      "execution_count": null,
      "metadata": {
        "id": "xGbKeIglMZim",
        "colab": {
          "base_uri": "https://localhost:8080/",
          "height": 179
        },
        "outputId": "bba7440c-3167-4c74-9e27-0fddf606440f"
      },
      "outputs": [
        {
          "output_type": "stream",
          "name": "stdout",
          "text": [
            " * sqlite://\n",
            "Done.\n"
          ]
        },
        {
          "output_type": "execute_result",
          "data": {
            "text/plain": [
              "[('Orsha', 'Belarus'),\n",
              " ('Mazyr', 'Belarus'),\n",
              " ('Chisinau', 'Moldova'),\n",
              " ('Balti', 'Moldova'),\n",
              " ('Minsk', 'Belarus')]"
            ],
            "text/html": [
              "<table>\n",
              "    <tr>\n",
              "        <th>city</th>\n",
              "        <th>country</th>\n",
              "    </tr>\n",
              "    <tr>\n",
              "        <td>Orsha</td>\n",
              "        <td>Belarus</td>\n",
              "    </tr>\n",
              "    <tr>\n",
              "        <td>Mazyr</td>\n",
              "        <td>Belarus</td>\n",
              "    </tr>\n",
              "    <tr>\n",
              "        <td>Chisinau</td>\n",
              "        <td>Moldova</td>\n",
              "    </tr>\n",
              "    <tr>\n",
              "        <td>Balti</td>\n",
              "        <td>Moldova</td>\n",
              "    </tr>\n",
              "    <tr>\n",
              "        <td>Minsk</td>\n",
              "        <td>Belarus</td>\n",
              "    </tr>\n",
              "</table>"
            ]
          },
          "metadata": {},
          "execution_count": 48
        }
      ],
      "source": [
        "%%sql\n",
        "select city, Cities.country\n",
        "from Cities\n",
        "inner join Countries\n",
        "    on Cities.country = Countries.country\n",
        "where longitude > 0\n",
        "and coastline = 'no'\n",
        "order by longitude desc\n",
        "limit 5"
      ]
    },
    {
      "cell_type": "markdown",
      "metadata": {
        "id": "BbqhMHqKMZim"
      },
      "source": [
        "### <font color = 'green'>**Your Turn - Basic SQL on World Cup Data**</font>"
      ]
    },
    {
      "cell_type": "code",
      "execution_count": null,
      "metadata": {
        "id": "i5xAb8GWMZim",
        "colab": {
          "base_uri": "https://localhost:8080/",
          "height": 140
        },
        "outputId": "a2dcfb9f-04c0-48b5-ddfa-34b8bc5ec504"
      },
      "outputs": [
        {
          "output_type": "stream",
          "name": "stdout",
          "text": [
            " * sqlite://\n",
            "Done.\n",
            " * sqlite://\n",
            " * sqlite://\n",
            "Done.\n",
            " * sqlite://\n"
          ]
        },
        {
          "output_type": "execute_result",
          "data": {
            "text/plain": [
              "'Persisted teams'"
            ],
            "application/vnd.google.colaboratory.intrinsic+json": {
              "type": "string"
            }
          },
          "metadata": {},
          "execution_count": 57
        }
      ],
      "source": [
        "# Create database tables from CSV files\n",
        "with open('Players.csv') as f: Players = pd.read_csv(f, index_col=0)\n",
        "%sql drop table if exists Players;\n",
        "%sql --persist Players\n",
        "\n",
        "with open('Teams.csv') as f: Teams = pd.read_csv(f, index_col=0)\n",
        "%sql drop table if exists Teams;\n",
        "%sql --persist Teams"
      ]
    },
    {
      "cell_type": "markdown",
      "metadata": {
        "id": "3v_Q9VemMZim"
      },
      "source": [
        "#### Look at sample of Players and Teams tables"
      ]
    },
    {
      "cell_type": "code",
      "execution_count": null,
      "metadata": {
        "id": "7D3cqH4XMZin",
        "colab": {
          "base_uri": "https://localhost:8080/",
          "height": 217
        },
        "outputId": "220af853-f17a-43d2-8031-7c0e41e37ee9"
      },
      "outputs": [
        {
          "output_type": "stream",
          "name": "stdout",
          "text": [
            " * sqlite://\n",
            "Done.\n"
          ]
        },
        {
          "output_type": "execute_result",
          "data": {
            "text/plain": [
              "[('Abdoun', 'Algeria', 'midfielder', 16, 0, 6, 0, 0, None, None, None, None, None, None, None, None, None, None, None, None, None, None, None, None, None, None),\n",
              " ('Belhadj', 'Algeria', 'defender', 270, 1, 146, 8, 0, None, None, None, None, None, None, None, None, None, None, None, None, None, None, None, None, None, None),\n",
              " ('Boudebouz', 'Algeria', 'midfielder', 74, 3, 28, 1, 0, None, None, None, None, None, None, None, None, None, None, None, None, None, None, None, None, None, None),\n",
              " ('Bougherra', 'Algeria', 'defender', 270, 1, 89, 11, 0, None, None, None, None, None, None, None, None, None, None, None, None, None, None, None, None, None, None),\n",
              " ('Chaouchi', 'Algeria', 'goalkeeper', 90, 0, 17, 0, 2, None, None, None, None, None, None, None, None, None, None, None, None, None, None, None, None, None, None)]"
            ],
            "text/html": [
              "<table>\n",
              "    <tr>\n",
              "        <th>surname</th>\n",
              "        <th>team</th>\n",
              "        <th>position</th>\n",
              "        <th>minutes</th>\n",
              "        <th>shots</th>\n",
              "        <th>passes</th>\n",
              "        <th>tackles</th>\n",
              "        <th>saves</th>\n",
              "        <th>Unnamed: 8</th>\n",
              "        <th>Unnamed: 9</th>\n",
              "        <th>Unnamed: 10</th>\n",
              "        <th>Unnamed: 11</th>\n",
              "        <th>Unnamed: 12</th>\n",
              "        <th>Unnamed: 13</th>\n",
              "        <th>Unnamed: 14</th>\n",
              "        <th>Unnamed: 15</th>\n",
              "        <th>Unnamed: 16</th>\n",
              "        <th>Unnamed: 17</th>\n",
              "        <th>Unnamed: 18</th>\n",
              "        <th>Unnamed: 19</th>\n",
              "        <th>Unnamed: 20</th>\n",
              "        <th>Unnamed: 21</th>\n",
              "        <th>Unnamed: 22</th>\n",
              "        <th>Unnamed: 23</th>\n",
              "        <th>Unnamed: 24</th>\n",
              "        <th>Unnamed: 25</th>\n",
              "    </tr>\n",
              "    <tr>\n",
              "        <td>Abdoun</td>\n",
              "        <td>Algeria</td>\n",
              "        <td>midfielder</td>\n",
              "        <td>16</td>\n",
              "        <td>0</td>\n",
              "        <td>6</td>\n",
              "        <td>0</td>\n",
              "        <td>0</td>\n",
              "        <td>None</td>\n",
              "        <td>None</td>\n",
              "        <td>None</td>\n",
              "        <td>None</td>\n",
              "        <td>None</td>\n",
              "        <td>None</td>\n",
              "        <td>None</td>\n",
              "        <td>None</td>\n",
              "        <td>None</td>\n",
              "        <td>None</td>\n",
              "        <td>None</td>\n",
              "        <td>None</td>\n",
              "        <td>None</td>\n",
              "        <td>None</td>\n",
              "        <td>None</td>\n",
              "        <td>None</td>\n",
              "        <td>None</td>\n",
              "        <td>None</td>\n",
              "    </tr>\n",
              "    <tr>\n",
              "        <td>Belhadj</td>\n",
              "        <td>Algeria</td>\n",
              "        <td>defender</td>\n",
              "        <td>270</td>\n",
              "        <td>1</td>\n",
              "        <td>146</td>\n",
              "        <td>8</td>\n",
              "        <td>0</td>\n",
              "        <td>None</td>\n",
              "        <td>None</td>\n",
              "        <td>None</td>\n",
              "        <td>None</td>\n",
              "        <td>None</td>\n",
              "        <td>None</td>\n",
              "        <td>None</td>\n",
              "        <td>None</td>\n",
              "        <td>None</td>\n",
              "        <td>None</td>\n",
              "        <td>None</td>\n",
              "        <td>None</td>\n",
              "        <td>None</td>\n",
              "        <td>None</td>\n",
              "        <td>None</td>\n",
              "        <td>None</td>\n",
              "        <td>None</td>\n",
              "        <td>None</td>\n",
              "    </tr>\n",
              "    <tr>\n",
              "        <td>Boudebouz</td>\n",
              "        <td>Algeria</td>\n",
              "        <td>midfielder</td>\n",
              "        <td>74</td>\n",
              "        <td>3</td>\n",
              "        <td>28</td>\n",
              "        <td>1</td>\n",
              "        <td>0</td>\n",
              "        <td>None</td>\n",
              "        <td>None</td>\n",
              "        <td>None</td>\n",
              "        <td>None</td>\n",
              "        <td>None</td>\n",
              "        <td>None</td>\n",
              "        <td>None</td>\n",
              "        <td>None</td>\n",
              "        <td>None</td>\n",
              "        <td>None</td>\n",
              "        <td>None</td>\n",
              "        <td>None</td>\n",
              "        <td>None</td>\n",
              "        <td>None</td>\n",
              "        <td>None</td>\n",
              "        <td>None</td>\n",
              "        <td>None</td>\n",
              "        <td>None</td>\n",
              "    </tr>\n",
              "    <tr>\n",
              "        <td>Bougherra</td>\n",
              "        <td>Algeria</td>\n",
              "        <td>defender</td>\n",
              "        <td>270</td>\n",
              "        <td>1</td>\n",
              "        <td>89</td>\n",
              "        <td>11</td>\n",
              "        <td>0</td>\n",
              "        <td>None</td>\n",
              "        <td>None</td>\n",
              "        <td>None</td>\n",
              "        <td>None</td>\n",
              "        <td>None</td>\n",
              "        <td>None</td>\n",
              "        <td>None</td>\n",
              "        <td>None</td>\n",
              "        <td>None</td>\n",
              "        <td>None</td>\n",
              "        <td>None</td>\n",
              "        <td>None</td>\n",
              "        <td>None</td>\n",
              "        <td>None</td>\n",
              "        <td>None</td>\n",
              "        <td>None</td>\n",
              "        <td>None</td>\n",
              "        <td>None</td>\n",
              "    </tr>\n",
              "    <tr>\n",
              "        <td>Chaouchi</td>\n",
              "        <td>Algeria</td>\n",
              "        <td>goalkeeper</td>\n",
              "        <td>90</td>\n",
              "        <td>0</td>\n",
              "        <td>17</td>\n",
              "        <td>0</td>\n",
              "        <td>2</td>\n",
              "        <td>None</td>\n",
              "        <td>None</td>\n",
              "        <td>None</td>\n",
              "        <td>None</td>\n",
              "        <td>None</td>\n",
              "        <td>None</td>\n",
              "        <td>None</td>\n",
              "        <td>None</td>\n",
              "        <td>None</td>\n",
              "        <td>None</td>\n",
              "        <td>None</td>\n",
              "        <td>None</td>\n",
              "        <td>None</td>\n",
              "        <td>None</td>\n",
              "        <td>None</td>\n",
              "        <td>None</td>\n",
              "        <td>None</td>\n",
              "        <td>None</td>\n",
              "    </tr>\n",
              "</table>"
            ]
          },
          "metadata": {},
          "execution_count": 58
        }
      ],
      "source": [
        "%%sql\n",
        "select * from Players limit 5"
      ]
    },
    {
      "cell_type": "code",
      "execution_count": null,
      "metadata": {
        "id": "02CrydrjMZin",
        "colab": {
          "base_uri": "https://localhost:8080/",
          "height": 217
        },
        "outputId": "caebd919-8a20-42c0-950d-f1a0dda7c473"
      },
      "outputs": [
        {
          "output_type": "stream",
          "name": "stdout",
          "text": [
            " * sqlite://\n",
            "Done.\n"
          ]
        },
        {
          "output_type": "execute_result",
          "data": {
            "text/plain": [
              "[('Algeria', 30, 3, 0, 1, 2, 0, 2, 4, 2, None, None, None, None, None, None, None, None, None, None, None),\n",
              " ('Argentina', 7, 5, 4, 0, 1, 10, 6, 7, 0, None, None, None, None, None, None, None, None, None, None, None),\n",
              " ('Australia', 20, 3, 1, 1, 1, 3, 6, 7, 2, None, None, None, None, None, None, None, None, None, None, None),\n",
              " ('Brazil', 1, 5, 3, 1, 1, 9, 4, 7, 2, None, None, None, None, None, None, None, None, None, None, None),\n",
              " ('Cameroon', 19, 3, 0, 0, 3, 2, 5, 5, 0, None, None, None, None, None, None, None, None, None, None, None)]"
            ],
            "text/html": [
              "<table>\n",
              "    <tr>\n",
              "        <th>team</th>\n",
              "        <th>ranking</th>\n",
              "        <th>games</th>\n",
              "        <th>wins</th>\n",
              "        <th>draws</th>\n",
              "        <th>losses</th>\n",
              "        <th>goalsFor</th>\n",
              "        <th>goalsAgainst</th>\n",
              "        <th>yellowCards</th>\n",
              "        <th>redCards</th>\n",
              "        <th>Unnamed: 10</th>\n",
              "        <th>Unnamed: 11</th>\n",
              "        <th>Unnamed: 12</th>\n",
              "        <th>Unnamed: 13</th>\n",
              "        <th>Unnamed: 14</th>\n",
              "        <th>Unnamed: 15</th>\n",
              "        <th>Unnamed: 16</th>\n",
              "        <th>Unnamed: 17</th>\n",
              "        <th>Unnamed: 18</th>\n",
              "        <th>Unnamed: 19</th>\n",
              "        <th>Unnamed: 20</th>\n",
              "    </tr>\n",
              "    <tr>\n",
              "        <td>Algeria</td>\n",
              "        <td>30</td>\n",
              "        <td>3</td>\n",
              "        <td>0</td>\n",
              "        <td>1</td>\n",
              "        <td>2</td>\n",
              "        <td>0</td>\n",
              "        <td>2</td>\n",
              "        <td>4</td>\n",
              "        <td>2</td>\n",
              "        <td>None</td>\n",
              "        <td>None</td>\n",
              "        <td>None</td>\n",
              "        <td>None</td>\n",
              "        <td>None</td>\n",
              "        <td>None</td>\n",
              "        <td>None</td>\n",
              "        <td>None</td>\n",
              "        <td>None</td>\n",
              "        <td>None</td>\n",
              "        <td>None</td>\n",
              "    </tr>\n",
              "    <tr>\n",
              "        <td>Argentina</td>\n",
              "        <td>7</td>\n",
              "        <td>5</td>\n",
              "        <td>4</td>\n",
              "        <td>0</td>\n",
              "        <td>1</td>\n",
              "        <td>10</td>\n",
              "        <td>6</td>\n",
              "        <td>7</td>\n",
              "        <td>0</td>\n",
              "        <td>None</td>\n",
              "        <td>None</td>\n",
              "        <td>None</td>\n",
              "        <td>None</td>\n",
              "        <td>None</td>\n",
              "        <td>None</td>\n",
              "        <td>None</td>\n",
              "        <td>None</td>\n",
              "        <td>None</td>\n",
              "        <td>None</td>\n",
              "        <td>None</td>\n",
              "    </tr>\n",
              "    <tr>\n",
              "        <td>Australia</td>\n",
              "        <td>20</td>\n",
              "        <td>3</td>\n",
              "        <td>1</td>\n",
              "        <td>1</td>\n",
              "        <td>1</td>\n",
              "        <td>3</td>\n",
              "        <td>6</td>\n",
              "        <td>7</td>\n",
              "        <td>2</td>\n",
              "        <td>None</td>\n",
              "        <td>None</td>\n",
              "        <td>None</td>\n",
              "        <td>None</td>\n",
              "        <td>None</td>\n",
              "        <td>None</td>\n",
              "        <td>None</td>\n",
              "        <td>None</td>\n",
              "        <td>None</td>\n",
              "        <td>None</td>\n",
              "        <td>None</td>\n",
              "    </tr>\n",
              "    <tr>\n",
              "        <td>Brazil</td>\n",
              "        <td>1</td>\n",
              "        <td>5</td>\n",
              "        <td>3</td>\n",
              "        <td>1</td>\n",
              "        <td>1</td>\n",
              "        <td>9</td>\n",
              "        <td>4</td>\n",
              "        <td>7</td>\n",
              "        <td>2</td>\n",
              "        <td>None</td>\n",
              "        <td>None</td>\n",
              "        <td>None</td>\n",
              "        <td>None</td>\n",
              "        <td>None</td>\n",
              "        <td>None</td>\n",
              "        <td>None</td>\n",
              "        <td>None</td>\n",
              "        <td>None</td>\n",
              "        <td>None</td>\n",
              "        <td>None</td>\n",
              "    </tr>\n",
              "    <tr>\n",
              "        <td>Cameroon</td>\n",
              "        <td>19</td>\n",
              "        <td>3</td>\n",
              "        <td>0</td>\n",
              "        <td>0</td>\n",
              "        <td>3</td>\n",
              "        <td>2</td>\n",
              "        <td>5</td>\n",
              "        <td>5</td>\n",
              "        <td>0</td>\n",
              "        <td>None</td>\n",
              "        <td>None</td>\n",
              "        <td>None</td>\n",
              "        <td>None</td>\n",
              "        <td>None</td>\n",
              "        <td>None</td>\n",
              "        <td>None</td>\n",
              "        <td>None</td>\n",
              "        <td>None</td>\n",
              "        <td>None</td>\n",
              "        <td>None</td>\n",
              "    </tr>\n",
              "</table>"
            ]
          },
          "metadata": {},
          "execution_count": 59
        }
      ],
      "source": [
        "%%sql\n",
        "select * from Teams limit 5"
      ]
    },
    {
      "cell_type": "markdown",
      "metadata": {
        "id": "3Lg8LM-7MZin"
      },
      "source": [
        "*1)  What player on a team with “ia” in the team name played less than 200 minutes and made more than 100 passes? Return the player surname. Note: To check if attribute A contains string S use \"A like '%S%'\"*"
      ]
    },
    {
      "cell_type": "code",
      "execution_count": null,
      "metadata": {
        "id": "FD6m9r1vMZin",
        "colab": {
          "base_uri": "https://localhost:8080/",
          "height": 95
        },
        "outputId": "fc8246e5-8f88-434a-9c31-427580c63b40"
      },
      "outputs": [
        {
          "output_type": "stream",
          "name": "stdout",
          "text": [
            " * sqlite://\n",
            "Done.\n"
          ]
        },
        {
          "output_type": "execute_result",
          "data": {
            "text/plain": [
              "[('Kuzmanovic',)]"
            ],
            "text/html": [
              "<table>\n",
              "    <tr>\n",
              "        <th>surname</th>\n",
              "    </tr>\n",
              "    <tr>\n",
              "        <td>Kuzmanovic</td>\n",
              "    </tr>\n",
              "</table>"
            ]
          },
          "metadata": {},
          "execution_count": 60
        }
      ],
      "source": [
        "%%sql\n",
        "select surname\n",
        "from Players\n",
        "where team like '%ia%'\n",
        "and minutes < 200\n",
        "and passes > 100"
      ]
    },
    {
      "cell_type": "markdown",
      "metadata": {
        "id": "4EsXwQ_wMZin"
      },
      "source": [
        "*2) Find all players who took more than 20 shots. Return all player information in descending order of shots taken.*"
      ]
    },
    {
      "cell_type": "code",
      "execution_count": null,
      "metadata": {
        "id": "VAj3i9owMZin",
        "colab": {
          "base_uri": "https://localhost:8080/",
          "height": 175
        },
        "outputId": "16ad8865-99bb-4fc9-c4a0-babef1275e96"
      },
      "outputs": [
        {
          "output_type": "stream",
          "name": "stdout",
          "text": [
            " * sqlite://\n",
            "Done.\n"
          ]
        },
        {
          "output_type": "execute_result",
          "data": {
            "text/plain": [
              "[('Gyan', 'Ghana', 'forward', 501, 27, 151, 1, 0, None, None, None, None, None, None, None, None, None, None, None, None, None, None, None, None, None, None),\n",
              " ('Villa', 'Spain', 'forward', 529, 22, 169, 2, 0, None, None, None, None, None, None, None, None, None, None, None, None, None, None, None, None, None, None),\n",
              " ('Messi', 'Argentina', 'forward', 450, 21, 321, 10, 0, None, None, None, None, None, None, None, None, None, None, None, None, None, None, None, None, None, None)]"
            ],
            "text/html": [
              "<table>\n",
              "    <tr>\n",
              "        <th>surname</th>\n",
              "        <th>team</th>\n",
              "        <th>position</th>\n",
              "        <th>minutes</th>\n",
              "        <th>shots</th>\n",
              "        <th>passes</th>\n",
              "        <th>tackles</th>\n",
              "        <th>saves</th>\n",
              "        <th>Unnamed: 8</th>\n",
              "        <th>Unnamed: 9</th>\n",
              "        <th>Unnamed: 10</th>\n",
              "        <th>Unnamed: 11</th>\n",
              "        <th>Unnamed: 12</th>\n",
              "        <th>Unnamed: 13</th>\n",
              "        <th>Unnamed: 14</th>\n",
              "        <th>Unnamed: 15</th>\n",
              "        <th>Unnamed: 16</th>\n",
              "        <th>Unnamed: 17</th>\n",
              "        <th>Unnamed: 18</th>\n",
              "        <th>Unnamed: 19</th>\n",
              "        <th>Unnamed: 20</th>\n",
              "        <th>Unnamed: 21</th>\n",
              "        <th>Unnamed: 22</th>\n",
              "        <th>Unnamed: 23</th>\n",
              "        <th>Unnamed: 24</th>\n",
              "        <th>Unnamed: 25</th>\n",
              "    </tr>\n",
              "    <tr>\n",
              "        <td>Gyan</td>\n",
              "        <td>Ghana</td>\n",
              "        <td>forward</td>\n",
              "        <td>501</td>\n",
              "        <td>27</td>\n",
              "        <td>151</td>\n",
              "        <td>1</td>\n",
              "        <td>0</td>\n",
              "        <td>None</td>\n",
              "        <td>None</td>\n",
              "        <td>None</td>\n",
              "        <td>None</td>\n",
              "        <td>None</td>\n",
              "        <td>None</td>\n",
              "        <td>None</td>\n",
              "        <td>None</td>\n",
              "        <td>None</td>\n",
              "        <td>None</td>\n",
              "        <td>None</td>\n",
              "        <td>None</td>\n",
              "        <td>None</td>\n",
              "        <td>None</td>\n",
              "        <td>None</td>\n",
              "        <td>None</td>\n",
              "        <td>None</td>\n",
              "        <td>None</td>\n",
              "    </tr>\n",
              "    <tr>\n",
              "        <td>Villa</td>\n",
              "        <td>Spain</td>\n",
              "        <td>forward</td>\n",
              "        <td>529</td>\n",
              "        <td>22</td>\n",
              "        <td>169</td>\n",
              "        <td>2</td>\n",
              "        <td>0</td>\n",
              "        <td>None</td>\n",
              "        <td>None</td>\n",
              "        <td>None</td>\n",
              "        <td>None</td>\n",
              "        <td>None</td>\n",
              "        <td>None</td>\n",
              "        <td>None</td>\n",
              "        <td>None</td>\n",
              "        <td>None</td>\n",
              "        <td>None</td>\n",
              "        <td>None</td>\n",
              "        <td>None</td>\n",
              "        <td>None</td>\n",
              "        <td>None</td>\n",
              "        <td>None</td>\n",
              "        <td>None</td>\n",
              "        <td>None</td>\n",
              "        <td>None</td>\n",
              "    </tr>\n",
              "    <tr>\n",
              "        <td>Messi</td>\n",
              "        <td>Argentina</td>\n",
              "        <td>forward</td>\n",
              "        <td>450</td>\n",
              "        <td>21</td>\n",
              "        <td>321</td>\n",
              "        <td>10</td>\n",
              "        <td>0</td>\n",
              "        <td>None</td>\n",
              "        <td>None</td>\n",
              "        <td>None</td>\n",
              "        <td>None</td>\n",
              "        <td>None</td>\n",
              "        <td>None</td>\n",
              "        <td>None</td>\n",
              "        <td>None</td>\n",
              "        <td>None</td>\n",
              "        <td>None</td>\n",
              "        <td>None</td>\n",
              "        <td>None</td>\n",
              "        <td>None</td>\n",
              "        <td>None</td>\n",
              "        <td>None</td>\n",
              "        <td>None</td>\n",
              "        <td>None</td>\n",
              "        <td>None</td>\n",
              "    </tr>\n",
              "</table>"
            ]
          },
          "metadata": {},
          "execution_count": 61
        }
      ],
      "source": [
        "%%sql\n",
        "select *\n",
        "from Players\n",
        "where shots > 20\n",
        "order by shots desc\n"
      ]
    },
    {
      "cell_type": "markdown",
      "metadata": {
        "id": "yP759DNQMZin"
      },
      "source": [
        "*3) Find the goalkeepers of teams that played more than four games. List the surname of the goalkeeper, the team, and the number of minutes the goalkeeper played.*"
      ]
    },
    {
      "cell_type": "code",
      "execution_count": null,
      "metadata": {
        "id": "NcaWGUcOMZio",
        "colab": {
          "base_uri": "https://localhost:8080/",
          "height": 242
        },
        "outputId": "396e1a83-5127-4838-87d3-085cf3b648d4"
      },
      "outputs": [
        {
          "output_type": "stream",
          "name": "stdout",
          "text": [
            " * sqlite://\n",
            "Done.\n"
          ]
        },
        {
          "output_type": "execute_result",
          "data": {
            "text/plain": [
              "[('Romero', 'Argentina', 450),\n",
              " ('Julio Cesar', 'Brazil', 450),\n",
              " ('Neuer', 'Germany', 540),\n",
              " ('Kingson', 'Ghana', 510),\n",
              " ('Stekelenburg', 'Netherlands', 540),\n",
              " ('Villar', 'Paraguay', 480),\n",
              " ('Casillas', 'Spain', 540),\n",
              " ('Muslera', 'Uruguay', 570)]"
            ],
            "text/html": [
              "<table>\n",
              "    <tr>\n",
              "        <th>surname</th>\n",
              "        <th>team</th>\n",
              "        <th>minutes</th>\n",
              "    </tr>\n",
              "    <tr>\n",
              "        <td>Romero</td>\n",
              "        <td>Argentina</td>\n",
              "        <td>450</td>\n",
              "    </tr>\n",
              "    <tr>\n",
              "        <td>Julio Cesar</td>\n",
              "        <td>Brazil</td>\n",
              "        <td>450</td>\n",
              "    </tr>\n",
              "    <tr>\n",
              "        <td>Neuer</td>\n",
              "        <td>Germany</td>\n",
              "        <td>540</td>\n",
              "    </tr>\n",
              "    <tr>\n",
              "        <td>Kingson</td>\n",
              "        <td>Ghana</td>\n",
              "        <td>510</td>\n",
              "    </tr>\n",
              "    <tr>\n",
              "        <td>Stekelenburg</td>\n",
              "        <td>Netherlands</td>\n",
              "        <td>540</td>\n",
              "    </tr>\n",
              "    <tr>\n",
              "        <td>Villar</td>\n",
              "        <td>Paraguay</td>\n",
              "        <td>480</td>\n",
              "    </tr>\n",
              "    <tr>\n",
              "        <td>Casillas</td>\n",
              "        <td>Spain</td>\n",
              "        <td>540</td>\n",
              "    </tr>\n",
              "    <tr>\n",
              "        <td>Muslera</td>\n",
              "        <td>Uruguay</td>\n",
              "        <td>570</td>\n",
              "    </tr>\n",
              "</table>"
            ]
          },
          "metadata": {},
          "execution_count": 62
        }
      ],
      "source": [
        "%%sql\n",
        "select surname, Players.team, minutes\n",
        "from Players\n",
        "inner join Teams\n",
        "    on Players.team = Teams.team\n",
        "where position = 'goalkeeper'\n",
        "and games > 4"
      ]
    },
    {
      "cell_type": "markdown",
      "metadata": {
        "id": "PDeczQ9mMZio"
      },
      "source": [
        "*4) How many players who play on a team with ranking <10 played more than 350 minutes? Return one number in a column named 'superstar'.*"
      ]
    },
    {
      "cell_type": "code",
      "execution_count": null,
      "metadata": {
        "id": "0G1PWdY9MZio",
        "colab": {
          "base_uri": "https://localhost:8080/",
          "height": 95
        },
        "outputId": "18eadcf9-5f93-455f-bca1-6e6311be3702"
      },
      "outputs": [
        {
          "output_type": "stream",
          "name": "stdout",
          "text": [
            " * sqlite://\n",
            "Done.\n"
          ]
        },
        {
          "output_type": "execute_result",
          "data": {
            "text/plain": [
              "[(54,)]"
            ],
            "text/html": [
              "<table>\n",
              "    <tr>\n",
              "        <th>superstar</th>\n",
              "    </tr>\n",
              "    <tr>\n",
              "        <td>54</td>\n",
              "    </tr>\n",
              "</table>"
            ]
          },
          "metadata": {},
          "execution_count": 65
        }
      ],
      "source": [
        "%%sql\n",
        "select count(*) as superstar\n",
        "from Players\n",
        "inner join Teams\n",
        "    on Players.team = Teams.team\n",
        "where Teams.ranking < 10\n",
        "  and Players.minutes > 350\n"
      ]
    },
    {
      "cell_type": "markdown",
      "metadata": {
        "id": "SoMiqgeBMZio"
      },
      "source": [
        "*5) What is the average number of passes made by forwards? By midfielders? Write one query that gives both values with the corresponding position.*"
      ]
    },
    {
      "cell_type": "code",
      "execution_count": null,
      "metadata": {
        "id": "1iN80E7IMZio",
        "colab": {
          "base_uri": "https://localhost:8080/",
          "height": 116
        },
        "outputId": "25b92155-7a94-4c49-ad1d-8634aa39fb0d"
      },
      "outputs": [
        {
          "output_type": "stream",
          "name": "stdout",
          "text": [
            " * sqlite://\n",
            "Done.\n"
          ]
        },
        {
          "output_type": "execute_result",
          "data": {
            "text/plain": [
              "[('forward', 50.82517482517483), ('midfielder', 95.2719298245614)]"
            ],
            "text/html": [
              "<table>\n",
              "    <tr>\n",
              "        <th>position</th>\n",
              "        <th>avg_passes</th>\n",
              "    </tr>\n",
              "    <tr>\n",
              "        <td>forward</td>\n",
              "        <td>50.82517482517483</td>\n",
              "    </tr>\n",
              "    <tr>\n",
              "        <td>midfielder</td>\n",
              "        <td>95.2719298245614</td>\n",
              "    </tr>\n",
              "</table>"
            ]
          },
          "metadata": {},
          "execution_count": 67
        }
      ],
      "source": [
        "%%sql\n",
        "select position, avg(passes) as avg_passes\n",
        "from Players\n",
        "where position in ('forward', 'midfielder')\n",
        "group by position\n"
      ]
    },
    {
      "cell_type": "markdown",
      "metadata": {
        "id": "Eack9A_YMZio"
      },
      "source": [
        "*6) Which team has the highest ratio of goalsFor to goalsAgainst? Return the team and the ratio.*"
      ]
    },
    {
      "cell_type": "code",
      "execution_count": null,
      "metadata": {
        "id": "Snc2E1y9MZio",
        "colab": {
          "base_uri": "https://localhost:8080/",
          "height": 95
        },
        "outputId": "dab786f1-37e5-4952-a62d-9e7870eb8aa9"
      },
      "outputs": [
        {
          "output_type": "stream",
          "name": "stdout",
          "text": [
            " * sqlite://\n",
            "Done.\n"
          ]
        },
        {
          "output_type": "execute_result",
          "data": {
            "text/plain": [
              "[('Portugal', 7.0)]"
            ],
            "text/html": [
              "<table>\n",
              "    <tr>\n",
              "        <th>team</th>\n",
              "        <th>ratio</th>\n",
              "    </tr>\n",
              "    <tr>\n",
              "        <td>Portugal</td>\n",
              "        <td>7.0</td>\n",
              "    </tr>\n",
              "</table>"
            ]
          },
          "metadata": {},
          "execution_count": 68
        }
      ],
      "source": [
        "%%sql\n",
        "select team,\n",
        "       cast(goalsFor as float) / goalsAgainst as ratio\n",
        "from Teams\n",
        "order by ratio desc\n",
        "limit 1\n"
      ]
    },
    {
      "cell_type": "markdown",
      "metadata": {
        "id": "6YSZkV_aMZio"
      },
      "source": [
        "### <font color = 'green'>**Your Turn Extra - Basic SQL on Titanic Data**</font>"
      ]
    },
    {
      "cell_type": "markdown",
      "source": [
        "<font color=\"red\">File access required:</font> In Colab these extra problems require first uploading **Titanic.csv** using the *Files* feature in the left toolbar. If running the notebook on a local computer, simply ensure this file is in the same workspace as the notebook."
      ],
      "metadata": {
        "id": "qx76VXgSy6ce"
      }
    },
    {
      "cell_type": "code",
      "execution_count": null,
      "metadata": {
        "id": "9KCdOSBwMZip",
        "colab": {
          "base_uri": "https://localhost:8080/",
          "height": 88
        },
        "outputId": "e059aeba-2102-4819-a8a8-5f6638677119"
      },
      "outputs": [
        {
          "output_type": "stream",
          "name": "stdout",
          "text": [
            " * sqlite://\n",
            "Done.\n",
            " * sqlite://\n"
          ]
        },
        {
          "output_type": "execute_result",
          "data": {
            "text/plain": [
              "'Persisted titanic'"
            ],
            "application/vnd.google.colaboratory.intrinsic+json": {
              "type": "string"
            }
          },
          "metadata": {},
          "execution_count": 91
        }
      ],
      "source": [
        "# Create database table from CSV file\n",
        "with open('Titanic.csv') as f: Titanic = pd.read_csv(f, index_col=0)\n",
        "%sql drop table if exists Titanic;\n",
        "%sql --persist Titanic"
      ]
    },
    {
      "cell_type": "markdown",
      "metadata": {
        "id": "8wGLHtTLMZip"
      },
      "source": [
        "#### Look at sample of Titanic table"
      ]
    },
    {
      "cell_type": "code",
      "execution_count": null,
      "metadata": {
        "id": "ai-_EAWCMZip",
        "colab": {
          "base_uri": "https://localhost:8080/",
          "height": 179
        },
        "outputId": "ae0a0f9e-7520-4d83-9623-e3a4a8a5dbf7"
      },
      "outputs": [
        {
          "output_type": "stream",
          "name": "stdout",
          "text": [
            " * sqlite://\n",
            "Done.\n"
          ]
        },
        {
          "output_type": "execute_result",
          "data": {
            "text/plain": [
              "[('Abbing', 'Mr. Anthony', 'M', 42.0, 3, 7.55, 'Southampton', 'no'),\n",
              " ('Abbott', 'Mrs. Stanton (Rosa Hunt)', 'F', 35.0, 3, 20.25, 'Southampton', 'yes'),\n",
              " ('Abbott', 'Mr. Rossmore Edward', 'M', 16.0, 3, 20.25, 'Southampton', 'no'),\n",
              " ('Abelson', 'Mr. Samuel', 'M', 30.0, 2, 24.0, 'Cherbourg', 'no'),\n",
              " ('Abelson', 'Mrs. Samuel (Hannah Wizosky)', 'F', 28.0, 2, 24.0, 'Cherbourg', 'yes')]"
            ],
            "text/html": [
              "<table>\n",
              "    <tr>\n",
              "        <th>last</th>\n",
              "        <th>first</th>\n",
              "        <th>gender</th>\n",
              "        <th>age</th>\n",
              "        <th>class</th>\n",
              "        <th>fare</th>\n",
              "        <th>embarked</th>\n",
              "        <th>survived</th>\n",
              "    </tr>\n",
              "    <tr>\n",
              "        <td>Abbing</td>\n",
              "        <td>Mr. Anthony</td>\n",
              "        <td>M</td>\n",
              "        <td>42.0</td>\n",
              "        <td>3</td>\n",
              "        <td>7.55</td>\n",
              "        <td>Southampton</td>\n",
              "        <td>no</td>\n",
              "    </tr>\n",
              "    <tr>\n",
              "        <td>Abbott</td>\n",
              "        <td>Mrs. Stanton (Rosa Hunt)</td>\n",
              "        <td>F</td>\n",
              "        <td>35.0</td>\n",
              "        <td>3</td>\n",
              "        <td>20.25</td>\n",
              "        <td>Southampton</td>\n",
              "        <td>yes</td>\n",
              "    </tr>\n",
              "    <tr>\n",
              "        <td>Abbott</td>\n",
              "        <td>Mr. Rossmore Edward</td>\n",
              "        <td>M</td>\n",
              "        <td>16.0</td>\n",
              "        <td>3</td>\n",
              "        <td>20.25</td>\n",
              "        <td>Southampton</td>\n",
              "        <td>no</td>\n",
              "    </tr>\n",
              "    <tr>\n",
              "        <td>Abelson</td>\n",
              "        <td>Mr. Samuel</td>\n",
              "        <td>M</td>\n",
              "        <td>30.0</td>\n",
              "        <td>2</td>\n",
              "        <td>24.0</td>\n",
              "        <td>Cherbourg</td>\n",
              "        <td>no</td>\n",
              "    </tr>\n",
              "    <tr>\n",
              "        <td>Abelson</td>\n",
              "        <td>Mrs. Samuel (Hannah Wizosky)</td>\n",
              "        <td>F</td>\n",
              "        <td>28.0</td>\n",
              "        <td>2</td>\n",
              "        <td>24.0</td>\n",
              "        <td>Cherbourg</td>\n",
              "        <td>yes</td>\n",
              "    </tr>\n",
              "</table>"
            ]
          },
          "metadata": {},
          "execution_count": 92
        }
      ],
      "source": [
        "%%sql\n",
        "select * from Titanic limit 5"
      ]
    },
    {
      "cell_type": "markdown",
      "metadata": {
        "id": "rm0ZXb2xMZip"
      },
      "source": [
        "*1) How many passengers sailed for free (i.e, fare is zero)?*"
      ]
    },
    {
      "cell_type": "code",
      "execution_count": null,
      "metadata": {
        "id": "dol81VcIMZip",
        "colab": {
          "base_uri": "https://localhost:8080/",
          "height": 95
        },
        "outputId": "47fdde03-1bcb-4a69-bf02-a6a73099d639"
      },
      "outputs": [
        {
          "output_type": "stream",
          "name": "stdout",
          "text": [
            " * sqlite://\n",
            "Done.\n"
          ]
        },
        {
          "output_type": "execute_result",
          "data": {
            "text/plain": [
              "[(15,)]"
            ],
            "text/html": [
              "<table>\n",
              "    <tr>\n",
              "        <th>count(*)</th>\n",
              "    </tr>\n",
              "    <tr>\n",
              "        <td>15</td>\n",
              "    </tr>\n",
              "</table>"
            ]
          },
          "metadata": {},
          "execution_count": 93
        }
      ],
      "source": [
        "%%sql\n",
        "select count(*)\n",
        "from Titanic\n",
        "where fare = 0"
      ]
    },
    {
      "cell_type": "markdown",
      "metadata": {
        "id": "eGHSZYUOMZip"
      },
      "source": [
        "*2) How many married women over age 50 embarked in Cherbourg? (Married women’s first names begin with \"Mrs.\"). Note: To check if attribute A begins with string S use \"A like 'S%'\"*"
      ]
    },
    {
      "cell_type": "code",
      "source": [
        "%%sql\n",
        "PRAGMA table_info(Titanic)"
      ],
      "metadata": {
        "colab": {
          "base_uri": "https://localhost:8080/",
          "height": 242
        },
        "id": "g8n_2uKVBgFI",
        "outputId": "043ed2ca-42ba-4624-8d8a-7afecf969d27"
      },
      "execution_count": null,
      "outputs": [
        {
          "output_type": "stream",
          "name": "stdout",
          "text": [
            " * sqlite://\n",
            "Done.\n"
          ]
        },
        {
          "output_type": "execute_result",
          "data": {
            "text/plain": [
              "[(0, 'last', 'TEXT', 0, None, 0),\n",
              " (1, 'first', 'TEXT', 0, None, 0),\n",
              " (2, 'gender', 'TEXT', 0, None, 0),\n",
              " (3, 'age', 'FLOAT', 0, None, 0),\n",
              " (4, 'class', 'BIGINT', 0, None, 0),\n",
              " (5, 'fare', 'FLOAT', 0, None, 0),\n",
              " (6, 'embarked', 'TEXT', 0, None, 0),\n",
              " (7, 'survived', 'TEXT', 0, None, 0)]"
            ],
            "text/html": [
              "<table>\n",
              "    <tr>\n",
              "        <th>cid</th>\n",
              "        <th>name</th>\n",
              "        <th>type</th>\n",
              "        <th>notnull</th>\n",
              "        <th>dflt_value</th>\n",
              "        <th>pk</th>\n",
              "    </tr>\n",
              "    <tr>\n",
              "        <td>0</td>\n",
              "        <td>last</td>\n",
              "        <td>TEXT</td>\n",
              "        <td>0</td>\n",
              "        <td>None</td>\n",
              "        <td>0</td>\n",
              "    </tr>\n",
              "    <tr>\n",
              "        <td>1</td>\n",
              "        <td>first</td>\n",
              "        <td>TEXT</td>\n",
              "        <td>0</td>\n",
              "        <td>None</td>\n",
              "        <td>0</td>\n",
              "    </tr>\n",
              "    <tr>\n",
              "        <td>2</td>\n",
              "        <td>gender</td>\n",
              "        <td>TEXT</td>\n",
              "        <td>0</td>\n",
              "        <td>None</td>\n",
              "        <td>0</td>\n",
              "    </tr>\n",
              "    <tr>\n",
              "        <td>3</td>\n",
              "        <td>age</td>\n",
              "        <td>FLOAT</td>\n",
              "        <td>0</td>\n",
              "        <td>None</td>\n",
              "        <td>0</td>\n",
              "    </tr>\n",
              "    <tr>\n",
              "        <td>4</td>\n",
              "        <td>class</td>\n",
              "        <td>BIGINT</td>\n",
              "        <td>0</td>\n",
              "        <td>None</td>\n",
              "        <td>0</td>\n",
              "    </tr>\n",
              "    <tr>\n",
              "        <td>5</td>\n",
              "        <td>fare</td>\n",
              "        <td>FLOAT</td>\n",
              "        <td>0</td>\n",
              "        <td>None</td>\n",
              "        <td>0</td>\n",
              "    </tr>\n",
              "    <tr>\n",
              "        <td>6</td>\n",
              "        <td>embarked</td>\n",
              "        <td>TEXT</td>\n",
              "        <td>0</td>\n",
              "        <td>None</td>\n",
              "        <td>0</td>\n",
              "    </tr>\n",
              "    <tr>\n",
              "        <td>7</td>\n",
              "        <td>survived</td>\n",
              "        <td>TEXT</td>\n",
              "        <td>0</td>\n",
              "        <td>None</td>\n",
              "        <td>0</td>\n",
              "    </tr>\n",
              "</table>"
            ]
          },
          "metadata": {},
          "execution_count": 97
        }
      ]
    },
    {
      "cell_type": "code",
      "execution_count": null,
      "metadata": {
        "id": "gytEplqnMZip",
        "colab": {
          "base_uri": "https://localhost:8080/",
          "height": 95
        },
        "outputId": "71b3f1a7-cbe8-4cd8-cc7e-dd30026e60c4"
      },
      "outputs": [
        {
          "output_type": "stream",
          "name": "stdout",
          "text": [
            " * sqlite://\n",
            "Done.\n"
          ]
        },
        {
          "output_type": "execute_result",
          "data": {
            "text/plain": [
              "[(4,)]"
            ],
            "text/html": [
              "<table>\n",
              "    <tr>\n",
              "        <th>count_mrs</th>\n",
              "    </tr>\n",
              "    <tr>\n",
              "        <td>4</td>\n",
              "    </tr>\n",
              "</table>"
            ]
          },
          "metadata": {},
          "execution_count": 98
        }
      ],
      "source": [
        "%%sql\n",
        "select count(*) as count_mrs\n",
        "from Titanic\n",
        "where class = 1\n",
        "  and embarked = 'Cherbourg'\n",
        "  and age > 50\n",
        "  and first like 'Mrs%'\n"
      ]
    },
    {
      "cell_type": "markdown",
      "metadata": {
        "id": "wxehxtLVMZip"
      },
      "source": [
        "*3) Write three queries to find: (i) the total number of passengers; (ii) the number of passengers under 18; (iii) the number of passengers 18 or older. Notice that the second and third numbers don't add up to the first.*"
      ]
    },
    {
      "cell_type": "code",
      "execution_count": null,
      "metadata": {
        "id": "0VeeF_wKMZiq",
        "colab": {
          "base_uri": "https://localhost:8080/",
          "height": 95
        },
        "outputId": "2eced444-89c6-447c-b31e-830dbb5c56da"
      },
      "outputs": [
        {
          "output_type": "stream",
          "name": "stdout",
          "text": [
            " * sqlite://\n",
            "Done.\n"
          ]
        },
        {
          "output_type": "execute_result",
          "data": {
            "text/plain": [
              "[(891,)]"
            ],
            "text/html": [
              "<table>\n",
              "    <tr>\n",
              "        <th>total_passengers</th>\n",
              "    </tr>\n",
              "    <tr>\n",
              "        <td>891</td>\n",
              "    </tr>\n",
              "</table>"
            ]
          },
          "metadata": {},
          "execution_count": 99
        }
      ],
      "source": [
        "%%sql\n",
        "select count(*) as total_passengers\n",
        "from Titanic\n"
      ]
    },
    {
      "cell_type": "code",
      "execution_count": null,
      "metadata": {
        "id": "oConUogHMZiq",
        "colab": {
          "base_uri": "https://localhost:8080/",
          "height": 95
        },
        "outputId": "f4a021a0-22d8-475f-8b17-6beb93eece2c"
      },
      "outputs": [
        {
          "output_type": "stream",
          "name": "stdout",
          "text": [
            " * sqlite://\n",
            "Done.\n"
          ]
        },
        {
          "output_type": "execute_result",
          "data": {
            "text/plain": [
              "[(113,)]"
            ],
            "text/html": [
              "<table>\n",
              "    <tr>\n",
              "        <th>under_18</th>\n",
              "    </tr>\n",
              "    <tr>\n",
              "        <td>113</td>\n",
              "    </tr>\n",
              "</table>"
            ]
          },
          "metadata": {},
          "execution_count": 100
        }
      ],
      "source": [
        "%%sql\n",
        "select count(*) as under_18\n",
        "from Titanic\n",
        "where age < 18\n"
      ]
    },
    {
      "cell_type": "code",
      "execution_count": null,
      "metadata": {
        "id": "Rx-IaNxDMZiq",
        "colab": {
          "base_uri": "https://localhost:8080/",
          "height": 95
        },
        "outputId": "65972023-a46b-4624-eeba-d20f2dcc1f83"
      },
      "outputs": [
        {
          "output_type": "stream",
          "name": "stdout",
          "text": [
            " * sqlite://\n",
            "Done.\n"
          ]
        },
        {
          "output_type": "execute_result",
          "data": {
            "text/plain": [
              "[(601,)]"
            ],
            "text/html": [
              "<table>\n",
              "    <tr>\n",
              "        <th>over_18</th>\n",
              "    </tr>\n",
              "    <tr>\n",
              "        <td>601</td>\n",
              "    </tr>\n",
              "</table>"
            ]
          },
          "metadata": {},
          "execution_count": 101
        }
      ],
      "source": [
        "%%sql\n",
        "select count(*) as over_18\n",
        "from Titanic\n",
        "where age >= 18\n"
      ]
    },
    {
      "cell_type": "markdown",
      "metadata": {
        "id": "lxReQfAlMZiq"
      },
      "source": [
        "*Missing values in SQL tables are given a special value called 'null', and conditions 'A is null' and 'A is not null' can be use in Where clauses to check whether attribute A has the 'null' value. Write a query to find the number of passengers whose age is missing -- now your passenger numbers should add up. Modify the query to also return the average fare paid by those passengers.*"
      ]
    },
    {
      "cell_type": "code",
      "execution_count": null,
      "metadata": {
        "id": "2H5T3iQ-MZiq",
        "colab": {
          "base_uri": "https://localhost:8080/",
          "height": 95
        },
        "outputId": "a878d9d3-6f2a-46da-b604-bfb352a83182"
      },
      "outputs": [
        {
          "output_type": "stream",
          "name": "stdout",
          "text": [
            " * sqlite://\n",
            "Done.\n"
          ]
        },
        {
          "output_type": "execute_result",
          "data": {
            "text/plain": [
              "[(177, 22.159491525423757)]"
            ],
            "text/html": [
              "<table>\n",
              "    <tr>\n",
              "        <th>missing_age</th>\n",
              "        <th>avg_fare_missing_age</th>\n",
              "    </tr>\n",
              "    <tr>\n",
              "        <td>177</td>\n",
              "        <td>22.159491525423757</td>\n",
              "    </tr>\n",
              "</table>"
            ]
          },
          "metadata": {},
          "execution_count": 102
        }
      ],
      "source": [
        "%%sql\n",
        "select count(*) as missing_age,\n",
        "       avg(fare) as avg_fare_missing_age\n",
        "from Titanic\n",
        "where age is null\n",
        "\n"
      ]
    },
    {
      "cell_type": "markdown",
      "metadata": {
        "id": "-BnWcsagMZiq"
      },
      "source": [
        "*4) Find all passengers whose age is not an integer; return last name, first name, and age, from youngest to oldest. Note: Consider using the round() function*"
      ]
    },
    {
      "cell_type": "code",
      "execution_count": null,
      "metadata": {
        "id": "HpGgIdOaMZiq",
        "colab": {
          "base_uri": "https://localhost:8080/",
          "height": 599
        },
        "outputId": "1b80270e-8f6e-4eff-c8a9-b9c6747a118b"
      },
      "outputs": [
        {
          "output_type": "stream",
          "name": "stdout",
          "text": [
            " * sqlite://\n",
            "Done.\n"
          ]
        },
        {
          "output_type": "execute_result",
          "data": {
            "text/plain": [
              "[('Thomas', 'Master Assad Alexander', 0.42),\n",
              " ('Hamalainen', 'Master Viljo', 0.67),\n",
              " ('Baclini', 'Miss Helene Barbara', 0.75),\n",
              " ('Baclini', 'Miss Eugenie', 0.75),\n",
              " ('Caldwell', 'Master Alden Gates', 0.83),\n",
              " ('Richards', 'Master George Sibley', 0.83),\n",
              " ('Allison', 'Master Hudson Trevor', 0.92),\n",
              " ('Zabour', 'Miss Hileni', 14.5),\n",
              " ('Lovell', ' Mr. John Hall (\"Henry\")', 20.5),\n",
              " ('Hanna', 'Mr. Mansour', 23.5),\n",
              " ('Sawyer', 'Mr. Frederick Charles', 24.5),\n",
              " ('Novel', 'Mr. Mansouer', 28.5),\n",
              " ('Williams', 'Mr. Leslie', 28.5),\n",
              " ('Mangan', 'Miss Mary', 30.5),\n",
              " ('Tomlin', 'Mr. Ernest Portage', 30.5),\n",
              " ('Nasser', 'Mr. Nicholas', 32.5),\n",
              " ('Webber', 'Miss Susan', 32.5),\n",
              " ('Lemberopolous', 'Mr. Peter L', 34.5),\n",
              " ('Navratil', ' Mr. Michel (\"Louis M Hoffman\")', 36.5),\n",
              " ('Farrell', 'Mr. James', 40.5),\n",
              " ('van Billiard', 'Mr. Austin Blyler', 40.5),\n",
              " ('Partner', 'Mr. Austen', 45.5),\n",
              " ('Youseff', 'Mr. Gerious', 45.5),\n",
              " ('Meo', 'Mr. Alfonzo', 55.5),\n",
              " ('Connors', 'Mr. Patrick', 70.5)]"
            ],
            "text/html": [
              "<table>\n",
              "    <tr>\n",
              "        <th>last</th>\n",
              "        <th>first</th>\n",
              "        <th>age</th>\n",
              "    </tr>\n",
              "    <tr>\n",
              "        <td>Thomas</td>\n",
              "        <td>Master Assad Alexander</td>\n",
              "        <td>0.42</td>\n",
              "    </tr>\n",
              "    <tr>\n",
              "        <td>Hamalainen</td>\n",
              "        <td>Master Viljo</td>\n",
              "        <td>0.67</td>\n",
              "    </tr>\n",
              "    <tr>\n",
              "        <td>Baclini</td>\n",
              "        <td>Miss Helene Barbara</td>\n",
              "        <td>0.75</td>\n",
              "    </tr>\n",
              "    <tr>\n",
              "        <td>Baclini</td>\n",
              "        <td>Miss Eugenie</td>\n",
              "        <td>0.75</td>\n",
              "    </tr>\n",
              "    <tr>\n",
              "        <td>Caldwell</td>\n",
              "        <td>Master Alden Gates</td>\n",
              "        <td>0.83</td>\n",
              "    </tr>\n",
              "    <tr>\n",
              "        <td>Richards</td>\n",
              "        <td>Master George Sibley</td>\n",
              "        <td>0.83</td>\n",
              "    </tr>\n",
              "    <tr>\n",
              "        <td>Allison</td>\n",
              "        <td>Master Hudson Trevor</td>\n",
              "        <td>0.92</td>\n",
              "    </tr>\n",
              "    <tr>\n",
              "        <td>Zabour</td>\n",
              "        <td>Miss Hileni</td>\n",
              "        <td>14.5</td>\n",
              "    </tr>\n",
              "    <tr>\n",
              "        <td>Lovell</td>\n",
              "        <td> Mr. John Hall (&quot;Henry&quot;)</td>\n",
              "        <td>20.5</td>\n",
              "    </tr>\n",
              "    <tr>\n",
              "        <td>Hanna</td>\n",
              "        <td>Mr. Mansour</td>\n",
              "        <td>23.5</td>\n",
              "    </tr>\n",
              "    <tr>\n",
              "        <td>Sawyer</td>\n",
              "        <td>Mr. Frederick Charles</td>\n",
              "        <td>24.5</td>\n",
              "    </tr>\n",
              "    <tr>\n",
              "        <td>Novel</td>\n",
              "        <td>Mr. Mansouer</td>\n",
              "        <td>28.5</td>\n",
              "    </tr>\n",
              "    <tr>\n",
              "        <td>Williams</td>\n",
              "        <td>Mr. Leslie</td>\n",
              "        <td>28.5</td>\n",
              "    </tr>\n",
              "    <tr>\n",
              "        <td>Mangan</td>\n",
              "        <td>Miss Mary</td>\n",
              "        <td>30.5</td>\n",
              "    </tr>\n",
              "    <tr>\n",
              "        <td>Tomlin</td>\n",
              "        <td>Mr. Ernest Portage</td>\n",
              "        <td>30.5</td>\n",
              "    </tr>\n",
              "    <tr>\n",
              "        <td>Nasser</td>\n",
              "        <td>Mr. Nicholas</td>\n",
              "        <td>32.5</td>\n",
              "    </tr>\n",
              "    <tr>\n",
              "        <td>Webber</td>\n",
              "        <td>Miss Susan</td>\n",
              "        <td>32.5</td>\n",
              "    </tr>\n",
              "    <tr>\n",
              "        <td>Lemberopolous</td>\n",
              "        <td>Mr. Peter L</td>\n",
              "        <td>34.5</td>\n",
              "    </tr>\n",
              "    <tr>\n",
              "        <td>Navratil</td>\n",
              "        <td> Mr. Michel (&quot;Louis M Hoffman&quot;)</td>\n",
              "        <td>36.5</td>\n",
              "    </tr>\n",
              "    <tr>\n",
              "        <td>Farrell</td>\n",
              "        <td>Mr. James</td>\n",
              "        <td>40.5</td>\n",
              "    </tr>\n",
              "    <tr>\n",
              "        <td>van Billiard</td>\n",
              "        <td>Mr. Austin Blyler</td>\n",
              "        <td>40.5</td>\n",
              "    </tr>\n",
              "    <tr>\n",
              "        <td>Partner</td>\n",
              "        <td>Mr. Austen</td>\n",
              "        <td>45.5</td>\n",
              "    </tr>\n",
              "    <tr>\n",
              "        <td>Youseff</td>\n",
              "        <td>Mr. Gerious</td>\n",
              "        <td>45.5</td>\n",
              "    </tr>\n",
              "    <tr>\n",
              "        <td>Meo</td>\n",
              "        <td>Mr. Alfonzo</td>\n",
              "        <td>55.5</td>\n",
              "    </tr>\n",
              "    <tr>\n",
              "        <td>Connors</td>\n",
              "        <td>Mr. Patrick</td>\n",
              "        <td>70.5</td>\n",
              "    </tr>\n",
              "</table>"
            ]
          },
          "metadata": {},
          "execution_count": 103
        }
      ],
      "source": [
        "%%sql\n",
        "select last, first, age\n",
        "from Titanic\n",
        "where age is not null\n",
        "  and age != round(age)\n",
        "order by age asc\n"
      ]
    },
    {
      "cell_type": "markdown",
      "metadata": {
        "id": "jJvTk0b5MZiq"
      },
      "source": [
        "*5) What is the most common last name among passengers, and how many passengers have that last name?*"
      ]
    },
    {
      "cell_type": "code",
      "execution_count": null,
      "metadata": {
        "id": "jBWPQ87sMZiq",
        "colab": {
          "base_uri": "https://localhost:8080/",
          "height": 95
        },
        "outputId": "a6388c36-5d54-45d4-cbe9-8004b4ff300d"
      },
      "outputs": [
        {
          "output_type": "stream",
          "name": "stdout",
          "text": [
            " * sqlite://\n",
            "Done.\n"
          ]
        },
        {
          "output_type": "execute_result",
          "data": {
            "text/plain": [
              "[('Andersson', 9)]"
            ],
            "text/html": [
              "<table>\n",
              "    <tr>\n",
              "        <th>last</th>\n",
              "        <th>name_count</th>\n",
              "    </tr>\n",
              "    <tr>\n",
              "        <td>Andersson</td>\n",
              "        <td>9</td>\n",
              "    </tr>\n",
              "</table>"
            ]
          },
          "metadata": {},
          "execution_count": 104
        }
      ],
      "source": [
        "%%sql\n",
        "select last, count(*) as name_count\n",
        "from Titanic\n",
        "group by last\n",
        "order by name_count desc\n",
        "limit 1\n"
      ]
    },
    {
      "cell_type": "markdown",
      "metadata": {
        "id": "fPE8VmwIMZir"
      },
      "source": [
        "*6) What is the average fare paid by passengers in the three classes, and the average age of passengers in the three classes?*"
      ]
    },
    {
      "cell_type": "code",
      "execution_count": null,
      "metadata": {
        "id": "kg0KDbLjMZir",
        "colab": {
          "base_uri": "https://localhost:8080/",
          "height": 137
        },
        "outputId": "05e2730b-7dd4-4147-881a-f135b3e31f4a"
      },
      "outputs": [
        {
          "output_type": "stream",
          "name": "stdout",
          "text": [
            " * sqlite://\n",
            "Done.\n"
          ]
        },
        {
          "output_type": "execute_result",
          "data": {
            "text/plain": [
              "[(1, 84.15499999999999, 38.233440860215055),\n",
              " (2, 20.66222826086957, 29.87763005780347),\n",
              " (3, 13.676863543788176, 25.14061971830986)]"
            ],
            "text/html": [
              "<table>\n",
              "    <tr>\n",
              "        <th>class</th>\n",
              "        <th>avg_fare</th>\n",
              "        <th>avg_age</th>\n",
              "    </tr>\n",
              "    <tr>\n",
              "        <td>1</td>\n",
              "        <td>84.15499999999999</td>\n",
              "        <td>38.233440860215055</td>\n",
              "    </tr>\n",
              "    <tr>\n",
              "        <td>2</td>\n",
              "        <td>20.66222826086957</td>\n",
              "        <td>29.87763005780347</td>\n",
              "    </tr>\n",
              "    <tr>\n",
              "        <td>3</td>\n",
              "        <td>13.676863543788176</td>\n",
              "        <td>25.14061971830986</td>\n",
              "    </tr>\n",
              "</table>"
            ]
          },
          "metadata": {},
          "execution_count": 105
        }
      ],
      "source": [
        "%%sql\n",
        "select class,\n",
        "       avg(fare) as avg_fare,\n",
        "       avg(age) as avg_age\n",
        "from Titanic\n",
        "group by class\n",
        "order by class\n"
      ]
    },
    {
      "cell_type": "markdown",
      "metadata": {
        "id": "IlUSRLQXMZir"
      },
      "source": [
        "*7) For male survivors, female survivors, male non-survivors, and female non-survivors, how many passengers are in each of those four categories and what is their average fare? Return your results from lowest to highest\n",
        "average fare.*"
      ]
    },
    {
      "cell_type": "code",
      "execution_count": null,
      "metadata": {
        "id": "LYxWBsotMZir",
        "colab": {
          "base_uri": "https://localhost:8080/",
          "height": 158
        },
        "outputId": "64897eb3-2b23-4786-b081-5e1632328eee"
      },
      "outputs": [
        {
          "output_type": "stream",
          "name": "stdout",
          "text": [
            " * sqlite://\n",
            "Done.\n"
          ]
        },
        {
          "output_type": "execute_result",
          "data": {
            "text/plain": [
              "[('M', 'no', 468, 21.961923076923),\n",
              " ('F', 'no', 81, 23.02555555555556),\n",
              " ('M', 'yes', 109, 40.82229357798166),\n",
              " ('F', 'yes', 233, 51.93901287553647)]"
            ],
            "text/html": [
              "<table>\n",
              "    <tr>\n",
              "        <th>gender</th>\n",
              "        <th>survived</th>\n",
              "        <th>passenger_count</th>\n",
              "        <th>avg_fare</th>\n",
              "    </tr>\n",
              "    <tr>\n",
              "        <td>M</td>\n",
              "        <td>no</td>\n",
              "        <td>468</td>\n",
              "        <td>21.961923076923</td>\n",
              "    </tr>\n",
              "    <tr>\n",
              "        <td>F</td>\n",
              "        <td>no</td>\n",
              "        <td>81</td>\n",
              "        <td>23.02555555555556</td>\n",
              "    </tr>\n",
              "    <tr>\n",
              "        <td>M</td>\n",
              "        <td>yes</td>\n",
              "        <td>109</td>\n",
              "        <td>40.82229357798166</td>\n",
              "    </tr>\n",
              "    <tr>\n",
              "        <td>F</td>\n",
              "        <td>yes</td>\n",
              "        <td>233</td>\n",
              "        <td>51.93901287553647</td>\n",
              "    </tr>\n",
              "</table>"
            ]
          },
          "metadata": {},
          "execution_count": 106
        }
      ],
      "source": [
        "%%sql\n",
        "select gender,\n",
        "       survived,\n",
        "       count(*) as passenger_count,\n",
        "       avg(fare) as avg_fare\n",
        "from Titanic\n",
        "group by gender, survived\n",
        "order by avg_fare asc\n"
      ]
    }
  ],
  "metadata": {
    "kernelspec": {
      "display_name": "Python 3",
      "language": "python",
      "name": "python3"
    },
    "language_info": {
      "codemirror_mode": {
        "name": "ipython",
        "version": 3
      },
      "file_extension": ".py",
      "mimetype": "text/x-python",
      "name": "python",
      "nbconvert_exporter": "python",
      "pygments_lexer": "ipython3",
      "version": "3.7.6"
    },
    "colab": {
      "provenance": [],
      "include_colab_link": true
    }
  },
  "nbformat": 4,
  "nbformat_minor": 0
}