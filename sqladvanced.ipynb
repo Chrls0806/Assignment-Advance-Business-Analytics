{
  "cells": [
    {
      "cell_type": "markdown",
      "metadata": {
        "id": "view-in-github",
        "colab_type": "text"
      },
      "source": [
        "<a href=\"https://colab.research.google.com/github/Chrls0806/Assignment-Advance-Business-Analytics/blob/main/sqladvanced.ipynb\" target=\"_parent\"><img src=\"https://colab.research.google.com/assets/colab-badge.svg\" alt=\"Open In Colab\"/></a>"
      ]
    },
    {
      "cell_type": "markdown",
      "metadata": {
        "id": "5eZHIB7Bjquk"
      },
      "source": [
        "### **Advanced SQL**"
      ]
    },
    {
      "cell_type": "markdown",
      "source": [
        "<font color=\"red\">File access required:</font> In Colab this notebook requires first uploading files **Cities.csv**, **Countries.csv**, **Players.csv**, and **Teams.csv** using the *Files* feature in the left toolbar. If running the notebook on a local computer, simply ensure these files are in the same workspace as the notebook."
      ],
      "metadata": {
        "id": "qfdS5K3uzZ6v"
      }
    },
    {
      "cell_type": "code",
      "source": [
        "!pip install prettytable==0.7.2\n",
        "!pip install ipython-sql"
      ],
      "metadata": {
        "id": "UFiOyWGg5JRm",
        "colab": {
          "base_uri": "https://localhost:8080/"
        },
        "outputId": "4a9ecb3f-36ad-4077-de38-beb3a2ba1319"
      },
      "execution_count": 9,
      "outputs": [
        {
          "output_type": "stream",
          "name": "stdout",
          "text": [
            "Requirement already satisfied: prettytable==0.7.2 in /usr/local/lib/python3.12/dist-packages (0.7.2)\n",
            "Requirement already satisfied: ipython-sql in /usr/local/lib/python3.12/dist-packages (0.5.0)\n",
            "Requirement already satisfied: prettytable in /usr/local/lib/python3.12/dist-packages (from ipython-sql) (0.7.2)\n",
            "Requirement already satisfied: ipython in /usr/local/lib/python3.12/dist-packages (from ipython-sql) (7.34.0)\n",
            "Requirement already satisfied: sqlalchemy>=2.0 in /usr/local/lib/python3.12/dist-packages (from ipython-sql) (2.0.43)\n",
            "Requirement already satisfied: sqlparse in /usr/local/lib/python3.12/dist-packages (from ipython-sql) (0.5.3)\n",
            "Requirement already satisfied: six in /usr/local/lib/python3.12/dist-packages (from ipython-sql) (1.17.0)\n",
            "Requirement already satisfied: ipython-genutils in /usr/local/lib/python3.12/dist-packages (from ipython-sql) (0.2.0)\n",
            "Requirement already satisfied: greenlet>=1 in /usr/local/lib/python3.12/dist-packages (from sqlalchemy>=2.0->ipython-sql) (3.2.4)\n",
            "Requirement already satisfied: typing-extensions>=4.6.0 in /usr/local/lib/python3.12/dist-packages (from sqlalchemy>=2.0->ipython-sql) (4.15.0)\n",
            "Requirement already satisfied: setuptools>=18.5 in /usr/local/lib/python3.12/dist-packages (from ipython->ipython-sql) (75.2.0)\n",
            "Requirement already satisfied: jedi>=0.16 in /usr/local/lib/python3.12/dist-packages (from ipython->ipython-sql) (0.19.2)\n",
            "Requirement already satisfied: decorator in /usr/local/lib/python3.12/dist-packages (from ipython->ipython-sql) (4.4.2)\n",
            "Requirement already satisfied: pickleshare in /usr/local/lib/python3.12/dist-packages (from ipython->ipython-sql) (0.7.5)\n",
            "Requirement already satisfied: traitlets>=4.2 in /usr/local/lib/python3.12/dist-packages (from ipython->ipython-sql) (5.7.1)\n",
            "Requirement already satisfied: prompt-toolkit!=3.0.0,!=3.0.1,<3.1.0,>=2.0.0 in /usr/local/lib/python3.12/dist-packages (from ipython->ipython-sql) (3.0.52)\n",
            "Requirement already satisfied: pygments in /usr/local/lib/python3.12/dist-packages (from ipython->ipython-sql) (2.19.2)\n",
            "Requirement already satisfied: backcall in /usr/local/lib/python3.12/dist-packages (from ipython->ipython-sql) (0.2.0)\n",
            "Requirement already satisfied: matplotlib-inline in /usr/local/lib/python3.12/dist-packages (from ipython->ipython-sql) (0.1.7)\n",
            "Requirement already satisfied: pexpect>4.3 in /usr/local/lib/python3.12/dist-packages (from ipython->ipython-sql) (4.9.0)\n",
            "Requirement already satisfied: parso<0.9.0,>=0.8.4 in /usr/local/lib/python3.12/dist-packages (from jedi>=0.16->ipython->ipython-sql) (0.8.5)\n",
            "Requirement already satisfied: ptyprocess>=0.5 in /usr/local/lib/python3.12/dist-packages (from pexpect>4.3->ipython->ipython-sql) (0.7.0)\n",
            "Requirement already satisfied: wcwidth in /usr/local/lib/python3.12/dist-packages (from prompt-toolkit!=3.0.0,!=3.0.1,<3.1.0,>=2.0.0->ipython->ipython-sql) (0.2.13)\n"
          ]
        }
      ]
    },
    {
      "cell_type": "code",
      "execution_count": 10,
      "metadata": {
        "id": "koogxEdSjqup",
        "outputId": "e10e24f1-c9b2-424a-d7cd-b84f01ee5d96",
        "colab": {
          "base_uri": "https://localhost:8080/"
        }
      },
      "outputs": [
        {
          "output_type": "stream",
          "name": "stdout",
          "text": [
            "The sql extension is already loaded. To reload it, use:\n",
            "  %reload_ext sql\n"
          ]
        }
      ],
      "source": [
        "# Set-up\n",
        "%load_ext sql\n",
        "%sql sqlite://\n",
        "import pandas as pd"
      ]
    },
    {
      "cell_type": "code",
      "execution_count": 11,
      "metadata": {
        "id": "qcK11E4ijquq",
        "colab": {
          "base_uri": "https://localhost:8080/",
          "height": 145
        },
        "outputId": "39b98b1d-210b-48a1-dadd-6d465e502281"
      },
      "outputs": [
        {
          "output_type": "stream",
          "name": "stdout",
          "text": [
            " * sqlite://\n",
            "Done.\n",
            " * sqlite://\n",
            " * sqlite://\n",
            "Done.\n",
            " * sqlite://\n"
          ]
        },
        {
          "output_type": "execute_result",
          "data": {
            "text/plain": [
              "'Persisted countries'"
            ],
            "application/vnd.google.colaboratory.intrinsic+json": {
              "type": "string"
            }
          },
          "metadata": {},
          "execution_count": 11
        }
      ],
      "source": [
        "# Create database tables from CSV files\n",
        "with open('Cities.csv') as f: Cities = pd.read_csv(f, index_col=0)\n",
        "%sql drop table if exists Cities;\n",
        "%sql --persist Cities\n",
        "\n",
        "with open('Countries.csv') as f: Countries = pd.read_csv(f, index_col=0)\n",
        "%sql drop table if exists Countries;\n",
        "%sql --persist Countries"
      ]
    },
    {
      "cell_type": "markdown",
      "metadata": {
        "id": "A4tmZ1Nzjqur"
      },
      "source": [
        "#### Look at sample of Cities and Countries tables"
      ]
    },
    {
      "cell_type": "code",
      "execution_count": 12,
      "metadata": {
        "id": "AWZ1SkEqjqur",
        "colab": {
          "base_uri": "https://localhost:8080/",
          "height": 237
        },
        "outputId": "a11eaa6b-479e-4d45-ccbd-b9cb408fc571"
      },
      "outputs": [
        {
          "output_type": "stream",
          "name": "stdout",
          "text": [
            " * sqlite://\n",
            "Done.\n"
          ]
        },
        {
          "output_type": "execute_result",
          "data": {
            "text/plain": [
              "[('Aalborg', 'Denmark', 57.03, 9.92, 7.52, None, None, None, None, None, None, None, None, None, None, None, None, None, None, None, None, None, None),\n",
              " ('Aberdeen', 'United Kingdom', 57.17, -2.08, 8.1, None, None, None, None, None, None, None, None, None, None, None, None, None, None, None, None, None, None),\n",
              " ('Abisko', 'Sweden', 63.35, 18.83, 0.2, None, None, None, None, None, None, None, None, None, None, None, None, None, None, None, None, None, None),\n",
              " ('Adana', 'Turkey', 36.99, 35.32, 18.67, None, None, None, None, None, None, None, None, None, None, None, None, None, None, None, None, None, None),\n",
              " ('Albacete', 'Spain', 39.0, -1.87, 12.62, None, None, None, None, None, None, None, None, None, None, None, None, None, None, None, None, None, None)]"
            ],
            "text/html": [
              "<table>\n",
              "    <tr>\n",
              "        <th>city</th>\n",
              "        <th>country</th>\n",
              "        <th>latitude</th>\n",
              "        <th>longitude</th>\n",
              "        <th>temperature</th>\n",
              "        <th>Unnamed: 5</th>\n",
              "        <th>Unnamed: 6</th>\n",
              "        <th>Unnamed: 7</th>\n",
              "        <th>Unnamed: 8</th>\n",
              "        <th>Unnamed: 9</th>\n",
              "        <th>Unnamed: 10</th>\n",
              "        <th>Unnamed: 11</th>\n",
              "        <th>Unnamed: 12</th>\n",
              "        <th>Unnamed: 13</th>\n",
              "        <th>Unnamed: 14</th>\n",
              "        <th>Unnamed: 15</th>\n",
              "        <th>Unnamed: 16</th>\n",
              "        <th>Unnamed: 17</th>\n",
              "        <th>Unnamed: 18</th>\n",
              "        <th>Unnamed: 19</th>\n",
              "        <th>Unnamed: 20</th>\n",
              "        <th>Unnamed: 21</th>\n",
              "        <th>Unnamed: 22</th>\n",
              "    </tr>\n",
              "    <tr>\n",
              "        <td>Aalborg</td>\n",
              "        <td>Denmark</td>\n",
              "        <td>57.03</td>\n",
              "        <td>9.92</td>\n",
              "        <td>7.52</td>\n",
              "        <td>None</td>\n",
              "        <td>None</td>\n",
              "        <td>None</td>\n",
              "        <td>None</td>\n",
              "        <td>None</td>\n",
              "        <td>None</td>\n",
              "        <td>None</td>\n",
              "        <td>None</td>\n",
              "        <td>None</td>\n",
              "        <td>None</td>\n",
              "        <td>None</td>\n",
              "        <td>None</td>\n",
              "        <td>None</td>\n",
              "        <td>None</td>\n",
              "        <td>None</td>\n",
              "        <td>None</td>\n",
              "        <td>None</td>\n",
              "        <td>None</td>\n",
              "    </tr>\n",
              "    <tr>\n",
              "        <td>Aberdeen</td>\n",
              "        <td>United Kingdom</td>\n",
              "        <td>57.17</td>\n",
              "        <td>-2.08</td>\n",
              "        <td>8.1</td>\n",
              "        <td>None</td>\n",
              "        <td>None</td>\n",
              "        <td>None</td>\n",
              "        <td>None</td>\n",
              "        <td>None</td>\n",
              "        <td>None</td>\n",
              "        <td>None</td>\n",
              "        <td>None</td>\n",
              "        <td>None</td>\n",
              "        <td>None</td>\n",
              "        <td>None</td>\n",
              "        <td>None</td>\n",
              "        <td>None</td>\n",
              "        <td>None</td>\n",
              "        <td>None</td>\n",
              "        <td>None</td>\n",
              "        <td>None</td>\n",
              "        <td>None</td>\n",
              "    </tr>\n",
              "    <tr>\n",
              "        <td>Abisko</td>\n",
              "        <td>Sweden</td>\n",
              "        <td>63.35</td>\n",
              "        <td>18.83</td>\n",
              "        <td>0.2</td>\n",
              "        <td>None</td>\n",
              "        <td>None</td>\n",
              "        <td>None</td>\n",
              "        <td>None</td>\n",
              "        <td>None</td>\n",
              "        <td>None</td>\n",
              "        <td>None</td>\n",
              "        <td>None</td>\n",
              "        <td>None</td>\n",
              "        <td>None</td>\n",
              "        <td>None</td>\n",
              "        <td>None</td>\n",
              "        <td>None</td>\n",
              "        <td>None</td>\n",
              "        <td>None</td>\n",
              "        <td>None</td>\n",
              "        <td>None</td>\n",
              "        <td>None</td>\n",
              "    </tr>\n",
              "    <tr>\n",
              "        <td>Adana</td>\n",
              "        <td>Turkey</td>\n",
              "        <td>36.99</td>\n",
              "        <td>35.32</td>\n",
              "        <td>18.67</td>\n",
              "        <td>None</td>\n",
              "        <td>None</td>\n",
              "        <td>None</td>\n",
              "        <td>None</td>\n",
              "        <td>None</td>\n",
              "        <td>None</td>\n",
              "        <td>None</td>\n",
              "        <td>None</td>\n",
              "        <td>None</td>\n",
              "        <td>None</td>\n",
              "        <td>None</td>\n",
              "        <td>None</td>\n",
              "        <td>None</td>\n",
              "        <td>None</td>\n",
              "        <td>None</td>\n",
              "        <td>None</td>\n",
              "        <td>None</td>\n",
              "        <td>None</td>\n",
              "    </tr>\n",
              "    <tr>\n",
              "        <td>Albacete</td>\n",
              "        <td>Spain</td>\n",
              "        <td>39.0</td>\n",
              "        <td>-1.87</td>\n",
              "        <td>12.62</td>\n",
              "        <td>None</td>\n",
              "        <td>None</td>\n",
              "        <td>None</td>\n",
              "        <td>None</td>\n",
              "        <td>None</td>\n",
              "        <td>None</td>\n",
              "        <td>None</td>\n",
              "        <td>None</td>\n",
              "        <td>None</td>\n",
              "        <td>None</td>\n",
              "        <td>None</td>\n",
              "        <td>None</td>\n",
              "        <td>None</td>\n",
              "        <td>None</td>\n",
              "        <td>None</td>\n",
              "        <td>None</td>\n",
              "        <td>None</td>\n",
              "        <td>None</td>\n",
              "    </tr>\n",
              "</table>"
            ]
          },
          "metadata": {},
          "execution_count": 12
        }
      ],
      "source": [
        "%%sql\n",
        "select * from Cities limit 5"
      ]
    },
    {
      "cell_type": "code",
      "execution_count": 13,
      "metadata": {
        "id": "tjr1nLb0jqur",
        "colab": {
          "base_uri": "https://localhost:8080/",
          "height": 219
        },
        "outputId": "dbd86085-a45a-4a3c-9b87-45199376c983"
      },
      "outputs": [
        {
          "output_type": "stream",
          "name": "stdout",
          "text": [
            " * sqlite://\n",
            "Done.\n"
          ]
        },
        {
          "output_type": "execute_result",
          "data": {
            "text/plain": [
              "[('Albania', 2.9, 'no', 'yes', None, None, None, None, None, None, None, None, None, None, None, None, None, None, None, None, None, None, None, None, None),\n",
              " ('Andorra', 0.07, 'no', 'no', None, None, None, None, None, None, None, None, None, None, None, None, None, None, None, None, None, None, None, None, None),\n",
              " ('Austria', 8.57, 'yes', 'no', None, None, None, None, None, None, None, None, None, None, None, None, None, None, None, None, None, None, None, None, None),\n",
              " ('Belarus', 9.48, 'no', 'no', None, None, None, None, None, None, None, None, None, None, None, None, None, None, None, None, None, None, None, None, None),\n",
              " ('Belgium', 11.37, 'yes', 'yes', None, None, None, None, None, None, None, None, None, None, None, None, None, None, None, None, None, None, None, None, None)]"
            ],
            "text/html": [
              "<table>\n",
              "    <tr>\n",
              "        <th>country</th>\n",
              "        <th>population</th>\n",
              "        <th>EU</th>\n",
              "        <th>coastline</th>\n",
              "        <th>Unnamed: 4</th>\n",
              "        <th>Unnamed: 5</th>\n",
              "        <th>Unnamed: 6</th>\n",
              "        <th>Unnamed: 7</th>\n",
              "        <th>Unnamed: 8</th>\n",
              "        <th>Unnamed: 9</th>\n",
              "        <th>Unnamed: 10</th>\n",
              "        <th>Unnamed: 11</th>\n",
              "        <th>Unnamed: 12</th>\n",
              "        <th>Unnamed: 13</th>\n",
              "        <th>Unnamed: 14</th>\n",
              "        <th>Unnamed: 15</th>\n",
              "        <th>Unnamed: 16</th>\n",
              "        <th>Unnamed: 17</th>\n",
              "        <th>Unnamed: 18</th>\n",
              "        <th>Unnamed: 19</th>\n",
              "        <th>Unnamed: 20</th>\n",
              "        <th>Unnamed: 21</th>\n",
              "        <th>Unnamed: 22</th>\n",
              "        <th>Unnamed: 23</th>\n",
              "        <th>Unnamed: 24</th>\n",
              "    </tr>\n",
              "    <tr>\n",
              "        <td>Albania</td>\n",
              "        <td>2.9</td>\n",
              "        <td>no</td>\n",
              "        <td>yes</td>\n",
              "        <td>None</td>\n",
              "        <td>None</td>\n",
              "        <td>None</td>\n",
              "        <td>None</td>\n",
              "        <td>None</td>\n",
              "        <td>None</td>\n",
              "        <td>None</td>\n",
              "        <td>None</td>\n",
              "        <td>None</td>\n",
              "        <td>None</td>\n",
              "        <td>None</td>\n",
              "        <td>None</td>\n",
              "        <td>None</td>\n",
              "        <td>None</td>\n",
              "        <td>None</td>\n",
              "        <td>None</td>\n",
              "        <td>None</td>\n",
              "        <td>None</td>\n",
              "        <td>None</td>\n",
              "        <td>None</td>\n",
              "        <td>None</td>\n",
              "    </tr>\n",
              "    <tr>\n",
              "        <td>Andorra</td>\n",
              "        <td>0.07</td>\n",
              "        <td>no</td>\n",
              "        <td>no</td>\n",
              "        <td>None</td>\n",
              "        <td>None</td>\n",
              "        <td>None</td>\n",
              "        <td>None</td>\n",
              "        <td>None</td>\n",
              "        <td>None</td>\n",
              "        <td>None</td>\n",
              "        <td>None</td>\n",
              "        <td>None</td>\n",
              "        <td>None</td>\n",
              "        <td>None</td>\n",
              "        <td>None</td>\n",
              "        <td>None</td>\n",
              "        <td>None</td>\n",
              "        <td>None</td>\n",
              "        <td>None</td>\n",
              "        <td>None</td>\n",
              "        <td>None</td>\n",
              "        <td>None</td>\n",
              "        <td>None</td>\n",
              "        <td>None</td>\n",
              "    </tr>\n",
              "    <tr>\n",
              "        <td>Austria</td>\n",
              "        <td>8.57</td>\n",
              "        <td>yes</td>\n",
              "        <td>no</td>\n",
              "        <td>None</td>\n",
              "        <td>None</td>\n",
              "        <td>None</td>\n",
              "        <td>None</td>\n",
              "        <td>None</td>\n",
              "        <td>None</td>\n",
              "        <td>None</td>\n",
              "        <td>None</td>\n",
              "        <td>None</td>\n",
              "        <td>None</td>\n",
              "        <td>None</td>\n",
              "        <td>None</td>\n",
              "        <td>None</td>\n",
              "        <td>None</td>\n",
              "        <td>None</td>\n",
              "        <td>None</td>\n",
              "        <td>None</td>\n",
              "        <td>None</td>\n",
              "        <td>None</td>\n",
              "        <td>None</td>\n",
              "        <td>None</td>\n",
              "    </tr>\n",
              "    <tr>\n",
              "        <td>Belarus</td>\n",
              "        <td>9.48</td>\n",
              "        <td>no</td>\n",
              "        <td>no</td>\n",
              "        <td>None</td>\n",
              "        <td>None</td>\n",
              "        <td>None</td>\n",
              "        <td>None</td>\n",
              "        <td>None</td>\n",
              "        <td>None</td>\n",
              "        <td>None</td>\n",
              "        <td>None</td>\n",
              "        <td>None</td>\n",
              "        <td>None</td>\n",
              "        <td>None</td>\n",
              "        <td>None</td>\n",
              "        <td>None</td>\n",
              "        <td>None</td>\n",
              "        <td>None</td>\n",
              "        <td>None</td>\n",
              "        <td>None</td>\n",
              "        <td>None</td>\n",
              "        <td>None</td>\n",
              "        <td>None</td>\n",
              "        <td>None</td>\n",
              "    </tr>\n",
              "    <tr>\n",
              "        <td>Belgium</td>\n",
              "        <td>11.37</td>\n",
              "        <td>yes</td>\n",
              "        <td>yes</td>\n",
              "        <td>None</td>\n",
              "        <td>None</td>\n",
              "        <td>None</td>\n",
              "        <td>None</td>\n",
              "        <td>None</td>\n",
              "        <td>None</td>\n",
              "        <td>None</td>\n",
              "        <td>None</td>\n",
              "        <td>None</td>\n",
              "        <td>None</td>\n",
              "        <td>None</td>\n",
              "        <td>None</td>\n",
              "        <td>None</td>\n",
              "        <td>None</td>\n",
              "        <td>None</td>\n",
              "        <td>None</td>\n",
              "        <td>None</td>\n",
              "        <td>None</td>\n",
              "        <td>None</td>\n",
              "        <td>None</td>\n",
              "        <td>None</td>\n",
              "    </tr>\n",
              "</table>"
            ]
          },
          "metadata": {},
          "execution_count": 13
        }
      ],
      "source": [
        "%%sql\n",
        "select * from Countries limit 5"
      ]
    },
    {
      "cell_type": "markdown",
      "metadata": {
        "id": "BRqK5W8Zjqus"
      },
      "source": [
        "### Duplicates, table variables"
      ]
    },
    {
      "cell_type": "markdown",
      "metadata": {
        "id": "KKLlcI7hjqut"
      },
      "source": [
        "*Warm-up: Find all cities in the EU with temperature > 15*"
      ]
    },
    {
      "cell_type": "code",
      "execution_count": 14,
      "metadata": {
        "id": "VZ0cZPm1jqut",
        "colab": {
          "base_uri": "https://localhost:8080/",
          "height": 499
        },
        "outputId": "060adadb-4a32-4580-e049-add45db67a20"
      },
      "outputs": [
        {
          "output_type": "stream",
          "name": "stdout",
          "text": [
            " * sqlite://\n",
            "Done.\n"
          ]
        },
        {
          "output_type": "execute_result",
          "data": {
            "text/plain": [
              "[('Algeciras',),\n",
              " ('Athens',),\n",
              " ('Badajoz',),\n",
              " ('Barcelona',),\n",
              " ('Bari',),\n",
              " ('Cartagena',),\n",
              " ('Catania',),\n",
              " ('Cosenza',),\n",
              " ('Granada',),\n",
              " ('Huelva',),\n",
              " ('Kalamata',),\n",
              " ('Lisbon',),\n",
              " ('Marbella',),\n",
              " ('Messina',),\n",
              " ('Palermo',),\n",
              " ('Patras',),\n",
              " ('Pescara',),\n",
              " ('Rome',),\n",
              " ('Trikala',),\n",
              " ('Valencia',)]"
            ],
            "text/html": [
              "<table>\n",
              "    <tr>\n",
              "        <th>city</th>\n",
              "    </tr>\n",
              "    <tr>\n",
              "        <td>Algeciras</td>\n",
              "    </tr>\n",
              "    <tr>\n",
              "        <td>Athens</td>\n",
              "    </tr>\n",
              "    <tr>\n",
              "        <td>Badajoz</td>\n",
              "    </tr>\n",
              "    <tr>\n",
              "        <td>Barcelona</td>\n",
              "    </tr>\n",
              "    <tr>\n",
              "        <td>Bari</td>\n",
              "    </tr>\n",
              "    <tr>\n",
              "        <td>Cartagena</td>\n",
              "    </tr>\n",
              "    <tr>\n",
              "        <td>Catania</td>\n",
              "    </tr>\n",
              "    <tr>\n",
              "        <td>Cosenza</td>\n",
              "    </tr>\n",
              "    <tr>\n",
              "        <td>Granada</td>\n",
              "    </tr>\n",
              "    <tr>\n",
              "        <td>Huelva</td>\n",
              "    </tr>\n",
              "    <tr>\n",
              "        <td>Kalamata</td>\n",
              "    </tr>\n",
              "    <tr>\n",
              "        <td>Lisbon</td>\n",
              "    </tr>\n",
              "    <tr>\n",
              "        <td>Marbella</td>\n",
              "    </tr>\n",
              "    <tr>\n",
              "        <td>Messina</td>\n",
              "    </tr>\n",
              "    <tr>\n",
              "        <td>Palermo</td>\n",
              "    </tr>\n",
              "    <tr>\n",
              "        <td>Patras</td>\n",
              "    </tr>\n",
              "    <tr>\n",
              "        <td>Pescara</td>\n",
              "    </tr>\n",
              "    <tr>\n",
              "        <td>Rome</td>\n",
              "    </tr>\n",
              "    <tr>\n",
              "        <td>Trikala</td>\n",
              "    </tr>\n",
              "    <tr>\n",
              "        <td>Valencia</td>\n",
              "    </tr>\n",
              "</table>"
            ]
          },
          "metadata": {},
          "execution_count": 14
        }
      ],
      "source": [
        "%%sql\n",
        "select city\n",
        "from Cities, Countries\n",
        "where Cities.country = Countries.country\n",
        "and EU = 'yes' and temperature > 15"
      ]
    },
    {
      "cell_type": "markdown",
      "metadata": {
        "id": "_tm31oeRjqut"
      },
      "source": [
        "*Modify previous query to return EU countries that have a city with temperature > 15, remove duplicates*"
      ]
    },
    {
      "cell_type": "markdown",
      "metadata": {
        "id": "lC2V2lr4jquu"
      },
      "source": [
        "*Find number of countries that have a city with latitude > 60 (start with country list then fix)*"
      ]
    },
    {
      "cell_type": "code",
      "execution_count": 15,
      "metadata": {
        "id": "zRnnhSRqjquu",
        "colab": {
          "base_uri": "https://localhost:8080/",
          "height": 267
        },
        "outputId": "2313a450-a6aa-4e53-dee1-0141c576ce76"
      },
      "outputs": [
        {
          "output_type": "stream",
          "name": "stdout",
          "text": [
            " * sqlite://\n",
            "Done.\n"
          ]
        },
        {
          "output_type": "execute_result",
          "data": {
            "text/plain": [
              "[('Sweden',),\n",
              " ('Norway',),\n",
              " ('Norway',),\n",
              " ('Finland',),\n",
              " ('Sweden',),\n",
              " ('Finland',),\n",
              " ('Finland',),\n",
              " ('Norway',),\n",
              " ('Finland',)]"
            ],
            "text/html": [
              "<table>\n",
              "    <tr>\n",
              "        <th>country</th>\n",
              "    </tr>\n",
              "    <tr>\n",
              "        <td>Sweden</td>\n",
              "    </tr>\n",
              "    <tr>\n",
              "        <td>Norway</td>\n",
              "    </tr>\n",
              "    <tr>\n",
              "        <td>Norway</td>\n",
              "    </tr>\n",
              "    <tr>\n",
              "        <td>Finland</td>\n",
              "    </tr>\n",
              "    <tr>\n",
              "        <td>Sweden</td>\n",
              "    </tr>\n",
              "    <tr>\n",
              "        <td>Finland</td>\n",
              "    </tr>\n",
              "    <tr>\n",
              "        <td>Finland</td>\n",
              "    </tr>\n",
              "    <tr>\n",
              "        <td>Norway</td>\n",
              "    </tr>\n",
              "    <tr>\n",
              "        <td>Finland</td>\n",
              "    </tr>\n",
              "</table>"
            ]
          },
          "metadata": {},
          "execution_count": 15
        }
      ],
      "source": [
        "%%sql\n",
        "select country\n",
        "from Cities\n",
        "where latitude > 60"
      ]
    },
    {
      "cell_type": "markdown",
      "metadata": {
        "id": "had7VC5njquu"
      },
      "source": [
        "*Modify first query to use table variables*"
      ]
    },
    {
      "cell_type": "code",
      "execution_count": 16,
      "metadata": {
        "id": "xsa-rlY3jquv",
        "colab": {
          "base_uri": "https://localhost:8080/",
          "height": 499
        },
        "outputId": "e9eaf245-d83c-48aa-83fd-2824cd375c3f"
      },
      "outputs": [
        {
          "output_type": "stream",
          "name": "stdout",
          "text": [
            " * sqlite://\n",
            "Done.\n"
          ]
        },
        {
          "output_type": "execute_result",
          "data": {
            "text/plain": [
              "[('Algeciras',),\n",
              " ('Athens',),\n",
              " ('Badajoz',),\n",
              " ('Barcelona',),\n",
              " ('Bari',),\n",
              " ('Cartagena',),\n",
              " ('Catania',),\n",
              " ('Cosenza',),\n",
              " ('Granada',),\n",
              " ('Huelva',),\n",
              " ('Kalamata',),\n",
              " ('Lisbon',),\n",
              " ('Marbella',),\n",
              " ('Messina',),\n",
              " ('Palermo',),\n",
              " ('Patras',),\n",
              " ('Pescara',),\n",
              " ('Rome',),\n",
              " ('Trikala',),\n",
              " ('Valencia',)]"
            ],
            "text/html": [
              "<table>\n",
              "    <tr>\n",
              "        <th>city</th>\n",
              "    </tr>\n",
              "    <tr>\n",
              "        <td>Algeciras</td>\n",
              "    </tr>\n",
              "    <tr>\n",
              "        <td>Athens</td>\n",
              "    </tr>\n",
              "    <tr>\n",
              "        <td>Badajoz</td>\n",
              "    </tr>\n",
              "    <tr>\n",
              "        <td>Barcelona</td>\n",
              "    </tr>\n",
              "    <tr>\n",
              "        <td>Bari</td>\n",
              "    </tr>\n",
              "    <tr>\n",
              "        <td>Cartagena</td>\n",
              "    </tr>\n",
              "    <tr>\n",
              "        <td>Catania</td>\n",
              "    </tr>\n",
              "    <tr>\n",
              "        <td>Cosenza</td>\n",
              "    </tr>\n",
              "    <tr>\n",
              "        <td>Granada</td>\n",
              "    </tr>\n",
              "    <tr>\n",
              "        <td>Huelva</td>\n",
              "    </tr>\n",
              "    <tr>\n",
              "        <td>Kalamata</td>\n",
              "    </tr>\n",
              "    <tr>\n",
              "        <td>Lisbon</td>\n",
              "    </tr>\n",
              "    <tr>\n",
              "        <td>Marbella</td>\n",
              "    </tr>\n",
              "    <tr>\n",
              "        <td>Messina</td>\n",
              "    </tr>\n",
              "    <tr>\n",
              "        <td>Palermo</td>\n",
              "    </tr>\n",
              "    <tr>\n",
              "        <td>Patras</td>\n",
              "    </tr>\n",
              "    <tr>\n",
              "        <td>Pescara</td>\n",
              "    </tr>\n",
              "    <tr>\n",
              "        <td>Rome</td>\n",
              "    </tr>\n",
              "    <tr>\n",
              "        <td>Trikala</td>\n",
              "    </tr>\n",
              "    <tr>\n",
              "        <td>Valencia</td>\n",
              "    </tr>\n",
              "</table>"
            ]
          },
          "metadata": {},
          "execution_count": 16
        }
      ],
      "source": [
        "%%sql\n",
        "select city\n",
        "from Cities, Countries\n",
        "where Cities.country = Countries.country\n",
        "and EU = 'yes' and temperature > 15"
      ]
    },
    {
      "cell_type": "markdown",
      "metadata": {
        "id": "PUJo_O7pjquv"
      },
      "source": [
        "*Find all pairs of cities with the same longitude; return the city pairs and their (shared) longitude - notice what's wrong and fix it*"
      ]
    },
    {
      "cell_type": "code",
      "execution_count": 17,
      "metadata": {
        "id": "tUp3_F7tjquv",
        "colab": {
          "base_uri": "https://localhost:8080/",
          "height": 1000
        },
        "outputId": "81ee50da-12c1-4b1b-b150-c9d04f93b247"
      },
      "outputs": [
        {
          "output_type": "stream",
          "name": "stdout",
          "text": [
            " * sqlite://\n",
            "Done.\n"
          ]
        },
        {
          "output_type": "execute_result",
          "data": {
            "text/plain": [
              "[('Aalborg', 'Aalborg', 9.92),\n",
              " ('Aberdeen', 'Aberdeen', -2.08),\n",
              " ('Abisko', 'Abisko', 18.83),\n",
              " ('Adana', 'Adana', 35.32),\n",
              " ('Albacete', 'Albacete', -1.87),\n",
              " ('Algeciras', 'Algeciras', -5.47),\n",
              " ('Amiens', 'Amiens', 2.3),\n",
              " ('Amsterdam', 'Amsterdam', 4.92),\n",
              " ('Ancona', 'Ancona', 13.5),\n",
              " ('Andorra', 'Andorra', 1.52),\n",
              " ('Angers', 'Angers', -0.53),\n",
              " ('Ankara', 'Ankara', 32.86),\n",
              " ('Antalya', 'Antalya', 30.7),\n",
              " ('Arad', 'Arad', 21.32),\n",
              " ('Athens', 'Athens', 23.73),\n",
              " ('Augsburg', 'Augsburg', 10.9),\n",
              " ('Bacau', 'Bacau', 26.92),\n",
              " ('Badajoz', 'Badajoz', -6.97),\n",
              " ('Baia Mare', 'Baia Mare', 23.58),\n",
              " ('Balti', 'Balti', 27.91),\n",
              " ('Barcelona', 'Barcelona', 2.18),\n",
              " ('Bari', 'Bari', 16.87),\n",
              " ('Basel', 'Basel', 7.59),\n",
              " ('Batman', 'Batman', 41.14),\n",
              " ('Belfast', 'Belfast', -5.96),\n",
              " ('Belgrade', 'Belgrade', 20.47),\n",
              " ('Bergamo', 'Bergamo', 9.67),\n",
              " ('Bergen', 'Bergen', 5.32),\n",
              " ('Berlin', 'Berlin', 13.4),\n",
              " ('Bialystok', 'Bialystok', 23.17),\n",
              " ('Bielefeld', 'Bielefeld', 8.53),\n",
              " ('Bila Tserkva', 'Bila Tserkva', 30.13),\n",
              " ('Bilbao', 'Bilbao', -2.93),\n",
              " ('Birmingham', 'Birmingham', -1.92),\n",
              " ('Blackpool', 'Blackpool', -3.05),\n",
              " ('Bodo', 'Bodo', 14.4),\n",
              " ('Bologna', 'Bologna', 11.34),\n",
              " ('Bonn', 'Bonn', 7.08),\n",
              " ('Bordeaux', 'Bordeaux', -0.6),\n",
              " ('Botosani', 'Botosani', 26.66),\n",
              " ('Bournemouth', 'Bournemouth', -1.9),\n",
              " ('Bradford', 'Bradford', -1.75),\n",
              " ('Braga', 'Braga', -8.42),\n",
              " ('Braila', 'Braila', 27.97),\n",
              " ('Bratislava', 'Bratislava', 17.12),\n",
              " ('Bremen', 'Bremen', 8.8),\n",
              " ('Brest', 'Brest', -4.5),\n",
              " ('Brest', 'Brest', 23.7),\n",
              " ('Brno', 'Brno', 16.61),\n",
              " ('Brugge', 'Brugge', 3.23),\n",
              " ('Bucharest', 'Bucharest', 26.1),\n",
              " ('Budapest', 'Budapest', 19.08),\n",
              " ('Burgas', 'Burgas', 27.47),\n",
              " ('Burgos', 'Burgos', -3.68),\n",
              " ('Burgos', 'Madrid', -3.68),\n",
              " ('Bursa', 'Bursa', 29.07),\n",
              " ('Bydgoszcz', 'Bydgoszcz', 18.01),\n",
              " ('Bytom', 'Bytom', 18.91),\n",
              " ('Caen', 'Caen', -0.35),\n",
              " ('Cambridge', 'Cambridge', 0.12),\n",
              " ('Cartagena', 'Cartagena', -0.98),\n",
              " ('Catania', 'Catania', 15.08),\n",
              " ('Chemnitz', 'Chemnitz', 12.92),\n",
              " ('Cherkasy', 'Cherkasy', 32.07),\n",
              " ('Chernihiv', 'Chernihiv', 31.3),\n",
              " ('Chernivtsi', 'Chernivtsi', 25.92),\n",
              " ('Chisinau', 'Chisinau', 28.86),\n",
              " ('Constanta', 'Constanta', 28.61),\n",
              " ('Cork', 'Cork', -8.5),\n",
              " ('Cosenza', 'Cosenza', 16.29),\n",
              " ('Craiova', 'Craiova', 23.83),\n",
              " ('Craiova', 'Hrodna', 23.83),\n",
              " ('Daugavpils', 'Daugavpils', 26.51),\n",
              " ('Debrecen', 'Debrecen', 21.63),\n",
              " ('Denizli', 'Denizli', 29.08),\n",
              " ('Dijon', 'Dijon', 5.03),\n",
              " ('Dublin', 'Dublin', -6.25),\n",
              " ('Dundee', 'Dundee', -3.0),\n",
              " ('Edinburgh', 'Edinburgh', -3.22),\n",
              " ('Edirne', 'Edirne', 26.57),\n",
              " ('Elbasan', 'Elbasan', 20.08),\n",
              " ('Elblag', 'Elblag', 19.4),\n",
              " ('Erfurt', 'Erfurt', 11.03),\n",
              " ('Erzincan', 'Erzincan', 39.49),\n",
              " ('Erzurum', 'Erzurum', 41.29),\n",
              " ('Eskisehir', 'Eskisehir', 30.53),\n",
              " ('Exeter', 'Exeter', -3.53),\n",
              " ('Foggia', 'Foggia', 15.56),\n",
              " ('Frankfurt', 'Frankfurt', 8.68),\n",
              " ('Freiburg', 'Freiburg', 7.87),\n",
              " ('Galway', 'Galway', -9.05),\n",
              " ('Gaziantep', 'Gaziantep', 37.38),\n",
              " ('Geneva', 'Geneva', 6.14),\n",
              " ('Genoa', 'Genoa', 8.93),\n",
              " ('Glasgow', 'Glasgow', -4.25),\n",
              " ('Göteborg', 'Göteborg', 12.0),\n",
              " ('Granada', 'Granada', -3.59),\n",
              " ('Graz', 'Graz', 15.41),\n",
              " ('Grenoble', 'Grenoble', 5.72),\n",
              " ('Groningen', 'Groningen', 6.58),\n",
              " ('Gyor', 'Gyor', 17.63),\n",
              " ('Heidelberg', 'Heidelberg', 8.7),\n",
              " ('Helsinki', 'Helsinki', 24.93),\n",
              " ('Horlivka', 'Horlivka', 38.05),\n",
              " ('Hrodna', 'Craiova', 23.83),\n",
              " ('Hrodna', 'Hrodna', 23.83),\n",
              " ('Huelva', 'Huelva', -6.93),\n",
              " ('Ingolstadt', 'Ingolstadt', 11.45),\n",
              " ('Innsbruck', 'Innsbruck', 11.41),\n",
              " ('Inverness', 'Inverness', -4.23),\n",
              " ('Istanbul', 'Istanbul', 29.01),\n",
              " ('Kalamata', 'Kalamata', 22.11),\n",
              " ('Karaman', 'Karaman', 33.22),\n",
              " ('Karlsruhe', 'Karlsruhe', 8.4),\n",
              " ('Kaunas', 'Kaunas', 23.88),\n",
              " ('Kayseri', 'Kayseri', 35.49),\n",
              " ('Kherson', 'Kherson', 32.6),\n",
              " ('Kielce', 'Kielce', 20.66),\n",
              " ('Kiev', 'Kiev', 30.52),\n",
              " ('Kiruna', 'Kiruna', 20.22),\n",
              " ('Klaipeda', 'Klaipeda', 21.12),\n",
              " ('Kosice', 'Kosice', 21.25),\n",
              " ('Koszalin', 'Koszalin', 16.18),\n",
              " ('Kremenchuk', 'Kremenchuk', 33.43),\n",
              " ('Kryvyy Rih', 'Kryvyy Rih', 33.34),\n",
              " ('Le Mans', 'Le Mans', 0.1),\n",
              " ('Lille', 'Lille', 3.08),\n",
              " ('Limoges', 'Limoges', 1.25),\n",
              " ('Linz', 'Linz', 14.29),\n",
              " ('Lisbon', 'Lisbon', -9.14),\n",
              " ('Ljubljana', 'Ljubljana', 14.51),\n",
              " ('Lvov', 'Lvov', 24.03),\n",
              " ('Maastricht', 'Maastricht', 5.68),\n",
              " ('Maastricht', 'Stavanger', 5.68),\n",
              " ('Madrid', 'Burgos', -3.68),\n",
              " ('Madrid', 'Madrid', -3.68),\n",
              " ('Magdeburg', 'Magdeburg', 11.62),\n",
              " ('Makiyivka', 'Makiyivka', 37.97),\n",
              " ('Malatya', 'Malatya', 38.3),\n",
              " ('Malmö', 'Malmö', 13.03),\n",
              " ('Manisa', 'Manisa', 27.44),\n",
              " ('Marbella', 'Marbella', -4.88),\n",
              " ('Marseille', 'Marseille', 5.38),\n",
              " ('Mazyr', 'Mazyr', 29.27),\n",
              " ('Messina', 'Messina', 15.55),\n",
              " ('Metz', 'Metz', 6.18),\n",
              " ('Milan', 'Milan', 9.21),\n",
              " ('Minsk', 'Minsk', 27.57),\n",
              " ('Montpellier', 'Montpellier', 3.87),\n",
              " ('Mulhouse', 'Mulhouse', 7.35),\n",
              " ('Murcia', 'Murcia', -1.13),\n",
              " ('Nice', 'Nice', 7.27),\n",
              " ('Nis', 'Nis', 21.9),\n",
              " ('Novi Sad', 'Novi Sad', 19.85),\n",
              " ('Odense', 'Odense', 10.38),\n",
              " ('Ordu', 'Ordu', 37.87),\n",
              " ('Orsha', 'Orsha', 30.42),\n",
              " ('Oslo', 'Oslo', 10.75),\n",
              " ('Ostrava', 'Ostrava', 18.25),\n",
              " ('Oulu', 'Oulu', 25.47),\n",
              " ('Oviedo', 'Oviedo', -5.83),\n",
              " ('Palermo', 'Palermo', 13.35),\n",
              " ('Patras', 'Patras', 21.73),\n",
              " ('Perpignan', 'Perpignan', 2.9),\n",
              " ('Perugia', 'Perugia', 12.39),\n",
              " ('Pescara', 'Pescara', 14.22),\n",
              " ('Pinsk', 'Pinsk', 26.09),\n",
              " ('Pleven', 'Pleven', 24.61),\n",
              " ('Plovdiv', 'Plovdiv', 24.75),\n",
              " ('Podgorica', 'Podgorica', 19.27),\n",
              " ('Poznan', 'Poznan', 16.9),\n",
              " ('Prague', 'Prague', 14.47),\n",
              " ('Reims', 'Reims', 4.03),\n",
              " ('Riga', 'Riga', 24.1),\n",
              " ('Rijeka', 'Rijeka', 14.45),\n",
              " ('Rivne', 'Rivne', 26.25),\n",
              " ('Rome', 'Rome', 12.48),\n",
              " ('Rostock', 'Rostock', 12.15),\n",
              " ('Ruse', 'Ruse', 25.97),\n",
              " ('Salamanca', 'Salamanca', -5.67),\n",
              " ('Salzburg', 'Salzburg', 13.04),\n",
              " ('Samsun', 'Samsun', 36.34),\n",
              " ('Santander', 'Santander', -3.8),\n",
              " ('Sarajevo', 'Sarajevo', 13.38),\n",
              " ('Sibiu', 'Sibiu', 24.14),\n",
              " ('Siirt', 'Siirt', 41.93),\n",
              " ('Sivas', 'Sivas', 37.03),\n",
              " ('Skopje', 'Skopje', 21.43),\n",
              " ('Split', 'Split', 16.47),\n",
              " ('Stara Zagora', 'Stara Zagora', 25.62),\n",
              " ('Stavanger', 'Maastricht', 5.68),\n",
              " ('Stavanger', 'Stavanger', 5.68),\n",
              " ('Stockholm', 'Stockholm', 18.1),\n",
              " ('Sumy', 'Sumy', 34.78),\n",
              " ('Swansea', 'Swansea', -3.95),\n",
              " ('Szeged', 'Szeged', 20.15),\n",
              " ('Tallinn', 'Tallinn', 24.73),\n",
              " ('Tampere', 'Tampere', 23.75),\n",
              " ('Tarsus', 'Tarsus', 34.88),\n",
              " ('Tartu', 'Tartu', 26.71),\n",
              " ('Tekirdag', 'Tekirdag', 27.51),\n",
              " ('Toulouse', 'Toulouse', 1.45),\n",
              " ('Trabzon', 'Trabzon', 39.72),\n",
              " ('Trieste', 'Trieste', 13.8),\n",
              " ('Trikala', 'Trikala', 21.77),\n",
              " ('Trondheim', 'Trondheim', 10.42),\n",
              " ('Turku', 'Turku', 22.25),\n",
              " ('Uppsala', 'Uppsala', 17.64),\n",
              " ('Valencia', 'Valencia', -0.4),\n",
              " ('Vienna', 'Vienna', 16.37),\n",
              " ('Vigo', 'Vigo', -8.73),\n",
              " ('Vilnius', 'Vilnius', 25.32),\n",
              " ('Warsaw', 'Warsaw', 21.0),\n",
              " ('Wroclaw', 'Wroclaw', 17.03),\n",
              " ('Yevpatoriya', 'Yevpatoriya', 33.36),\n",
              " ('Zaragoza', 'Zaragoza', -0.89),\n",
              " ('Zhytomyr', 'Zhytomyr', 28.66),\n",
              " ('Zonguldak', 'Zonguldak', 31.78),\n",
              " ('Zurich', 'Zurich', 8.56)]"
            ],
            "text/html": [
              "<table>\n",
              "    <tr>\n",
              "        <th>city</th>\n",
              "        <th>city_1</th>\n",
              "        <th>longitude</th>\n",
              "    </tr>\n",
              "    <tr>\n",
              "        <td>Aalborg</td>\n",
              "        <td>Aalborg</td>\n",
              "        <td>9.92</td>\n",
              "    </tr>\n",
              "    <tr>\n",
              "        <td>Aberdeen</td>\n",
              "        <td>Aberdeen</td>\n",
              "        <td>-2.08</td>\n",
              "    </tr>\n",
              "    <tr>\n",
              "        <td>Abisko</td>\n",
              "        <td>Abisko</td>\n",
              "        <td>18.83</td>\n",
              "    </tr>\n",
              "    <tr>\n",
              "        <td>Adana</td>\n",
              "        <td>Adana</td>\n",
              "        <td>35.32</td>\n",
              "    </tr>\n",
              "    <tr>\n",
              "        <td>Albacete</td>\n",
              "        <td>Albacete</td>\n",
              "        <td>-1.87</td>\n",
              "    </tr>\n",
              "    <tr>\n",
              "        <td>Algeciras</td>\n",
              "        <td>Algeciras</td>\n",
              "        <td>-5.47</td>\n",
              "    </tr>\n",
              "    <tr>\n",
              "        <td>Amiens</td>\n",
              "        <td>Amiens</td>\n",
              "        <td>2.3</td>\n",
              "    </tr>\n",
              "    <tr>\n",
              "        <td>Amsterdam</td>\n",
              "        <td>Amsterdam</td>\n",
              "        <td>4.92</td>\n",
              "    </tr>\n",
              "    <tr>\n",
              "        <td>Ancona</td>\n",
              "        <td>Ancona</td>\n",
              "        <td>13.5</td>\n",
              "    </tr>\n",
              "    <tr>\n",
              "        <td>Andorra</td>\n",
              "        <td>Andorra</td>\n",
              "        <td>1.52</td>\n",
              "    </tr>\n",
              "    <tr>\n",
              "        <td>Angers</td>\n",
              "        <td>Angers</td>\n",
              "        <td>-0.53</td>\n",
              "    </tr>\n",
              "    <tr>\n",
              "        <td>Ankara</td>\n",
              "        <td>Ankara</td>\n",
              "        <td>32.86</td>\n",
              "    </tr>\n",
              "    <tr>\n",
              "        <td>Antalya</td>\n",
              "        <td>Antalya</td>\n",
              "        <td>30.7</td>\n",
              "    </tr>\n",
              "    <tr>\n",
              "        <td>Arad</td>\n",
              "        <td>Arad</td>\n",
              "        <td>21.32</td>\n",
              "    </tr>\n",
              "    <tr>\n",
              "        <td>Athens</td>\n",
              "        <td>Athens</td>\n",
              "        <td>23.73</td>\n",
              "    </tr>\n",
              "    <tr>\n",
              "        <td>Augsburg</td>\n",
              "        <td>Augsburg</td>\n",
              "        <td>10.9</td>\n",
              "    </tr>\n",
              "    <tr>\n",
              "        <td>Bacau</td>\n",
              "        <td>Bacau</td>\n",
              "        <td>26.92</td>\n",
              "    </tr>\n",
              "    <tr>\n",
              "        <td>Badajoz</td>\n",
              "        <td>Badajoz</td>\n",
              "        <td>-6.97</td>\n",
              "    </tr>\n",
              "    <tr>\n",
              "        <td>Baia Mare</td>\n",
              "        <td>Baia Mare</td>\n",
              "        <td>23.58</td>\n",
              "    </tr>\n",
              "    <tr>\n",
              "        <td>Balti</td>\n",
              "        <td>Balti</td>\n",
              "        <td>27.91</td>\n",
              "    </tr>\n",
              "    <tr>\n",
              "        <td>Barcelona</td>\n",
              "        <td>Barcelona</td>\n",
              "        <td>2.18</td>\n",
              "    </tr>\n",
              "    <tr>\n",
              "        <td>Bari</td>\n",
              "        <td>Bari</td>\n",
              "        <td>16.87</td>\n",
              "    </tr>\n",
              "    <tr>\n",
              "        <td>Basel</td>\n",
              "        <td>Basel</td>\n",
              "        <td>7.59</td>\n",
              "    </tr>\n",
              "    <tr>\n",
              "        <td>Batman</td>\n",
              "        <td>Batman</td>\n",
              "        <td>41.14</td>\n",
              "    </tr>\n",
              "    <tr>\n",
              "        <td>Belfast</td>\n",
              "        <td>Belfast</td>\n",
              "        <td>-5.96</td>\n",
              "    </tr>\n",
              "    <tr>\n",
              "        <td>Belgrade</td>\n",
              "        <td>Belgrade</td>\n",
              "        <td>20.47</td>\n",
              "    </tr>\n",
              "    <tr>\n",
              "        <td>Bergamo</td>\n",
              "        <td>Bergamo</td>\n",
              "        <td>9.67</td>\n",
              "    </tr>\n",
              "    <tr>\n",
              "        <td>Bergen</td>\n",
              "        <td>Bergen</td>\n",
              "        <td>5.32</td>\n",
              "    </tr>\n",
              "    <tr>\n",
              "        <td>Berlin</td>\n",
              "        <td>Berlin</td>\n",
              "        <td>13.4</td>\n",
              "    </tr>\n",
              "    <tr>\n",
              "        <td>Bialystok</td>\n",
              "        <td>Bialystok</td>\n",
              "        <td>23.17</td>\n",
              "    </tr>\n",
              "    <tr>\n",
              "        <td>Bielefeld</td>\n",
              "        <td>Bielefeld</td>\n",
              "        <td>8.53</td>\n",
              "    </tr>\n",
              "    <tr>\n",
              "        <td>Bila Tserkva</td>\n",
              "        <td>Bila Tserkva</td>\n",
              "        <td>30.13</td>\n",
              "    </tr>\n",
              "    <tr>\n",
              "        <td>Bilbao</td>\n",
              "        <td>Bilbao</td>\n",
              "        <td>-2.93</td>\n",
              "    </tr>\n",
              "    <tr>\n",
              "        <td>Birmingham</td>\n",
              "        <td>Birmingham</td>\n",
              "        <td>-1.92</td>\n",
              "    </tr>\n",
              "    <tr>\n",
              "        <td>Blackpool</td>\n",
              "        <td>Blackpool</td>\n",
              "        <td>-3.05</td>\n",
              "    </tr>\n",
              "    <tr>\n",
              "        <td>Bodo</td>\n",
              "        <td>Bodo</td>\n",
              "        <td>14.4</td>\n",
              "    </tr>\n",
              "    <tr>\n",
              "        <td>Bologna</td>\n",
              "        <td>Bologna</td>\n",
              "        <td>11.34</td>\n",
              "    </tr>\n",
              "    <tr>\n",
              "        <td>Bonn</td>\n",
              "        <td>Bonn</td>\n",
              "        <td>7.08</td>\n",
              "    </tr>\n",
              "    <tr>\n",
              "        <td>Bordeaux</td>\n",
              "        <td>Bordeaux</td>\n",
              "        <td>-0.6</td>\n",
              "    </tr>\n",
              "    <tr>\n",
              "        <td>Botosani</td>\n",
              "        <td>Botosani</td>\n",
              "        <td>26.66</td>\n",
              "    </tr>\n",
              "    <tr>\n",
              "        <td>Bournemouth</td>\n",
              "        <td>Bournemouth</td>\n",
              "        <td>-1.9</td>\n",
              "    </tr>\n",
              "    <tr>\n",
              "        <td>Bradford</td>\n",
              "        <td>Bradford</td>\n",
              "        <td>-1.75</td>\n",
              "    </tr>\n",
              "    <tr>\n",
              "        <td>Braga</td>\n",
              "        <td>Braga</td>\n",
              "        <td>-8.42</td>\n",
              "    </tr>\n",
              "    <tr>\n",
              "        <td>Braila</td>\n",
              "        <td>Braila</td>\n",
              "        <td>27.97</td>\n",
              "    </tr>\n",
              "    <tr>\n",
              "        <td>Bratislava</td>\n",
              "        <td>Bratislava</td>\n",
              "        <td>17.12</td>\n",
              "    </tr>\n",
              "    <tr>\n",
              "        <td>Bremen</td>\n",
              "        <td>Bremen</td>\n",
              "        <td>8.8</td>\n",
              "    </tr>\n",
              "    <tr>\n",
              "        <td>Brest</td>\n",
              "        <td>Brest</td>\n",
              "        <td>-4.5</td>\n",
              "    </tr>\n",
              "    <tr>\n",
              "        <td>Brest</td>\n",
              "        <td>Brest</td>\n",
              "        <td>23.7</td>\n",
              "    </tr>\n",
              "    <tr>\n",
              "        <td>Brno</td>\n",
              "        <td>Brno</td>\n",
              "        <td>16.61</td>\n",
              "    </tr>\n",
              "    <tr>\n",
              "        <td>Brugge</td>\n",
              "        <td>Brugge</td>\n",
              "        <td>3.23</td>\n",
              "    </tr>\n",
              "    <tr>\n",
              "        <td>Bucharest</td>\n",
              "        <td>Bucharest</td>\n",
              "        <td>26.1</td>\n",
              "    </tr>\n",
              "    <tr>\n",
              "        <td>Budapest</td>\n",
              "        <td>Budapest</td>\n",
              "        <td>19.08</td>\n",
              "    </tr>\n",
              "    <tr>\n",
              "        <td>Burgas</td>\n",
              "        <td>Burgas</td>\n",
              "        <td>27.47</td>\n",
              "    </tr>\n",
              "    <tr>\n",
              "        <td>Burgos</td>\n",
              "        <td>Burgos</td>\n",
              "        <td>-3.68</td>\n",
              "    </tr>\n",
              "    <tr>\n",
              "        <td>Burgos</td>\n",
              "        <td>Madrid</td>\n",
              "        <td>-3.68</td>\n",
              "    </tr>\n",
              "    <tr>\n",
              "        <td>Bursa</td>\n",
              "        <td>Bursa</td>\n",
              "        <td>29.07</td>\n",
              "    </tr>\n",
              "    <tr>\n",
              "        <td>Bydgoszcz</td>\n",
              "        <td>Bydgoszcz</td>\n",
              "        <td>18.01</td>\n",
              "    </tr>\n",
              "    <tr>\n",
              "        <td>Bytom</td>\n",
              "        <td>Bytom</td>\n",
              "        <td>18.91</td>\n",
              "    </tr>\n",
              "    <tr>\n",
              "        <td>Caen</td>\n",
              "        <td>Caen</td>\n",
              "        <td>-0.35</td>\n",
              "    </tr>\n",
              "    <tr>\n",
              "        <td>Cambridge</td>\n",
              "        <td>Cambridge</td>\n",
              "        <td>0.12</td>\n",
              "    </tr>\n",
              "    <tr>\n",
              "        <td>Cartagena</td>\n",
              "        <td>Cartagena</td>\n",
              "        <td>-0.98</td>\n",
              "    </tr>\n",
              "    <tr>\n",
              "        <td>Catania</td>\n",
              "        <td>Catania</td>\n",
              "        <td>15.08</td>\n",
              "    </tr>\n",
              "    <tr>\n",
              "        <td>Chemnitz</td>\n",
              "        <td>Chemnitz</td>\n",
              "        <td>12.92</td>\n",
              "    </tr>\n",
              "    <tr>\n",
              "        <td>Cherkasy</td>\n",
              "        <td>Cherkasy</td>\n",
              "        <td>32.07</td>\n",
              "    </tr>\n",
              "    <tr>\n",
              "        <td>Chernihiv</td>\n",
              "        <td>Chernihiv</td>\n",
              "        <td>31.3</td>\n",
              "    </tr>\n",
              "    <tr>\n",
              "        <td>Chernivtsi</td>\n",
              "        <td>Chernivtsi</td>\n",
              "        <td>25.92</td>\n",
              "    </tr>\n",
              "    <tr>\n",
              "        <td>Chisinau</td>\n",
              "        <td>Chisinau</td>\n",
              "        <td>28.86</td>\n",
              "    </tr>\n",
              "    <tr>\n",
              "        <td>Constanta</td>\n",
              "        <td>Constanta</td>\n",
              "        <td>28.61</td>\n",
              "    </tr>\n",
              "    <tr>\n",
              "        <td>Cork</td>\n",
              "        <td>Cork</td>\n",
              "        <td>-8.5</td>\n",
              "    </tr>\n",
              "    <tr>\n",
              "        <td>Cosenza</td>\n",
              "        <td>Cosenza</td>\n",
              "        <td>16.29</td>\n",
              "    </tr>\n",
              "    <tr>\n",
              "        <td>Craiova</td>\n",
              "        <td>Craiova</td>\n",
              "        <td>23.83</td>\n",
              "    </tr>\n",
              "    <tr>\n",
              "        <td>Craiova</td>\n",
              "        <td>Hrodna</td>\n",
              "        <td>23.83</td>\n",
              "    </tr>\n",
              "    <tr>\n",
              "        <td>Daugavpils</td>\n",
              "        <td>Daugavpils</td>\n",
              "        <td>26.51</td>\n",
              "    </tr>\n",
              "    <tr>\n",
              "        <td>Debrecen</td>\n",
              "        <td>Debrecen</td>\n",
              "        <td>21.63</td>\n",
              "    </tr>\n",
              "    <tr>\n",
              "        <td>Denizli</td>\n",
              "        <td>Denizli</td>\n",
              "        <td>29.08</td>\n",
              "    </tr>\n",
              "    <tr>\n",
              "        <td>Dijon</td>\n",
              "        <td>Dijon</td>\n",
              "        <td>5.03</td>\n",
              "    </tr>\n",
              "    <tr>\n",
              "        <td>Dublin</td>\n",
              "        <td>Dublin</td>\n",
              "        <td>-6.25</td>\n",
              "    </tr>\n",
              "    <tr>\n",
              "        <td>Dundee</td>\n",
              "        <td>Dundee</td>\n",
              "        <td>-3.0</td>\n",
              "    </tr>\n",
              "    <tr>\n",
              "        <td>Edinburgh</td>\n",
              "        <td>Edinburgh</td>\n",
              "        <td>-3.22</td>\n",
              "    </tr>\n",
              "    <tr>\n",
              "        <td>Edirne</td>\n",
              "        <td>Edirne</td>\n",
              "        <td>26.57</td>\n",
              "    </tr>\n",
              "    <tr>\n",
              "        <td>Elbasan</td>\n",
              "        <td>Elbasan</td>\n",
              "        <td>20.08</td>\n",
              "    </tr>\n",
              "    <tr>\n",
              "        <td>Elblag</td>\n",
              "        <td>Elblag</td>\n",
              "        <td>19.4</td>\n",
              "    </tr>\n",
              "    <tr>\n",
              "        <td>Erfurt</td>\n",
              "        <td>Erfurt</td>\n",
              "        <td>11.03</td>\n",
              "    </tr>\n",
              "    <tr>\n",
              "        <td>Erzincan</td>\n",
              "        <td>Erzincan</td>\n",
              "        <td>39.49</td>\n",
              "    </tr>\n",
              "    <tr>\n",
              "        <td>Erzurum</td>\n",
              "        <td>Erzurum</td>\n",
              "        <td>41.29</td>\n",
              "    </tr>\n",
              "    <tr>\n",
              "        <td>Eskisehir</td>\n",
              "        <td>Eskisehir</td>\n",
              "        <td>30.53</td>\n",
              "    </tr>\n",
              "    <tr>\n",
              "        <td>Exeter</td>\n",
              "        <td>Exeter</td>\n",
              "        <td>-3.53</td>\n",
              "    </tr>\n",
              "    <tr>\n",
              "        <td>Foggia</td>\n",
              "        <td>Foggia</td>\n",
              "        <td>15.56</td>\n",
              "    </tr>\n",
              "    <tr>\n",
              "        <td>Frankfurt</td>\n",
              "        <td>Frankfurt</td>\n",
              "        <td>8.68</td>\n",
              "    </tr>\n",
              "    <tr>\n",
              "        <td>Freiburg</td>\n",
              "        <td>Freiburg</td>\n",
              "        <td>7.87</td>\n",
              "    </tr>\n",
              "    <tr>\n",
              "        <td>Galway</td>\n",
              "        <td>Galway</td>\n",
              "        <td>-9.05</td>\n",
              "    </tr>\n",
              "    <tr>\n",
              "        <td>Gaziantep</td>\n",
              "        <td>Gaziantep</td>\n",
              "        <td>37.38</td>\n",
              "    </tr>\n",
              "    <tr>\n",
              "        <td>Geneva</td>\n",
              "        <td>Geneva</td>\n",
              "        <td>6.14</td>\n",
              "    </tr>\n",
              "    <tr>\n",
              "        <td>Genoa</td>\n",
              "        <td>Genoa</td>\n",
              "        <td>8.93</td>\n",
              "    </tr>\n",
              "    <tr>\n",
              "        <td>Glasgow</td>\n",
              "        <td>Glasgow</td>\n",
              "        <td>-4.25</td>\n",
              "    </tr>\n",
              "    <tr>\n",
              "        <td>Göteborg</td>\n",
              "        <td>Göteborg</td>\n",
              "        <td>12.0</td>\n",
              "    </tr>\n",
              "    <tr>\n",
              "        <td>Granada</td>\n",
              "        <td>Granada</td>\n",
              "        <td>-3.59</td>\n",
              "    </tr>\n",
              "    <tr>\n",
              "        <td>Graz</td>\n",
              "        <td>Graz</td>\n",
              "        <td>15.41</td>\n",
              "    </tr>\n",
              "    <tr>\n",
              "        <td>Grenoble</td>\n",
              "        <td>Grenoble</td>\n",
              "        <td>5.72</td>\n",
              "    </tr>\n",
              "    <tr>\n",
              "        <td>Groningen</td>\n",
              "        <td>Groningen</td>\n",
              "        <td>6.58</td>\n",
              "    </tr>\n",
              "    <tr>\n",
              "        <td>Gyor</td>\n",
              "        <td>Gyor</td>\n",
              "        <td>17.63</td>\n",
              "    </tr>\n",
              "    <tr>\n",
              "        <td>Heidelberg</td>\n",
              "        <td>Heidelberg</td>\n",
              "        <td>8.7</td>\n",
              "    </tr>\n",
              "    <tr>\n",
              "        <td>Helsinki</td>\n",
              "        <td>Helsinki</td>\n",
              "        <td>24.93</td>\n",
              "    </tr>\n",
              "    <tr>\n",
              "        <td>Horlivka</td>\n",
              "        <td>Horlivka</td>\n",
              "        <td>38.05</td>\n",
              "    </tr>\n",
              "    <tr>\n",
              "        <td>Hrodna</td>\n",
              "        <td>Craiova</td>\n",
              "        <td>23.83</td>\n",
              "    </tr>\n",
              "    <tr>\n",
              "        <td>Hrodna</td>\n",
              "        <td>Hrodna</td>\n",
              "        <td>23.83</td>\n",
              "    </tr>\n",
              "    <tr>\n",
              "        <td>Huelva</td>\n",
              "        <td>Huelva</td>\n",
              "        <td>-6.93</td>\n",
              "    </tr>\n",
              "    <tr>\n",
              "        <td>Ingolstadt</td>\n",
              "        <td>Ingolstadt</td>\n",
              "        <td>11.45</td>\n",
              "    </tr>\n",
              "    <tr>\n",
              "        <td>Innsbruck</td>\n",
              "        <td>Innsbruck</td>\n",
              "        <td>11.41</td>\n",
              "    </tr>\n",
              "    <tr>\n",
              "        <td>Inverness</td>\n",
              "        <td>Inverness</td>\n",
              "        <td>-4.23</td>\n",
              "    </tr>\n",
              "    <tr>\n",
              "        <td>Istanbul</td>\n",
              "        <td>Istanbul</td>\n",
              "        <td>29.01</td>\n",
              "    </tr>\n",
              "    <tr>\n",
              "        <td>Kalamata</td>\n",
              "        <td>Kalamata</td>\n",
              "        <td>22.11</td>\n",
              "    </tr>\n",
              "    <tr>\n",
              "        <td>Karaman</td>\n",
              "        <td>Karaman</td>\n",
              "        <td>33.22</td>\n",
              "    </tr>\n",
              "    <tr>\n",
              "        <td>Karlsruhe</td>\n",
              "        <td>Karlsruhe</td>\n",
              "        <td>8.4</td>\n",
              "    </tr>\n",
              "    <tr>\n",
              "        <td>Kaunas</td>\n",
              "        <td>Kaunas</td>\n",
              "        <td>23.88</td>\n",
              "    </tr>\n",
              "    <tr>\n",
              "        <td>Kayseri</td>\n",
              "        <td>Kayseri</td>\n",
              "        <td>35.49</td>\n",
              "    </tr>\n",
              "    <tr>\n",
              "        <td>Kherson</td>\n",
              "        <td>Kherson</td>\n",
              "        <td>32.6</td>\n",
              "    </tr>\n",
              "    <tr>\n",
              "        <td>Kielce</td>\n",
              "        <td>Kielce</td>\n",
              "        <td>20.66</td>\n",
              "    </tr>\n",
              "    <tr>\n",
              "        <td>Kiev</td>\n",
              "        <td>Kiev</td>\n",
              "        <td>30.52</td>\n",
              "    </tr>\n",
              "    <tr>\n",
              "        <td>Kiruna</td>\n",
              "        <td>Kiruna</td>\n",
              "        <td>20.22</td>\n",
              "    </tr>\n",
              "    <tr>\n",
              "        <td>Klaipeda</td>\n",
              "        <td>Klaipeda</td>\n",
              "        <td>21.12</td>\n",
              "    </tr>\n",
              "    <tr>\n",
              "        <td>Kosice</td>\n",
              "        <td>Kosice</td>\n",
              "        <td>21.25</td>\n",
              "    </tr>\n",
              "    <tr>\n",
              "        <td>Koszalin</td>\n",
              "        <td>Koszalin</td>\n",
              "        <td>16.18</td>\n",
              "    </tr>\n",
              "    <tr>\n",
              "        <td>Kremenchuk</td>\n",
              "        <td>Kremenchuk</td>\n",
              "        <td>33.43</td>\n",
              "    </tr>\n",
              "    <tr>\n",
              "        <td>Kryvyy Rih</td>\n",
              "        <td>Kryvyy Rih</td>\n",
              "        <td>33.34</td>\n",
              "    </tr>\n",
              "    <tr>\n",
              "        <td>Le Mans</td>\n",
              "        <td>Le Mans</td>\n",
              "        <td>0.1</td>\n",
              "    </tr>\n",
              "    <tr>\n",
              "        <td>Lille</td>\n",
              "        <td>Lille</td>\n",
              "        <td>3.08</td>\n",
              "    </tr>\n",
              "    <tr>\n",
              "        <td>Limoges</td>\n",
              "        <td>Limoges</td>\n",
              "        <td>1.25</td>\n",
              "    </tr>\n",
              "    <tr>\n",
              "        <td>Linz</td>\n",
              "        <td>Linz</td>\n",
              "        <td>14.29</td>\n",
              "    </tr>\n",
              "    <tr>\n",
              "        <td>Lisbon</td>\n",
              "        <td>Lisbon</td>\n",
              "        <td>-9.14</td>\n",
              "    </tr>\n",
              "    <tr>\n",
              "        <td>Ljubljana</td>\n",
              "        <td>Ljubljana</td>\n",
              "        <td>14.51</td>\n",
              "    </tr>\n",
              "    <tr>\n",
              "        <td>Lvov</td>\n",
              "        <td>Lvov</td>\n",
              "        <td>24.03</td>\n",
              "    </tr>\n",
              "    <tr>\n",
              "        <td>Maastricht</td>\n",
              "        <td>Maastricht</td>\n",
              "        <td>5.68</td>\n",
              "    </tr>\n",
              "    <tr>\n",
              "        <td>Maastricht</td>\n",
              "        <td>Stavanger</td>\n",
              "        <td>5.68</td>\n",
              "    </tr>\n",
              "    <tr>\n",
              "        <td>Madrid</td>\n",
              "        <td>Burgos</td>\n",
              "        <td>-3.68</td>\n",
              "    </tr>\n",
              "    <tr>\n",
              "        <td>Madrid</td>\n",
              "        <td>Madrid</td>\n",
              "        <td>-3.68</td>\n",
              "    </tr>\n",
              "    <tr>\n",
              "        <td>Magdeburg</td>\n",
              "        <td>Magdeburg</td>\n",
              "        <td>11.62</td>\n",
              "    </tr>\n",
              "    <tr>\n",
              "        <td>Makiyivka</td>\n",
              "        <td>Makiyivka</td>\n",
              "        <td>37.97</td>\n",
              "    </tr>\n",
              "    <tr>\n",
              "        <td>Malatya</td>\n",
              "        <td>Malatya</td>\n",
              "        <td>38.3</td>\n",
              "    </tr>\n",
              "    <tr>\n",
              "        <td>Malmö</td>\n",
              "        <td>Malmö</td>\n",
              "        <td>13.03</td>\n",
              "    </tr>\n",
              "    <tr>\n",
              "        <td>Manisa</td>\n",
              "        <td>Manisa</td>\n",
              "        <td>27.44</td>\n",
              "    </tr>\n",
              "    <tr>\n",
              "        <td>Marbella</td>\n",
              "        <td>Marbella</td>\n",
              "        <td>-4.88</td>\n",
              "    </tr>\n",
              "    <tr>\n",
              "        <td>Marseille</td>\n",
              "        <td>Marseille</td>\n",
              "        <td>5.38</td>\n",
              "    </tr>\n",
              "    <tr>\n",
              "        <td>Mazyr</td>\n",
              "        <td>Mazyr</td>\n",
              "        <td>29.27</td>\n",
              "    </tr>\n",
              "    <tr>\n",
              "        <td>Messina</td>\n",
              "        <td>Messina</td>\n",
              "        <td>15.55</td>\n",
              "    </tr>\n",
              "    <tr>\n",
              "        <td>Metz</td>\n",
              "        <td>Metz</td>\n",
              "        <td>6.18</td>\n",
              "    </tr>\n",
              "    <tr>\n",
              "        <td>Milan</td>\n",
              "        <td>Milan</td>\n",
              "        <td>9.21</td>\n",
              "    </tr>\n",
              "    <tr>\n",
              "        <td>Minsk</td>\n",
              "        <td>Minsk</td>\n",
              "        <td>27.57</td>\n",
              "    </tr>\n",
              "    <tr>\n",
              "        <td>Montpellier</td>\n",
              "        <td>Montpellier</td>\n",
              "        <td>3.87</td>\n",
              "    </tr>\n",
              "    <tr>\n",
              "        <td>Mulhouse</td>\n",
              "        <td>Mulhouse</td>\n",
              "        <td>7.35</td>\n",
              "    </tr>\n",
              "    <tr>\n",
              "        <td>Murcia</td>\n",
              "        <td>Murcia</td>\n",
              "        <td>-1.13</td>\n",
              "    </tr>\n",
              "    <tr>\n",
              "        <td>Nice</td>\n",
              "        <td>Nice</td>\n",
              "        <td>7.27</td>\n",
              "    </tr>\n",
              "    <tr>\n",
              "        <td>Nis</td>\n",
              "        <td>Nis</td>\n",
              "        <td>21.9</td>\n",
              "    </tr>\n",
              "    <tr>\n",
              "        <td>Novi Sad</td>\n",
              "        <td>Novi Sad</td>\n",
              "        <td>19.85</td>\n",
              "    </tr>\n",
              "    <tr>\n",
              "        <td>Odense</td>\n",
              "        <td>Odense</td>\n",
              "        <td>10.38</td>\n",
              "    </tr>\n",
              "    <tr>\n",
              "        <td>Ordu</td>\n",
              "        <td>Ordu</td>\n",
              "        <td>37.87</td>\n",
              "    </tr>\n",
              "    <tr>\n",
              "        <td>Orsha</td>\n",
              "        <td>Orsha</td>\n",
              "        <td>30.42</td>\n",
              "    </tr>\n",
              "    <tr>\n",
              "        <td>Oslo</td>\n",
              "        <td>Oslo</td>\n",
              "        <td>10.75</td>\n",
              "    </tr>\n",
              "    <tr>\n",
              "        <td>Ostrava</td>\n",
              "        <td>Ostrava</td>\n",
              "        <td>18.25</td>\n",
              "    </tr>\n",
              "    <tr>\n",
              "        <td>Oulu</td>\n",
              "        <td>Oulu</td>\n",
              "        <td>25.47</td>\n",
              "    </tr>\n",
              "    <tr>\n",
              "        <td>Oviedo</td>\n",
              "        <td>Oviedo</td>\n",
              "        <td>-5.83</td>\n",
              "    </tr>\n",
              "    <tr>\n",
              "        <td>Palermo</td>\n",
              "        <td>Palermo</td>\n",
              "        <td>13.35</td>\n",
              "    </tr>\n",
              "    <tr>\n",
              "        <td>Patras</td>\n",
              "        <td>Patras</td>\n",
              "        <td>21.73</td>\n",
              "    </tr>\n",
              "    <tr>\n",
              "        <td>Perpignan</td>\n",
              "        <td>Perpignan</td>\n",
              "        <td>2.9</td>\n",
              "    </tr>\n",
              "    <tr>\n",
              "        <td>Perugia</td>\n",
              "        <td>Perugia</td>\n",
              "        <td>12.39</td>\n",
              "    </tr>\n",
              "    <tr>\n",
              "        <td>Pescara</td>\n",
              "        <td>Pescara</td>\n",
              "        <td>14.22</td>\n",
              "    </tr>\n",
              "    <tr>\n",
              "        <td>Pinsk</td>\n",
              "        <td>Pinsk</td>\n",
              "        <td>26.09</td>\n",
              "    </tr>\n",
              "    <tr>\n",
              "        <td>Pleven</td>\n",
              "        <td>Pleven</td>\n",
              "        <td>24.61</td>\n",
              "    </tr>\n",
              "    <tr>\n",
              "        <td>Plovdiv</td>\n",
              "        <td>Plovdiv</td>\n",
              "        <td>24.75</td>\n",
              "    </tr>\n",
              "    <tr>\n",
              "        <td>Podgorica</td>\n",
              "        <td>Podgorica</td>\n",
              "        <td>19.27</td>\n",
              "    </tr>\n",
              "    <tr>\n",
              "        <td>Poznan</td>\n",
              "        <td>Poznan</td>\n",
              "        <td>16.9</td>\n",
              "    </tr>\n",
              "    <tr>\n",
              "        <td>Prague</td>\n",
              "        <td>Prague</td>\n",
              "        <td>14.47</td>\n",
              "    </tr>\n",
              "    <tr>\n",
              "        <td>Reims</td>\n",
              "        <td>Reims</td>\n",
              "        <td>4.03</td>\n",
              "    </tr>\n",
              "    <tr>\n",
              "        <td>Riga</td>\n",
              "        <td>Riga</td>\n",
              "        <td>24.1</td>\n",
              "    </tr>\n",
              "    <tr>\n",
              "        <td>Rijeka</td>\n",
              "        <td>Rijeka</td>\n",
              "        <td>14.45</td>\n",
              "    </tr>\n",
              "    <tr>\n",
              "        <td>Rivne</td>\n",
              "        <td>Rivne</td>\n",
              "        <td>26.25</td>\n",
              "    </tr>\n",
              "    <tr>\n",
              "        <td>Rome</td>\n",
              "        <td>Rome</td>\n",
              "        <td>12.48</td>\n",
              "    </tr>\n",
              "    <tr>\n",
              "        <td>Rostock</td>\n",
              "        <td>Rostock</td>\n",
              "        <td>12.15</td>\n",
              "    </tr>\n",
              "    <tr>\n",
              "        <td>Ruse</td>\n",
              "        <td>Ruse</td>\n",
              "        <td>25.97</td>\n",
              "    </tr>\n",
              "    <tr>\n",
              "        <td>Salamanca</td>\n",
              "        <td>Salamanca</td>\n",
              "        <td>-5.67</td>\n",
              "    </tr>\n",
              "    <tr>\n",
              "        <td>Salzburg</td>\n",
              "        <td>Salzburg</td>\n",
              "        <td>13.04</td>\n",
              "    </tr>\n",
              "    <tr>\n",
              "        <td>Samsun</td>\n",
              "        <td>Samsun</td>\n",
              "        <td>36.34</td>\n",
              "    </tr>\n",
              "    <tr>\n",
              "        <td>Santander</td>\n",
              "        <td>Santander</td>\n",
              "        <td>-3.8</td>\n",
              "    </tr>\n",
              "    <tr>\n",
              "        <td>Sarajevo</td>\n",
              "        <td>Sarajevo</td>\n",
              "        <td>13.38</td>\n",
              "    </tr>\n",
              "    <tr>\n",
              "        <td>Sibiu</td>\n",
              "        <td>Sibiu</td>\n",
              "        <td>24.14</td>\n",
              "    </tr>\n",
              "    <tr>\n",
              "        <td>Siirt</td>\n",
              "        <td>Siirt</td>\n",
              "        <td>41.93</td>\n",
              "    </tr>\n",
              "    <tr>\n",
              "        <td>Sivas</td>\n",
              "        <td>Sivas</td>\n",
              "        <td>37.03</td>\n",
              "    </tr>\n",
              "    <tr>\n",
              "        <td>Skopje</td>\n",
              "        <td>Skopje</td>\n",
              "        <td>21.43</td>\n",
              "    </tr>\n",
              "    <tr>\n",
              "        <td>Split</td>\n",
              "        <td>Split</td>\n",
              "        <td>16.47</td>\n",
              "    </tr>\n",
              "    <tr>\n",
              "        <td>Stara Zagora</td>\n",
              "        <td>Stara Zagora</td>\n",
              "        <td>25.62</td>\n",
              "    </tr>\n",
              "    <tr>\n",
              "        <td>Stavanger</td>\n",
              "        <td>Maastricht</td>\n",
              "        <td>5.68</td>\n",
              "    </tr>\n",
              "    <tr>\n",
              "        <td>Stavanger</td>\n",
              "        <td>Stavanger</td>\n",
              "        <td>5.68</td>\n",
              "    </tr>\n",
              "    <tr>\n",
              "        <td>Stockholm</td>\n",
              "        <td>Stockholm</td>\n",
              "        <td>18.1</td>\n",
              "    </tr>\n",
              "    <tr>\n",
              "        <td>Sumy</td>\n",
              "        <td>Sumy</td>\n",
              "        <td>34.78</td>\n",
              "    </tr>\n",
              "    <tr>\n",
              "        <td>Swansea</td>\n",
              "        <td>Swansea</td>\n",
              "        <td>-3.95</td>\n",
              "    </tr>\n",
              "    <tr>\n",
              "        <td>Szeged</td>\n",
              "        <td>Szeged</td>\n",
              "        <td>20.15</td>\n",
              "    </tr>\n",
              "    <tr>\n",
              "        <td>Tallinn</td>\n",
              "        <td>Tallinn</td>\n",
              "        <td>24.73</td>\n",
              "    </tr>\n",
              "    <tr>\n",
              "        <td>Tampere</td>\n",
              "        <td>Tampere</td>\n",
              "        <td>23.75</td>\n",
              "    </tr>\n",
              "    <tr>\n",
              "        <td>Tarsus</td>\n",
              "        <td>Tarsus</td>\n",
              "        <td>34.88</td>\n",
              "    </tr>\n",
              "    <tr>\n",
              "        <td>Tartu</td>\n",
              "        <td>Tartu</td>\n",
              "        <td>26.71</td>\n",
              "    </tr>\n",
              "    <tr>\n",
              "        <td>Tekirdag</td>\n",
              "        <td>Tekirdag</td>\n",
              "        <td>27.51</td>\n",
              "    </tr>\n",
              "    <tr>\n",
              "        <td>Toulouse</td>\n",
              "        <td>Toulouse</td>\n",
              "        <td>1.45</td>\n",
              "    </tr>\n",
              "    <tr>\n",
              "        <td>Trabzon</td>\n",
              "        <td>Trabzon</td>\n",
              "        <td>39.72</td>\n",
              "    </tr>\n",
              "    <tr>\n",
              "        <td>Trieste</td>\n",
              "        <td>Trieste</td>\n",
              "        <td>13.8</td>\n",
              "    </tr>\n",
              "    <tr>\n",
              "        <td>Trikala</td>\n",
              "        <td>Trikala</td>\n",
              "        <td>21.77</td>\n",
              "    </tr>\n",
              "    <tr>\n",
              "        <td>Trondheim</td>\n",
              "        <td>Trondheim</td>\n",
              "        <td>10.42</td>\n",
              "    </tr>\n",
              "    <tr>\n",
              "        <td>Turku</td>\n",
              "        <td>Turku</td>\n",
              "        <td>22.25</td>\n",
              "    </tr>\n",
              "    <tr>\n",
              "        <td>Uppsala</td>\n",
              "        <td>Uppsala</td>\n",
              "        <td>17.64</td>\n",
              "    </tr>\n",
              "    <tr>\n",
              "        <td>Valencia</td>\n",
              "        <td>Valencia</td>\n",
              "        <td>-0.4</td>\n",
              "    </tr>\n",
              "    <tr>\n",
              "        <td>Vienna</td>\n",
              "        <td>Vienna</td>\n",
              "        <td>16.37</td>\n",
              "    </tr>\n",
              "    <tr>\n",
              "        <td>Vigo</td>\n",
              "        <td>Vigo</td>\n",
              "        <td>-8.73</td>\n",
              "    </tr>\n",
              "    <tr>\n",
              "        <td>Vilnius</td>\n",
              "        <td>Vilnius</td>\n",
              "        <td>25.32</td>\n",
              "    </tr>\n",
              "    <tr>\n",
              "        <td>Warsaw</td>\n",
              "        <td>Warsaw</td>\n",
              "        <td>21.0</td>\n",
              "    </tr>\n",
              "    <tr>\n",
              "        <td>Wroclaw</td>\n",
              "        <td>Wroclaw</td>\n",
              "        <td>17.03</td>\n",
              "    </tr>\n",
              "    <tr>\n",
              "        <td>Yevpatoriya</td>\n",
              "        <td>Yevpatoriya</td>\n",
              "        <td>33.36</td>\n",
              "    </tr>\n",
              "    <tr>\n",
              "        <td>Zaragoza</td>\n",
              "        <td>Zaragoza</td>\n",
              "        <td>-0.89</td>\n",
              "    </tr>\n",
              "    <tr>\n",
              "        <td>Zhytomyr</td>\n",
              "        <td>Zhytomyr</td>\n",
              "        <td>28.66</td>\n",
              "    </tr>\n",
              "    <tr>\n",
              "        <td>Zonguldak</td>\n",
              "        <td>Zonguldak</td>\n",
              "        <td>31.78</td>\n",
              "    </tr>\n",
              "    <tr>\n",
              "        <td>Zurich</td>\n",
              "        <td>Zurich</td>\n",
              "        <td>8.56</td>\n",
              "    </tr>\n",
              "</table>"
            ]
          },
          "metadata": {},
          "execution_count": 17
        }
      ],
      "source": [
        "%%sql\n",
        "select C1.city, C2.city, C1.longitude\n",
        "from Cities C1, Cities C2\n",
        "where C1.longitude = C2.longitude"
      ]
    },
    {
      "cell_type": "markdown",
      "metadata": {
        "id": "-OvEq0MRjquv"
      },
      "source": [
        "*Find all pairs of cities that are near each other, i.e., longitude and latitude are both less than 0.5 apart; return city pairs*"
      ]
    },
    {
      "cell_type": "code",
      "execution_count": 18,
      "metadata": {
        "id": "WrUON7nyjquw",
        "colab": {
          "base_uri": "https://localhost:8080/",
          "height": 245
        },
        "outputId": "b9fcce29-5e27-4055-9ba8-74547ec021c9"
      },
      "outputs": [
        {
          "output_type": "stream",
          "name": "stdout",
          "text": [
            " * sqlite://\n",
            "Done.\n"
          ]
        },
        {
          "output_type": "execute_result",
          "data": {
            "text/plain": [
              "[('Adana', 'Tarsus'),\n",
              " ('Ancona', 'Sarajevo'),\n",
              " ('Basel', 'Freiburg'),\n",
              " ('Basel', 'Mulhouse'),\n",
              " ('Bergamo', 'Milan'),\n",
              " ('Cartagena', 'Murcia'),\n",
              " ('Heidelberg', 'Karlsruhe'),\n",
              " ('Horlivka', 'Makiyivka')]"
            ],
            "text/html": [
              "<table>\n",
              "    <tr>\n",
              "        <th>city</th>\n",
              "        <th>city_1</th>\n",
              "    </tr>\n",
              "    <tr>\n",
              "        <td>Adana</td>\n",
              "        <td>Tarsus</td>\n",
              "    </tr>\n",
              "    <tr>\n",
              "        <td>Ancona</td>\n",
              "        <td>Sarajevo</td>\n",
              "    </tr>\n",
              "    <tr>\n",
              "        <td>Basel</td>\n",
              "        <td>Freiburg</td>\n",
              "    </tr>\n",
              "    <tr>\n",
              "        <td>Basel</td>\n",
              "        <td>Mulhouse</td>\n",
              "    </tr>\n",
              "    <tr>\n",
              "        <td>Bergamo</td>\n",
              "        <td>Milan</td>\n",
              "    </tr>\n",
              "    <tr>\n",
              "        <td>Cartagena</td>\n",
              "        <td>Murcia</td>\n",
              "    </tr>\n",
              "    <tr>\n",
              "        <td>Heidelberg</td>\n",
              "        <td>Karlsruhe</td>\n",
              "    </tr>\n",
              "    <tr>\n",
              "        <td>Horlivka</td>\n",
              "        <td>Makiyivka</td>\n",
              "    </tr>\n",
              "</table>"
            ]
          },
          "metadata": {},
          "execution_count": 18
        }
      ],
      "source": [
        "%%sql\n",
        "select C1.city, C2.city\n",
        "from Cities C1, Cities C2\n",
        "where abs(C1.longitude - C2.longitude) < .5\n",
        "and abs(C1.latitude - C2.latitude) < .5\n",
        "and C1.city < C2.city"
      ]
    },
    {
      "cell_type": "markdown",
      "metadata": {
        "id": "fRSjt5iPjquw"
      },
      "source": [
        "### <font color = 'green'>**Your Turn**</font>"
      ]
    },
    {
      "cell_type": "markdown",
      "metadata": {
        "collapsed": true,
        "id": "b1xuaM5Jjquw"
      },
      "source": [
        "*Find all pairs of cities with the same temperature. Return the city pairs along with their shared temperature. What do you think about the data after seeing the answer?*"
      ]
    },
    {
      "cell_type": "code",
      "execution_count": 19,
      "metadata": {
        "id": "nnAU0sTsjquw",
        "colab": {
          "base_uri": "https://localhost:8080/",
          "height": 1000
        },
        "outputId": "11208a21-b8ea-4717-a9af-c1526579f99d"
      },
      "outputs": [
        {
          "output_type": "stream",
          "name": "stdout",
          "text": [
            " * sqlite://\n",
            "Done.\n"
          ]
        },
        {
          "output_type": "execute_result",
          "data": {
            "text/plain": [
              "[('Augsburg', 'Innsbruck', 4.54),\n",
              " ('Daugavpils', 'Vilnius', 5.38),\n",
              " ('Bialystok', 'Hrodna', 6.07),\n",
              " ('Basel', 'Elblag', 6.68),\n",
              " ('Basel', 'Freiburg', 6.68),\n",
              " ('Basel', 'Mulhouse', 6.68),\n",
              " ('Basel', 'Zurich', 6.68),\n",
              " ('Elblag', 'Freiburg', 6.68),\n",
              " ('Elblag', 'Mulhouse', 6.68),\n",
              " ('Elblag', 'Zurich', 6.68),\n",
              " ('Freiburg', 'Mulhouse', 6.68),\n",
              " ('Freiburg', 'Zurich', 6.68),\n",
              " ('Mulhouse', 'Zurich', 6.68),\n",
              " ('Edinburgh', 'Kremenchuk', 7.43),\n",
              " ('Bytom', 'Ostrava', 7.66),\n",
              " ('Koszalin', 'Odense', 7.73),\n",
              " ('Brno', 'Vienna', 7.86),\n",
              " ('Chemnitz', 'Prague', 8.05),\n",
              " ('Chemnitz', 'Sivas', 8.05),\n",
              " ('Prague', 'Sivas', 8.05),\n",
              " ('Balti', 'Botosani', 8.23),\n",
              " ('Geneva', 'Grenoble', 8.4),\n",
              " ('Chisinau', 'Glasgow', 8.6),\n",
              " ('Bonn', 'Maastricht', 8.63),\n",
              " ('Baia Mare', 'Debrecen', 8.87),\n",
              " ('Karlsruhe', 'Metz', 8.88),\n",
              " ('Ljubljana', 'Rijeka', 9.27),\n",
              " ('Nis', 'Skopje', 9.36),\n",
              " ('Andorra', 'Sarajevo', 9.6),\n",
              " ('Bratislava', 'Brugge', 9.65),\n",
              " ('Bratislava', 'Gyor', 9.65),\n",
              " ('Bratislava', 'Lille', 9.65),\n",
              " ('Brugge', 'Gyor', 9.65),\n",
              " ('Brugge', 'Lille', 9.65),\n",
              " ('Gyor', 'Lille', 9.65),\n",
              " ('Novi Sad', 'Szeged', 10.34),\n",
              " ('Craiova', 'Pleven', 10.51),\n",
              " ('Bucharest', 'Le Mans', 10.59),\n",
              " ('Bucharest', 'Ruse', 10.59),\n",
              " ('Le Mans', 'Ruse', 10.59),\n",
              " ('Edirne', 'Stara Zagora', 10.9),\n",
              " ('Eskisehir', 'Montpellier', 11.11),\n",
              " ('Tarsus', 'Trieste', 11.21),\n",
              " ('Manisa', 'Rome', 15.1)]"
            ],
            "text/html": [
              "<table>\n",
              "    <tr>\n",
              "        <th>city1</th>\n",
              "        <th>city2</th>\n",
              "        <th>temperature</th>\n",
              "    </tr>\n",
              "    <tr>\n",
              "        <td>Augsburg</td>\n",
              "        <td>Innsbruck</td>\n",
              "        <td>4.54</td>\n",
              "    </tr>\n",
              "    <tr>\n",
              "        <td>Daugavpils</td>\n",
              "        <td>Vilnius</td>\n",
              "        <td>5.38</td>\n",
              "    </tr>\n",
              "    <tr>\n",
              "        <td>Bialystok</td>\n",
              "        <td>Hrodna</td>\n",
              "        <td>6.07</td>\n",
              "    </tr>\n",
              "    <tr>\n",
              "        <td>Basel</td>\n",
              "        <td>Elblag</td>\n",
              "        <td>6.68</td>\n",
              "    </tr>\n",
              "    <tr>\n",
              "        <td>Basel</td>\n",
              "        <td>Freiburg</td>\n",
              "        <td>6.68</td>\n",
              "    </tr>\n",
              "    <tr>\n",
              "        <td>Basel</td>\n",
              "        <td>Mulhouse</td>\n",
              "        <td>6.68</td>\n",
              "    </tr>\n",
              "    <tr>\n",
              "        <td>Basel</td>\n",
              "        <td>Zurich</td>\n",
              "        <td>6.68</td>\n",
              "    </tr>\n",
              "    <tr>\n",
              "        <td>Elblag</td>\n",
              "        <td>Freiburg</td>\n",
              "        <td>6.68</td>\n",
              "    </tr>\n",
              "    <tr>\n",
              "        <td>Elblag</td>\n",
              "        <td>Mulhouse</td>\n",
              "        <td>6.68</td>\n",
              "    </tr>\n",
              "    <tr>\n",
              "        <td>Elblag</td>\n",
              "        <td>Zurich</td>\n",
              "        <td>6.68</td>\n",
              "    </tr>\n",
              "    <tr>\n",
              "        <td>Freiburg</td>\n",
              "        <td>Mulhouse</td>\n",
              "        <td>6.68</td>\n",
              "    </tr>\n",
              "    <tr>\n",
              "        <td>Freiburg</td>\n",
              "        <td>Zurich</td>\n",
              "        <td>6.68</td>\n",
              "    </tr>\n",
              "    <tr>\n",
              "        <td>Mulhouse</td>\n",
              "        <td>Zurich</td>\n",
              "        <td>6.68</td>\n",
              "    </tr>\n",
              "    <tr>\n",
              "        <td>Edinburgh</td>\n",
              "        <td>Kremenchuk</td>\n",
              "        <td>7.43</td>\n",
              "    </tr>\n",
              "    <tr>\n",
              "        <td>Bytom</td>\n",
              "        <td>Ostrava</td>\n",
              "        <td>7.66</td>\n",
              "    </tr>\n",
              "    <tr>\n",
              "        <td>Koszalin</td>\n",
              "        <td>Odense</td>\n",
              "        <td>7.73</td>\n",
              "    </tr>\n",
              "    <tr>\n",
              "        <td>Brno</td>\n",
              "        <td>Vienna</td>\n",
              "        <td>7.86</td>\n",
              "    </tr>\n",
              "    <tr>\n",
              "        <td>Chemnitz</td>\n",
              "        <td>Prague</td>\n",
              "        <td>8.05</td>\n",
              "    </tr>\n",
              "    <tr>\n",
              "        <td>Chemnitz</td>\n",
              "        <td>Sivas</td>\n",
              "        <td>8.05</td>\n",
              "    </tr>\n",
              "    <tr>\n",
              "        <td>Prague</td>\n",
              "        <td>Sivas</td>\n",
              "        <td>8.05</td>\n",
              "    </tr>\n",
              "    <tr>\n",
              "        <td>Balti</td>\n",
              "        <td>Botosani</td>\n",
              "        <td>8.23</td>\n",
              "    </tr>\n",
              "    <tr>\n",
              "        <td>Geneva</td>\n",
              "        <td>Grenoble</td>\n",
              "        <td>8.4</td>\n",
              "    </tr>\n",
              "    <tr>\n",
              "        <td>Chisinau</td>\n",
              "        <td>Glasgow</td>\n",
              "        <td>8.6</td>\n",
              "    </tr>\n",
              "    <tr>\n",
              "        <td>Bonn</td>\n",
              "        <td>Maastricht</td>\n",
              "        <td>8.63</td>\n",
              "    </tr>\n",
              "    <tr>\n",
              "        <td>Baia Mare</td>\n",
              "        <td>Debrecen</td>\n",
              "        <td>8.87</td>\n",
              "    </tr>\n",
              "    <tr>\n",
              "        <td>Karlsruhe</td>\n",
              "        <td>Metz</td>\n",
              "        <td>8.88</td>\n",
              "    </tr>\n",
              "    <tr>\n",
              "        <td>Ljubljana</td>\n",
              "        <td>Rijeka</td>\n",
              "        <td>9.27</td>\n",
              "    </tr>\n",
              "    <tr>\n",
              "        <td>Nis</td>\n",
              "        <td>Skopje</td>\n",
              "        <td>9.36</td>\n",
              "    </tr>\n",
              "    <tr>\n",
              "        <td>Andorra</td>\n",
              "        <td>Sarajevo</td>\n",
              "        <td>9.6</td>\n",
              "    </tr>\n",
              "    <tr>\n",
              "        <td>Bratislava</td>\n",
              "        <td>Brugge</td>\n",
              "        <td>9.65</td>\n",
              "    </tr>\n",
              "    <tr>\n",
              "        <td>Bratislava</td>\n",
              "        <td>Gyor</td>\n",
              "        <td>9.65</td>\n",
              "    </tr>\n",
              "    <tr>\n",
              "        <td>Bratislava</td>\n",
              "        <td>Lille</td>\n",
              "        <td>9.65</td>\n",
              "    </tr>\n",
              "    <tr>\n",
              "        <td>Brugge</td>\n",
              "        <td>Gyor</td>\n",
              "        <td>9.65</td>\n",
              "    </tr>\n",
              "    <tr>\n",
              "        <td>Brugge</td>\n",
              "        <td>Lille</td>\n",
              "        <td>9.65</td>\n",
              "    </tr>\n",
              "    <tr>\n",
              "        <td>Gyor</td>\n",
              "        <td>Lille</td>\n",
              "        <td>9.65</td>\n",
              "    </tr>\n",
              "    <tr>\n",
              "        <td>Novi Sad</td>\n",
              "        <td>Szeged</td>\n",
              "        <td>10.34</td>\n",
              "    </tr>\n",
              "    <tr>\n",
              "        <td>Craiova</td>\n",
              "        <td>Pleven</td>\n",
              "        <td>10.51</td>\n",
              "    </tr>\n",
              "    <tr>\n",
              "        <td>Bucharest</td>\n",
              "        <td>Le Mans</td>\n",
              "        <td>10.59</td>\n",
              "    </tr>\n",
              "    <tr>\n",
              "        <td>Bucharest</td>\n",
              "        <td>Ruse</td>\n",
              "        <td>10.59</td>\n",
              "    </tr>\n",
              "    <tr>\n",
              "        <td>Le Mans</td>\n",
              "        <td>Ruse</td>\n",
              "        <td>10.59</td>\n",
              "    </tr>\n",
              "    <tr>\n",
              "        <td>Edirne</td>\n",
              "        <td>Stara Zagora</td>\n",
              "        <td>10.9</td>\n",
              "    </tr>\n",
              "    <tr>\n",
              "        <td>Eskisehir</td>\n",
              "        <td>Montpellier</td>\n",
              "        <td>11.11</td>\n",
              "    </tr>\n",
              "    <tr>\n",
              "        <td>Tarsus</td>\n",
              "        <td>Trieste</td>\n",
              "        <td>11.21</td>\n",
              "    </tr>\n",
              "    <tr>\n",
              "        <td>Manisa</td>\n",
              "        <td>Rome</td>\n",
              "        <td>15.1</td>\n",
              "    </tr>\n",
              "</table>"
            ]
          },
          "metadata": {},
          "execution_count": 19
        }
      ],
      "source": [
        "%%sql\n",
        "select c1.city as city1,\n",
        "       c2.city as city2,\n",
        "       c1.temperature\n",
        "from Cities c1\n",
        "join Cities c2\n",
        "  on c1.temperature = c2.temperature\n",
        " and c1.city < c2.city\n",
        "order by c1.temperature, city1, city2\n"
      ]
    },
    {
      "cell_type": "markdown",
      "metadata": {
        "id": "2wHgKsCmjqux"
      },
      "source": [
        "### Subqueries in Where clause"
      ]
    },
    {
      "cell_type": "markdown",
      "metadata": {
        "id": "3TNbJmdZjqux"
      },
      "source": [
        "*Find all countries in the Countries table with no city in the Cities table*"
      ]
    },
    {
      "cell_type": "code",
      "execution_count": 20,
      "metadata": {
        "id": "t-J4dBcGjqux",
        "colab": {
          "base_uri": "https://localhost:8080/",
          "height": 182
        },
        "outputId": "34834655-3555-40b9-a8c8-2bb2d84985d8"
      },
      "outputs": [
        {
          "output_type": "stream",
          "name": "stdout",
          "text": [
            " * sqlite://\n",
            "Done.\n"
          ]
        },
        {
          "output_type": "execute_result",
          "data": {
            "text/plain": [
              "[('Cyprus',), ('Iceland',), ('Kosovo',), ('Liechtenstein',), ('Luxembourg',)]"
            ],
            "text/html": [
              "<table>\n",
              "    <tr>\n",
              "        <th>country</th>\n",
              "    </tr>\n",
              "    <tr>\n",
              "        <td>Cyprus</td>\n",
              "    </tr>\n",
              "    <tr>\n",
              "        <td>Iceland</td>\n",
              "    </tr>\n",
              "    <tr>\n",
              "        <td>Kosovo</td>\n",
              "    </tr>\n",
              "    <tr>\n",
              "        <td>Liechtenstein</td>\n",
              "    </tr>\n",
              "    <tr>\n",
              "        <td>Luxembourg</td>\n",
              "    </tr>\n",
              "</table>"
            ]
          },
          "metadata": {},
          "execution_count": 20
        }
      ],
      "source": [
        "%%sql\n",
        "select country\n",
        "from Countries\n",
        "where not exists (\n",
        "\n",
        "  select * from Cities\n",
        "  where Cities.country = Countries.country\n",
        "\n",
        ")"
      ]
    },
    {
      "cell_type": "markdown",
      "metadata": {
        "id": "7RSfkrEbjqux"
      },
      "source": [
        "*Find countries in the EU that have a city with temperature > 15*"
      ]
    },
    {
      "cell_type": "code",
      "execution_count": 21,
      "metadata": {
        "id": "bAbMVdYtjqux",
        "colab": {
          "base_uri": "https://localhost:8080/",
          "height": 161
        },
        "outputId": "d75acab2-695d-49a4-da88-8162d08fbd41"
      },
      "outputs": [
        {
          "output_type": "stream",
          "name": "stdout",
          "text": [
            " * sqlite://\n",
            "Done.\n"
          ]
        },
        {
          "output_type": "execute_result",
          "data": {
            "text/plain": [
              "[('Greece',), ('Italy',), ('Portugal',), ('Spain',)]"
            ],
            "text/html": [
              "<table>\n",
              "    <tr>\n",
              "        <th>country</th>\n",
              "    </tr>\n",
              "    <tr>\n",
              "        <td>Greece</td>\n",
              "    </tr>\n",
              "    <tr>\n",
              "        <td>Italy</td>\n",
              "    </tr>\n",
              "    <tr>\n",
              "        <td>Portugal</td>\n",
              "    </tr>\n",
              "    <tr>\n",
              "        <td>Spain</td>\n",
              "    </tr>\n",
              "</table>"
            ]
          },
          "metadata": {},
          "execution_count": 21
        }
      ],
      "source": [
        "%%sql\n",
        "select country\n",
        "from Countries\n",
        "where EU = 'yes'\n",
        "and exists (select * from Cities\n",
        "            where Cities.country = Countries.country\n",
        "            and temperature > 15)"
      ]
    },
    {
      "cell_type": "markdown",
      "metadata": {
        "id": "0ro3Abocjqux"
      },
      "source": [
        "*Find number of countries that have a city with latitude > 60 (start with country list)*"
      ]
    },
    {
      "cell_type": "code",
      "execution_count": 22,
      "metadata": {
        "id": "ic5KrrJGjquy",
        "colab": {
          "base_uri": "https://localhost:8080/",
          "height": 140
        },
        "outputId": "df26d300-697e-4021-c228-bea4cfb44c6f"
      },
      "outputs": [
        {
          "output_type": "stream",
          "name": "stdout",
          "text": [
            " * sqlite://\n",
            "Done.\n"
          ]
        },
        {
          "output_type": "execute_result",
          "data": {
            "text/plain": [
              "[('Finland',), ('Norway',), ('Sweden',)]"
            ],
            "text/html": [
              "<table>\n",
              "    <tr>\n",
              "        <th>country</th>\n",
              "    </tr>\n",
              "    <tr>\n",
              "        <td>Finland</td>\n",
              "    </tr>\n",
              "    <tr>\n",
              "        <td>Norway</td>\n",
              "    </tr>\n",
              "    <tr>\n",
              "        <td>Sweden</td>\n",
              "    </tr>\n",
              "</table>"
            ]
          },
          "metadata": {},
          "execution_count": 22
        }
      ],
      "source": [
        "%%sql\n",
        "select country\n",
        "from Countries\n",
        "where exists (select * from Cities\n",
        "              where Cities.country = Countries.country\n",
        "              and latitude > 60)"
      ]
    },
    {
      "cell_type": "markdown",
      "metadata": {
        "id": "KjEoyP9Hjquy"
      },
      "source": [
        "*Find the westernmost city; return the city and longitude*"
      ]
    },
    {
      "cell_type": "code",
      "execution_count": 23,
      "metadata": {
        "id": "ck8OYhiIjquy",
        "colab": {
          "base_uri": "https://localhost:8080/",
          "height": 98
        },
        "outputId": "390feaba-a19d-446e-a802-67f2d0b41b5a"
      },
      "outputs": [
        {
          "output_type": "stream",
          "name": "stdout",
          "text": [
            " * sqlite://\n",
            "Done.\n"
          ]
        },
        {
          "output_type": "execute_result",
          "data": {
            "text/plain": [
              "[('Lisbon', -9.14)]"
            ],
            "text/html": [
              "<table>\n",
              "    <tr>\n",
              "        <th>city</th>\n",
              "        <th>longitude</th>\n",
              "    </tr>\n",
              "    <tr>\n",
              "        <td>Lisbon</td>\n",
              "        <td>-9.14</td>\n",
              "    </tr>\n",
              "</table>"
            ]
          },
          "metadata": {},
          "execution_count": 23
        }
      ],
      "source": [
        "%%sql\n",
        "select city, longitude\n",
        "from Cities C1\n",
        "where not exists (select * from Cities C2\n",
        "                  where C2.longitude < C1.longitude)"
      ]
    },
    {
      "cell_type": "markdown",
      "metadata": {
        "id": "do1hOdfCjquy"
      },
      "source": [
        "*Add easternmost to previous query*"
      ]
    },
    {
      "cell_type": "markdown",
      "metadata": {
        "id": "UqYFH27rjquy"
      },
      "source": [
        "*Westernmost city query using = and min*"
      ]
    },
    {
      "cell_type": "code",
      "execution_count": 24,
      "metadata": {
        "id": "7Sb4Veopjquy",
        "colab": {
          "base_uri": "https://localhost:8080/",
          "height": 98
        },
        "outputId": "4e8a5582-4d0d-4338-d973-f9bf5bd26414"
      },
      "outputs": [
        {
          "output_type": "stream",
          "name": "stdout",
          "text": [
            " * sqlite://\n",
            "Done.\n"
          ]
        },
        {
          "output_type": "execute_result",
          "data": {
            "text/plain": [
              "[('Lisbon', -9.14)]"
            ],
            "text/html": [
              "<table>\n",
              "    <tr>\n",
              "        <th>city</th>\n",
              "        <th>longitude</th>\n",
              "    </tr>\n",
              "    <tr>\n",
              "        <td>Lisbon</td>\n",
              "        <td>-9.14</td>\n",
              "    </tr>\n",
              "</table>"
            ]
          },
          "metadata": {},
          "execution_count": 24
        }
      ],
      "source": [
        "%%sql\n",
        "select city, longitude\n",
        "from Cities\n",
        "where longitude = (select min(longitude) from Cities)"
      ]
    },
    {
      "cell_type": "markdown",
      "metadata": {
        "id": "Krt2TVHvjquy"
      },
      "source": [
        "*Find all cities whose temperature is more than 50% higher than the average; return the city, country, and temperature, ordered by descending temperature*"
      ]
    },
    {
      "cell_type": "code",
      "execution_count": 25,
      "metadata": {
        "id": "qit4xxFRjquz",
        "colab": {
          "base_uri": "https://localhost:8080/",
          "height": 626
        },
        "outputId": "c27dad31-6507-485b-8b18-e22c89ef24ab"
      },
      "outputs": [
        {
          "output_type": "stream",
          "name": "stdout",
          "text": [
            " * sqlite://\n",
            "Done.\n"
          ]
        },
        {
          "output_type": "execute_result",
          "data": {
            "text/plain": [
              "[('Adana', 'Turkey', 18.67),\n",
              " ('Palermo', 'Italy', 17.9),\n",
              " ('Athens', 'Greece', 17.41),\n",
              " ('Algeciras', 'Spain', 17.38),\n",
              " ('Cartagena', 'Spain', 17.32),\n",
              " ('Kalamata', 'Greece', 17.3),\n",
              " ('Marbella', 'Spain', 17.19),\n",
              " ('Huelva', 'Spain', 17.09),\n",
              " ('Patras', 'Greece', 16.9),\n",
              " ('Cosenza', 'Italy', 16.6),\n",
              " ('Messina', 'Italy', 16.54),\n",
              " ('Granada', 'Spain', 16.33),\n",
              " ('Valencia', 'Spain', 16.02),\n",
              " ('Trikala', 'Greece', 16.0),\n",
              " ('Barcelona', 'Spain', 15.78),\n",
              " ('Badajoz', 'Spain', 15.61),\n",
              " ('Lisbon', 'Portugal', 15.52),\n",
              " ('Elbasan', 'Albania', 15.18),\n",
              " ('Bari', 'Italy', 15.15),\n",
              " ('Pescara', 'Italy', 15.13),\n",
              " ('Manisa', 'Turkey', 15.1),\n",
              " ('Rome', 'Italy', 15.1),\n",
              " ('Catania', 'Italy', 15.04),\n",
              " ('Denizli', 'Turkey', 15.02),\n",
              " ('Murcia', 'Spain', 15.0),\n",
              " ('Marseille', 'France', 14.98)]"
            ],
            "text/html": [
              "<table>\n",
              "    <tr>\n",
              "        <th>city</th>\n",
              "        <th>country</th>\n",
              "        <th>temperature</th>\n",
              "    </tr>\n",
              "    <tr>\n",
              "        <td>Adana</td>\n",
              "        <td>Turkey</td>\n",
              "        <td>18.67</td>\n",
              "    </tr>\n",
              "    <tr>\n",
              "        <td>Palermo</td>\n",
              "        <td>Italy</td>\n",
              "        <td>17.9</td>\n",
              "    </tr>\n",
              "    <tr>\n",
              "        <td>Athens</td>\n",
              "        <td>Greece</td>\n",
              "        <td>17.41</td>\n",
              "    </tr>\n",
              "    <tr>\n",
              "        <td>Algeciras</td>\n",
              "        <td>Spain</td>\n",
              "        <td>17.38</td>\n",
              "    </tr>\n",
              "    <tr>\n",
              "        <td>Cartagena</td>\n",
              "        <td>Spain</td>\n",
              "        <td>17.32</td>\n",
              "    </tr>\n",
              "    <tr>\n",
              "        <td>Kalamata</td>\n",
              "        <td>Greece</td>\n",
              "        <td>17.3</td>\n",
              "    </tr>\n",
              "    <tr>\n",
              "        <td>Marbella</td>\n",
              "        <td>Spain</td>\n",
              "        <td>17.19</td>\n",
              "    </tr>\n",
              "    <tr>\n",
              "        <td>Huelva</td>\n",
              "        <td>Spain</td>\n",
              "        <td>17.09</td>\n",
              "    </tr>\n",
              "    <tr>\n",
              "        <td>Patras</td>\n",
              "        <td>Greece</td>\n",
              "        <td>16.9</td>\n",
              "    </tr>\n",
              "    <tr>\n",
              "        <td>Cosenza</td>\n",
              "        <td>Italy</td>\n",
              "        <td>16.6</td>\n",
              "    </tr>\n",
              "    <tr>\n",
              "        <td>Messina</td>\n",
              "        <td>Italy</td>\n",
              "        <td>16.54</td>\n",
              "    </tr>\n",
              "    <tr>\n",
              "        <td>Granada</td>\n",
              "        <td>Spain</td>\n",
              "        <td>16.33</td>\n",
              "    </tr>\n",
              "    <tr>\n",
              "        <td>Valencia</td>\n",
              "        <td>Spain</td>\n",
              "        <td>16.02</td>\n",
              "    </tr>\n",
              "    <tr>\n",
              "        <td>Trikala</td>\n",
              "        <td>Greece</td>\n",
              "        <td>16.0</td>\n",
              "    </tr>\n",
              "    <tr>\n",
              "        <td>Barcelona</td>\n",
              "        <td>Spain</td>\n",
              "        <td>15.78</td>\n",
              "    </tr>\n",
              "    <tr>\n",
              "        <td>Badajoz</td>\n",
              "        <td>Spain</td>\n",
              "        <td>15.61</td>\n",
              "    </tr>\n",
              "    <tr>\n",
              "        <td>Lisbon</td>\n",
              "        <td>Portugal</td>\n",
              "        <td>15.52</td>\n",
              "    </tr>\n",
              "    <tr>\n",
              "        <td>Elbasan</td>\n",
              "        <td>Albania</td>\n",
              "        <td>15.18</td>\n",
              "    </tr>\n",
              "    <tr>\n",
              "        <td>Bari</td>\n",
              "        <td>Italy</td>\n",
              "        <td>15.15</td>\n",
              "    </tr>\n",
              "    <tr>\n",
              "        <td>Pescara</td>\n",
              "        <td>Italy</td>\n",
              "        <td>15.13</td>\n",
              "    </tr>\n",
              "    <tr>\n",
              "        <td>Manisa</td>\n",
              "        <td>Turkey</td>\n",
              "        <td>15.1</td>\n",
              "    </tr>\n",
              "    <tr>\n",
              "        <td>Rome</td>\n",
              "        <td>Italy</td>\n",
              "        <td>15.1</td>\n",
              "    </tr>\n",
              "    <tr>\n",
              "        <td>Catania</td>\n",
              "        <td>Italy</td>\n",
              "        <td>15.04</td>\n",
              "    </tr>\n",
              "    <tr>\n",
              "        <td>Denizli</td>\n",
              "        <td>Turkey</td>\n",
              "        <td>15.02</td>\n",
              "    </tr>\n",
              "    <tr>\n",
              "        <td>Murcia</td>\n",
              "        <td>Spain</td>\n",
              "        <td>15.0</td>\n",
              "    </tr>\n",
              "    <tr>\n",
              "        <td>Marseille</td>\n",
              "        <td>France</td>\n",
              "        <td>14.98</td>\n",
              "    </tr>\n",
              "</table>"
            ]
          },
          "metadata": {},
          "execution_count": 25
        }
      ],
      "source": [
        "%%sql\n",
        "select city, country, temperature\n",
        "from Cities\n",
        "where temperature > (select avg(temperature) * 1.5 from Cities)\n",
        "order by temperature desc"
      ]
    },
    {
      "cell_type": "markdown",
      "metadata": {
        "id": "KmyCO8ovjquz"
      },
      "source": [
        "*Number of cities in the EU*"
      ]
    },
    {
      "cell_type": "code",
      "execution_count": 26,
      "metadata": {
        "id": "yg7XtKC6jquz",
        "colab": {
          "base_uri": "https://localhost:8080/",
          "height": 98
        },
        "outputId": "bdb85f4a-81a3-4e83-c0e4-299707f3021f"
      },
      "outputs": [
        {
          "output_type": "stream",
          "name": "stdout",
          "text": [
            " * sqlite://\n",
            "Done.\n"
          ]
        },
        {
          "output_type": "execute_result",
          "data": {
            "text/plain": [
              "[(150,)]"
            ],
            "text/html": [
              "<table>\n",
              "    <tr>\n",
              "        <th>count()</th>\n",
              "    </tr>\n",
              "    <tr>\n",
              "        <td>150</td>\n",
              "    </tr>\n",
              "</table>"
            ]
          },
          "metadata": {},
          "execution_count": 26
        }
      ],
      "source": [
        "%%sql\n",
        "select count()\n",
        "from Cities\n",
        "where country in (select country from Countries where EU = 'yes')"
      ]
    },
    {
      "cell_type": "markdown",
      "metadata": {
        "id": "yDz4yRdajquz"
      },
      "source": [
        "*Modify previous query to use \"not in\"*"
      ]
    },
    {
      "cell_type": "markdown",
      "metadata": {
        "id": "zgI5gGBajquz"
      },
      "source": [
        "*Same query using join instead of subquery*"
      ]
    },
    {
      "cell_type": "code",
      "execution_count": 27,
      "metadata": {
        "id": "vPFyEAEjjquz",
        "colab": {
          "base_uri": "https://localhost:8080/",
          "height": 98
        },
        "outputId": "3fb94c61-692e-486a-f491-729a3d52f7c5"
      },
      "outputs": [
        {
          "output_type": "stream",
          "name": "stdout",
          "text": [
            " * sqlite://\n",
            "Done.\n"
          ]
        },
        {
          "output_type": "execute_result",
          "data": {
            "text/plain": [
              "[(150,)]"
            ],
            "text/html": [
              "<table>\n",
              "    <tr>\n",
              "        <th>count()</th>\n",
              "    </tr>\n",
              "    <tr>\n",
              "        <td>150</td>\n",
              "    </tr>\n",
              "</table>"
            ]
          },
          "metadata": {},
          "execution_count": 27
        }
      ],
      "source": [
        "%%sql\n",
        "select count()\n",
        "from Cities, Countries\n",
        "where Cities.country = Countries.country\n",
        "and EU = 'yes'"
      ]
    },
    {
      "cell_type": "markdown",
      "metadata": {
        "id": "XMV05Ojkjqu0"
      },
      "source": [
        "*Number of countries with no coastline and a city with longitude < 20*"
      ]
    },
    {
      "cell_type": "code",
      "execution_count": 28,
      "metadata": {
        "id": "5JU1k1yYjqu0",
        "colab": {
          "base_uri": "https://localhost:8080/",
          "height": 98
        },
        "outputId": "8262c7f6-35d8-4564-aca8-837c64e073b8"
      },
      "outputs": [
        {
          "output_type": "stream",
          "name": "stdout",
          "text": [
            " * sqlite://\n",
            "Done.\n"
          ]
        },
        {
          "output_type": "execute_result",
          "data": {
            "text/plain": [
              "[(7,)]"
            ],
            "text/html": [
              "<table>\n",
              "    <tr>\n",
              "        <th>count()</th>\n",
              "    </tr>\n",
              "    <tr>\n",
              "        <td>7</td>\n",
              "    </tr>\n",
              "</table>"
            ]
          },
          "metadata": {},
          "execution_count": 28
        }
      ],
      "source": [
        "%%sql\n",
        "select count()\n",
        "from Countries\n",
        "where coastline = 'no'\n",
        "and exists (select * from Cities where country = Countries.country\n",
        "            and longitude < 20)"
      ]
    },
    {
      "cell_type": "markdown",
      "metadata": {
        "id": "BHZjQqTcjqu0"
      },
      "source": [
        "*Same query using join instead of subquery (see what's wrong and fix it)*"
      ]
    },
    {
      "cell_type": "code",
      "execution_count": 29,
      "metadata": {
        "id": "ErYvUnkPjqu0",
        "colab": {
          "base_uri": "https://localhost:8080/",
          "height": 98
        },
        "outputId": "0ed46ce3-2365-48dc-a948-6d661a2fafe6"
      },
      "outputs": [
        {
          "output_type": "stream",
          "name": "stdout",
          "text": [
            " * sqlite://\n",
            "Done.\n"
          ]
        },
        {
          "output_type": "execute_result",
          "data": {
            "text/plain": [
              "[(16,)]"
            ],
            "text/html": [
              "<table>\n",
              "    <tr>\n",
              "        <th>count()</th>\n",
              "    </tr>\n",
              "    <tr>\n",
              "        <td>16</td>\n",
              "    </tr>\n",
              "</table>"
            ]
          },
          "metadata": {},
          "execution_count": 29
        }
      ],
      "source": [
        "%%sql\n",
        "select count()\n",
        "from Countries, Cities\n",
        "where Countries.country = Cities.country\n",
        "and coastline = 'no' and longitude < 20"
      ]
    },
    {
      "cell_type": "markdown",
      "metadata": {
        "id": "XBY1qR5ejqu0"
      },
      "source": [
        "*Find countries in Countries table with no city in Cities table using join instead of subquery (subquery version repeated first)*"
      ]
    },
    {
      "cell_type": "code",
      "execution_count": 30,
      "metadata": {
        "id": "h73wofGWjqu0",
        "colab": {
          "base_uri": "https://localhost:8080/",
          "height": 182
        },
        "outputId": "8903da31-933a-46ee-ebe2-7eb90e9a3765"
      },
      "outputs": [
        {
          "output_type": "stream",
          "name": "stdout",
          "text": [
            " * sqlite://\n",
            "Done.\n"
          ]
        },
        {
          "output_type": "execute_result",
          "data": {
            "text/plain": [
              "[('Cyprus',), ('Iceland',), ('Kosovo',), ('Liechtenstein',), ('Luxembourg',)]"
            ],
            "text/html": [
              "<table>\n",
              "    <tr>\n",
              "        <th>country</th>\n",
              "    </tr>\n",
              "    <tr>\n",
              "        <td>Cyprus</td>\n",
              "    </tr>\n",
              "    <tr>\n",
              "        <td>Iceland</td>\n",
              "    </tr>\n",
              "    <tr>\n",
              "        <td>Kosovo</td>\n",
              "    </tr>\n",
              "    <tr>\n",
              "        <td>Liechtenstein</td>\n",
              "    </tr>\n",
              "    <tr>\n",
              "        <td>Luxembourg</td>\n",
              "    </tr>\n",
              "</table>"
            ]
          },
          "metadata": {},
          "execution_count": 30
        }
      ],
      "source": [
        "%%sql\n",
        "select country\n",
        "from Countries\n",
        "where not exists (select * from Cities\n",
        "                  where Cities.country = Countries.country)"
      ]
    },
    {
      "cell_type": "code",
      "execution_count": 31,
      "metadata": {
        "id": "MAUup1KNjqu0",
        "colab": {
          "base_uri": "https://localhost:8080/"
        },
        "outputId": "a239abab-e586-475e-8cfc-e1cbe3bc6cc0"
      },
      "outputs": [
        {
          "output_type": "stream",
          "name": "stdout",
          "text": [
            " * sqlite://\n",
            "(sqlite3.OperationalError) near \"FILL\": syntax error\n",
            "[SQL: FILL IN]\n",
            "(Background on this error at: https://sqlalche.me/e/20/e3q8)\n"
          ]
        }
      ],
      "source": [
        "%%sql\n",
        "FILL IN"
      ]
    },
    {
      "cell_type": "markdown",
      "metadata": {
        "id": "o5cx6ikrjqu0"
      },
      "source": [
        "### <font color = 'green'>**Your Turn**</font>"
      ]
    },
    {
      "cell_type": "markdown",
      "metadata": {
        "collapsed": true,
        "id": "p_bcmQW9jqu0"
      },
      "source": [
        "*Find all cities in a country whose population is < 2; return the city and country. First write the query without a subquery.*"
      ]
    },
    {
      "cell_type": "code",
      "execution_count": 32,
      "metadata": {
        "id": "vT56ndrXjqu1",
        "colab": {
          "base_uri": "https://localhost:8080/",
          "height": 203
        },
        "outputId": "36f27134-3b36-45e7-f2bd-9ed4a59a85c5"
      },
      "outputs": [
        {
          "output_type": "stream",
          "name": "stdout",
          "text": [
            " * sqlite://\n",
            "Done.\n"
          ]
        },
        {
          "output_type": "execute_result",
          "data": {
            "text/plain": [
              "[('Andorra', 'Andorra'),\n",
              " ('Daugavpils', 'Latvia'),\n",
              " ('Podgorica', 'Montenegro'),\n",
              " ('Riga', 'Latvia'),\n",
              " ('Tallinn', 'Estonia'),\n",
              " ('Tartu', 'Estonia')]"
            ],
            "text/html": [
              "<table>\n",
              "    <tr>\n",
              "        <th>city</th>\n",
              "        <th>country</th>\n",
              "    </tr>\n",
              "    <tr>\n",
              "        <td>Andorra</td>\n",
              "        <td>Andorra</td>\n",
              "    </tr>\n",
              "    <tr>\n",
              "        <td>Daugavpils</td>\n",
              "        <td>Latvia</td>\n",
              "    </tr>\n",
              "    <tr>\n",
              "        <td>Podgorica</td>\n",
              "        <td>Montenegro</td>\n",
              "    </tr>\n",
              "    <tr>\n",
              "        <td>Riga</td>\n",
              "        <td>Latvia</td>\n",
              "    </tr>\n",
              "    <tr>\n",
              "        <td>Tallinn</td>\n",
              "        <td>Estonia</td>\n",
              "    </tr>\n",
              "    <tr>\n",
              "        <td>Tartu</td>\n",
              "        <td>Estonia</td>\n",
              "    </tr>\n",
              "</table>"
            ]
          },
          "metadata": {},
          "execution_count": 32
        }
      ],
      "source": [
        "%%sql\n",
        "select c.city, co.country\n",
        "from Cities c\n",
        "join Countries co\n",
        "  on c.country = co.country\n",
        "where co.population < 2\n"
      ]
    },
    {
      "cell_type": "markdown",
      "metadata": {
        "collapsed": true,
        "id": "FdTxCrlRjqu1"
      },
      "source": [
        "*Now write the same query using a subquery instead of a join.*"
      ]
    },
    {
      "cell_type": "code",
      "execution_count": 33,
      "metadata": {
        "id": "qrkfUVxQjqu1",
        "colab": {
          "base_uri": "https://localhost:8080/",
          "height": 203
        },
        "outputId": "825a1945-83a7-4ec6-9282-36729fb0c736"
      },
      "outputs": [
        {
          "output_type": "stream",
          "name": "stdout",
          "text": [
            " * sqlite://\n",
            "Done.\n"
          ]
        },
        {
          "output_type": "execute_result",
          "data": {
            "text/plain": [
              "[('Andorra', 'Andorra'),\n",
              " ('Daugavpils', 'Latvia'),\n",
              " ('Podgorica', 'Montenegro'),\n",
              " ('Riga', 'Latvia'),\n",
              " ('Tallinn', 'Estonia'),\n",
              " ('Tartu', 'Estonia')]"
            ],
            "text/html": [
              "<table>\n",
              "    <tr>\n",
              "        <th>city</th>\n",
              "        <th>country</th>\n",
              "    </tr>\n",
              "    <tr>\n",
              "        <td>Andorra</td>\n",
              "        <td>Andorra</td>\n",
              "    </tr>\n",
              "    <tr>\n",
              "        <td>Daugavpils</td>\n",
              "        <td>Latvia</td>\n",
              "    </tr>\n",
              "    <tr>\n",
              "        <td>Podgorica</td>\n",
              "        <td>Montenegro</td>\n",
              "    </tr>\n",
              "    <tr>\n",
              "        <td>Riga</td>\n",
              "        <td>Latvia</td>\n",
              "    </tr>\n",
              "    <tr>\n",
              "        <td>Tallinn</td>\n",
              "        <td>Estonia</td>\n",
              "    </tr>\n",
              "    <tr>\n",
              "        <td>Tartu</td>\n",
              "        <td>Estonia</td>\n",
              "    </tr>\n",
              "</table>"
            ]
          },
          "metadata": {},
          "execution_count": 33
        }
      ],
      "source": [
        "%%sql\n",
        "select city, country\n",
        "from Cities\n",
        "where country in (\n",
        "    select country\n",
        "    from Countries\n",
        "    where population < 2\n",
        ")\n"
      ]
    },
    {
      "cell_type": "markdown",
      "metadata": {
        "collapsed": true,
        "id": "TNovWh5Qjqu1"
      },
      "source": [
        "*Find all countries with no city having a temperature > 6*"
      ]
    },
    {
      "cell_type": "code",
      "execution_count": 34,
      "metadata": {
        "id": "C-NkjEqPjqu1",
        "colab": {
          "base_uri": "https://localhost:8080/",
          "height": 267
        },
        "outputId": "5fccb79c-f34f-44da-96a0-06cf503f96d8"
      },
      "outputs": [
        {
          "output_type": "stream",
          "name": "stdout",
          "text": [
            " * sqlite://\n",
            "Done.\n"
          ]
        },
        {
          "output_type": "execute_result",
          "data": {
            "text/plain": [
              "[('Cyprus',),\n",
              " ('Estonia',),\n",
              " ('Finland',),\n",
              " ('Iceland',),\n",
              " ('Kosovo',),\n",
              " ('Latvia',),\n",
              " ('Liechtenstein',),\n",
              " ('Luxembourg',),\n",
              " ('Norway',)]"
            ],
            "text/html": [
              "<table>\n",
              "    <tr>\n",
              "        <th>country</th>\n",
              "    </tr>\n",
              "    <tr>\n",
              "        <td>Cyprus</td>\n",
              "    </tr>\n",
              "    <tr>\n",
              "        <td>Estonia</td>\n",
              "    </tr>\n",
              "    <tr>\n",
              "        <td>Finland</td>\n",
              "    </tr>\n",
              "    <tr>\n",
              "        <td>Iceland</td>\n",
              "    </tr>\n",
              "    <tr>\n",
              "        <td>Kosovo</td>\n",
              "    </tr>\n",
              "    <tr>\n",
              "        <td>Latvia</td>\n",
              "    </tr>\n",
              "    <tr>\n",
              "        <td>Liechtenstein</td>\n",
              "    </tr>\n",
              "    <tr>\n",
              "        <td>Luxembourg</td>\n",
              "    </tr>\n",
              "    <tr>\n",
              "        <td>Norway</td>\n",
              "    </tr>\n",
              "</table>"
            ]
          },
          "metadata": {},
          "execution_count": 34
        }
      ],
      "source": [
        "%%sql\n",
        "select co.country\n",
        "from Countries co\n",
        "where not exists (\n",
        "    select 1\n",
        "    from Cities ci\n",
        "    where ci.country = co.country\n",
        "      and ci.temperature > 6\n",
        ")\n"
      ]
    },
    {
      "cell_type": "markdown",
      "metadata": {
        "collapsed": true,
        "id": "Ou4jykG_jqu1"
      },
      "source": [
        "*Now try to write the same query without a subquery; can you?*"
      ]
    },
    {
      "cell_type": "code",
      "execution_count": 35,
      "metadata": {
        "id": "JhsZNAEfjqu1",
        "colab": {
          "base_uri": "https://localhost:8080/",
          "height": 161
        },
        "outputId": "b47fef30-af34-477a-a409-fb59507967cc"
      },
      "outputs": [
        {
          "output_type": "stream",
          "name": "stdout",
          "text": [
            " * sqlite://\n",
            "Done.\n"
          ]
        },
        {
          "output_type": "execute_result",
          "data": {
            "text/plain": [
              "[('Estonia',), ('Finland',), ('Latvia',), ('Norway',)]"
            ],
            "text/html": [
              "<table>\n",
              "    <tr>\n",
              "        <th>country</th>\n",
              "    </tr>\n",
              "    <tr>\n",
              "        <td>Estonia</td>\n",
              "    </tr>\n",
              "    <tr>\n",
              "        <td>Finland</td>\n",
              "    </tr>\n",
              "    <tr>\n",
              "        <td>Latvia</td>\n",
              "    </tr>\n",
              "    <tr>\n",
              "        <td>Norway</td>\n",
              "    </tr>\n",
              "</table>"
            ]
          },
          "metadata": {},
          "execution_count": 35
        }
      ],
      "source": [
        "%%sql\n",
        "select country\n",
        "from Cities\n",
        "group by country\n",
        "having max(temperature) <= 6\n",
        "\n"
      ]
    },
    {
      "cell_type": "markdown",
      "metadata": {
        "id": "B0_jFJXVjqu2"
      },
      "source": [
        "### Aggregation with Having clause"
      ]
    },
    {
      "cell_type": "markdown",
      "metadata": {
        "id": "hLoPbUi3jqu2"
      },
      "source": [
        "*Find all countries with average city temperature > 10; return country and average temperature*"
      ]
    },
    {
      "cell_type": "code",
      "execution_count": 36,
      "metadata": {
        "id": "MPalPDUXjqu2",
        "colab": {
          "base_uri": "https://localhost:8080/",
          "height": 267
        },
        "outputId": "cf973b7a-5825-455e-e1b0-142c89fe9772"
      },
      "outputs": [
        {
          "output_type": "stream",
          "name": "stdout",
          "text": [
            " * sqlite://\n",
            "Done.\n"
          ]
        },
        {
          "output_type": "execute_result",
          "data": {
            "text/plain": [
              "[('Albania', 15.18),\n",
              " ('Bulgaria', 10.44),\n",
              " ('Croatia', 10.865),\n",
              " ('France', 10.151111111111112),\n",
              " ('Greece', 16.9025),\n",
              " ('Italy', 13.474666666666668),\n",
              " ('Portugal', 14.469999999999999),\n",
              " ('Spain', 14.238333333333332),\n",
              " ('Turkey', 11.726666666666665)]"
            ],
            "text/html": [
              "<table>\n",
              "    <tr>\n",
              "        <th>country</th>\n",
              "        <th>avg(temperature)</th>\n",
              "    </tr>\n",
              "    <tr>\n",
              "        <td>Albania</td>\n",
              "        <td>15.18</td>\n",
              "    </tr>\n",
              "    <tr>\n",
              "        <td>Bulgaria</td>\n",
              "        <td>10.44</td>\n",
              "    </tr>\n",
              "    <tr>\n",
              "        <td>Croatia</td>\n",
              "        <td>10.865</td>\n",
              "    </tr>\n",
              "    <tr>\n",
              "        <td>France</td>\n",
              "        <td>10.151111111111112</td>\n",
              "    </tr>\n",
              "    <tr>\n",
              "        <td>Greece</td>\n",
              "        <td>16.9025</td>\n",
              "    </tr>\n",
              "    <tr>\n",
              "        <td>Italy</td>\n",
              "        <td>13.474666666666668</td>\n",
              "    </tr>\n",
              "    <tr>\n",
              "        <td>Portugal</td>\n",
              "        <td>14.469999999999999</td>\n",
              "    </tr>\n",
              "    <tr>\n",
              "        <td>Spain</td>\n",
              "        <td>14.238333333333332</td>\n",
              "    </tr>\n",
              "    <tr>\n",
              "        <td>Turkey</td>\n",
              "        <td>11.726666666666665</td>\n",
              "    </tr>\n",
              "</table>"
            ]
          },
          "metadata": {},
          "execution_count": 36
        }
      ],
      "source": [
        "%%sql\n",
        "select country, avg(temperature)\n",
        "from Cities\n",
        "group by country\n",
        "having avg(temperature) > 10"
      ]
    },
    {
      "cell_type": "markdown",
      "metadata": {
        "id": "eIRmbgnTjqu2"
      },
      "source": [
        "*Find all countries with more than 5 cities above latitude 50*"
      ]
    },
    {
      "cell_type": "code",
      "execution_count": 37,
      "metadata": {
        "id": "hYeRiaPOjqu2",
        "colab": {
          "base_uri": "https://localhost:8080/",
          "height": 182
        },
        "outputId": "0717b8d4-e3d6-4ba3-a644-6da3067c410b"
      },
      "outputs": [
        {
          "output_type": "stream",
          "name": "stdout",
          "text": [
            " * sqlite://\n",
            "Done.\n"
          ]
        },
        {
          "output_type": "execute_result",
          "data": {
            "text/plain": [
              "[('Belarus',), ('Germany',), ('Poland',), ('Sweden',), ('United Kingdom',)]"
            ],
            "text/html": [
              "<table>\n",
              "    <tr>\n",
              "        <th>country</th>\n",
              "    </tr>\n",
              "    <tr>\n",
              "        <td>Belarus</td>\n",
              "    </tr>\n",
              "    <tr>\n",
              "        <td>Germany</td>\n",
              "    </tr>\n",
              "    <tr>\n",
              "        <td>Poland</td>\n",
              "    </tr>\n",
              "    <tr>\n",
              "        <td>Sweden</td>\n",
              "    </tr>\n",
              "    <tr>\n",
              "        <td>United Kingdom</td>\n",
              "    </tr>\n",
              "</table>"
            ]
          },
          "metadata": {},
          "execution_count": 37
        }
      ],
      "source": [
        "%%sql\n",
        "select country\n",
        "from Cities\n",
        "where latitude > 50\n",
        "group by country\n",
        "having count() > 5"
      ]
    },
    {
      "cell_type": "markdown",
      "metadata": {
        "id": "cG8aJkgQjqu2"
      },
      "source": [
        "*Same query without Having clause*"
      ]
    },
    {
      "cell_type": "code",
      "execution_count": 38,
      "metadata": {
        "id": "PEvw-2wSjqu2",
        "colab": {
          "base_uri": "https://localhost:8080/",
          "height": 182
        },
        "outputId": "d2fbd343-9137-4093-81db-05b4782beaff"
      },
      "outputs": [
        {
          "output_type": "stream",
          "name": "stdout",
          "text": [
            " * sqlite://\n",
            "Done.\n"
          ]
        },
        {
          "output_type": "execute_result",
          "data": {
            "text/plain": [
              "[('United Kingdom',), ('Sweden',), ('Germany',), ('Poland',), ('Belarus',)]"
            ],
            "text/html": [
              "<table>\n",
              "    <tr>\n",
              "        <th>country</th>\n",
              "    </tr>\n",
              "    <tr>\n",
              "        <td>United Kingdom</td>\n",
              "    </tr>\n",
              "    <tr>\n",
              "        <td>Sweden</td>\n",
              "    </tr>\n",
              "    <tr>\n",
              "        <td>Germany</td>\n",
              "    </tr>\n",
              "    <tr>\n",
              "        <td>Poland</td>\n",
              "    </tr>\n",
              "    <tr>\n",
              "        <td>Belarus</td>\n",
              "    </tr>\n",
              "</table>"
            ]
          },
          "metadata": {},
          "execution_count": 38
        }
      ],
      "source": [
        "%%sql\n",
        "select distinct country\n",
        "from Cities C1\n",
        "where 5 < (select count() from Cities C2\n",
        "           where C1.country=C2.country\n",
        "           and latitude > 50)"
      ]
    },
    {
      "cell_type": "markdown",
      "metadata": {
        "id": "DfU4TVhBjqu2"
      },
      "source": [
        "*Which combinations of EU versus non-EU and coastline versus no-coastline have a minimum population greater than 0.5?*"
      ]
    },
    {
      "cell_type": "code",
      "execution_count": 39,
      "metadata": {
        "id": "_xe8MlUAjqu3",
        "colab": {
          "base_uri": "https://localhost:8080/",
          "height": 119
        },
        "outputId": "f16fb68b-bfa4-4481-a221-335ddfde5247"
      },
      "outputs": [
        {
          "output_type": "stream",
          "name": "stdout",
          "text": [
            " * sqlite://\n",
            "Done.\n"
          ]
        },
        {
          "output_type": "execute_result",
          "data": {
            "text/plain": [
              "[('yes', 'no', 0.58), ('yes', 'yes', 1.18)]"
            ],
            "text/html": [
              "<table>\n",
              "    <tr>\n",
              "        <th>EU</th>\n",
              "        <th>coastline</th>\n",
              "        <th>min(population)</th>\n",
              "    </tr>\n",
              "    <tr>\n",
              "        <td>yes</td>\n",
              "        <td>no</td>\n",
              "        <td>0.58</td>\n",
              "    </tr>\n",
              "    <tr>\n",
              "        <td>yes</td>\n",
              "        <td>yes</td>\n",
              "        <td>1.18</td>\n",
              "    </tr>\n",
              "</table>"
            ]
          },
          "metadata": {},
          "execution_count": 39
        }
      ],
      "source": [
        "%%sql\n",
        "select EU, coastline, min(population)\n",
        "from Countries\n",
        "group by EU, coastline\n",
        "having min(population) > 0.5"
      ]
    },
    {
      "cell_type": "markdown",
      "metadata": {
        "id": "OM62WPbtjqu3"
      },
      "source": [
        "*Find all countries with average city temperature more than 50% higher than the overall average; return country and average temperature*"
      ]
    },
    {
      "cell_type": "code",
      "execution_count": 40,
      "metadata": {
        "id": "6Rv3dEK9jqu3",
        "colab": {
          "base_uri": "https://localhost:8080/",
          "height": 140
        },
        "outputId": "854daec8-b1fe-4227-cf01-3112559a3ebd"
      },
      "outputs": [
        {
          "output_type": "stream",
          "name": "stdout",
          "text": [
            " * sqlite://\n",
            "Done.\n"
          ]
        },
        {
          "output_type": "execute_result",
          "data": {
            "text/plain": [
              "[('Albania', 15.18), ('Greece', 16.9025), ('Portugal', 14.469999999999999)]"
            ],
            "text/html": [
              "<table>\n",
              "    <tr>\n",
              "        <th>country</th>\n",
              "        <th>avg(temperature)</th>\n",
              "    </tr>\n",
              "    <tr>\n",
              "        <td>Albania</td>\n",
              "        <td>15.18</td>\n",
              "    </tr>\n",
              "    <tr>\n",
              "        <td>Greece</td>\n",
              "        <td>16.9025</td>\n",
              "    </tr>\n",
              "    <tr>\n",
              "        <td>Portugal</td>\n",
              "        <td>14.469999999999999</td>\n",
              "    </tr>\n",
              "</table>"
            ]
          },
          "metadata": {},
          "execution_count": 40
        }
      ],
      "source": [
        "%%sql\n",
        "select country, avg(temperature)\n",
        "from Cities\n",
        "group by country\n",
        "having avg(temperature) > (select 1.5 * avg(temperature) from Cities)"
      ]
    },
    {
      "cell_type": "markdown",
      "metadata": {
        "id": "b6tSTeCFjqu3"
      },
      "source": [
        "### <font color = 'green'>**Your Turn**</font>"
      ]
    },
    {
      "cell_type": "markdown",
      "metadata": {
        "collapsed": true,
        "id": "dGXjukddjqu3"
      },
      "source": [
        "*Find all countries whose average city longitude is lower than the overall average longitude, and whose average city latitude is higher than the overall average latitude. Return the countries. Note: Yes, you can use \"and\" in Having clauses!*"
      ]
    },
    {
      "cell_type": "code",
      "execution_count": 41,
      "metadata": {
        "id": "CqzpMFZCjqu3",
        "colab": {
          "base_uri": "https://localhost:8080/",
          "height": 245
        },
        "outputId": "143eabef-2203-431d-96d1-63b2a87f1283"
      },
      "outputs": [
        {
          "output_type": "stream",
          "name": "stdout",
          "text": [
            " * sqlite://\n",
            "Done.\n"
          ]
        },
        {
          "output_type": "execute_result",
          "data": {
            "text/plain": [
              "[('Austria',),\n",
              " ('Belgium',),\n",
              " ('Denmark',),\n",
              " ('Germany',),\n",
              " ('Ireland',),\n",
              " ('Netherlands',),\n",
              " ('Norway',),\n",
              " ('United Kingdom',)]"
            ],
            "text/html": [
              "<table>\n",
              "    <tr>\n",
              "        <th>country</th>\n",
              "    </tr>\n",
              "    <tr>\n",
              "        <td>Austria</td>\n",
              "    </tr>\n",
              "    <tr>\n",
              "        <td>Belgium</td>\n",
              "    </tr>\n",
              "    <tr>\n",
              "        <td>Denmark</td>\n",
              "    </tr>\n",
              "    <tr>\n",
              "        <td>Germany</td>\n",
              "    </tr>\n",
              "    <tr>\n",
              "        <td>Ireland</td>\n",
              "    </tr>\n",
              "    <tr>\n",
              "        <td>Netherlands</td>\n",
              "    </tr>\n",
              "    <tr>\n",
              "        <td>Norway</td>\n",
              "    </tr>\n",
              "    <tr>\n",
              "        <td>United Kingdom</td>\n",
              "    </tr>\n",
              "</table>"
            ]
          },
          "metadata": {},
          "execution_count": 41
        }
      ],
      "source": [
        "%%sql\n",
        "select country\n",
        "from Cities\n",
        "group by country\n",
        "having avg(longitude) < (select avg(longitude) from Cities)\n",
        "   and avg(latitude)  > (select avg(latitude)  from Cities)\n"
      ]
    },
    {
      "cell_type": "markdown",
      "metadata": {
        "id": "6OzH-b-Pjqu3"
      },
      "source": [
        "### Subqueries in From and Select clauses"
      ]
    },
    {
      "cell_type": "markdown",
      "metadata": {
        "id": "_ycg95usjqu3"
      },
      "source": [
        "*Find all countries with both cold and warm cities -- at least one city with temperature < 9 and one city with temperature > 14*"
      ]
    },
    {
      "cell_type": "code",
      "execution_count": 42,
      "metadata": {
        "id": "tooB3VFnjqu4",
        "colab": {
          "base_uri": "https://localhost:8080/",
          "height": 140
        },
        "outputId": "b3822923-844d-47b5-c7d7-fb77d86f9b63"
      },
      "outputs": [
        {
          "output_type": "stream",
          "name": "stdout",
          "text": [
            " * sqlite://\n",
            "Done.\n"
          ]
        },
        {
          "output_type": "execute_result",
          "data": {
            "text/plain": [
              "[('France',), ('Turkey',), ('Italy',)]"
            ],
            "text/html": [
              "<table>\n",
              "    <tr>\n",
              "        <th>country</th>\n",
              "    </tr>\n",
              "    <tr>\n",
              "        <td>France</td>\n",
              "    </tr>\n",
              "    <tr>\n",
              "        <td>Turkey</td>\n",
              "    </tr>\n",
              "    <tr>\n",
              "        <td>Italy</td>\n",
              "    </tr>\n",
              "</table>"
            ]
          },
          "metadata": {},
          "execution_count": 42
        }
      ],
      "source": [
        "%%sql\n",
        "select distinct C1.country\n",
        "from Cities C1, Cities C2\n",
        "where C1.country = C2.country\n",
        "and C1.temperature < 9 and C2.temperature > 14"
      ]
    },
    {
      "cell_type": "markdown",
      "metadata": {
        "id": "i7JcYZ1rjqu4"
      },
      "source": [
        "*Modify query to also return count of cold and warm cities (then show without column renaming)*"
      ]
    },
    {
      "cell_type": "code",
      "execution_count": 43,
      "metadata": {
        "id": "FvrWZ3Yqjqu4"
      },
      "outputs": [],
      "source": [
        "# (select count() from Cities where country = C1.country and temperature < 9) as numcold,\n",
        "# (select count() from Cities where country = C1.country and temperature > 14) as numwarm"
      ]
    },
    {
      "cell_type": "markdown",
      "metadata": {
        "id": "Tz0dx8EXjqu4"
      },
      "source": [
        "*Same query using subquery in From clause instead of Select clause*"
      ]
    },
    {
      "cell_type": "code",
      "execution_count": 44,
      "metadata": {
        "id": "3CwHrn3hjqu4",
        "colab": {
          "base_uri": "https://localhost:8080/",
          "height": 140
        },
        "outputId": "a54dd82e-d34f-42ff-ec37-ba78a5402895"
      },
      "outputs": [
        {
          "output_type": "stream",
          "name": "stdout",
          "text": [
            " * sqlite://\n",
            "Done.\n"
          ]
        },
        {
          "output_type": "execute_result",
          "data": {
            "text/plain": [
              "[('France', 5, 1), ('Italy', 1, 7), ('Turkey', 4, 5)]"
            ],
            "text/html": [
              "<table>\n",
              "    <tr>\n",
              "        <th>country</th>\n",
              "        <th>numcold</th>\n",
              "        <th>numwarm</th>\n",
              "    </tr>\n",
              "    <tr>\n",
              "        <td>France</td>\n",
              "        <td>5</td>\n",
              "        <td>1</td>\n",
              "    </tr>\n",
              "    <tr>\n",
              "        <td>Italy</td>\n",
              "        <td>1</td>\n",
              "        <td>7</td>\n",
              "    </tr>\n",
              "    <tr>\n",
              "        <td>Turkey</td>\n",
              "        <td>4</td>\n",
              "        <td>5</td>\n",
              "    </tr>\n",
              "</table>"
            ]
          },
          "metadata": {},
          "execution_count": 44
        }
      ],
      "source": [
        "%%sql\n",
        "select Cold.country, numcold, numwarm\n",
        "from (select country, count() as numcold from Cities\n",
        "      where temperature < 9 group by country) Cold,\n",
        "     (select country, count() as numwarm from Cities\n",
        "      where temperature > 14 group by country) Warm\n",
        "where Cold.country = Warm.country"
      ]
    },
    {
      "cell_type": "markdown",
      "metadata": {
        "id": "-Tzq24_Fjqu4"
      },
      "source": [
        "### Data modification"
      ]
    },
    {
      "cell_type": "markdown",
      "metadata": {
        "id": "h7CEpLdMjqu4"
      },
      "source": [
        "*Increase all city temperatures by 10%*"
      ]
    },
    {
      "cell_type": "code",
      "execution_count": 45,
      "metadata": {
        "id": "dBXWv4xRjqu4",
        "colab": {
          "base_uri": "https://localhost:8080/"
        },
        "outputId": "eb199c28-ada5-4121-ef64-c53f923be1df"
      },
      "outputs": [
        {
          "output_type": "stream",
          "name": "stdout",
          "text": [
            " * sqlite://\n",
            "213 rows affected.\n"
          ]
        },
        {
          "output_type": "execute_result",
          "data": {
            "text/plain": [
              "[]"
            ]
          },
          "metadata": {},
          "execution_count": 45
        }
      ],
      "source": [
        "%%sql\n",
        "update Cities\n",
        "set temperature = 1.1 * temperature"
      ]
    },
    {
      "cell_type": "code",
      "execution_count": 46,
      "metadata": {
        "id": "lMdzqmqijqu4",
        "colab": {
          "base_uri": "https://localhost:8080/",
          "height": 98
        },
        "outputId": "102605b6-09c1-421e-df9e-98d07e250a92"
      },
      "outputs": [
        {
          "output_type": "stream",
          "name": "stdout",
          "text": [
            " * sqlite://\n",
            "Done.\n"
          ]
        },
        {
          "output_type": "execute_result",
          "data": {
            "text/plain": [
              "[(10.447624413145537,)]"
            ],
            "text/html": [
              "<table>\n",
              "    <tr>\n",
              "        <th>avg(temperature)</th>\n",
              "    </tr>\n",
              "    <tr>\n",
              "        <td>10.447624413145537</td>\n",
              "    </tr>\n",
              "</table>"
            ]
          },
          "metadata": {},
          "execution_count": 46
        }
      ],
      "source": [
        "%%sql\n",
        "select avg(temperature) from Cities"
      ]
    },
    {
      "cell_type": "markdown",
      "metadata": {
        "id": "EJpWr7I-jqu5"
      },
      "source": [
        "*Increase temperatures another 10% for cities in countries with coastline*"
      ]
    },
    {
      "cell_type": "code",
      "execution_count": 47,
      "metadata": {
        "id": "pzASCiYLjqu5",
        "colab": {
          "base_uri": "https://localhost:8080/"
        },
        "outputId": "54057f02-5e3b-4ee0-ed68-45e0d6a78813"
      },
      "outputs": [
        {
          "output_type": "stream",
          "name": "stdout",
          "text": [
            " * sqlite://\n",
            "183 rows affected.\n"
          ]
        },
        {
          "output_type": "execute_result",
          "data": {
            "text/plain": [
              "[]"
            ]
          },
          "metadata": {},
          "execution_count": 47
        }
      ],
      "source": [
        "%%sql\n",
        "update Cities\n",
        "set temperature = 1.1 * temperature\n",
        "where country in (select country from Countries\n",
        "                  where coastline = 'yes')"
      ]
    },
    {
      "cell_type": "markdown",
      "metadata": {
        "id": "6_ub00h4jqu5"
      },
      "source": [
        "*Delete all cities in Turkey*"
      ]
    },
    {
      "cell_type": "code",
      "execution_count": 48,
      "metadata": {
        "id": "nTk8K9i2jqu5",
        "colab": {
          "base_uri": "https://localhost:8080/"
        },
        "outputId": "fc9ff9ef-99d3-4f69-bdaf-2a81830a1c34"
      },
      "outputs": [
        {
          "output_type": "stream",
          "name": "stdout",
          "text": [
            " * sqlite://\n",
            "24 rows affected.\n"
          ]
        },
        {
          "output_type": "execute_result",
          "data": {
            "text/plain": [
              "[]"
            ]
          },
          "metadata": {},
          "execution_count": 48
        }
      ],
      "source": [
        "%%sql\n",
        "delete from Cities\n",
        "where country = 'Turkey'"
      ]
    },
    {
      "cell_type": "markdown",
      "metadata": {
        "id": "PnCUpYMzjqu5"
      },
      "source": [
        "*Create a new table NonEU containing list of cities (with country) not in the EU*"
      ]
    },
    {
      "cell_type": "code",
      "execution_count": 49,
      "metadata": {
        "id": "E0kD-KPojqu5",
        "colab": {
          "base_uri": "https://localhost:8080/",
          "height": 955
        },
        "outputId": "1b39b22a-f471-4a29-fb7a-2d5e979e0f36"
      },
      "outputs": [
        {
          "output_type": "stream",
          "name": "stdout",
          "text": [
            " * sqlite://\n",
            "Done.\n",
            "Done.\n",
            "39 rows affected.\n",
            "Done.\n"
          ]
        },
        {
          "output_type": "execute_result",
          "data": {
            "text/plain": [
              "[('Andorra', 'Andorra'),\n",
              " ('Balti', 'Moldova'),\n",
              " ('Basel', 'Switzerland'),\n",
              " ('Belgrade', 'Serbia'),\n",
              " ('Bergen', 'Norway'),\n",
              " ('Bila Tserkva', 'Ukraine'),\n",
              " ('Bodo', 'Norway'),\n",
              " ('Brest', 'Belarus'),\n",
              " ('Cherkasy', 'Ukraine'),\n",
              " ('Chernihiv', 'Ukraine'),\n",
              " ('Chernivtsi', 'Ukraine'),\n",
              " ('Chisinau', 'Moldova'),\n",
              " ('Elbasan', 'Albania'),\n",
              " ('Geneva', 'Switzerland'),\n",
              " ('Horlivka', 'Ukraine'),\n",
              " ('Hrodna', 'Belarus'),\n",
              " ('Kherson', 'Ukraine'),\n",
              " ('Kiev', 'Ukraine'),\n",
              " ('Kremenchuk', 'Ukraine'),\n",
              " ('Kryvyy Rih', 'Ukraine'),\n",
              " ('Lvov', 'Ukraine'),\n",
              " ('Makiyivka', 'Ukraine'),\n",
              " ('Mazyr', 'Belarus'),\n",
              " ('Minsk', 'Belarus'),\n",
              " ('Nis', 'Serbia'),\n",
              " ('Novi Sad', 'Serbia'),\n",
              " ('Orsha', 'Belarus'),\n",
              " ('Oslo', 'Norway'),\n",
              " ('Pinsk', 'Belarus'),\n",
              " ('Podgorica', 'Montenegro'),\n",
              " ('Rivne', 'Ukraine'),\n",
              " ('Sarajevo', 'Bosnia and Herzegovina'),\n",
              " ('Skopje', 'Macedonia'),\n",
              " ('Stavanger', 'Norway'),\n",
              " ('Sumy', 'Ukraine'),\n",
              " ('Trondheim', 'Norway'),\n",
              " ('Yevpatoriya', 'Ukraine'),\n",
              " ('Zhytomyr', 'Ukraine'),\n",
              " ('Zurich', 'Switzerland')]"
            ],
            "text/html": [
              "<table>\n",
              "    <tr>\n",
              "        <th>city</th>\n",
              "        <th>country</th>\n",
              "    </tr>\n",
              "    <tr>\n",
              "        <td>Andorra</td>\n",
              "        <td>Andorra</td>\n",
              "    </tr>\n",
              "    <tr>\n",
              "        <td>Balti</td>\n",
              "        <td>Moldova</td>\n",
              "    </tr>\n",
              "    <tr>\n",
              "        <td>Basel</td>\n",
              "        <td>Switzerland</td>\n",
              "    </tr>\n",
              "    <tr>\n",
              "        <td>Belgrade</td>\n",
              "        <td>Serbia</td>\n",
              "    </tr>\n",
              "    <tr>\n",
              "        <td>Bergen</td>\n",
              "        <td>Norway</td>\n",
              "    </tr>\n",
              "    <tr>\n",
              "        <td>Bila Tserkva</td>\n",
              "        <td>Ukraine</td>\n",
              "    </tr>\n",
              "    <tr>\n",
              "        <td>Bodo</td>\n",
              "        <td>Norway</td>\n",
              "    </tr>\n",
              "    <tr>\n",
              "        <td>Brest</td>\n",
              "        <td>Belarus</td>\n",
              "    </tr>\n",
              "    <tr>\n",
              "        <td>Cherkasy</td>\n",
              "        <td>Ukraine</td>\n",
              "    </tr>\n",
              "    <tr>\n",
              "        <td>Chernihiv</td>\n",
              "        <td>Ukraine</td>\n",
              "    </tr>\n",
              "    <tr>\n",
              "        <td>Chernivtsi</td>\n",
              "        <td>Ukraine</td>\n",
              "    </tr>\n",
              "    <tr>\n",
              "        <td>Chisinau</td>\n",
              "        <td>Moldova</td>\n",
              "    </tr>\n",
              "    <tr>\n",
              "        <td>Elbasan</td>\n",
              "        <td>Albania</td>\n",
              "    </tr>\n",
              "    <tr>\n",
              "        <td>Geneva</td>\n",
              "        <td>Switzerland</td>\n",
              "    </tr>\n",
              "    <tr>\n",
              "        <td>Horlivka</td>\n",
              "        <td>Ukraine</td>\n",
              "    </tr>\n",
              "    <tr>\n",
              "        <td>Hrodna</td>\n",
              "        <td>Belarus</td>\n",
              "    </tr>\n",
              "    <tr>\n",
              "        <td>Kherson</td>\n",
              "        <td>Ukraine</td>\n",
              "    </tr>\n",
              "    <tr>\n",
              "        <td>Kiev</td>\n",
              "        <td>Ukraine</td>\n",
              "    </tr>\n",
              "    <tr>\n",
              "        <td>Kremenchuk</td>\n",
              "        <td>Ukraine</td>\n",
              "    </tr>\n",
              "    <tr>\n",
              "        <td>Kryvyy Rih</td>\n",
              "        <td>Ukraine</td>\n",
              "    </tr>\n",
              "    <tr>\n",
              "        <td>Lvov</td>\n",
              "        <td>Ukraine</td>\n",
              "    </tr>\n",
              "    <tr>\n",
              "        <td>Makiyivka</td>\n",
              "        <td>Ukraine</td>\n",
              "    </tr>\n",
              "    <tr>\n",
              "        <td>Mazyr</td>\n",
              "        <td>Belarus</td>\n",
              "    </tr>\n",
              "    <tr>\n",
              "        <td>Minsk</td>\n",
              "        <td>Belarus</td>\n",
              "    </tr>\n",
              "    <tr>\n",
              "        <td>Nis</td>\n",
              "        <td>Serbia</td>\n",
              "    </tr>\n",
              "    <tr>\n",
              "        <td>Novi Sad</td>\n",
              "        <td>Serbia</td>\n",
              "    </tr>\n",
              "    <tr>\n",
              "        <td>Orsha</td>\n",
              "        <td>Belarus</td>\n",
              "    </tr>\n",
              "    <tr>\n",
              "        <td>Oslo</td>\n",
              "        <td>Norway</td>\n",
              "    </tr>\n",
              "    <tr>\n",
              "        <td>Pinsk</td>\n",
              "        <td>Belarus</td>\n",
              "    </tr>\n",
              "    <tr>\n",
              "        <td>Podgorica</td>\n",
              "        <td>Montenegro</td>\n",
              "    </tr>\n",
              "    <tr>\n",
              "        <td>Rivne</td>\n",
              "        <td>Ukraine</td>\n",
              "    </tr>\n",
              "    <tr>\n",
              "        <td>Sarajevo</td>\n",
              "        <td>Bosnia and Herzegovina</td>\n",
              "    </tr>\n",
              "    <tr>\n",
              "        <td>Skopje</td>\n",
              "        <td>Macedonia</td>\n",
              "    </tr>\n",
              "    <tr>\n",
              "        <td>Stavanger</td>\n",
              "        <td>Norway</td>\n",
              "    </tr>\n",
              "    <tr>\n",
              "        <td>Sumy</td>\n",
              "        <td>Ukraine</td>\n",
              "    </tr>\n",
              "    <tr>\n",
              "        <td>Trondheim</td>\n",
              "        <td>Norway</td>\n",
              "    </tr>\n",
              "    <tr>\n",
              "        <td>Yevpatoriya</td>\n",
              "        <td>Ukraine</td>\n",
              "    </tr>\n",
              "    <tr>\n",
              "        <td>Zhytomyr</td>\n",
              "        <td>Ukraine</td>\n",
              "    </tr>\n",
              "    <tr>\n",
              "        <td>Zurich</td>\n",
              "        <td>Switzerland</td>\n",
              "    </tr>\n",
              "</table>"
            ]
          },
          "metadata": {},
          "execution_count": 49
        }
      ],
      "source": [
        "%%sql\n",
        "drop table if exists NonEU;\n",
        "create table NonEU(city, country);\n",
        "insert into NonEU\n",
        "  select city, country from cities\n",
        "  where country in (select country from Countries\n",
        "                    where EU = 'no');\n",
        "select * from NonEU"
      ]
    },
    {
      "cell_type": "markdown",
      "metadata": {
        "id": "4D38Dy3Ojqu5"
      },
      "source": [
        "*Add your city*"
      ]
    },
    {
      "cell_type": "code",
      "execution_count": 50,
      "metadata": {
        "id": "55UtFAJtjqu5",
        "colab": {
          "base_uri": "https://localhost:8080/",
          "height": 940
        },
        "outputId": "6bc0e449-bb1e-4dbb-ae9d-7c2246afbeab"
      },
      "outputs": [
        {
          "output_type": "stream",
          "name": "stdout",
          "text": [
            " * sqlite://\n",
            "1 rows affected.\n",
            "Done.\n"
          ]
        },
        {
          "output_type": "execute_result",
          "data": {
            "text/plain": [
              "[('Andorra', 'Andorra'),\n",
              " ('Balti', 'Moldova'),\n",
              " ('Basel', 'Switzerland'),\n",
              " ('Belgrade', 'Serbia'),\n",
              " ('Bergen', 'Norway'),\n",
              " ('Bila Tserkva', 'Ukraine'),\n",
              " ('Bodo', 'Norway'),\n",
              " ('Brest', 'Belarus'),\n",
              " ('Cherkasy', 'Ukraine'),\n",
              " ('Chernihiv', 'Ukraine'),\n",
              " ('Chernivtsi', 'Ukraine'),\n",
              " ('Chisinau', 'Moldova'),\n",
              " ('Elbasan', 'Albania'),\n",
              " ('Geneva', 'Switzerland'),\n",
              " ('Horlivka', 'Ukraine'),\n",
              " ('Hrodna', 'Belarus'),\n",
              " ('Kherson', 'Ukraine'),\n",
              " ('Kiev', 'Ukraine'),\n",
              " ('Kremenchuk', 'Ukraine'),\n",
              " ('Kryvyy Rih', 'Ukraine'),\n",
              " ('Lvov', 'Ukraine'),\n",
              " ('Makiyivka', 'Ukraine'),\n",
              " ('Mazyr', 'Belarus'),\n",
              " ('Minsk', 'Belarus'),\n",
              " ('Nis', 'Serbia'),\n",
              " ('Novi Sad', 'Serbia'),\n",
              " ('Orsha', 'Belarus'),\n",
              " ('Oslo', 'Norway'),\n",
              " ('Pinsk', 'Belarus'),\n",
              " ('Podgorica', 'Montenegro'),\n",
              " ('Rivne', 'Ukraine'),\n",
              " ('Sarajevo', 'Bosnia and Herzegovina'),\n",
              " ('Skopje', 'Macedonia'),\n",
              " ('Stavanger', 'Norway'),\n",
              " ('Sumy', 'Ukraine'),\n",
              " ('Trondheim', 'Norway'),\n",
              " ('Yevpatoriya', 'Ukraine'),\n",
              " ('Zhytomyr', 'Ukraine'),\n",
              " ('Zurich', 'Switzerland'),\n",
              " ('my-city', 'my-country')]"
            ],
            "text/html": [
              "<table>\n",
              "    <tr>\n",
              "        <th>city</th>\n",
              "        <th>country</th>\n",
              "    </tr>\n",
              "    <tr>\n",
              "        <td>Andorra</td>\n",
              "        <td>Andorra</td>\n",
              "    </tr>\n",
              "    <tr>\n",
              "        <td>Balti</td>\n",
              "        <td>Moldova</td>\n",
              "    </tr>\n",
              "    <tr>\n",
              "        <td>Basel</td>\n",
              "        <td>Switzerland</td>\n",
              "    </tr>\n",
              "    <tr>\n",
              "        <td>Belgrade</td>\n",
              "        <td>Serbia</td>\n",
              "    </tr>\n",
              "    <tr>\n",
              "        <td>Bergen</td>\n",
              "        <td>Norway</td>\n",
              "    </tr>\n",
              "    <tr>\n",
              "        <td>Bila Tserkva</td>\n",
              "        <td>Ukraine</td>\n",
              "    </tr>\n",
              "    <tr>\n",
              "        <td>Bodo</td>\n",
              "        <td>Norway</td>\n",
              "    </tr>\n",
              "    <tr>\n",
              "        <td>Brest</td>\n",
              "        <td>Belarus</td>\n",
              "    </tr>\n",
              "    <tr>\n",
              "        <td>Cherkasy</td>\n",
              "        <td>Ukraine</td>\n",
              "    </tr>\n",
              "    <tr>\n",
              "        <td>Chernihiv</td>\n",
              "        <td>Ukraine</td>\n",
              "    </tr>\n",
              "    <tr>\n",
              "        <td>Chernivtsi</td>\n",
              "        <td>Ukraine</td>\n",
              "    </tr>\n",
              "    <tr>\n",
              "        <td>Chisinau</td>\n",
              "        <td>Moldova</td>\n",
              "    </tr>\n",
              "    <tr>\n",
              "        <td>Elbasan</td>\n",
              "        <td>Albania</td>\n",
              "    </tr>\n",
              "    <tr>\n",
              "        <td>Geneva</td>\n",
              "        <td>Switzerland</td>\n",
              "    </tr>\n",
              "    <tr>\n",
              "        <td>Horlivka</td>\n",
              "        <td>Ukraine</td>\n",
              "    </tr>\n",
              "    <tr>\n",
              "        <td>Hrodna</td>\n",
              "        <td>Belarus</td>\n",
              "    </tr>\n",
              "    <tr>\n",
              "        <td>Kherson</td>\n",
              "        <td>Ukraine</td>\n",
              "    </tr>\n",
              "    <tr>\n",
              "        <td>Kiev</td>\n",
              "        <td>Ukraine</td>\n",
              "    </tr>\n",
              "    <tr>\n",
              "        <td>Kremenchuk</td>\n",
              "        <td>Ukraine</td>\n",
              "    </tr>\n",
              "    <tr>\n",
              "        <td>Kryvyy Rih</td>\n",
              "        <td>Ukraine</td>\n",
              "    </tr>\n",
              "    <tr>\n",
              "        <td>Lvov</td>\n",
              "        <td>Ukraine</td>\n",
              "    </tr>\n",
              "    <tr>\n",
              "        <td>Makiyivka</td>\n",
              "        <td>Ukraine</td>\n",
              "    </tr>\n",
              "    <tr>\n",
              "        <td>Mazyr</td>\n",
              "        <td>Belarus</td>\n",
              "    </tr>\n",
              "    <tr>\n",
              "        <td>Minsk</td>\n",
              "        <td>Belarus</td>\n",
              "    </tr>\n",
              "    <tr>\n",
              "        <td>Nis</td>\n",
              "        <td>Serbia</td>\n",
              "    </tr>\n",
              "    <tr>\n",
              "        <td>Novi Sad</td>\n",
              "        <td>Serbia</td>\n",
              "    </tr>\n",
              "    <tr>\n",
              "        <td>Orsha</td>\n",
              "        <td>Belarus</td>\n",
              "    </tr>\n",
              "    <tr>\n",
              "        <td>Oslo</td>\n",
              "        <td>Norway</td>\n",
              "    </tr>\n",
              "    <tr>\n",
              "        <td>Pinsk</td>\n",
              "        <td>Belarus</td>\n",
              "    </tr>\n",
              "    <tr>\n",
              "        <td>Podgorica</td>\n",
              "        <td>Montenegro</td>\n",
              "    </tr>\n",
              "    <tr>\n",
              "        <td>Rivne</td>\n",
              "        <td>Ukraine</td>\n",
              "    </tr>\n",
              "    <tr>\n",
              "        <td>Sarajevo</td>\n",
              "        <td>Bosnia and Herzegovina</td>\n",
              "    </tr>\n",
              "    <tr>\n",
              "        <td>Skopje</td>\n",
              "        <td>Macedonia</td>\n",
              "    </tr>\n",
              "    <tr>\n",
              "        <td>Stavanger</td>\n",
              "        <td>Norway</td>\n",
              "    </tr>\n",
              "    <tr>\n",
              "        <td>Sumy</td>\n",
              "        <td>Ukraine</td>\n",
              "    </tr>\n",
              "    <tr>\n",
              "        <td>Trondheim</td>\n",
              "        <td>Norway</td>\n",
              "    </tr>\n",
              "    <tr>\n",
              "        <td>Yevpatoriya</td>\n",
              "        <td>Ukraine</td>\n",
              "    </tr>\n",
              "    <tr>\n",
              "        <td>Zhytomyr</td>\n",
              "        <td>Ukraine</td>\n",
              "    </tr>\n",
              "    <tr>\n",
              "        <td>Zurich</td>\n",
              "        <td>Switzerland</td>\n",
              "    </tr>\n",
              "    <tr>\n",
              "        <td>my-city</td>\n",
              "        <td>my-country</td>\n",
              "    </tr>\n",
              "</table>"
            ]
          },
          "metadata": {},
          "execution_count": 50
        }
      ],
      "source": [
        "%%sql\n",
        "insert into NonEU values ('my-city','my-country');\n",
        "select * from NonEU"
      ]
    },
    {
      "cell_type": "markdown",
      "metadata": {
        "id": "6oJ_dwPYjqu6"
      },
      "source": [
        "### <font color = 'green'>**Your Turn - Advanced SQL on World Cup Data**</font>"
      ]
    },
    {
      "cell_type": "code",
      "execution_count": 51,
      "metadata": {
        "id": "8MZdGj2Ijqu6",
        "colab": {
          "base_uri": "https://localhost:8080/",
          "height": 145
        },
        "outputId": "6e7c313a-a11d-4f24-fa10-b3d45b191825"
      },
      "outputs": [
        {
          "output_type": "stream",
          "name": "stdout",
          "text": [
            " * sqlite://\n",
            "Done.\n",
            " * sqlite://\n",
            " * sqlite://\n",
            "Done.\n",
            " * sqlite://\n"
          ]
        },
        {
          "output_type": "execute_result",
          "data": {
            "text/plain": [
              "'Persisted teams'"
            ],
            "application/vnd.google.colaboratory.intrinsic+json": {
              "type": "string"
            }
          },
          "metadata": {},
          "execution_count": 51
        }
      ],
      "source": [
        "# Create database tables from CSV files\n",
        "with open('Players.csv') as f: Players = pd.read_csv(f, index_col=0)\n",
        "%sql drop table if exists Players;\n",
        "%sql --persist Players\n",
        "with open('Teams.csv') as f: Teams = pd.read_csv(f, index_col=0)\n",
        "%sql drop table if exists Teams;\n",
        "%sql --persist Teams"
      ]
    },
    {
      "cell_type": "markdown",
      "metadata": {
        "id": "QhdrkHKbjqu6"
      },
      "source": [
        "#### Look at sample of Players and Teams tables"
      ]
    },
    {
      "cell_type": "code",
      "execution_count": 52,
      "metadata": {
        "scrolled": true,
        "id": "gOIW6px6jqu6",
        "colab": {
          "base_uri": "https://localhost:8080/",
          "height": 219
        },
        "outputId": "a5e6e614-a56a-40b5-94f3-528fa511e642"
      },
      "outputs": [
        {
          "output_type": "stream",
          "name": "stdout",
          "text": [
            " * sqlite://\n",
            "Done.\n"
          ]
        },
        {
          "output_type": "execute_result",
          "data": {
            "text/plain": [
              "[('Abdoun', 'Algeria', 'midfielder', 16, 0, 6, 0, 0, None, None, None, None, None, None, None, None, None, None, None, None, None, None, None, None, None, None),\n",
              " ('Belhadj', 'Algeria', 'defender', 270, 1, 146, 8, 0, None, None, None, None, None, None, None, None, None, None, None, None, None, None, None, None, None, None),\n",
              " ('Boudebouz', 'Algeria', 'midfielder', 74, 3, 28, 1, 0, None, None, None, None, None, None, None, None, None, None, None, None, None, None, None, None, None, None),\n",
              " ('Bougherra', 'Algeria', 'defender', 270, 1, 89, 11, 0, None, None, None, None, None, None, None, None, None, None, None, None, None, None, None, None, None, None),\n",
              " ('Chaouchi', 'Algeria', 'goalkeeper', 90, 0, 17, 0, 2, None, None, None, None, None, None, None, None, None, None, None, None, None, None, None, None, None, None)]"
            ],
            "text/html": [
              "<table>\n",
              "    <tr>\n",
              "        <th>surname</th>\n",
              "        <th>team</th>\n",
              "        <th>position</th>\n",
              "        <th>minutes</th>\n",
              "        <th>shots</th>\n",
              "        <th>passes</th>\n",
              "        <th>tackles</th>\n",
              "        <th>saves</th>\n",
              "        <th>Unnamed: 8</th>\n",
              "        <th>Unnamed: 9</th>\n",
              "        <th>Unnamed: 10</th>\n",
              "        <th>Unnamed: 11</th>\n",
              "        <th>Unnamed: 12</th>\n",
              "        <th>Unnamed: 13</th>\n",
              "        <th>Unnamed: 14</th>\n",
              "        <th>Unnamed: 15</th>\n",
              "        <th>Unnamed: 16</th>\n",
              "        <th>Unnamed: 17</th>\n",
              "        <th>Unnamed: 18</th>\n",
              "        <th>Unnamed: 19</th>\n",
              "        <th>Unnamed: 20</th>\n",
              "        <th>Unnamed: 21</th>\n",
              "        <th>Unnamed: 22</th>\n",
              "        <th>Unnamed: 23</th>\n",
              "        <th>Unnamed: 24</th>\n",
              "        <th>Unnamed: 25</th>\n",
              "    </tr>\n",
              "    <tr>\n",
              "        <td>Abdoun</td>\n",
              "        <td>Algeria</td>\n",
              "        <td>midfielder</td>\n",
              "        <td>16</td>\n",
              "        <td>0</td>\n",
              "        <td>6</td>\n",
              "        <td>0</td>\n",
              "        <td>0</td>\n",
              "        <td>None</td>\n",
              "        <td>None</td>\n",
              "        <td>None</td>\n",
              "        <td>None</td>\n",
              "        <td>None</td>\n",
              "        <td>None</td>\n",
              "        <td>None</td>\n",
              "        <td>None</td>\n",
              "        <td>None</td>\n",
              "        <td>None</td>\n",
              "        <td>None</td>\n",
              "        <td>None</td>\n",
              "        <td>None</td>\n",
              "        <td>None</td>\n",
              "        <td>None</td>\n",
              "        <td>None</td>\n",
              "        <td>None</td>\n",
              "        <td>None</td>\n",
              "    </tr>\n",
              "    <tr>\n",
              "        <td>Belhadj</td>\n",
              "        <td>Algeria</td>\n",
              "        <td>defender</td>\n",
              "        <td>270</td>\n",
              "        <td>1</td>\n",
              "        <td>146</td>\n",
              "        <td>8</td>\n",
              "        <td>0</td>\n",
              "        <td>None</td>\n",
              "        <td>None</td>\n",
              "        <td>None</td>\n",
              "        <td>None</td>\n",
              "        <td>None</td>\n",
              "        <td>None</td>\n",
              "        <td>None</td>\n",
              "        <td>None</td>\n",
              "        <td>None</td>\n",
              "        <td>None</td>\n",
              "        <td>None</td>\n",
              "        <td>None</td>\n",
              "        <td>None</td>\n",
              "        <td>None</td>\n",
              "        <td>None</td>\n",
              "        <td>None</td>\n",
              "        <td>None</td>\n",
              "        <td>None</td>\n",
              "    </tr>\n",
              "    <tr>\n",
              "        <td>Boudebouz</td>\n",
              "        <td>Algeria</td>\n",
              "        <td>midfielder</td>\n",
              "        <td>74</td>\n",
              "        <td>3</td>\n",
              "        <td>28</td>\n",
              "        <td>1</td>\n",
              "        <td>0</td>\n",
              "        <td>None</td>\n",
              "        <td>None</td>\n",
              "        <td>None</td>\n",
              "        <td>None</td>\n",
              "        <td>None</td>\n",
              "        <td>None</td>\n",
              "        <td>None</td>\n",
              "        <td>None</td>\n",
              "        <td>None</td>\n",
              "        <td>None</td>\n",
              "        <td>None</td>\n",
              "        <td>None</td>\n",
              "        <td>None</td>\n",
              "        <td>None</td>\n",
              "        <td>None</td>\n",
              "        <td>None</td>\n",
              "        <td>None</td>\n",
              "        <td>None</td>\n",
              "    </tr>\n",
              "    <tr>\n",
              "        <td>Bougherra</td>\n",
              "        <td>Algeria</td>\n",
              "        <td>defender</td>\n",
              "        <td>270</td>\n",
              "        <td>1</td>\n",
              "        <td>89</td>\n",
              "        <td>11</td>\n",
              "        <td>0</td>\n",
              "        <td>None</td>\n",
              "        <td>None</td>\n",
              "        <td>None</td>\n",
              "        <td>None</td>\n",
              "        <td>None</td>\n",
              "        <td>None</td>\n",
              "        <td>None</td>\n",
              "        <td>None</td>\n",
              "        <td>None</td>\n",
              "        <td>None</td>\n",
              "        <td>None</td>\n",
              "        <td>None</td>\n",
              "        <td>None</td>\n",
              "        <td>None</td>\n",
              "        <td>None</td>\n",
              "        <td>None</td>\n",
              "        <td>None</td>\n",
              "        <td>None</td>\n",
              "    </tr>\n",
              "    <tr>\n",
              "        <td>Chaouchi</td>\n",
              "        <td>Algeria</td>\n",
              "        <td>goalkeeper</td>\n",
              "        <td>90</td>\n",
              "        <td>0</td>\n",
              "        <td>17</td>\n",
              "        <td>0</td>\n",
              "        <td>2</td>\n",
              "        <td>None</td>\n",
              "        <td>None</td>\n",
              "        <td>None</td>\n",
              "        <td>None</td>\n",
              "        <td>None</td>\n",
              "        <td>None</td>\n",
              "        <td>None</td>\n",
              "        <td>None</td>\n",
              "        <td>None</td>\n",
              "        <td>None</td>\n",
              "        <td>None</td>\n",
              "        <td>None</td>\n",
              "        <td>None</td>\n",
              "        <td>None</td>\n",
              "        <td>None</td>\n",
              "        <td>None</td>\n",
              "        <td>None</td>\n",
              "        <td>None</td>\n",
              "    </tr>\n",
              "</table>"
            ]
          },
          "metadata": {},
          "execution_count": 52
        }
      ],
      "source": [
        "%%sql\n",
        "select * from Players limit 5"
      ]
    },
    {
      "cell_type": "code",
      "execution_count": 53,
      "metadata": {
        "id": "agM-PMP5jqu6",
        "colab": {
          "base_uri": "https://localhost:8080/",
          "height": 219
        },
        "outputId": "444a0c84-3526-43f9-daba-4ea973dacf2f"
      },
      "outputs": [
        {
          "output_type": "stream",
          "name": "stdout",
          "text": [
            " * sqlite://\n",
            "Done.\n"
          ]
        },
        {
          "output_type": "execute_result",
          "data": {
            "text/plain": [
              "[('Algeria', 30, 3, 0, 1, 2, 0, 2, 4, 2, None, None, None, None, None, None, None, None, None, None, None),\n",
              " ('Argentina', 7, 5, 4, 0, 1, 10, 6, 7, 0, None, None, None, None, None, None, None, None, None, None, None),\n",
              " ('Australia', 20, 3, 1, 1, 1, 3, 6, 7, 2, None, None, None, None, None, None, None, None, None, None, None),\n",
              " ('Brazil', 1, 5, 3, 1, 1, 9, 4, 7, 2, None, None, None, None, None, None, None, None, None, None, None),\n",
              " ('Cameroon', 19, 3, 0, 0, 3, 2, 5, 5, 0, None, None, None, None, None, None, None, None, None, None, None)]"
            ],
            "text/html": [
              "<table>\n",
              "    <tr>\n",
              "        <th>team</th>\n",
              "        <th>ranking</th>\n",
              "        <th>games</th>\n",
              "        <th>wins</th>\n",
              "        <th>draws</th>\n",
              "        <th>losses</th>\n",
              "        <th>goalsFor</th>\n",
              "        <th>goalsAgainst</th>\n",
              "        <th>yellowCards</th>\n",
              "        <th>redCards</th>\n",
              "        <th>Unnamed: 10</th>\n",
              "        <th>Unnamed: 11</th>\n",
              "        <th>Unnamed: 12</th>\n",
              "        <th>Unnamed: 13</th>\n",
              "        <th>Unnamed: 14</th>\n",
              "        <th>Unnamed: 15</th>\n",
              "        <th>Unnamed: 16</th>\n",
              "        <th>Unnamed: 17</th>\n",
              "        <th>Unnamed: 18</th>\n",
              "        <th>Unnamed: 19</th>\n",
              "        <th>Unnamed: 20</th>\n",
              "    </tr>\n",
              "    <tr>\n",
              "        <td>Algeria</td>\n",
              "        <td>30</td>\n",
              "        <td>3</td>\n",
              "        <td>0</td>\n",
              "        <td>1</td>\n",
              "        <td>2</td>\n",
              "        <td>0</td>\n",
              "        <td>2</td>\n",
              "        <td>4</td>\n",
              "        <td>2</td>\n",
              "        <td>None</td>\n",
              "        <td>None</td>\n",
              "        <td>None</td>\n",
              "        <td>None</td>\n",
              "        <td>None</td>\n",
              "        <td>None</td>\n",
              "        <td>None</td>\n",
              "        <td>None</td>\n",
              "        <td>None</td>\n",
              "        <td>None</td>\n",
              "        <td>None</td>\n",
              "    </tr>\n",
              "    <tr>\n",
              "        <td>Argentina</td>\n",
              "        <td>7</td>\n",
              "        <td>5</td>\n",
              "        <td>4</td>\n",
              "        <td>0</td>\n",
              "        <td>1</td>\n",
              "        <td>10</td>\n",
              "        <td>6</td>\n",
              "        <td>7</td>\n",
              "        <td>0</td>\n",
              "        <td>None</td>\n",
              "        <td>None</td>\n",
              "        <td>None</td>\n",
              "        <td>None</td>\n",
              "        <td>None</td>\n",
              "        <td>None</td>\n",
              "        <td>None</td>\n",
              "        <td>None</td>\n",
              "        <td>None</td>\n",
              "        <td>None</td>\n",
              "        <td>None</td>\n",
              "    </tr>\n",
              "    <tr>\n",
              "        <td>Australia</td>\n",
              "        <td>20</td>\n",
              "        <td>3</td>\n",
              "        <td>1</td>\n",
              "        <td>1</td>\n",
              "        <td>1</td>\n",
              "        <td>3</td>\n",
              "        <td>6</td>\n",
              "        <td>7</td>\n",
              "        <td>2</td>\n",
              "        <td>None</td>\n",
              "        <td>None</td>\n",
              "        <td>None</td>\n",
              "        <td>None</td>\n",
              "        <td>None</td>\n",
              "        <td>None</td>\n",
              "        <td>None</td>\n",
              "        <td>None</td>\n",
              "        <td>None</td>\n",
              "        <td>None</td>\n",
              "        <td>None</td>\n",
              "    </tr>\n",
              "    <tr>\n",
              "        <td>Brazil</td>\n",
              "        <td>1</td>\n",
              "        <td>5</td>\n",
              "        <td>3</td>\n",
              "        <td>1</td>\n",
              "        <td>1</td>\n",
              "        <td>9</td>\n",
              "        <td>4</td>\n",
              "        <td>7</td>\n",
              "        <td>2</td>\n",
              "        <td>None</td>\n",
              "        <td>None</td>\n",
              "        <td>None</td>\n",
              "        <td>None</td>\n",
              "        <td>None</td>\n",
              "        <td>None</td>\n",
              "        <td>None</td>\n",
              "        <td>None</td>\n",
              "        <td>None</td>\n",
              "        <td>None</td>\n",
              "        <td>None</td>\n",
              "    </tr>\n",
              "    <tr>\n",
              "        <td>Cameroon</td>\n",
              "        <td>19</td>\n",
              "        <td>3</td>\n",
              "        <td>0</td>\n",
              "        <td>0</td>\n",
              "        <td>3</td>\n",
              "        <td>2</td>\n",
              "        <td>5</td>\n",
              "        <td>5</td>\n",
              "        <td>0</td>\n",
              "        <td>None</td>\n",
              "        <td>None</td>\n",
              "        <td>None</td>\n",
              "        <td>None</td>\n",
              "        <td>None</td>\n",
              "        <td>None</td>\n",
              "        <td>None</td>\n",
              "        <td>None</td>\n",
              "        <td>None</td>\n",
              "        <td>None</td>\n",
              "        <td>None</td>\n",
              "    </tr>\n",
              "</table>"
            ]
          },
          "metadata": {},
          "execution_count": 53
        }
      ],
      "source": [
        "%%sql\n",
        "select * from Teams limit 5"
      ]
    },
    {
      "cell_type": "markdown",
      "metadata": {
        "collapsed": true,
        "id": "IjYethrdjqu6"
      },
      "source": [
        "*1) Find all pairs of teams who have the same number of goalsFor as\n",
        "each other and the same number of goalsAgainst as each other.\n",
        "Return the teams and numbers of goalsFor and goalsAgainst.\n",
        "Make sure to return each pair only once.*"
      ]
    },
    {
      "cell_type": "code",
      "execution_count": 54,
      "metadata": {
        "id": "Ofss7CHhjqu6",
        "colab": {
          "base_uri": "https://localhost:8080/",
          "height": 267
        },
        "outputId": "53b74b0e-80bf-4895-f2f8-0c8ed9f507e1"
      },
      "outputs": [
        {
          "output_type": "stream",
          "name": "stdout",
          "text": [
            " * sqlite://\n",
            "Done.\n"
          ]
        },
        {
          "output_type": "execute_result",
          "data": {
            "text/plain": [
              "[('Cameroon', 'Greece', 2, 5),\n",
              " ('Chile', 'England', 3, 5),\n",
              " ('Chile', 'Nigeria', 3, 5),\n",
              " ('Chile', 'South Africa', 3, 5),\n",
              " ('England', 'Nigeria', 3, 5),\n",
              " ('England', 'South Africa', 3, 5),\n",
              " ('Nigeria', 'South Africa', 3, 5),\n",
              " ('Australia', 'Denmark', 3, 6),\n",
              " ('Italy', 'Mexico', 4, 5)]"
            ],
            "text/html": [
              "<table>\n",
              "    <tr>\n",
              "        <th>team1</th>\n",
              "        <th>team2</th>\n",
              "        <th>goalsFor</th>\n",
              "        <th>goalsAgainst</th>\n",
              "    </tr>\n",
              "    <tr>\n",
              "        <td>Cameroon</td>\n",
              "        <td>Greece</td>\n",
              "        <td>2</td>\n",
              "        <td>5</td>\n",
              "    </tr>\n",
              "    <tr>\n",
              "        <td>Chile</td>\n",
              "        <td>England</td>\n",
              "        <td>3</td>\n",
              "        <td>5</td>\n",
              "    </tr>\n",
              "    <tr>\n",
              "        <td>Chile</td>\n",
              "        <td>Nigeria</td>\n",
              "        <td>3</td>\n",
              "        <td>5</td>\n",
              "    </tr>\n",
              "    <tr>\n",
              "        <td>Chile</td>\n",
              "        <td>South Africa</td>\n",
              "        <td>3</td>\n",
              "        <td>5</td>\n",
              "    </tr>\n",
              "    <tr>\n",
              "        <td>England</td>\n",
              "        <td>Nigeria</td>\n",
              "        <td>3</td>\n",
              "        <td>5</td>\n",
              "    </tr>\n",
              "    <tr>\n",
              "        <td>England</td>\n",
              "        <td>South Africa</td>\n",
              "        <td>3</td>\n",
              "        <td>5</td>\n",
              "    </tr>\n",
              "    <tr>\n",
              "        <td>Nigeria</td>\n",
              "        <td>South Africa</td>\n",
              "        <td>3</td>\n",
              "        <td>5</td>\n",
              "    </tr>\n",
              "    <tr>\n",
              "        <td>Australia</td>\n",
              "        <td>Denmark</td>\n",
              "        <td>3</td>\n",
              "        <td>6</td>\n",
              "    </tr>\n",
              "    <tr>\n",
              "        <td>Italy</td>\n",
              "        <td>Mexico</td>\n",
              "        <td>4</td>\n",
              "        <td>5</td>\n",
              "    </tr>\n",
              "</table>"
            ]
          },
          "metadata": {},
          "execution_count": 54
        }
      ],
      "source": [
        "%%sql\n",
        "select t1.team as team1,\n",
        "       t2.team as team2,\n",
        "       t1.goalsFor,\n",
        "       t1.goalsAgainst\n",
        "from Teams t1\n",
        "join Teams t2\n",
        "  on t1.goalsFor = t2.goalsFor\n",
        " and t1.goalsAgainst = t2.goalsAgainst\n",
        " and t1.team < t2.team\n",
        "order by t1.goalsFor, t1.goalsAgainst, team1, team2\n"
      ]
    },
    {
      "cell_type": "markdown",
      "metadata": {
        "collapsed": true,
        "id": "a3rFn5Fjjqu6"
      },
      "source": [
        "*2) Find all teams with ranking <30 where no player made more than 150 passes. Return the team and ranking.*"
      ]
    },
    {
      "cell_type": "code",
      "execution_count": 55,
      "metadata": {
        "id": "bzJL2R2Fjqu6",
        "colab": {
          "base_uri": "https://localhost:8080/",
          "height": 140
        },
        "outputId": "54b7a42e-7994-453a-f73f-873970f684fd"
      },
      "outputs": [
        {
          "output_type": "stream",
          "name": "stdout",
          "text": [
            " * sqlite://\n",
            "Done.\n"
          ]
        },
        {
          "output_type": "execute_result",
          "data": {
            "text/plain": [
              "[('France', 9), ('Nigeria', 21), ('Switzerland', 24)]"
            ],
            "text/html": [
              "<table>\n",
              "    <tr>\n",
              "        <th>team</th>\n",
              "        <th>ranking</th>\n",
              "    </tr>\n",
              "    <tr>\n",
              "        <td>France</td>\n",
              "        <td>9</td>\n",
              "    </tr>\n",
              "    <tr>\n",
              "        <td>Nigeria</td>\n",
              "        <td>21</td>\n",
              "    </tr>\n",
              "    <tr>\n",
              "        <td>Switzerland</td>\n",
              "        <td>24</td>\n",
              "    </tr>\n",
              "</table>"
            ]
          },
          "metadata": {},
          "execution_count": 55
        }
      ],
      "source": [
        "%%sql\n",
        "select t.team, t.ranking\n",
        "from Teams t\n",
        "where t.ranking < 30\n",
        "  and not exists (\n",
        "      select 1\n",
        "      from Players p\n",
        "      where p.team = t.team\n",
        "        and p.passes > 150\n",
        "  )\n"
      ]
    },
    {
      "cell_type": "markdown",
      "metadata": {
        "collapsed": true,
        "id": "fLQXMLgyjqu7"
      },
      "source": [
        "*3) Which players made more shots than 5x the overall average number of shots? Return the player surname, position, and team.*"
      ]
    },
    {
      "cell_type": "code",
      "execution_count": 56,
      "metadata": {
        "id": "A5HW79OOjqu7",
        "colab": {
          "base_uri": "https://localhost:8080/",
          "height": 372
        },
        "outputId": "1addf9a6-4967-4f96-9161-47fdb1081fa3"
      },
      "outputs": [
        {
          "output_type": "stream",
          "name": "stdout",
          "text": [
            " * sqlite://\n",
            "Done.\n"
          ]
        },
        {
          "output_type": "execute_result",
          "data": {
            "text/plain": [
              "[('Higuain', 'forward', 'Argentina'),\n",
              " ('Messi', 'forward', 'Argentina'),\n",
              " ('Podolski', 'forward', 'Germany'),\n",
              " ('Boateng', 'midfielder', 'Ghana'),\n",
              " ('Gyan', 'forward', 'Ghana'),\n",
              " ('Sneijder', 'midfielder', 'Netherlands'),\n",
              " ('van Persie', 'forward', 'Netherlands'),\n",
              " ('Jong Tae-Se', 'forward', 'North Korea'),\n",
              " ('Ronaldo', 'forward', 'Portugal'),\n",
              " ('Park Chu-Young', 'forward', 'South Korea'),\n",
              " ('Villa', 'forward', 'Spain'),\n",
              " ('Forlan', 'forward', 'Uruguay'),\n",
              " ('Suarez', 'forward', 'Uruguay'),\n",
              " ('Dempsey', 'midfielder', 'USA')]"
            ],
            "text/html": [
              "<table>\n",
              "    <tr>\n",
              "        <th>surname</th>\n",
              "        <th>position</th>\n",
              "        <th>team</th>\n",
              "    </tr>\n",
              "    <tr>\n",
              "        <td>Higuain</td>\n",
              "        <td>forward</td>\n",
              "        <td>Argentina</td>\n",
              "    </tr>\n",
              "    <tr>\n",
              "        <td>Messi</td>\n",
              "        <td>forward</td>\n",
              "        <td>Argentina</td>\n",
              "    </tr>\n",
              "    <tr>\n",
              "        <td>Podolski</td>\n",
              "        <td>forward</td>\n",
              "        <td>Germany</td>\n",
              "    </tr>\n",
              "    <tr>\n",
              "        <td>Boateng</td>\n",
              "        <td>midfielder</td>\n",
              "        <td>Ghana</td>\n",
              "    </tr>\n",
              "    <tr>\n",
              "        <td>Gyan</td>\n",
              "        <td>forward</td>\n",
              "        <td>Ghana</td>\n",
              "    </tr>\n",
              "    <tr>\n",
              "        <td>Sneijder</td>\n",
              "        <td>midfielder</td>\n",
              "        <td>Netherlands</td>\n",
              "    </tr>\n",
              "    <tr>\n",
              "        <td>van Persie</td>\n",
              "        <td>forward</td>\n",
              "        <td>Netherlands</td>\n",
              "    </tr>\n",
              "    <tr>\n",
              "        <td>Jong Tae-Se</td>\n",
              "        <td>forward</td>\n",
              "        <td>North Korea</td>\n",
              "    </tr>\n",
              "    <tr>\n",
              "        <td>Ronaldo</td>\n",
              "        <td>forward</td>\n",
              "        <td>Portugal</td>\n",
              "    </tr>\n",
              "    <tr>\n",
              "        <td>Park Chu-Young</td>\n",
              "        <td>forward</td>\n",
              "        <td>South Korea</td>\n",
              "    </tr>\n",
              "    <tr>\n",
              "        <td>Villa</td>\n",
              "        <td>forward</td>\n",
              "        <td>Spain</td>\n",
              "    </tr>\n",
              "    <tr>\n",
              "        <td>Forlan</td>\n",
              "        <td>forward</td>\n",
              "        <td>Uruguay</td>\n",
              "    </tr>\n",
              "    <tr>\n",
              "        <td>Suarez</td>\n",
              "        <td>forward</td>\n",
              "        <td>Uruguay</td>\n",
              "    </tr>\n",
              "    <tr>\n",
              "        <td>Dempsey</td>\n",
              "        <td>midfielder</td>\n",
              "        <td>USA</td>\n",
              "    </tr>\n",
              "</table>"
            ]
          },
          "metadata": {},
          "execution_count": 56
        }
      ],
      "source": [
        "%%sql\n",
        "select p.surname, p.position, p.team\n",
        "from Players p\n",
        "where p.shots > 5 * (select avg(shots) from Players)\n"
      ]
    },
    {
      "cell_type": "markdown",
      "metadata": {
        "collapsed": true,
        "id": "vbQwgN76jqu7"
      },
      "source": [
        "*4) Find all team-position pairs where the average number of passes made by players in that position on that team is greater than 150. Return the team-position pairs.*"
      ]
    },
    {
      "cell_type": "code",
      "execution_count": 57,
      "metadata": {
        "id": "LNn17apijqu7",
        "colab": {
          "base_uri": "https://localhost:8080/",
          "height": 288
        },
        "outputId": "1742a1cd-24ed-4c96-b659-bd8fd1f3e77e"
      },
      "outputs": [
        {
          "output_type": "stream",
          "name": "stdout",
          "text": [
            " * sqlite://\n",
            "Done.\n"
          ]
        },
        {
          "output_type": "execute_result",
          "data": {
            "text/plain": [
              "[('Argentina', 'midfielder'),\n",
              " ('Brazil', 'defender'),\n",
              " ('Germany', 'defender'),\n",
              " ('Germany', 'midfielder'),\n",
              " ('Ghana', 'midfielder'),\n",
              " ('Mexico', 'defender'),\n",
              " ('Netherlands', 'defender'),\n",
              " ('Netherlands', 'midfielder'),\n",
              " ('Spain', 'defender'),\n",
              " ('Spain', 'midfielder')]"
            ],
            "text/html": [
              "<table>\n",
              "    <tr>\n",
              "        <th>team</th>\n",
              "        <th>position</th>\n",
              "    </tr>\n",
              "    <tr>\n",
              "        <td>Argentina</td>\n",
              "        <td>midfielder</td>\n",
              "    </tr>\n",
              "    <tr>\n",
              "        <td>Brazil</td>\n",
              "        <td>defender</td>\n",
              "    </tr>\n",
              "    <tr>\n",
              "        <td>Germany</td>\n",
              "        <td>defender</td>\n",
              "    </tr>\n",
              "    <tr>\n",
              "        <td>Germany</td>\n",
              "        <td>midfielder</td>\n",
              "    </tr>\n",
              "    <tr>\n",
              "        <td>Ghana</td>\n",
              "        <td>midfielder</td>\n",
              "    </tr>\n",
              "    <tr>\n",
              "        <td>Mexico</td>\n",
              "        <td>defender</td>\n",
              "    </tr>\n",
              "    <tr>\n",
              "        <td>Netherlands</td>\n",
              "        <td>defender</td>\n",
              "    </tr>\n",
              "    <tr>\n",
              "        <td>Netherlands</td>\n",
              "        <td>midfielder</td>\n",
              "    </tr>\n",
              "    <tr>\n",
              "        <td>Spain</td>\n",
              "        <td>defender</td>\n",
              "    </tr>\n",
              "    <tr>\n",
              "        <td>Spain</td>\n",
              "        <td>midfielder</td>\n",
              "    </tr>\n",
              "</table>"
            ]
          },
          "metadata": {},
          "execution_count": 57
        }
      ],
      "source": [
        "%%sql\n",
        "select team, position\n",
        "from Players\n",
        "group by team, position\n",
        "having avg(passes) > 150\n"
      ]
    },
    {
      "cell_type": "markdown",
      "metadata": {
        "collapsed": true,
        "id": "pfZzBu_ejqu7"
      },
      "source": [
        "*5) Find all teams whose defenders averaged more than 150 passes. Return the team and average number of passes by defenders, in descending order of average passes.*"
      ]
    },
    {
      "cell_type": "code",
      "execution_count": 58,
      "metadata": {
        "id": "lOoNaaWtjqu7",
        "colab": {
          "base_uri": "https://localhost:8080/",
          "height": 182
        },
        "outputId": "5402b616-d87b-4520-b137-acc7bd1ff48e"
      },
      "outputs": [
        {
          "output_type": "stream",
          "name": "stdout",
          "text": [
            " * sqlite://\n",
            "Done.\n"
          ]
        },
        {
          "output_type": "execute_result",
          "data": {
            "text/plain": [
              "[('Spain', 213.0),\n",
              " ('Brazil', 190.0),\n",
              " ('Germany', 189.83333333333334),\n",
              " ('Netherlands', 182.5),\n",
              " ('Mexico', 152.14285714285714)]"
            ],
            "text/html": [
              "<table>\n",
              "    <tr>\n",
              "        <th>team</th>\n",
              "        <th>avg_passes_defenders</th>\n",
              "    </tr>\n",
              "    <tr>\n",
              "        <td>Spain</td>\n",
              "        <td>213.0</td>\n",
              "    </tr>\n",
              "    <tr>\n",
              "        <td>Brazil</td>\n",
              "        <td>190.0</td>\n",
              "    </tr>\n",
              "    <tr>\n",
              "        <td>Germany</td>\n",
              "        <td>189.83333333333334</td>\n",
              "    </tr>\n",
              "    <tr>\n",
              "        <td>Netherlands</td>\n",
              "        <td>182.5</td>\n",
              "    </tr>\n",
              "    <tr>\n",
              "        <td>Mexico</td>\n",
              "        <td>152.14285714285714</td>\n",
              "    </tr>\n",
              "</table>"
            ]
          },
          "metadata": {},
          "execution_count": 58
        }
      ],
      "source": [
        "%%sql\n",
        "select team, avg(passes) as avg_passes_defenders\n",
        "from Players\n",
        "where position = 'defender'\n",
        "group by team\n",
        "having avg(passes) > 150\n",
        "order by avg_passes_defenders desc\n"
      ]
    },
    {
      "cell_type": "markdown",
      "metadata": {
        "id": "BbxhgDmRjqu7"
      },
      "source": [
        "### <font color = 'green'>**Your Turn Extra - Advanced SQL on Titanic Data**</font>"
      ]
    },
    {
      "cell_type": "markdown",
      "source": [
        "<font color=\"red\">File access required:</font> In Colab these extra problems require first uploading **Titanic.csv** using the *Files* feature in the left toolbar. If running the notebook on a local computer, simply ensure this file is in the same workspace as the notebook."
      ],
      "metadata": {
        "id": "dgNXR1HVz-ir"
      }
    },
    {
      "cell_type": "code",
      "execution_count": 59,
      "metadata": {
        "id": "5NFl7E2ujqu7",
        "colab": {
          "base_uri": "https://localhost:8080/",
          "height": 91
        },
        "outputId": "c470ca70-5fc9-4cf2-8aeb-06d857a6102e"
      },
      "outputs": [
        {
          "output_type": "stream",
          "name": "stdout",
          "text": [
            " * sqlite://\n",
            "Done.\n",
            " * sqlite://\n"
          ]
        },
        {
          "output_type": "execute_result",
          "data": {
            "text/plain": [
              "'Persisted titanic'"
            ],
            "application/vnd.google.colaboratory.intrinsic+json": {
              "type": "string"
            }
          },
          "metadata": {},
          "execution_count": 59
        }
      ],
      "source": [
        "# Load dataabase table from CSV file\n",
        "with open('Titanic.csv') as f: Titanic = pd.read_csv(f, index_col=0)\n",
        "%sql drop table if exists Titanic;\n",
        "%sql --persist Titanic"
      ]
    },
    {
      "cell_type": "markdown",
      "metadata": {
        "id": "jQtAZGO9jqu8"
      },
      "source": [
        "#### Look at sample of Titanic table"
      ]
    },
    {
      "cell_type": "code",
      "execution_count": 60,
      "metadata": {
        "id": "whPYgfxQjqu8",
        "colab": {
          "base_uri": "https://localhost:8080/",
          "height": 182
        },
        "outputId": "e36df43f-6e89-46b7-8873-e5753b0c45a9"
      },
      "outputs": [
        {
          "output_type": "stream",
          "name": "stdout",
          "text": [
            " * sqlite://\n",
            "Done.\n"
          ]
        },
        {
          "output_type": "execute_result",
          "data": {
            "text/plain": [
              "[('Abbing', 'Mr. Anthony', 'M', 42.0, 3, 7.55, 'Southampton', 'no'),\n",
              " ('Abbott', 'Mrs. Stanton (Rosa Hunt)', 'F', 35.0, 3, 20.25, 'Southampton', 'yes'),\n",
              " ('Abbott', 'Mr. Rossmore Edward', 'M', 16.0, 3, 20.25, 'Southampton', 'no'),\n",
              " ('Abelson', 'Mr. Samuel', 'M', 30.0, 2, 24.0, 'Cherbourg', 'no'),\n",
              " ('Abelson', 'Mrs. Samuel (Hannah Wizosky)', 'F', 28.0, 2, 24.0, 'Cherbourg', 'yes')]"
            ],
            "text/html": [
              "<table>\n",
              "    <tr>\n",
              "        <th>last</th>\n",
              "        <th>first</th>\n",
              "        <th>gender</th>\n",
              "        <th>age</th>\n",
              "        <th>class</th>\n",
              "        <th>fare</th>\n",
              "        <th>embarked</th>\n",
              "        <th>survived</th>\n",
              "    </tr>\n",
              "    <tr>\n",
              "        <td>Abbing</td>\n",
              "        <td>Mr. Anthony</td>\n",
              "        <td>M</td>\n",
              "        <td>42.0</td>\n",
              "        <td>3</td>\n",
              "        <td>7.55</td>\n",
              "        <td>Southampton</td>\n",
              "        <td>no</td>\n",
              "    </tr>\n",
              "    <tr>\n",
              "        <td>Abbott</td>\n",
              "        <td>Mrs. Stanton (Rosa Hunt)</td>\n",
              "        <td>F</td>\n",
              "        <td>35.0</td>\n",
              "        <td>3</td>\n",
              "        <td>20.25</td>\n",
              "        <td>Southampton</td>\n",
              "        <td>yes</td>\n",
              "    </tr>\n",
              "    <tr>\n",
              "        <td>Abbott</td>\n",
              "        <td>Mr. Rossmore Edward</td>\n",
              "        <td>M</td>\n",
              "        <td>16.0</td>\n",
              "        <td>3</td>\n",
              "        <td>20.25</td>\n",
              "        <td>Southampton</td>\n",
              "        <td>no</td>\n",
              "    </tr>\n",
              "    <tr>\n",
              "        <td>Abelson</td>\n",
              "        <td>Mr. Samuel</td>\n",
              "        <td>M</td>\n",
              "        <td>30.0</td>\n",
              "        <td>2</td>\n",
              "        <td>24.0</td>\n",
              "        <td>Cherbourg</td>\n",
              "        <td>no</td>\n",
              "    </tr>\n",
              "    <tr>\n",
              "        <td>Abelson</td>\n",
              "        <td>Mrs. Samuel (Hannah Wizosky)</td>\n",
              "        <td>F</td>\n",
              "        <td>28.0</td>\n",
              "        <td>2</td>\n",
              "        <td>24.0</td>\n",
              "        <td>Cherbourg</td>\n",
              "        <td>yes</td>\n",
              "    </tr>\n",
              "</table>"
            ]
          },
          "metadata": {},
          "execution_count": 60
        }
      ],
      "source": [
        "%%sql\n",
        "select * from Titanic limit 5"
      ]
    },
    {
      "cell_type": "markdown",
      "metadata": {
        "id": "2XeE9o-Rjqu8"
      },
      "source": [
        "*1) Find pairs of passengers who are likely to be twin children: same last name, same age, same embarkation, and age is under 18. Return each pair once, including their last name, first names, age, and embarkation city.*"
      ]
    },
    {
      "cell_type": "code",
      "execution_count": 61,
      "metadata": {
        "id": "XffVHAfHjqu8",
        "colab": {
          "base_uri": "https://localhost:8080/"
        },
        "outputId": "91ae1236-d4f7-4023-ba53-1cdd966e20b1"
      },
      "outputs": [
        {
          "output_type": "stream",
          "name": "stdout",
          "text": [
            " * sqlite://\n",
            "(sqlite3.OperationalError) incomplete input\n",
            "[SQL: select\n",
            "    p1.last,\n",
            "    p1.first as first1,\n",
            "    p2.first as first2,\n",
            "    p1.age,\n",
            "    p1.embarked\n",
            "from Titanic p1\n",
            "join Titanic p2\n",
            "  on p1.last = p2.last\n",
            " and p1.age = p2.age\n",
            " and p1.embarked = p2.embarked\n",
            " and p1.rowid < p2.rowid   -- ensures each pair only once\n",
            "where p1.]\n",
            "(Background on this error at: https://sqlalche.me/e/20/e3q8)\n"
          ]
        }
      ],
      "source": [
        "\n",
        "%%sql\n",
        "select\n",
        "    p1.last,\n",
        "    p1.first as first1,\n",
        "    p2.first as first2,\n",
        "    p1.age,\n",
        "    p1.embarked\n",
        "from Titanic p1\n",
        "join Titanic p2\n",
        "  on p1.last = p2.last\n",
        " and p1.age = p2.age\n",
        " and p1.embarked = p2.embarked\n",
        " and p1.rowid < p2.rowid   -- ensures each pair only once\n",
        "where p1.\n"
      ]
    },
    {
      "cell_type": "markdown",
      "metadata": {
        "id": "e0YUVnnBjqu8"
      },
      "source": [
        "*2) Which embarkation cities have more than 40 passengers whose age is missing? Reminder: Blanks in SQL tables are given a special value called 'null', and conditions 'A is null' and 'A is not null' can be used in Where clauses to check whether attribute A has the 'null' value.*"
      ]
    },
    {
      "cell_type": "code",
      "execution_count": 62,
      "metadata": {
        "id": "LtzdswX0jqu8",
        "colab": {
          "base_uri": "https://localhost:8080/",
          "height": 119
        },
        "outputId": "3580f23f-5558-426a-af08-c2ee4c2dfe83"
      },
      "outputs": [
        {
          "output_type": "stream",
          "name": "stdout",
          "text": [
            " * sqlite://\n",
            "Done.\n"
          ]
        },
        {
          "output_type": "execute_result",
          "data": {
            "text/plain": [
              "[('Queenstown', 49), ('Southampton', 90)]"
            ],
            "text/html": [
              "<table>\n",
              "    <tr>\n",
              "        <th>embarked</th>\n",
              "        <th>missing_age_count</th>\n",
              "    </tr>\n",
              "    <tr>\n",
              "        <td>Queenstown</td>\n",
              "        <td>49</td>\n",
              "    </tr>\n",
              "    <tr>\n",
              "        <td>Southampton</td>\n",
              "        <td>90</td>\n",
              "    </tr>\n",
              "</table>"
            ]
          },
          "metadata": {},
          "execution_count": 62
        }
      ],
      "source": [
        "%%sql\n",
        "select embarked, count(*) as missing_age_count\n",
        "from Titanic\n",
        "where age is null\n",
        "group by embarked\n",
        "having count(*) > 40\n",
        "\n"
      ]
    },
    {
      "cell_type": "markdown",
      "metadata": {
        "id": "GW8w7HPDjqu8"
      },
      "source": [
        "*3) Find all classes where the average fare paid by passengers in that class was more than twice the overall average or less than half the overall average.*"
      ]
    },
    {
      "cell_type": "code",
      "execution_count": 63,
      "metadata": {
        "id": "hSU5AArMjqu8",
        "colab": {
          "base_uri": "https://localhost:8080/",
          "height": 119
        },
        "outputId": "3025b311-7f84-4ecf-d0ad-7c3f7ea99b67"
      },
      "outputs": [
        {
          "output_type": "stream",
          "name": "stdout",
          "text": [
            " * sqlite://\n",
            "Done.\n"
          ]
        },
        {
          "output_type": "execute_result",
          "data": {
            "text/plain": [
              "[(1, 84.15499999999999), (3, 13.676863543788176)]"
            ],
            "text/html": [
              "<table>\n",
              "    <tr>\n",
              "        <th>class</th>\n",
              "        <th>avg_fare</th>\n",
              "    </tr>\n",
              "    <tr>\n",
              "        <td>1</td>\n",
              "        <td>84.15499999999999</td>\n",
              "    </tr>\n",
              "    <tr>\n",
              "        <td>3</td>\n",
              "        <td>13.676863543788176</td>\n",
              "    </tr>\n",
              "</table>"
            ]
          },
          "metadata": {},
          "execution_count": 63
        }
      ],
      "source": [
        "%%sql\n",
        "select class, avg(fare) as avg_fare\n",
        "from Titanic\n",
        "group by class\n",
        "having avg(fare) > 2 * (select avg(fare) from Titanic)\n",
        "    or avg(fare) < 0.5 * (select avg(fare) from Titanic)\n"
      ]
    },
    {
      "cell_type": "markdown",
      "metadata": {
        "id": "DaUZZBpUjqu9"
      },
      "source": [
        "*4) What is the average number of passengers per last name? Hint: Requires using a subquery in the From clause*"
      ]
    },
    {
      "cell_type": "code",
      "execution_count": 64,
      "metadata": {
        "id": "B74QQG4Cjqu9",
        "colab": {
          "base_uri": "https://localhost:8080/",
          "height": 98
        },
        "outputId": "15131eee-a0ff-4a60-85df-863d1527fa70"
      },
      "outputs": [
        {
          "output_type": "stream",
          "name": "stdout",
          "text": [
            " * sqlite://\n",
            "Done.\n"
          ]
        },
        {
          "output_type": "execute_result",
          "data": {
            "text/plain": [
              "[(1.3358320839580209,)]"
            ],
            "text/html": [
              "<table>\n",
              "    <tr>\n",
              "        <th>avg_passengers_per_lastname</th>\n",
              "    </tr>\n",
              "    <tr>\n",
              "        <td>1.3358320839580209</td>\n",
              "    </tr>\n",
              "</table>"
            ]
          },
          "metadata": {},
          "execution_count": 64
        }
      ],
      "source": [
        "%%sql\n",
        "select avg(name_count) as avg_passengers_per_lastname\n",
        "from (\n",
        "    select last, count(*) as name_count\n",
        "    from Titanic\n",
        "    group by last\n",
        ") as sub\n"
      ]
    },
    {
      "cell_type": "markdown",
      "metadata": {
        "id": "CZHjUC9Pjqu9"
      },
      "source": [
        "*5) List each class and its survival rate, i.e., the fraction of passengers in that class who survived. Hints: Use subqueries in the From clause to compute the number of survivers per class and total passengers per class, and force floating point division by multiplying one operand by 1.0*"
      ]
    },
    {
      "cell_type": "code",
      "execution_count": 65,
      "metadata": {
        "id": "SbjzLSTWjqu9",
        "colab": {
          "base_uri": "https://localhost:8080/",
          "height": 140
        },
        "outputId": "36298bb3-2b23-4774-9a6e-d014eaa05b1b"
      },
      "outputs": [
        {
          "output_type": "stream",
          "name": "stdout",
          "text": [
            " * sqlite://\n",
            "Done.\n"
          ]
        },
        {
          "output_type": "execute_result",
          "data": {
            "text/plain": [
              "[(1, 0.6296296296296297), (2, 0.47282608695652173), (3, 0.24236252545824846)]"
            ],
            "text/html": [
              "<table>\n",
              "    <tr>\n",
              "        <th>class</th>\n",
              "        <th>survival_rate</th>\n",
              "    </tr>\n",
              "    <tr>\n",
              "        <td>1</td>\n",
              "        <td>0.6296296296296297</td>\n",
              "    </tr>\n",
              "    <tr>\n",
              "        <td>2</td>\n",
              "        <td>0.47282608695652173</td>\n",
              "    </tr>\n",
              "    <tr>\n",
              "        <td>3</td>\n",
              "        <td>0.24236252545824846</td>\n",
              "    </tr>\n",
              "</table>"
            ]
          },
          "metadata": {},
          "execution_count": 65
        }
      ],
      "source": [
        "%%sql\n",
        "select\n",
        "    totals.class,\n",
        "    1.0 * survivors.survivors / totals.total as survival_rate\n",
        "from (\n",
        "    select class, count(*) as survivors\n",
        "    from Titanic\n",
        "    where survived = 'yes'\n",
        "    group by class\n",
        ") as survivors\n",
        "join (\n",
        "    select class, count(*) as total\n",
        "    from Titanic\n",
        "    group by class\n",
        ") as totals\n",
        "on survivors.class = totals.class\n"
      ]
    },
    {
      "cell_type": "markdown",
      "metadata": {
        "id": "3D3WB5J6jqu9"
      },
      "source": [
        "*6) Modify your previous query to return the survival rate by gender, i.e., of females and of males.*"
      ]
    },
    {
      "cell_type": "code",
      "execution_count": 66,
      "metadata": {
        "id": "fqgApjcNjqu9",
        "colab": {
          "base_uri": "https://localhost:8080/",
          "height": 119
        },
        "outputId": "be1a9248-3cd4-449f-f5c7-3281e29a72e7"
      },
      "outputs": [
        {
          "output_type": "stream",
          "name": "stdout",
          "text": [
            " * sqlite://\n",
            "Done.\n"
          ]
        },
        {
          "output_type": "execute_result",
          "data": {
            "text/plain": [
              "[('F', 0.7420382165605095), ('M', 0.18890814558058924)]"
            ],
            "text/html": [
              "<table>\n",
              "    <tr>\n",
              "        <th>gender</th>\n",
              "        <th>survival_rate</th>\n",
              "    </tr>\n",
              "    <tr>\n",
              "        <td>F</td>\n",
              "        <td>0.7420382165605095</td>\n",
              "    </tr>\n",
              "    <tr>\n",
              "        <td>M</td>\n",
              "        <td>0.18890814558058924</td>\n",
              "    </tr>\n",
              "</table>"
            ]
          },
          "metadata": {},
          "execution_count": 66
        }
      ],
      "source": [
        "%%sql\n",
        "select\n",
        "    totals.gender,\n",
        "    1.0 * survivors.survivors / totals.total as survival_rate\n",
        "from (\n",
        "    select gender, count(*) as survivors\n",
        "    from Titanic\n",
        "    where survived = 'yes'\n",
        "    group by gender\n",
        ") as survivors\n",
        "join (\n",
        "    select gender, count(*) as total\n",
        "    from Titanic\n",
        "    group by gender\n",
        ") as totals\n",
        "on survivors.gender = totals.gender\n"
      ]
    },
    {
      "cell_type": "markdown",
      "metadata": {
        "id": "nJaEoy9ljqu9"
      },
      "source": [
        "*7) Now return the survival rate of children versus adults, i.e., of passengers under age 18 versus those 18 or over (ignoring passengers whose age is missing).*"
      ]
    },
    {
      "cell_type": "code",
      "execution_count": 67,
      "metadata": {
        "id": "EPRQfJUkjqu9",
        "colab": {
          "base_uri": "https://localhost:8080/",
          "height": 119
        },
        "outputId": "d4564339-cab0-4b63-fea9-f718c29bae6e"
      },
      "outputs": [
        {
          "output_type": "stream",
          "name": "stdout",
          "text": [
            " * sqlite://\n",
            "Done.\n"
          ]
        },
        {
          "output_type": "execute_result",
          "data": {
            "text/plain": [
              "[('adult', 0.3810316139767055), ('child', 0.5398230088495575)]"
            ],
            "text/html": [
              "<table>\n",
              "    <tr>\n",
              "        <th>age_group</th>\n",
              "        <th>survival_rate</th>\n",
              "    </tr>\n",
              "    <tr>\n",
              "        <td>adult</td>\n",
              "        <td>0.3810316139767055</td>\n",
              "    </tr>\n",
              "    <tr>\n",
              "        <td>child</td>\n",
              "        <td>0.5398230088495575</td>\n",
              "    </tr>\n",
              "</table>"
            ]
          },
          "metadata": {},
          "execution_count": 67
        }
      ],
      "source": [
        "%%sql\n",
        "select\n",
        "    totals.age_group,\n",
        "    1.0 * survivors.survivors / totals.total as survival_rate\n",
        "from (\n",
        "    select\n",
        "        case when age < 18 then 'child' else 'adult' end as age_group,\n",
        "        count(*) as survivors\n",
        "    from Titanic\n",
        "    where survived = 'yes' and age is not null\n",
        "    group by age_group\n",
        ") as survivors\n",
        "join (\n",
        "    select\n",
        "        case when age < 18 then 'child' else 'adult' end as age_group,\n",
        "        count(*) as total\n",
        "    from Titanic\n",
        "    where age is not null\n",
        "    group by age_group\n",
        ") as totals\n",
        "on survivors.age_group = totals.age_group\n"
      ]
    },
    {
      "cell_type": "markdown",
      "metadata": {
        "id": "EyrHmIIijqu-"
      },
      "source": [
        "### <font color = 'green'>**Your Turn Extra - SQL Data Modification on Titanic Data**</font>"
      ]
    },
    {
      "cell_type": "code",
      "execution_count": 68,
      "metadata": {
        "id": "Ojvf6D7Ijqu-",
        "colab": {
          "base_uri": "https://localhost:8080/"
        },
        "outputId": "d3ae9930-b165-4de4-f772-ac3e429f1f9c"
      },
      "outputs": [
        {
          "output_type": "stream",
          "name": "stdout",
          "text": [
            " * sqlite://\n",
            "Done.\n",
            " * sqlite://\n",
            "(sqlite3.OperationalError) near \"persist\": syntax error\n",
            "[SQL: persist Titanic]\n",
            "(Background on this error at: https://sqlalche.me/e/20/e3q8)\n"
          ]
        }
      ],
      "source": [
        "# Reload table from CSV file\n",
        "# NOTE: You may want to reload frequently to reset the data as you\n",
        "# experiment with modifications\n",
        "with open('Titanic.csv') as f: Titanic = pd.read_csv(f, index_col=0)\n",
        "%sql drop table if exists Titanic;\n",
        "%sql persist Titanic"
      ]
    },
    {
      "cell_type": "markdown",
      "metadata": {
        "id": "1QhfBSbhjqu-"
      },
      "source": [
        "*1) Subtract 5 from the fare paid by any passenger under the age of 10. Then compute the new average fare. NOTE: You can put multiple SQL statements in one cell separated by a semicolon.*"
      ]
    },
    {
      "cell_type": "code",
      "execution_count": 69,
      "metadata": {
        "id": "PDEBNW4Ojqu-",
        "colab": {
          "base_uri": "https://localhost:8080/"
        },
        "outputId": "309df7ce-2d96-45f6-fb82-dd8a50f844b0"
      },
      "outputs": [
        {
          "output_type": "stream",
          "name": "stdout",
          "text": [
            " * sqlite://\n",
            "(sqlite3.OperationalError) no such table: Titanic\n",
            "[SQL: update Titanic\n",
            "set fare = fare - 5\n",
            "where age < 10;]\n",
            "(Background on this error at: https://sqlalche.me/e/20/e3q8)\n"
          ]
        }
      ],
      "source": [
        "%%sql\n",
        "update Titanic\n",
        "set fare = fare - 5\n",
        "where age < 10;\n",
        "\n",
        "select avg(fare) as new_average_fare\n",
        "from Titanic;\n"
      ]
    },
    {
      "cell_type": "markdown",
      "metadata": {
        "id": "SfkgJjifjqu-"
      },
      "source": [
        "*2) Create a new table called Survivors, containing the last and first names of all passengers who survived. Then count the number of tuples in the new table.*"
      ]
    },
    {
      "cell_type": "code",
      "execution_count": 70,
      "metadata": {
        "id": "Bd8_KkqVjqu-",
        "colab": {
          "base_uri": "https://localhost:8080/"
        },
        "outputId": "1390ed39-624e-4a67-ca66-cf5f23eeb21f"
      },
      "outputs": [
        {
          "output_type": "stream",
          "name": "stdout",
          "text": [
            " * sqlite://\n",
            "Done.\n",
            "(sqlite3.OperationalError) no such table: Titanic\n",
            "[SQL: create table Survivors as\n",
            "select last, first\n",
            "from Titanic\n",
            "where survived = 'yes';]\n",
            "(Background on this error at: https://sqlalche.me/e/20/e3q8)\n"
          ]
        }
      ],
      "source": [
        "%%sql\n",
        "drop table if exists Survivors;\n",
        "\n",
        "create table Survivors as\n",
        "select last, first\n",
        "from Titanic\n",
        "where survived = 'yes';\n",
        "\n",
        "select count(*) as num_survivors\n",
        "from Survivors;\n",
        "\n"
      ]
    },
    {
      "cell_type": "markdown",
      "metadata": {
        "id": "SR_h2uFmjqu-"
      },
      "source": [
        "*3) In the Titanic table delete all but the highest-paying passengers.*"
      ]
    },
    {
      "cell_type": "code",
      "execution_count": 71,
      "metadata": {
        "id": "XGPYDkzMjqu-",
        "colab": {
          "base_uri": "https://localhost:8080/"
        },
        "outputId": "c4212a5f-802e-46cd-e8c9-93ccb27330e7"
      },
      "outputs": [
        {
          "output_type": "stream",
          "name": "stdout",
          "text": [
            " * sqlite://\n",
            "(sqlite3.OperationalError) no such table: Titanic\n",
            "[SQL: delete from Titanic\n",
            "where fare < (select max(fare) from Titanic);]\n",
            "(Background on this error at: https://sqlalche.me/e/20/e3q8)\n"
          ]
        }
      ],
      "source": [
        "%%sql\n",
        "delete from Titanic\n",
        "where fare < (select max(fare) from Titanic);\n"
      ]
    },
    {
      "cell_type": "markdown",
      "metadata": {
        "id": "cdV1ORAijqu-"
      },
      "source": [
        "*4) In what's left of the table after (3), insert a new tuple for yourself. You can decide your class, fare, where you embarked, and whether you survived. Then show the whole table.*"
      ]
    },
    {
      "cell_type": "code",
      "execution_count": 72,
      "metadata": {
        "id": "ZHJEUzTQjqu_",
        "colab": {
          "base_uri": "https://localhost:8080/"
        },
        "outputId": "d40b5efd-cd9a-4df5-a024-a5c78ec8a9c9"
      },
      "outputs": [
        {
          "output_type": "stream",
          "name": "stdout",
          "text": [
            " * sqlite://\n",
            "(sqlite3.OperationalError) no such table: Titanic\n",
            "[SQL: insert into Titanic (last, first, gender, age, class, fare, embarked, survived)\n",
            "values ('Catiltil', 'Charles', 'male', 27, 1, 123.45, 'Southampton', 'yes');]\n",
            "(Background on this error at: https://sqlalche.me/e/20/e3q8)\n"
          ]
        }
      ],
      "source": [
        "%%sql\n",
        "insert into Titanic (last, first, gender, age, class, fare, embarked, survived)\n",
        "values ('Catiltil', 'Charles', 'male', 27, 1, 123.45, 'Southampton', 'yes');\n",
        "\n",
        "select * from Titanic;\n"
      ]
    }
  ],
  "metadata": {
    "kernelspec": {
      "display_name": "Python 3",
      "language": "python",
      "name": "python3"
    },
    "language_info": {
      "codemirror_mode": {
        "name": "ipython",
        "version": 3
      },
      "file_extension": ".py",
      "mimetype": "text/x-python",
      "name": "python",
      "nbconvert_exporter": "python",
      "pygments_lexer": "ipython3",
      "version": "3.7.6"
    },
    "colab": {
      "provenance": [],
      "include_colab_link": true
    }
  },
  "nbformat": 4,
  "nbformat_minor": 0
}